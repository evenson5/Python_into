{
 "cells": [
  {
   "cell_type": "code",
   "execution_count": 1,
   "metadata": {},
   "outputs": [],
   "source": [
    "from IPython.core.interactiveshell import InteractiveShell\n",
    "InteractiveShell.ast_node_interactivity = \"all\""
   ]
  },
  {
   "cell_type": "markdown",
   "metadata": {},
   "source": [
    "## 模块\n",
    "在前面我们脚本是用 Python 解释器来编程，如果从 Python 解释器退出再进入，那么定义的所有的方法和变量就都消失了。\n",
    "\n",
    "为此 Python 提供了一个办法，把这些定义存放在文件中，为一些脚本或者交互式的解释器实例使用，这个文件被称为模块（Module）。\n",
    "\n",
    "模块是一个包含所有你定义的函数和变量的文件，其后缀名是`.py`。模块可以被别的程序引入，以使用该模块中的函数等功能。这也是使用 Python 标准库的方法。"
   ]
  },
  {
   "cell_type": "markdown",
   "metadata": {},
   "source": [
    "### 小汇总\n",
    " - 容器--> 数据的封装\n",
    " - 函数--> 语句的封装\n",
    " - 类  --> 方法和属性的封装\n",
    " - 模块--> 程序文件"
   ]
  },
  {
   "cell_type": "code",
   "execution_count": null,
   "metadata": {},
   "outputs": [],
   "source": [
    "#创建一个hello.py文件\n",
    "#hello.py\n",
    "def hi():\n",
    "    prnt(\"Hi everyone, I love Python!\")"
   ]
  },
  {
   "cell_type": "markdown",
   "metadata": {},
   "source": [
    "### 命名空间\n",
    "命名空间因为对象的不同，也有所区别，可以分为几种：\n",
    " - 内置命名空间（Built-in Namespaces）：Python 运行起来，它们就存在了。内置函数的命名空间都属于内置命名空间，所以，我们可以在任何程序中直接运行它们，比如id(),不需要做什么操作，拿过来就直接使用了。\n",
    " - 全局命名空间（Module：Global Namespaces）：每个模块创建它自己所拥有的全局命名空间，不同模块的全局命名空间彼此独立，不同模块中相同名称的命名空间，也会因为模块的不同而不相互干扰。\n",
    " - 本地命名空间（Function & Class：Local Namespaces）：模块中有函数或者类，每个函数或者类所定义的命名空间就是本地命名空间。如果函数返回了结果或者抛出异常，则本地命名空间也结束了。\n",
    " \n",
    "**程序在查询上述三种命名空间的时候，就按照从里到外的顺序，即：Local Namespaces --> Global Namesspaces --> Built-in Namesspaces。**"
   ]
  },
  {
   "cell_type": "code",
   "execution_count": null,
   "metadata": {},
   "outputs": [],
   "source": [
    "import hello\n",
    "\n",
    "hello.hi()  # Hi everyone, I love lsgogroup!\n",
    "hi()  # NameError: name 'hi' is not defined"
   ]
  },
  {
   "cell_type": "markdown",
   "metadata": {},
   "source": [
    "### 导入模块"
   ]
  },
  {
   "cell_type": "code",
   "execution_count": null,
   "metadata": {},
   "outputs": [],
   "source": [
    "#创建一个模块Temp.py\n",
    "def c2f(cel):\n",
    "    fah = cel * 1.8 + 32\n",
    "    return fah\n",
    "\n",
    "\n",
    "def f2c(fah):\n",
    "    cel = (fah - 32) / 1.8\n",
    "    return cel"
   ]
  },
  {
   "cell_type": "code",
   "execution_count": null,
   "metadata": {},
   "outputs": [],
   "source": [
    "#import Temp.py并分别代入数值计算\n",
    "\n",
    "import Temp\n",
    "\n",
    "print('32摄氏度 = %.2f华氏度' % Temp.c2f(32))#代入c2f函数中计算\n",
    "print('99华氏度 = %.2f摄氏度' % Temp.f2c(99))#代入f2c函数中计算\n",
    "\n",
    "# 32摄氏度 = 89.60华氏度\n",
    "# 99华氏度 = 37.22摄氏度"
   ]
  },
  {
   "cell_type": "markdown",
   "metadata": {},
   "source": [
    "### from 模块名import函数名\n",
    " - 不推荐使用`from ... import *`，原因下文详解。"
   ]
  },
  {
   "cell_type": "code",
   "execution_count": null,
   "metadata": {},
   "outputs": [],
   "source": [
    "from Temp import c2f,f2c\n",
    "print('32摄氏度 = %.2f华氏度'%c2f(32))\n",
    "print('99华氏度 = %.2f摄氏度'%f2c(99))"
   ]
  },
  {
   "cell_type": "code",
   "execution_count": null,
   "metadata": {},
   "outputs": [],
   "source": [
    "#import 模块名 as 新名字\n",
    "import Temp as tp\n",
    "print('32摄氏度 = %.2f华氏度'%tp.c2f(32))\n",
    "print('99华氏度 = %.2f摄氏度'%tp.f2c(99))"
   ]
  },
  {
   "cell_type": "markdown",
   "metadata": {},
   "source": [
    "### if __name__ == '__main__'\n",
    " - 对于很多编程语言来说，程序都必须要有一个入口，而 Python 则不同，它属于脚本语言，不像编译型语言那样先将程序编译成二进制再运行，而是动态的逐行解释运行。也就是从脚本第一行开始运行，没有统一的入口。\n",
    " - 当` .py` 文件被直接运行时，`if __name__ == '__main__'`之下的代码块将被运行；当` .py` 文件以模块形式被导入时，`if __name__ == '__main__'`之下的代码块不被运行。\n",
    " - 具体案例，上一节有介绍。"
   ]
  },
  {
   "cell_type": "markdown",
   "metadata": {},
   "source": [
    "### 搜索路径\n",
    "当解释器遇到 import 语句，如果模块在当前的搜索路径就会被导入。\n",
    "\n",
    "`import sys\n",
    "\n",
    "print(sys.path)\n",
    " #['C:\\\\ProgramData\\\\Anaconda3\\\\DLLs', 'C:\\\\ProgramData\\\\Anaconda3\\\\lib', 'C:\\\\ProgramData\\\\Anaconda3', 'C:\\\\ProgramData\\\\Anaconda3\\\\lib\\\\site-packages',...]`\n",
    "\n",
    "**原理**\n",
    "\n",
    "使用 import 语句的时候，Python 解释器是怎样找到对应的文件的呢？\n",
    "\n",
    "这就涉及到 Python 的搜索路径，搜索路径是由一系列目录名组成的，Python 解释器就依次从这些目录中去寻找所引入的模块。\n",
    "\n",
    "这看起来很像环境变量，事实上，也可以通过定义环境变量的方式来确定搜索路径。\n",
    "\n",
    "搜索路径是在 Python 编译或安装的时候确定的，安装新的库应该也会修改。搜索路径被存储在 `sys` 模块中的 `path` 变量中。"
   ]
  },
  {
   "cell_type": "markdown",
   "metadata": {},
   "source": [
    "### 包\n",
    "包是一种管理 Python 模块命名空间的形式，采用\"点模块名称\"。\n",
    "\n",
    "创建包分为三个步骤：\n",
    " - 创建一个文件夹，用于存放相关的模块，文件夹的名字即包的名字。\n",
    " - 在文件夹中创建一个 __init__.py 的模块文件，内容可以为空。\n",
    " - 将相关的模块放入文件夹中。"
   ]
  },
  {
   "cell_type": "markdown",
   "metadata": {},
   "source": [
    "#### 案例：设计一套统一处理声音文件和数据的模块（或者称之为一个\"包\"）。\n",
    " - 现存很多种不同的音频文件格式（基本上都是通过后缀名区分的，例如： .wav，.aiff，.au），所以你需要**有一组不断增加的模块，用来在不同的格式之间转换。**\n",
    " - 并且针对这些音频数据，还有很多不同的操作（比如混音，添加回声，增加均衡器功能，创建人造立体声效果），所以你还需要一组怎么也写不完的模块来处理这些操作。"
   ]
  },
  {
   "cell_type": "markdown",
   "metadata": {},
   "source": [
    "sound/                          顶层包\n",
    "      __init__.py               初始化 sound 包\n",
    "      formats/                  文件格式转换子包\n",
    "              __init__.py\n",
    "              wavread.py\n",
    "              wavwrite.py\n",
    "              aiffread.py\n",
    "              aiffwrite.py\n",
    "              auread.py\n",
    "              auwrite.py\n",
    "              ...\n",
    "      effects/                  声音效果子包\n",
    "              __init__.py\n",
    "              echo.py\n",
    "              surround.py\n",
    "              reverse.py\n",
    "              ...\n",
    "      filters/                  filters 子包\n",
    "              __init__.py\n",
    "              equalizer.py\n",
    "              vocoder.py\n",
    "              karaoke.py\n",
    "              ..."
   ]
  },
  {
   "cell_type": "markdown",
   "metadata": {},
   "source": [
    "在导入一个包的时候，Python 会根据 `sys.path` 中的目录来寻找这个包中包含的子目录。\n",
    "\n",
    "目录只有包含一个叫做 `__init__.py` 的文件才会被认作是一个包，最简单的情况，放一个空的 `__init__.py` 就可以了。"
   ]
  },
  {
   "cell_type": "markdown",
   "metadata": {},
   "source": [
    "#### 例如导入子模块echo.py\n",
    " - 第一种`import sound.effects.echo`，这将会导入子模块`sound.effects.echo`,必须使用全名去访问：\n",
    " \n",
    "`sound.effects.echo.echofilter(input, output, delay=0.7, atten=4)`\n",
    " - 导入子模块：`from sound.effects import echo`，这同样会导入子模块: echo，并且不需要那些冗长的前缀，所以可以这样使用：\n",
    " \n",
    " `echo.echofilter(input, output, delay=0.7, atten=4)`\n",
    " - 直接导入：`from sound.effects.echo import echofilter`,这种方法会导入子模块: echo，并且可以直接使用echofilter() 函数：\n",
    " \n",
    " `echofilter(input, output, delay=0.7, atten=4)`\n",
    " \n",
    "**注意当使用 `from package import item` 这种形式的时候，对应的 `item` 既可以是包里面的子模块（子包），或者包里面定义的其他名称，比如函数，类或者变量。**"
   ]
  },
  {
   "cell_type": "markdown",
   "metadata": {},
   "source": [
    "### 对from...import *的禁忌原因：\n",
    " - Python 会进入文件系统，找到这个包里面所有的子模块，一个一个的把它们都导入进来。\n",
    "\n",
    " - 导入语句遵循如下规则：如果包定义文件` __init__.py` 存在一个叫做` __all__ `的列表变量，那么在使用 `from package import * `的时候就把这个列表中的所有名字作为包内容导入。\n",
    "\n",
    " - 如果`__all__`有定义，则导入定义里的子模块。\n",
    "\n",
    " - 如果`__all__`没有定义，使用`from sound.effects import *`就**不会导入包`sound.effects`里的任何子模块，只是把包 `sound.effects `和它里面定义的所有内容导入进来（可能运行`__init__.py`里定义的初始化代码）。\n",
    " - 上述会把`__init__.py` 里面定义的所有名字导入进来,并且不会破坏掉在这句话之前导入的所有明确指定的模块。"
   ]
  },
  {
   "cell_type": "markdown",
   "metadata": {},
   "source": [
    " `import sound.effects.echo\n",
    " import sound.effects.surround\n",
    " from sound.effects import *`\n",
    "\n",
    "这个例子中，在执行 from...import 前，包 sound.effects 中的 echo 和 surround 模块都被导入到当前的命名空间中了。\n",
    "\n",
    "通常我们并不主张使用 * 这种方法来导入模块，因为这种方法经常会导致代码的可读性降低。"
   ]
  },
  {
   "cell_type": "markdown",
   "metadata": {},
   "source": [
    "### 练习题\n",
    "1. 怎么查出通过 from xx import xx导⼊的可以直接调⽤的⽅法？\n",
    "\n",
    "2. 了解Collection模块，编写程序以查询给定列表中最常见的元素。\n",
    "\n",
    "题目说明：\n",
    "\n",
    "输入：language = ['PHP', 'PHP', 'Python', 'PHP', 'Python', 'JS', 'Python', 'Python','PHP', 'Python']\n",
    "\n",
    "输出：Python\n",
    "\n",
    "`Input file\n",
    "language = ['PHP', 'PHP', 'Python', 'PHP', 'Python', 'JS', 'Python', 'Python','PHP', 'Python']   \n",
    "Output file\n",
    "Python`\n",
    "\n",
    "def most_element(language):\n",
    "\n",
    "    \"\"\" Return a list of lines after inserting a word in a specific line. \"\"\"\n",
    "   \n",
    "    # your code here"
   ]
  },
  {
   "cell_type": "markdown",
   "metadata": {},
   "source": [
    "1. 看子模块的直接调用的方法\n",
    "\n",
    "`help`函数可以查看函数或模块用途的详细说明\n",
    "\n",
    "`dir()`函数用来查询一个类或者对象的所有属性\n",
    "\n",
    "`?`是自带模块的应用查询，例如可以查看`help`"
   ]
  },
  {
   "cell_type": "markdown",
   "metadata": {},
   "source": [
    "### 2的解题思路：\n",
    " - 首先，要了解collections模块的应用，collections模块的数据类型：\n",
    "  - namedtuple()：生成可以使用名字来访问元素内容的tuple子类\n",
    "  - deque：双端队列，可以快速的从另外一侧追加和推出对象\n",
    "  - counter：计数器\n",
    "  - ordereddict：有序字典\n",
    "  - defaultdict：带有默认值的字典\n",
    "\n",
    "其中Counter()是本题所需要的的子模块。\n",
    " - Counter()的应用：Counter()输出的是tuple内含dict({})，所以需要dict化。\n",
    " - 找到对应的最大的数值，并根据数值对应的key即可。"
   ]
  },
  {
   "cell_type": "code",
   "execution_count": 13,
   "metadata": {},
   "outputs": [
    {
     "name": "stdout",
     "output_type": "stream",
     "text": [
      "Counter({'Python': 5, 'PHP': 4, 'JS': 1})\n",
      "最多出现的元素： Python 对应的次数： 5\n"
     ]
    }
   ],
   "source": [
    "#2. 了解Collection模块\n",
    "from collections import Counter\n",
    "language = ['PHP', 'PHP', 'Python', 'PHP', 'Python', 'JS', 'Python', 'Python','PHP', 'Python']\n",
    "def the_most(list):\n",
    "    c = Counter(list)\n",
    "    print(c)\n",
    "    max_value = max(dict.values(c))\n",
    "    for key, value in dict.items(c):\n",
    "        if value == max_value:\n",
    "            print('最多出现的元素：',key,'对应的次数：',value)   \n",
    "            \n",
    "the_most(language)"
   ]
  },
  {
   "cell_type": "markdown",
   "metadata": {},
   "source": [
    "## datetime模块\n",
    "datetime 是 Python 中处理日期的标准模块，它提供了 4 种对日期和时间进行处理的类：datetime、date、time 和 timedelta."
   ]
  },
  {
   "cell_type": "markdown",
   "metadata": {},
   "source": [
    "### datetime类\n",
    " - `datetime.now(tz=None)`获取当前的日期时间，输出顺序为：年、月、日、时、分、秒、微妙\n",
    " - `datetime.timestamp()`获取以1970年1月1日为起点记录的秒数。\n",
    " - `datetime.fromtimestamp(tz=None)`使用unixtimestamp创建一个datetime."
   ]
  },
  {
   "cell_type": "code",
   "execution_count": 74,
   "metadata": {},
   "outputs": [],
   "source": [
    "class datetime():\n",
    "    def __init__(self, year, month, day, hour, minute, second, microsecond, tzinfo):\n",
    "        pass\n",
    "    def now(cls, tz=None):\n",
    "        pass\n",
    "    def timestamp(self):\n",
    "        pass\n",
    "    def fromtimestamp(cls, t, tz=None):\n",
    "        pass\n",
    "    def date(self):\n",
    "        pass\n",
    "    def time(self):\n",
    "        pass\n",
    "    def year(self):\n",
    "        pass\n",
    "    def month(self):\n",
    "        pass\n",
    "    def day(self):\n",
    "        pass\n",
    "    def hour(self):\n",
    "        pass\n",
    "    def minute(self):\n",
    "        pass\n",
    "    def second(self):\n",
    "        pass\n",
    "    def isoweekday(self):\n",
    "        pass\n",
    "    def strftime(self, fmt):\n",
    "        pass\n",
    "    def combine(cls, date, time, tzinfo=True):\n",
    "        pass"
   ]
  },
  {
   "cell_type": "code",
   "execution_count": 75,
   "metadata": {},
   "outputs": [
    {
     "name": "stdout",
     "output_type": "stream",
     "text": [
      "2020-08-08 11:11:11\n",
      "1596856271.0\n"
     ]
    }
   ],
   "source": [
    "#如何创建一个datetime对象？\n",
    "import datetime\n",
    "\n",
    "dt = datetime.datetime(year=2020,month=8,day=8,hour=11,minute=11,second=11)\n",
    "print(dt)             #显示时间\n",
    "print(dt.timestamp()) #时间戳"
   ]
  },
  {
   "cell_type": "code",
   "execution_count": 76,
   "metadata": {},
   "outputs": [
    {
     "name": "stdout",
     "output_type": "stream",
     "text": [
      "2020-08-08 11:11:11\n",
      "<class 'datetime.datetime'>\n"
     ]
    }
   ],
   "source": [
    "dt = datetime.datetime.fromtimestamp(1596856271.0)\n",
    "print(dt)\n",
    "print(type(dt))"
   ]
  },
  {
   "cell_type": "code",
   "execution_count": 77,
   "metadata": {},
   "outputs": [
    {
     "name": "stdout",
     "output_type": "stream",
     "text": [
      "2020-08-07 22:51:29.794014\n",
      "<class 'datetime.datetime'>\n"
     ]
    }
   ],
   "source": [
    "dt = datetime.datetime.now()\n",
    "print(dt)\n",
    "print(type(dt))"
   ]
  },
  {
   "cell_type": "markdown",
   "metadata": {},
   "source": [
    "#### `datetime.strftime(fmt)`格式化datetime对象\n",
    " \n",
    "| 符号      | 说明         | \n",
    "|:-----------:| :-------------:|\n",
    "| `%a` | 本地简化星期名称（例如Mon） | \n",
    "| `%A` | 本地完整星期名称（例如Monday） |\n",
    "| `%b` | 本地简化月份名称（例如Jan） | \n",
    "| `%B` | 本地完整月份名称（例如January） |\n",
    "| `%c` | 本地相应的日期表示和时间表示 | \n",
    "| `%d` | 月内中的一天（0-31） |\n",
    "| `%H` | 24小时制小时数（0-23） | \n",
    "| `%I` | 12小时制小时数（01-12） |\n",
    "| `%j` | 年内的一天（001-366） | \n",
    "| `%m` | 月份（01-12） |\n",
    "| `%M` | 分钟数（00-59） | \n",
    "| `%p` | 本地A.M.或P.M.的等价符 |\n",
    "| `%S` | 秒（00-59） | \n",
    "| `%U` | 一年中的星期数（00-53）星期天为星期的开始 |\n",
    "| `%w` | 星期（0-6），星期天为星期的开始 | \n",
    "| `%W` | 一年中的星期数（00-53）星期一为星期的开始 |\n",
    "| `%x` | 本地相应的日期表示 | \n",
    "| `%X` | 本地相应的时间表示 |\n",
    "| `%y` | 两位数的年份表示（00-99）| \n",
    "| `%Y` | 四位数的年份表示（0000-9999） |\n",
    "| `%Z` | 当前时区的名称（如果是本地时间，返回空字符串）| \n",
    "| `%%` | %号本身 |"
   ]
  },
  {
   "cell_type": "code",
   "execution_count": 78,
   "metadata": {},
   "outputs": [
    {
     "name": "stdout",
     "output_type": "stream",
     "text": [
      "20200808 11:11:11\n",
      "08 August, 2020, Saturday\n"
     ]
    }
   ],
   "source": [
    "#如何将datetime对象转换为任何格式的日期\n",
    "import datetime\n",
    "dt = datetime.datetime(year=2020,month=8,day=8,hour=11,minute=11,second=11)\n",
    "s = dt.strftime(\"%Y%m%d %H:%M:%S\")\n",
    "print(s)\n",
    "\n",
    "s = dt.strftime('%d %B, %Y, %A')\n",
    "print(s)"
   ]
  },
  {
   "cell_type": "code",
   "execution_count": 79,
   "metadata": {},
   "outputs": [
    {
     "name": "stdout",
     "output_type": "stream",
     "text": [
      "Aug-08,2020\n"
     ]
    }
   ],
   "source": [
    "#如何将给定日期转换为 \"mmm-dd, YYYY\" 的格式\n",
    "import datetime\n",
    "\n",
    "s = datetime.date(2020,8,8)\n",
    "# s = datetime.datetime(year=2020,month=8,day=8,hour=11,minute=11,second=11)\n",
    "s = dt.strftime('%b-%d,%Y')\n",
    "print(s) "
   ]
  },
  {
   "cell_type": "markdown",
   "metadata": {},
   "source": [
    " - datetime.date() Return the date part.\n",
    " - datetime.time() Return the time part, with tzinfo None.\n",
    " - datetime.year 年\n",
    " - datetime.month 月\n",
    " - datetime.day 日\n",
    " - datetime.hour 小时\n",
    " - datetime.minute 分钟\n",
    " - datetime.second 秒\n",
    " - datetime.isoweekday 星期几"
   ]
  },
  {
   "cell_type": "code",
   "execution_count": 80,
   "metadata": {},
   "outputs": [
    {
     "name": "stdout",
     "output_type": "stream",
     "text": [
      "2020-08-08\n",
      "<class 'datetime.date'>\n",
      "11:11:11\n",
      "<class 'datetime.time'>\n",
      "2020\n",
      "8\n",
      "8\n",
      "11\n",
      "11\n",
      "11\n",
      "6\n"
     ]
    }
   ],
   "source": [
    "#datetime案例说明\n",
    "import datetime\n",
    "s = datetime.datetime(year=2020,month=8,day=8,hour=11,minute=11,second=11)\n",
    "print(dt.date())  \n",
    "print(type(dt.date()))  \n",
    "print(dt.time())  \n",
    "print(type(dt.time()))  \n",
    "print(dt.year)\n",
    "print(dt.month)  \n",
    "print(dt.day)  \n",
    "print(dt.hour)  \n",
    "print(dt.minute) \n",
    "print(dt.second)  \n",
    "print(dt.isoweekday())  "
   ]
  },
  {
   "cell_type": "markdown",
   "metadata": {},
   "source": [
    "在处理含有字符串日期的数据集或表格时，需要一种自动解析字符串的方法，无论它是什么格式的，都可以将其转化为 datetime 对象。这时，就要使用到 dateutil 中的 parser 模块。\n",
    "`parser.parse(timestr, parserinfo=None, **kwargs)`"
   ]
  },
  {
   "cell_type": "code",
   "execution_count": 81,
   "metadata": {},
   "outputs": [
    {
     "name": "stdout",
     "output_type": "stream",
     "text": [
      "2020-08-08 02:02:02\n",
      "<class 'datetime.datetime'>\n"
     ]
    }
   ],
   "source": [
    "#如何在 python 中将字符串解析为 datetime对象\n",
    "from dateutil import parser\n",
    "\n",
    "s = '2020-08-08 2:2:2'\n",
    "dt = parser.parse(s)\n",
    "print(dt)\n",
    "print(type(dt))"
   ]
  },
  {
   "cell_type": "code",
   "execution_count": 82,
   "metadata": {},
   "outputs": [
    {
     "name": "stdout",
     "output_type": "stream",
     "text": [
      "2010-01-01 00:00:00\n",
      "2000-01-31 00:00:00\n",
      "1996-10-10 22:40:00\n"
     ]
    }
   ],
   "source": [
    "#如何将字符串日期解析为 datetime 对象\n",
    "s1 = \"2010 Jan 1\"\n",
    "s2 = '31-1-2000'\n",
    "s3 = 'October10, 1996, 10:40pm'\n",
    "\n",
    "s1 = parser.parse(s1)\n",
    "s2 = parser.parse(s2)\n",
    "s3 = parser.parse(s3)\n",
    "\n",
    "print(s1,s2,s3,sep='\\n')"
   ]
  },
  {
   "cell_type": "markdown",
   "metadata": {},
   "source": [
    "#### 【练习】计算以下列表中连续的天数。\n",
    "输入:\n",
    "['Oct, 2, 1869', 'Oct, 10, 1869', 'Oct, 15, 1869', 'Oct, 20, 1869','Oct, 23, 1869']\n",
    "\n",
    "输出:\n",
    "[8, 5, 5, 3]"
   ]
  },
  {
   "cell_type": "code",
   "execution_count": 83,
   "metadata": {},
   "outputs": [
    {
     "name": "stdout",
     "output_type": "stream",
     "text": [
      "[datetime.timedelta(days=8) datetime.timedelta(days=5)\n",
      " datetime.timedelta(days=5) datetime.timedelta(days=3)]\n",
      "[8, 5, 5, 3]\n"
     ]
    }
   ],
   "source": [
    "import numpy as np\n",
    "from dateutil import parser\n",
    "\n",
    "date = ['Oct, 2, 1869', 'Oct, 10, 1869', 'Oct, 15, 1869', 'Oct, 20, 1869', 'Oct, 23, 1869']\n",
    "\n",
    "date = [parser.parse(i) for i in date]\n",
    "d = np.diff(date)\n",
    "print(d)\n",
    "\n",
    "l = [i.days for i in d]\n",
    "print(l)  "
   ]
  },
  {
   "cell_type": "markdown",
   "metadata": {},
   "source": [
    "### numpy diff函数\n",
    "`numpy.diff(a, n=1,axis=-1)`沿着指定轴计算第N维的离散差值 \n",
    " \n",
    " - a：输入矩阵 \n",
    " - n：可选，代表要执行几次差值，默认1 \n",
    " - axis：默认值-1 "
   ]
  },
  {
   "cell_type": "markdown",
   "metadata": {},
   "source": [
    "### date类\n",
    "`class date:\n",
    "    def __init__(self, year, month, day):\n",
    "        pass\n",
    "    def today(cls):\n",
    "        pass`\n",
    "        \n",
    "`date.today()`获取当前日期信息"
   ]
  },
  {
   "cell_type": "code",
   "execution_count": 84,
   "metadata": {},
   "outputs": [
    {
     "name": "stdout",
     "output_type": "stream",
     "text": [
      "2020-08-07 22:56:32.862643\n",
      "日期： 2020-08-07\n"
     ]
    }
   ],
   "source": [
    "#如何在 Python 中获取当前日期和时间\n",
    "import datetime\n",
    "s = datetime.datetime.now()\n",
    "print(s)\n",
    "\n",
    "d = datetime.date.today()\n",
    "print('日期：',d)"
   ]
  },
  {
   "cell_type": "code",
   "execution_count": 85,
   "metadata": {},
   "outputs": [
    {
     "name": "stdout",
     "output_type": "stream",
     "text": [
      "<class 'datetime.date'>\n",
      "273\n",
      "40\n"
     ]
    }
   ],
   "source": [
    "#如何统计两个日期之间有多少个星期六-直接相减\n",
    "d1 = datetime.date(1869, 1, 2)\n",
    "d2 = datetime.date(1869, 10, 2)\n",
    "print(type(d1))\n",
    "\n",
    "import datetime\n",
    "d = (d2 - d1).days  #datetime.date的days即int天数\n",
    "print(d)\n",
    "print(d//7 + 1) "
   ]
  },
  {
   "cell_type": "markdown",
   "metadata": {},
   "source": [
    "### time类\n",
    "`class time:\n",
    "    def __init__(self, hour, minute, second, microsecond, tzinfo):\n",
    "        pass`\n",
    "\n",
    "单位换算：\n",
    " - 1秒 = 1000 毫秒（milliseconds）\n",
    " - 1毫秒 = 1000 微妙（microseconds）"
   ]
  },
  {
   "cell_type": "code",
   "execution_count": 86,
   "metadata": {},
   "outputs": [
    {
     "name": "stdout",
     "output_type": "stream",
     "text": [
      "12:09:23.000010\n",
      "<class 'datetime.time'>\n"
     ]
    }
   ],
   "source": [
    "#如何使用datetime.time()类\n",
    "import datetime\n",
    "\n",
    "t = datetime.time(12, 9, 23, 10)\n",
    "print(t)  \n",
    "print(type(t)) "
   ]
  },
  {
   "cell_type": "code",
   "execution_count": 87,
   "metadata": {},
   "outputs": [
    {
     "name": "stdout",
     "output_type": "stream",
     "text": [
      "2019-10-02 00:00:00\n",
      "2019-10-02 00:00:00\n"
     ]
    }
   ],
   "source": [
    "#如何将给定日期转换为当天开始的时间\n",
    "import datetime\n",
    "date = datetime.date(2019, 10, 2)\n",
    "d = datetime.datetime(date.year,date.month,date.day)\n",
    "print(d)\n",
    "\n",
    "dt = datetime.datetime.combine(date,datetime.time.min)\n",
    "print(dt)"
   ]
  },
  {
   "cell_type": "markdown",
   "metadata": {},
   "source": [
    " - datetime的datetime.combine是将年月日和时分秒合并在一起\n",
    " \n",
    "`import datetime\n",
    "datetime.datetime.combine(datetime.date.today(), datetime.time.min)`"
   ]
  },
  {
   "cell_type": "markdown",
   "metadata": {},
   "source": [
    "### timedelta类\n",
    "`timedelta` 表示具体时间实例中的一段时间。你可以把它们简单想象成两个日期或时间之间的间隔。\n",
    "\n",
    "它常常被用来从 `datetime` 对象中添加或移除一段特定的时间。\n",
    "\n",
    "`class timedelta(SupportsAbs[timedelta]):\n",
    "    def __init__(self, days, seconds, microseconds, milliseconds, minutes, hours, weeks,):\n",
    "        pass\n",
    "    def days(self):\n",
    "        pass\n",
    "    def total_seconds(self):\n",
    "        pass`"
   ]
  },
  {
   "cell_type": "code",
   "execution_count": 90,
   "metadata": {},
   "outputs": [
    {
     "name": "stdout",
     "output_type": "stream",
     "text": [
      "30 days, 0:00:00\n",
      "<class 'datetime.timedelta'>\n",
      "2020-08-07\n",
      "2020-09-06\n"
     ]
    }
   ],
   "source": [
    "#如何使用 datetime.timedelta() 类\n",
    "import datetime\n",
    "\n",
    "td = datetime.timedelta(days=30)\n",
    "print(td)  \n",
    "print(type(td)) \n",
    "print(datetime.date.today())  \n",
    "print(datetime.date.today() + td)  "
   ]
  },
  {
   "cell_type": "code",
   "execution_count": 89,
   "metadata": {},
   "outputs": [
    {
     "name": "stdout",
     "output_type": "stream",
     "text": [
      "365 days, 0:00:00\n",
      "<class 'datetime.timedelta'>\n"
     ]
    }
   ],
   "source": [
    "dt1 = datetime.datetime(2020, 1, 31, 10, 10, 0)\n",
    "dt2 = datetime.datetime(2019, 1, 31, 10, 10, 0)\n",
    "td = dt1 - dt2\n",
    "print(td)  \n",
    "print(type(td))  "
   ]
  },
  {
   "cell_type": "code",
   "execution_count": 88,
   "metadata": {},
   "outputs": [
    {
     "name": "stdout",
     "output_type": "stream",
     "text": [
      "23 days, 0:00:00\n",
      "<class 'datetime.timedelta'>\n"
     ]
    }
   ],
   "source": [
    "#不同的换算单位也可以直接相减\n",
    "td1 = datetime.timedelta(days=30)  # 30 days\n",
    "td2 = datetime.timedelta(weeks=1)  # 1 week\n",
    "td = td1 - td2\n",
    "print(td)  \n",
    "print(type(td))  "
   ]
  },
  {
   "cell_type": "markdown",
   "metadata": {},
   "source": [
    "### 练习题\n",
    "1. bday = 'Oct 2, 1969'是你的出生日期，\n",
    " - 距离你出生那天过去多少天了？\n",
    " - 距离你今年的下一个生日还有多少天？\n",
    " - 将距离你今年的下一个生日的天数转换为秒数。"
   ]
  },
  {
   "cell_type": "code",
   "execution_count": 91,
   "metadata": {},
   "outputs": [
    {
     "name": "stdout",
     "output_type": "stream",
     "text": [
      "1969-10-02\n",
      "2020-08-07\n",
      "2020-10-02\n",
      "18572\n",
      "56\n",
      "4838400\n",
      "4838400.0\n"
     ]
    }
   ],
   "source": [
    "from dateutil import parser\n",
    "import datetime\n",
    "\n",
    "bDay = 'Oct 2, 1969'\n",
    "dt1 = parser.parse(bDay).date()\n",
    "dt2 = datetime.date.today()\n",
    "dt3 = datetime.date(dt2.year, dt1.month, dt1.day)\n",
    "print(dt1)  \n",
    "print(dt2)  \n",
    "print(dt3)  \n",
    "\n",
    "td = dt2 - dt1\n",
    "print(td.days)  \n",
    "td = dt3 - dt2\n",
    "print(td.days) \n",
    "print(td.days * 24 * 60 * 60)  \n",
    "print(td.total_seconds())  "
   ]
  },
  {
   "cell_type": "markdown",
   "metadata": {},
   "source": [
    "2. 假设你获取了用户输入的日期和时间如2020-1-21 9:01:30，以及一个时区信息如UTC+5:00，均是str，请编写一个函数将其转换为timestamp：\n",
    "\n",
    "`Input file\n",
    "example1: dt_str='2020-6-1 08:10:30', tz_str='UTC+7:00'\n",
    "example2: dt_str='2020-5-31 16:10:30', tz_str='UTC-09:00'\n",
    "Output file\n",
    "result1: 1590973830.0\n",
    "result2: 1590973830.0`"
   ]
  },
  {
   "cell_type": "code",
   "execution_count": null,
   "metadata": {},
   "outputs": [],
   "source": [
    "def to_timestamp(dt_str, tz_str):\n",
    "    # your code here\n",
    "        pass"
   ]
  },
  {
   "cell_type": "markdown",
   "metadata": {},
   "source": [
    "3. 编写Python程序以选择指定年份的所有星期日。\n",
    "\n",
    "`Input file\n",
    "   2020   \n",
    "Output file\n",
    "   2020-01-05                         \n",
    "   2020-01-12              \n",
    "   2020-01-19                \n",
    "   2020-01-26               \n",
    "   2020-02-02     \n",
    "   ......\n",
    "   2020-12-06               \n",
    "   2020-12-13                \n",
    "   2020-12-20                \n",
    "   2020-12-27 `"
   ]
  },
  {
   "cell_type": "code",
   "execution_count": null,
   "metadata": {},
   "outputs": [],
   "source": [
    "def all_sundays(year):\n",
    "    # your code here  "
   ]
  },
  {
   "cell_type": "markdown",
   "metadata": {},
   "source": [
    "### 参考文献：\n",
    "https://blog.csdn.net/qq_37928340/article/details/89217148\n",
    "\n",
    "https://blog.csdn.net/weixin_41931602/article/details/82794639\n",
    "\n",
    "https://blog.csdn.net/hanshuobest/article/details/78558826\n",
    "\n",
    "https://www.zhihu.com/question/267941361/answer/336845806"
   ]
  }
 ],
 "metadata": {
  "kernelspec": {
   "display_name": "Python 3",
   "language": "python",
   "name": "python3"
  },
  "language_info": {
   "codemirror_mode": {
    "name": "ipython",
    "version": 3
   },
   "file_extension": ".py",
   "mimetype": "text/x-python",
   "name": "python",
   "nbconvert_exporter": "python",
   "pygments_lexer": "ipython3",
   "version": "3.7.3"
  }
 },
 "nbformat": 4,
 "nbformat_minor": 4
}
