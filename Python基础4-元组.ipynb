{
 "cells": [
  {
   "cell_type": "code",
   "execution_count": 1,
   "metadata": {},
   "outputs": [],
   "source": [
    "from IPython.core.interactiveshell import InteractiveShell\n",
    "InteractiveShell.ast_node_interactivity = \"all\""
   ]
  },
  {
   "cell_type": "markdown",
   "metadata": {},
   "source": [
    "## 元组\n",
    "定义语法为：(元素1，元素2，...,元素n)\n",
    " - 小括号把所有元素绑在一起\n",
    " - 逗号分隔\n",
    "\n",
    "定义：元组是一种**固定长度**、**不可变**的Python对象序列。\n",
    " - 元组不可更改\n",
    " - 元组也可以通过同索引和切片来获取元素，索引从0开始。"
   ]
  },
  {
   "cell_type": "markdown",
   "metadata": {},
   "source": [
    "### 创建和方位元组"
   ]
  },
  {
   "cell_type": "code",
   "execution_count": 5,
   "metadata": {},
   "outputs": [
    {
     "name": "stdout",
     "output_type": "stream",
     "text": [
      "(4, 5, 6, 'tuple') <class 'tuple'>\n"
     ]
    }
   ],
   "source": [
    "#创建元组最简单的方式就是直接用逗号分隔序列值：\n",
    "tup = 4,5,6,'tuple'\n",
    "print(tup,type(tup))"
   ]
  },
  {
   "cell_type": "code",
   "execution_count": 6,
   "metadata": {},
   "outputs": [
    {
     "name": "stdout",
     "output_type": "stream",
     "text": [
      "((1, 2, 3), (4, 5, 6)) <class 'tuple'>\n"
     ]
    }
   ],
   "source": [
    "#或者生成的元素是元组的元组：\n",
    "nested_tup = (1,2,3),(4,5,6)\n",
    "print(nested_tup,type(nested_tup))"
   ]
  },
  {
   "cell_type": "code",
   "execution_count": 7,
   "metadata": {},
   "outputs": [
    {
     "data": {
      "text/plain": [
       "(4, 2, 1, 3)"
      ]
     },
     "execution_count": 7,
     "metadata": {},
     "output_type": "execute_result"
    }
   ],
   "source": [
    "#可以使用tuple函数将仁义序列或迭代器转换为元组：\n",
    "tuple([4,2,1,3])"
   ]
  },
  {
   "cell_type": "code",
   "execution_count": 9,
   "metadata": {},
   "outputs": [
    {
     "data": {
      "text/plain": [
       "('s', 't', 'r', 'i', 'n', 'g')"
      ]
     },
     "execution_count": 9,
     "metadata": {},
     "output_type": "execute_result"
    },
    {
     "data": {
      "text/plain": [
       "tuple"
      ]
     },
     "execution_count": 9,
     "metadata": {},
     "output_type": "execute_result"
    }
   ],
   "source": [
    "tup = tuple('string')\n",
    "tup\n",
    "type(tup)"
   ]
  },
  {
   "cell_type": "code",
   "execution_count": 10,
   "metadata": {},
   "outputs": [
    {
     "data": {
      "text/plain": [
       "(1, 3, 4, 't', True)"
      ]
     },
     "execution_count": 10,
     "metadata": {},
     "output_type": "execute_result"
    },
    {
     "data": {
      "text/plain": [
       "tuple"
      ]
     },
     "execution_count": 10,
     "metadata": {},
     "output_type": "execute_result"
    }
   ],
   "source": [
    "#也可以直接括号的形式表示元组；\n",
    "t1 = (1,3,4,'t',True)\n",
    "t1\n",
    "type(t1)"
   ]
  },
  {
   "cell_type": "code",
   "execution_count": 13,
   "metadata": {},
   "outputs": [
    {
     "name": "stdout",
     "output_type": "stream",
     "text": [
      "1 <class 'int'> (1,) <class 'tuple'>\n"
     ]
    },
    {
     "data": {
      "text/plain": [
       "'注意：元组中单个元素的特殊情况'"
      ]
     },
     "execution_count": 13,
     "metadata": {},
     "output_type": "execute_result"
    },
    {
     "name": "stdout",
     "output_type": "stream",
     "text": [
      "16\n",
      "(8, 8)\n"
     ]
    }
   ],
   "source": [
    "###但是，如果只有一个元素，需要在元素后面添加逗号，否则括号会被当做运算符使用：\n",
    "x = (1)\n",
    "y = (1,)\n",
    "print(x,type(x),y,type(y))\n",
    "'''注意：元组中单个元素的特殊情况'''\n",
    "print((8)*2)\n",
    "print((8,)*2)"
   ]
  },
  {
   "cell_type": "code",
   "execution_count": 17,
   "metadata": {},
   "outputs": [
    {
     "data": {
      "text/plain": [
       "3"
      ]
     },
     "execution_count": 17,
     "metadata": {},
     "output_type": "execute_result"
    },
    {
     "data": {
      "text/plain": [
       "(1, 4, True)"
      ]
     },
     "execution_count": 17,
     "metadata": {},
     "output_type": "execute_result"
    },
    {
     "data": {
      "text/plain": [
       "(True, 't', 4, 3, 1)"
      ]
     },
     "execution_count": 17,
     "metadata": {},
     "output_type": "execute_result"
    }
   ],
   "source": [
    "###元组中的切片和索引\n",
    "t1 = (1,3,4,'t',True)\n",
    "t1[1]\n",
    "t1[::2]\n",
    "t1[::-1]"
   ]
  },
  {
   "cell_type": "code",
   "execution_count": 19,
   "metadata": {},
   "outputs": [
    {
     "data": {
      "text/plain": [
       "((1, 2, 3), (4, 5, 6))"
      ]
     },
     "execution_count": 19,
     "metadata": {},
     "output_type": "execute_result"
    }
   ],
   "source": [
    "x = nested_tup\n",
    "x"
   ]
  },
  {
   "cell_type": "code",
   "execution_count": 22,
   "metadata": {},
   "outputs": [
    {
     "name": "stdout",
     "output_type": "stream",
     "text": [
      "3\n",
      "(5, 6)\n"
     ]
    }
   ],
   "source": [
    "print(x[0][2])\n",
    "print(x[1][1:3])"
   ]
  },
  {
   "cell_type": "markdown",
   "metadata": {},
   "source": [
    "### 更新"
   ]
  },
  {
   "cell_type": "code",
   "execution_count": 23,
   "metadata": {},
   "outputs": [
    {
     "ename": "TypeError",
     "evalue": "'tuple' object does not support item assignment",
     "output_type": "error",
     "traceback": [
      "\u001b[1;31m---------------------------------------------------------------------------\u001b[0m",
      "\u001b[1;31mTypeError\u001b[0m                                 Traceback (most recent call last)",
      "\u001b[1;32m<ipython-input-23-b4d82445f9ea>\u001b[0m in \u001b[0;36m<module>\u001b[1;34m\u001b[0m\n\u001b[0;32m      1\u001b[0m \u001b[0mweek\u001b[0m \u001b[1;33m=\u001b[0m \u001b[1;33m(\u001b[0m\u001b[1;34m'Sun'\u001b[0m\u001b[1;33m,\u001b[0m\u001b[1;34m'Mon'\u001b[0m\u001b[1;33m,\u001b[0m\u001b[1;34m'Tues'\u001b[0m\u001b[1;33m,\u001b[0m\u001b[1;34m'Wed'\u001b[0m\u001b[1;33m,\u001b[0m\u001b[1;34m'Thurs'\u001b[0m\u001b[1;33m,\u001b[0m\u001b[1;34m'Fri'\u001b[0m\u001b[1;33m,\u001b[0m\u001b[1;34m'Sat'\u001b[0m\u001b[1;33m)\u001b[0m\u001b[1;33m\u001b[0m\u001b[1;33m\u001b[0m\u001b[0m\n\u001b[1;32m----> 2\u001b[1;33m \u001b[0mweek\u001b[0m\u001b[1;33m[\u001b[0m\u001b[1;36m2\u001b[0m\u001b[1;33m]\u001b[0m \u001b[1;33m=\u001b[0m \u001b[1;34m'Tues'\u001b[0m\u001b[1;33m\u001b[0m\u001b[1;33m\u001b[0m\u001b[0m\n\u001b[0m",
      "\u001b[1;31mTypeError\u001b[0m: 'tuple' object does not support item assignment"
     ]
    }
   ],
   "source": [
    "###元组有不可更改的性质immutable\n",
    "week = ('Sun','Mon','Tues','Wed','Thurs','Fri','Sat')\n",
    "week[2] = 'Tues'"
   ]
  },
  {
   "cell_type": "code",
   "execution_count": 26,
   "metadata": {},
   "outputs": [
    {
     "data": {
      "text/plain": [
       "('foo', 'he', 495, [1, 2, 3])"
      ]
     },
     "execution_count": 26,
     "metadata": {},
     "output_type": "execute_result"
    },
    {
     "data": {
      "text/plain": [
       "'数值和字符串都是非可更改性Immutable'"
      ]
     },
     "execution_count": 26,
     "metadata": {},
     "output_type": "execute_result"
    }
   ],
   "source": [
    "###但是只要元组中存在可更改性质的（mutable）的元素，可直接更改元素，注这与赋值其元素不同：\n",
    "tup = ('foo','he',495,[1,2,4])\n",
    "tup[3][2]=3\n",
    "tup \n",
    "'''数值和字符串都是非可更改性Immutable,但list是mutable'''"
   ]
  },
  {
   "cell_type": "markdown",
   "metadata": {},
   "source": [
    "### 元组相关的操作符\n",
    " - 等号操作符：==，判断元素和对应位置是否相同，均相同为True\n",
    " - 连接操作符 +,首尾拼接\n",
    " - 重复操作符 *，复制拼接\n",
    " - 成员关系操作符 in、not in，判断元素是否存在"
   ]
  },
  {
   "cell_type": "code",
   "execution_count": 27,
   "metadata": {},
   "outputs": [
    {
     "data": {
      "text/plain": [
       "('foo', 'he', 495, [1, 2, 3], 1, 3, 4, 't', True)"
      ]
     },
     "execution_count": 27,
     "metadata": {},
     "output_type": "execute_result"
    }
   ],
   "source": [
    "tup + t1"
   ]
  },
  {
   "cell_type": "code",
   "execution_count": 28,
   "metadata": {},
   "outputs": [
    {
     "data": {
      "text/plain": [
       "('foo', 'he', 495, [1, 2, 3], 'foo', 'he', 495, [1, 2, 3])"
      ]
     },
     "execution_count": 28,
     "metadata": {},
     "output_type": "execute_result"
    }
   ],
   "source": [
    "tup*2"
   ]
  },
  {
   "cell_type": "markdown",
   "metadata": {},
   "source": [
    "### 内置方法\n",
    "元组因为本身不可更改性，所以增删添加例如insert、append、pop、extend、remove等都不可用，但是对元素的索引定位和查找个数可以应用，即count和index。\n",
    "\n",
    "`tuple.count(obj)`在元组内出现的次数\n",
    "\n",
    "`tuple.index(obj)`找到在元组内最先出现的索引"
   ]
  },
  {
   "cell_type": "code",
   "execution_count": 31,
   "metadata": {},
   "outputs": [
    {
     "data": {
      "text/plain": [
       "3"
      ]
     },
     "execution_count": 31,
     "metadata": {},
     "output_type": "execute_result"
    },
    {
     "data": {
      "text/plain": [
       "4"
      ]
     },
     "execution_count": 31,
     "metadata": {},
     "output_type": "execute_result"
    },
    {
     "data": {
      "text/plain": [
       "3"
      ]
     },
     "execution_count": 31,
     "metadata": {},
     "output_type": "execute_result"
    }
   ],
   "source": [
    "t2 = (1,1,4,3,'e',True)\n",
    "t2.count(1)#True也被认为1,反之亦然\n",
    "t2.index('e')\n",
    "t2.count(True)"
   ]
  },
  {
   "cell_type": "markdown",
   "metadata": {},
   "source": [
    "### 元组拆包/解压\n",
    " - 元组的解压需要左右两边等号变量数对等。\n",
    " - 多维元组按照元组结构来定义变量\n",
    " - 应用`*`通配符，例如`*rest`表明把对应的多个元素丢给了rest"
   ]
  },
  {
   "cell_type": "code",
   "execution_count": 32,
   "metadata": {},
   "outputs": [
    {
     "data": {
      "text/plain": [
       "'hee'"
      ]
     },
     "execution_count": 32,
     "metadata": {},
     "output_type": "execute_result"
    }
   ],
   "source": [
    "###元组解压\n",
    "t1 = (1,3,'hee')\n",
    "(a,b,c) = t1\n",
    "c"
   ]
  },
  {
   "cell_type": "code",
   "execution_count": 33,
   "metadata": {},
   "outputs": [
    {
     "data": {
      "text/plain": [
       "7"
      ]
     },
     "execution_count": 33,
     "metadata": {},
     "output_type": "execute_result"
    }
   ],
   "source": [
    "##多维元组解压\n",
    "t2 = (3,5,(6,7))\n",
    "a,b,(c,d) = t2\n",
    "d"
   ]
  },
  {
   "cell_type": "code",
   "execution_count": 39,
   "metadata": {},
   "outputs": [
    {
     "name": "stdout",
     "output_type": "stream",
     "text": [
      "3\n",
      "[5, (6, 7)]\n"
     ]
    }
   ],
   "source": [
    "###使用通配符\n",
    "a,*r = t2\n",
    "print(a,r,sep='\\n')        "
   ]
  },
  {
   "cell_type": "code",
   "execution_count": 46,
   "metadata": {},
   "outputs": [
    {
     "name": "stdout",
     "output_type": "stream",
     "text": [
      "a=1,b=2,c=3\n",
      "a=4,b=5,c=6\n",
      "a=7,b=8,c=9\n"
     ]
    },
    {
     "data": {
      "text/plain": [
       "'遍历元组或列表组成的序列，从子类别开始遍历'"
      ]
     },
     "execution_count": 46,
     "metadata": {},
     "output_type": "execute_result"
    }
   ],
   "source": [
    "### 可迭代对象拆包\n",
    "seq = [(1,2,3),(4,5,6),(7,8,9)]\n",
    "for a,b,c in seq :\n",
    "    print('a={},b={},c={}'.format(a,b,c))\n",
    "'''遍历元组或列表组成的序列，从子类别开始遍历'''"
   ]
  },
  {
   "cell_type": "markdown",
   "metadata": {},
   "source": [
    "### 练习题"
   ]
  },
  {
   "cell_type": "markdown",
   "metadata": {},
   "source": [
    "1. 元组概念\n",
    "\n",
    "写出下面代码的执行结果和最终结果的类型,并分析原因\n",
    "\n",
    "`(1, 2)*2\n",
    "(1, )*2\n",
    "(1)*2`"
   ]
  },
  {
   "cell_type": "code",
   "execution_count": 40,
   "metadata": {},
   "outputs": [
    {
     "name": "stdout",
     "output_type": "stream",
     "text": [
      "(1, 2, 1, 2) 因为此处为复制2次的连接元组\n",
      "(1, 1) 加了逗号的单个元素的元组即为元组，括号外乘以2即为复制2次的连接该元组\n",
      "2 单个元素不加逗号的操作即为运算符操作\n"
     ]
    }
   ],
   "source": [
    "t1 = (1,2)*2\n",
    "print(t1,\"因为此处为复制2次的连接元组\")\n",
    "t2 = (1,)*2\n",
    "print(t2,\"加了逗号的单个元素的元组即为元组，括号外乘以2即为复制2次的连接该元组\")\n",
    "t3 = (1)*2\n",
    "print(t3,\"单个元素不加逗号的操作即为运算符操作\")"
   ]
  },
  {
   "cell_type": "markdown",
   "metadata": {},
   "source": [
    "2. 拆包过程是什么？\n",
    "\n",
    "`a, b = 1, 2`\n",
    "\n",
    "上述过程属于拆包吗？\n",
    "\n",
    "可迭代对象拆包时，怎么赋值给占位符？"
   ]
  },
  {
   "cell_type": "code",
   "execution_count": 42,
   "metadata": {
    "scrolled": true
   },
   "outputs": [
    {
     "data": {
      "text/plain": [
       "(1, 2)"
      ]
     },
     "execution_count": 42,
     "metadata": {},
     "output_type": "execute_result"
    },
    {
     "data": {
      "text/plain": [
       "1"
      ]
     },
     "execution_count": 42,
     "metadata": {},
     "output_type": "execute_result"
    },
    {
     "data": {
      "text/plain": [
       "2"
      ]
     },
     "execution_count": 42,
     "metadata": {},
     "output_type": "execute_result"
    }
   ],
   "source": [
    "a,b = 1,2\n",
    "1,2\n",
    "a\n",
    "b"
   ]
  },
  {
   "cell_type": "markdown",
   "metadata": {},
   "source": [
    "解答：上述过程不属于拆包，属于变量名赋值，但是结果和拆包等价。\n",
    "\n",
    "拆包：\n",
    "\n",
    "`tup = 1,2 #元组创建\n",
    "a,b = tup\n",
    "a\n",
    "b`"
   ]
  },
  {
   "cell_type": "code",
   "execution_count": 1,
   "metadata": {},
   "outputs": [
    {
     "name": "stdout",
     "output_type": "stream",
     "text": [
      "a=1,b=[2, 3]\n",
      "a=4,b=[5, 6]\n",
      "a=7,b=[8, 9]\n",
      "a:1,b:[2, 3]\n",
      "a:4,b:[5, 6]\n",
      "a:7,b:[8, 9]\n"
     ]
    },
    {
     "data": {
      "text/plain": [
       "'两种常用方法都可取'"
      ]
     },
     "execution_count": 1,
     "metadata": {},
     "output_type": "execute_result"
    }
   ],
   "source": [
    "###迭代对象拆包，赋值给占位符举例：\n",
    "seq = ((1,2,3),(4,5,6),(7,8,9))\n",
    "for a,*b in seq:\n",
    "    print('a={},b={}'.format(a,b))\n",
    "\n",
    "for a,*b in seq:\n",
    "    print('a:%d,b:%s'%(a,b))\n",
    "'''两种常用方法都可取'''"
   ]
  },
  {
   "cell_type": "markdown",
   "metadata": {},
   "source": [
    "### 参考资料：\n",
    "《利用Python进行数据分析》-第3章内建数据结构、函数及文件\n",
    "\n",
    "**（Python官方文档）必备推荐**：https://docs.python.org/3/\n"
   ]
  }
 ],
 "metadata": {
  "kernelspec": {
   "display_name": "Python 3",
   "language": "python",
   "name": "python3"
  },
  "language_info": {
   "codemirror_mode": {
    "name": "ipython",
    "version": 3
   },
   "file_extension": ".py",
   "mimetype": "text/x-python",
   "name": "python",
   "nbconvert_exporter": "python",
   "pygments_lexer": "ipython3",
   "version": "3.7.3"
  }
 },
 "nbformat": 4,
 "nbformat_minor": 4
}
