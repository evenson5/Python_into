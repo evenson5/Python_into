{
 "cells": [
  {
   "cell_type": "code",
   "execution_count": 1,
   "metadata": {},
   "outputs": [],
   "source": [
    "from IPython.core.interactiveshell import InteractiveShell\n",
    "InteractiveShell.ast_node_Interactivity = \"all\""
   ]
  },
  {
   "cell_type": "markdown",
   "metadata": {},
   "source": [
    "## 函数\n",
    " - 函数是Python中最重要、最基础的代码组织和代码复用方式。如果需要多次重复相同或类似的代码，就值得写一个可复用的函数。\n",
    " - 通过给一组Python语句一个函数名，形成的函数可以使代码更加可读。\n",
    " - 函数以`def`关键字开始，后接函数名和圆括号()。\n",
    " - 函数执行的代码以冒号开始，并且对应缩进。\n",
    " - return[表达式]结束函数，选择性的返回一个值给调用方，无return自动返回None.\n",
    " "
   ]
  },
  {
   "cell_type": "markdown",
   "metadata": {},
   "source": [
    "### 举例说明：\n",
    "`def my_function(x, y, z=1.5):\n",
    "    if z > 1:\n",
    "        return z * (x + y)\n",
    "    else:\n",
    "        return z / (x + y)`\n",
    "        \n",
    " - 函数都有对应的*位置参数*和*关键字参数*。关键字参数最常用于指定默认值或可选参数。上述案例，x和y是位置参数，z是关键字参数。\n",
    "\n",
    "上述案例可调用为：\n",
    " \n",
    " `my_function(5,6,z=0.1)\n",
    "  my_function(3,6,3.14)\n",
    "  my_function(4,5)`\n",
    " - 函数参数的主要限制是关键字参数必须跟在位置参数（如果有的话）后，可以任意顺序指定关键字参数，不必强行记下函数参数的顺序，只需用参数名指定。\n",
    "\n",
    "上述案例可调用为：\n",
    "\n",
    "`my_function(x=1,y=5,z=9)\n",
    " my_function(y=8,x=4,z=1)`\n",
    " \n",
    " - 也可以用关键字参数项位置参数传参。"
   ]
  },
  {
   "cell_type": "code",
   "execution_count": 2,
   "metadata": {},
   "outputs": [
    {
     "name": "stdout",
     "output_type": "stream",
     "text": [
      "没错，我就是显现函数\n",
      "Hello\n",
      "调用函数后显现： None\n",
      "调用add函数，并赋值（1,2）： 3\n"
     ]
    }
   ],
   "source": [
    "'''函数的调用'''\n",
    "def printme(str):\n",
    "    print(str)\n",
    "    \n",
    "printme(\"没错，我就是显现函数\")\n",
    "st = printme('Hello')\n",
    "print(\"调用函数后显现：\",st)\n",
    "'''注意：因为函数体内的语句在执行到return时，函数执行完毕并返回结果。若没有return语句，函数执行完毕也会返回结果，\n",
    "只是自动返回结果为None。这就是为什么对于没有return[表达式]的函数，print会显示None'''\n",
    "\n",
    "def add(a,b):\n",
    "    return a+b\n",
    "\n",
    "s = add(1,2)\n",
    "print(\"调用add函数，并赋值（1,2）：\",s)"
   ]
  },
  {
   "cell_type": "code",
   "execution_count": 3,
   "metadata": {},
   "outputs": [
    {
     "name": "stdout",
     "output_type": "stream",
     "text": [
      "传递进来的小小的程序人生叫做实参，因为是具体的参数值。\n",
      "函数定义过程中name是形参\n",
      "Help on function my_function in module __main__:\n",
      "\n",
      "my_function(name)\n",
      "    函数定义过程中name是形参\n",
      "\n"
     ]
    }
   ],
   "source": [
    "'''函数文档'''\n",
    "def my_function(name):\n",
    "    \"函数定义过程中name是形参\"\n",
    "    print('传递进来的{}叫做实参，因为是具体的参数值。'.format(name))\n",
    "\n",
    "my_function('小小的程序人生')#调用函数，显现传递进来的小小的程序人生叫做实参，因为是具体的参数值。\n",
    "\n",
    "print(my_function.__doc__)#显现my_function的文字注释\n",
    "\n",
    "help(my_function)        #查看函数或模块用途的详细说明"
   ]
  },
  {
   "cell_type": "markdown",
   "metadata": {},
   "source": [
    "### 函数是对象\n",
    "由于Python万物皆对象，函数也是对象，其他语言比较难的构造在Python中非常容易实现。\n",
    "\n",
    " - 举例说明：\n",
    " \n",
    "`states = [' Alabama','Georgia!','Georgia','georgia','Fl0rIda','south  carolina**','west virginia?']`\n",
    "\n",
    "在对states进行数据清洗时，因为各操作较麻烦。解决方法之一是使用内建的字符串方法，结合标准库中的正则表达式模块re:"
   ]
  },
  {
   "cell_type": "code",
   "execution_count": 4,
   "metadata": {},
   "outputs": [
    {
     "data": {
      "text/plain": [
       "['Alabama',\n",
       " 'Georgia',\n",
       " 'Georgia',\n",
       " 'Georgia',\n",
       " 'Fl0Rida',\n",
       " 'South  Carolina',\n",
       " 'West Virginia']"
      ]
     },
     "execution_count": 4,
     "metadata": {},
     "output_type": "execute_result"
    }
   ],
   "source": [
    "import re\n",
    "def clean_strings(strings):\n",
    "    result = []\n",
    "    for value in strings:\n",
    "        value = value.strip()\n",
    "        value = re.sub('[!*?]','',value)\n",
    "        value = value.title()\n",
    "        result.append(value)\n",
    "    return result\n",
    "\n",
    "states = [' Alabama','Georgia!','Georgia','georgia','Fl0rIda','south  carolina**','west virginia?']\n",
    "clean_strings(states)"
   ]
  },
  {
   "cell_type": "markdown",
   "metadata": {},
   "source": [
    "#### 类与对象（简单扩，具体下个章节讨论）\n",
    "1. 类：用来描述具有相同的属性和方法的对象的集合。定义了该集合中每个对象所共有的属性和方法，即类是一个种类，一个模型。\n",
    "2. 对象（实例）：类的实例，即根据模型制造出来的具体某个东西。\n",
    "3. 实例化：从雷到对象的过程，即从模型到成品东西的过程。\n",
    "4. 方法：类里面的函数。\n",
    "5. 属性：类里面的变量为类的属性，类有两种：静态属性和动态属性。\n",
    "6. 类的定义和使用实际操作：\n",
    " - self：代表的本类对象。在类中，代表本类对象；在类外，需要用具体的实例名代替self，my.say(m)等同于m.say()\n",
    " - cls：在类中，代表本类；在类外，需要用具体的类名代替cls\n",
    " - 类变量：在直接在类下面定的变量，没有加self的，每个实例都可以用。"
   ]
  },
  {
   "cell_type": "code",
   "execution_count": 25,
   "metadata": {},
   "outputs": [
    {
     "name": "stdout",
     "output_type": "stream",
     "text": [
      "汽车有4个轮子\n",
      "汽车的颜色是赤橙黄绿青蓝紫\n",
      "==========\n"
     ]
    }
   ],
   "source": [
    "class Car: #定义类\n",
    "    wheel =4 #类变量，公共的，调用的时候没有时，从公共变量中找。防止每个实例都定义的时候浪费内存\n",
    "    def __init__(self,color,brand):\n",
    "        #self.wheel=wheel\n",
    "        self.color = color #实例变量\n",
    "        self.brand = brand\n",
    "    def help(self): #类中的方法\n",
    "        print('汽车有%s个轮子'%self.wheel)\n",
    "        print('汽车的颜色是%s'%self.color)\n",
    "        print('='*10)\n",
    "\n",
    "my = Car('赤橙黄绿青蓝紫','我的') #类实例化\n",
    "my.help()"
   ]
  },
  {
   "cell_type": "markdown",
   "metadata": {},
   "source": [
    "### 函数参数\n",
    "Python的函数具有非常灵活的参数状态，既可以实现简单的调用，又可以传入非常复杂的参数。从简到繁的参数形态如下：\n",
    " - 位置参数（positional argument）\n",
    " - 默认参数（default argument）\n",
    " - 可变参数（variable argument）\n",
    " - 关键字参数（keyword argument）\n",
    " - 命名关键字参数（name keyword argument）\n",
    " - 参数组合"
   ]
  },
  {
   "cell_type": "code",
   "execution_count": 5,
   "metadata": {},
   "outputs": [
    {
     "data": {
      "text/plain": [
       "'arg1位置参数，这些参数在调用函数时位置要固定'"
      ]
     },
     "execution_count": 5,
     "metadata": {},
     "output_type": "execute_result"
    }
   ],
   "source": [
    "'''位置参数'''\n",
    "def functionname(arg1):\n",
    "    \"函数_文档字符串\"\n",
    "    function_suite\n",
    "    return [expression]\n",
    "'''arg1位置参数，这些参数在调用函数时位置要固定'''"
   ]
  },
  {
   "cell_type": "markdown",
   "metadata": {},
   "source": [
    "**默认参数**\n",
    "\n",
    "`def functionname(arg1,arg2=v):\n",
    "    \"函数_文档字符串\"\n",
    "    function_suite\n",
    "    return [expression]`\n",
    "1. arg2 = v默认参数，有默认值，调用函数时，默认参数的值如果没有传入，则为默认值。\n",
    "2. 设置函数时默认参数一定要放在未知参数后面，不然城西报错。\n",
    "3. 调用函数时允许函数参数的顺序与设置时不一致，因为Python解释器能够用参数名匹配参数值。"
   ]
  },
  {
   "cell_type": "markdown",
   "metadata": {},
   "source": [
    "**可变参数**\n",
    "\n",
    "顾名思义，可变参数就是传入的参数个数是可变的，可以是 0, 1, 2 到任意个，是不定长的参数。\n",
    "\n",
    "`def functionname(arg1, arg2=v, *args):\n",
    "    \"函数_文档字符串\"\n",
    "    function_suite\n",
    "    return [expression]`\n",
    "\n",
    " - *args可变参数，可以使从0个到任意个，自动组装成元组\n",
    " - 加了星号(*)的变量名会存放所有未命名的变量参数。"
   ]
  },
  {
   "cell_type": "code",
   "execution_count": 6,
   "metadata": {},
   "outputs": [
    {
     "name": "stdout",
     "output_type": "stream",
     "text": [
      "10\n",
      "[1, 2, '3']\n"
     ]
    }
   ],
   "source": [
    "#可变参数案例：\n",
    "def printinfo(arg1,*args):\n",
    "    print(arg1)\n",
    "    for v in args:\n",
    "        print(v)\n",
    "printinfo(10,[1,2,'3'])"
   ]
  },
  {
   "cell_type": "markdown",
   "metadata": {},
   "source": [
    "**关键字参数**\n",
    "\n",
    "`def functionname(arg1, arg2=v, *args, **kw):\n",
    "    \"函数_文档字符串\"\n",
    "    function_suite\n",
    "    return [expression]`\n",
    "\n",
    " - **kw - 关键字参数，可以是从零个到任意个，自动组装成字典。\n",
    " - 可变参数和关键字参数区别在于，前者**调用**时自动组装成一个元组，后者在**函数内部**自动组装成一个字典。"
   ]
  },
  {
   "cell_type": "code",
   "execution_count": 7,
   "metadata": {},
   "outputs": [
    {
     "name": "stdout",
     "output_type": "stream",
     "text": [
      "10\n",
      "([23, 2, 'e'],)\n",
      "{'a': 1, 'n': 4}\n"
     ]
    }
   ],
   "source": [
    "#关键字参数\n",
    "def printinfo(arg1, *args, **kwargs):\n",
    "    print(arg1)\n",
    "    print(args)\n",
    "    print(kwargs)\n",
    "\n",
    "printinfo(10,[23,2,'e'],a=1,n=4)"
   ]
  },
  {
   "cell_type": "markdown",
   "metadata": {},
   "source": [
    "**命名关键字参数**\n",
    "\n",
    "`def functionname(arg1, arg2=v, *args, *, nkw, **kw):\n",
    "    \"函数_文档字符串\"\n",
    "    function_suite\n",
    "    return [expression]`\n",
    "    \n",
    " - *, nkw - 命名关键字参数，用户想要输入的关键字参数，定义方式是在nkw 前面加个分隔符 *。\n",
    " - 如果要限制关键字参数的名字，就可以用「命名关键字参数」\n",
    " - 使用命名关键字参数时，要特别注意不能缺少参数名。"
   ]
  },
  {
   "cell_type": "code",
   "execution_count": 8,
   "metadata": {},
   "outputs": [
    {
     "name": "stdout",
     "output_type": "stream",
     "text": [
      "66\n",
      "[1, 2, 3]\n",
      "{'a': 1}\n"
     ]
    },
    {
     "ename": "TypeError",
     "evalue": "printinfo() takes 1 positional argument but 2 were given",
     "output_type": "error",
     "traceback": [
      "\u001b[1;31m---------------------------------------------------------------------------\u001b[0m",
      "\u001b[1;31mTypeError\u001b[0m                                 Traceback (most recent call last)",
      "\u001b[1;32m<ipython-input-8-6443da33e8b7>\u001b[0m in \u001b[0;36m<module>\u001b[1;34m\u001b[0m\n\u001b[0;32m      6\u001b[0m \u001b[0mprintinfo\u001b[0m\u001b[1;33m(\u001b[0m\u001b[1;36m66\u001b[0m\u001b[1;33m,\u001b[0m\u001b[0mnkw\u001b[0m\u001b[1;33m=\u001b[0m\u001b[1;33m[\u001b[0m\u001b[1;36m1\u001b[0m\u001b[1;33m,\u001b[0m\u001b[1;36m2\u001b[0m\u001b[1;33m,\u001b[0m\u001b[1;36m3\u001b[0m\u001b[1;33m]\u001b[0m\u001b[1;33m,\u001b[0m\u001b[0ma\u001b[0m\u001b[1;33m=\u001b[0m\u001b[1;36m1\u001b[0m\u001b[1;33m)\u001b[0m\u001b[1;33m\u001b[0m\u001b[1;33m\u001b[0m\u001b[0m\n\u001b[0;32m      7\u001b[0m \u001b[1;33m\u001b[0m\u001b[0m\n\u001b[1;32m----> 8\u001b[1;33m \u001b[0mprintinfo\u001b[0m\u001b[1;33m(\u001b[0m\u001b[1;36m66\u001b[0m\u001b[1;33m,\u001b[0m\u001b[1;36m88\u001b[0m\u001b[1;33m,\u001b[0m\u001b[0ma\u001b[0m\u001b[1;33m=\u001b[0m\u001b[1;36m1\u001b[0m\u001b[1;33m)\u001b[0m\u001b[1;33m\u001b[0m\u001b[1;33m\u001b[0m\u001b[0m\n\u001b[0m\u001b[0;32m      9\u001b[0m \u001b[1;34m'''由于没有写参数名nwk，因此88被当做第二个位置参数，但原函数只有一个，所以程序报错'''\u001b[0m\u001b[1;33m\u001b[0m\u001b[1;33m\u001b[0m\u001b[0m\n",
      "\u001b[1;31mTypeError\u001b[0m: printinfo() takes 1 positional argument but 2 were given"
     ]
    }
   ],
   "source": [
    "def printinfo(arg1, *, nkw, **kwargs):\n",
    "    print(arg1)\n",
    "    print(nkw)\n",
    "    print(kwargs)\n",
    "\n",
    "printinfo(66,nkw=[1,2,3],a=1)\n",
    "\n",
    "printinfo(66,88,a=1)    \n",
    "'''由于没有写参数名nwk，因此88被当做第二个位置参数，但原函数只有一个，所以程序报错'''"
   ]
  },
  {
   "cell_type": "markdown",
   "metadata": {},
   "source": [
    "**参数组合**\n",
    "\n",
    "在 Python 中定义函数，可以用位置参数、默认参数、可变参数、命名关键字参数和关键字参数，这 5 种参数中的 4 个都可以一起使用，但是注意，参数定义的顺序必须是：\n",
    "\n",
    " - 位置参数、默认参数、可变参数和关键字参数。\n",
    " - 位置参数、默认参数、命名关键字参数和关键字参数。\n",
    "\n",
    "要注意定义可变参数和关键字参数的语法：\n",
    " - *args 是可变参数，args 接收的是一个 tuple\n",
    " - **kw 是关键字参数，kw 接收的是一个 dict\n",
    "命名关键字参数是为了限制调用者可以传入的参数名，同时可以提供默认值。定义命名关键字参数不要忘了写分隔符 *，否则定义的是位置参数。\n",
    "\n",
    "警告：虽然可以组合多达 5 种参数，但不要同时使用太多的组合，否则函数很难懂。\n"
   ]
  },
  {
   "cell_type": "markdown",
   "metadata": {},
   "source": [
    "#### 函数的返回值\n",
    "Python使用函数时可以返回多个值，代码如下：\n",
    "\n",
    "`def f():\n",
    "    a = 4\n",
    "    b = 5\n",
    "    c = 6\n",
    "    return a, a+b, a+b+c`\n",
    "\n",
    "返回多个值的实质上是返回了一个对象，即元组，而元组之后又被拆包为多个结果变量。"
   ]
  },
  {
   "cell_type": "markdown",
   "metadata": {},
   "source": [
    "### 命名空间、作用域和本地函数\n",
    "函数有两种连接变量的方式：**全局、本地。**在Python中另一种更贴切的描述变量作用域的名称是命名空间。\n",
    " - 在函数内部，任意变量都是默认分配到本地命名空间的。\n",
    " - 本地命名空间是在函数被调用时生成的，并立即有函数的参数填充。\n",
    " - 一般在函数执行结束后，本地命名空间会被销毁（除了一些特殊情况）。"
   ]
  },
  {
   "cell_type": "markdown",
   "metadata": {},
   "source": [
    "#### 变量作用域\n",
    " - Python 中，程序的变量并不是在哪个位置都可以访问的，访问权限决定于这个变量是在哪里赋值的。\n",
    " - 定义在函数内部的变量拥有局部作用域，该变量称为局部变量。\n",
    " - 定义在函数外部的变量拥有全局作用域，该变量称为全局变量。\n",
    " - 局部变量只能在其被声明的函数内部访问，而全局变量可以在整个程序范围内访问。"
   ]
  },
  {
   "cell_type": "code",
   "execution_count": 9,
   "metadata": {},
   "outputs": [
    {
     "name": "stdout",
     "output_type": "stream",
     "text": [
      "[]\n"
     ]
    }
   ],
   "source": [
    "#案例说明\n",
    "def func():\n",
    "    a = []\n",
    "    for i in range(5):\n",
    "        a.append(i)\n",
    "\n",
    "'''当调用func()时，空的列表a会被创建，五个元素被添加到列表，a在函数退出时被销毁。若a在func外：'''\n",
    "a = []\n",
    "def func():\n",
    "    for i in range(5):\n",
    "        a.append(i)\n",
    "\n",
    "'''那些变量需要使用global关键字声明为全局变量：'''\n",
    "a = None\n",
    "def bind_a_variable():\n",
    "    global a    \n",
    "    '''global：通常全局变量用来存储系统中的某些状态，如果大量使用全局变量，可能需要面向对象编程（使用类）。'''\n",
    "    a = []\n",
    "    \n",
    "bind_a_variable()\n",
    "print(a)"
   ]
  },
  {
   "cell_type": "code",
   "execution_count": 10,
   "metadata": {},
   "outputs": [
    {
     "name": "stdout",
     "output_type": "stream",
     "text": [
      "outer函数调用\n",
      "inner函数被调用\n"
     ]
    }
   ],
   "source": [
    "### 内嵌函数案例\n",
    "def outer():\n",
    "    print('outer函数调用')\n",
    "    \n",
    "    def inner():\n",
    "        print('inner函数被调用')\n",
    "    inner()   #inner()函数在outer函数内部被调用，且只能在内部调用\n",
    "    \n",
    "outer()  #运行outer()函数，内部函数一起"
   ]
  },
  {
   "cell_type": "markdown",
   "metadata": {},
   "source": [
    "### 闭包\n",
    " - 是函数式编程的一个重要的语法结构，是一种特殊的内嵌函数。\n",
    " - 如果在一个内部函数里对外层非全局作用域的变量进行引用，那么内部函数就被认为是闭包。\n",
    " - 通过闭包可以访问外层非全局作用域的变量，这个作用域称为**闭包作用域。**\n",
    " - 闭包的用途是为了装饰器的实现。\n",
    " \n",
    "`def 外层函数(参数):\n",
    "    def 内层函数():\n",
    "        print(\"内层函数执行\", 参数)\n",
    "    return 内层函数\n",
    "内层函数的引用 = 外层函数(\"传入参数\")\n",
    "内层函数的引用()`"
   ]
  },
  {
   "cell_type": "code",
   "execution_count": 11,
   "metadata": {},
   "outputs": [
    {
     "data": {
      "text/plain": [
       "21"
      ]
     },
     "execution_count": 11,
     "metadata": {},
     "output_type": "execute_result"
    }
   ],
   "source": [
    "#闭包的返回值通常是函数\n",
    "def func(a,b):\n",
    "    def line(x):\n",
    "        return a*x + b\n",
    "    return line\n",
    "\n",
    "i = func(3,6)\n",
    "i(5)        "
   ]
  },
  {
   "cell_type": "markdown",
   "metadata": {},
   "source": [
    "#### 案例解析\n",
    " - 外函数func有接收参数 a=3，b=6，内函数line接收参数x=5。\n",
    " - 在内函数体中计算了a*x+b 即 3×5+6的值作为返回值，外函数返回内函数的引用，这里的引用指的是内函数line在内存中的起始地址，最终调用内函数line()得到返回值21."
   ]
  },
  {
   "cell_type": "code",
   "execution_count": 21,
   "metadata": {},
   "outputs": [
    {
     "name": "stdout",
     "output_type": "stream",
     "text": [
      "1\n",
      "0\n",
      "0\n"
     ]
    }
   ],
   "source": [
    "def make_counter(init):\n",
    "    counter = [init]\n",
    "    \n",
    "    def inc():counter[0] += 1\n",
    "    def dec():counter[0] -= 1\n",
    "    def get():return counter[0]\n",
    "    def reset():counter[0] = init\n",
    "    return inc,dec,get,reset\n",
    "\n",
    "inc,dec,get,reset = make_counter(0)\n",
    "inc()\n",
    "print(get())\n",
    "dec()\n",
    "print(get())\n",
    "reset()\n",
    "print(get())"
   ]
  },
  {
   "cell_type": "markdown",
   "metadata": {},
   "source": [
    "#### 案例解析\n",
    " - 外函数make_counter接受参数0，代入内函数\n",
    " - 由于inc()、dec()、reset均没有return，所以非闭包，但对应计算仍成立。\n",
    " - get()属于闭包，计算后如上。"
   ]
  },
  {
   "cell_type": "markdown",
   "metadata": {},
   "source": [
    "#### 内函数修外函数的值，即修改闭包作用域中的变量-nonlocal关键字\n",
    " - 一般在函数结束时，会释放临时变量，但在闭包中，由于外函数的临时变量在内函数中用到，此时外函数会把临时变量与内函数绑定到一起，这样虽然外函数结束了，但调用内函数时依旧能够使用临时变量，即闭包外层的参数可以在内存中进行保留。\n",
    " - 如果想要在内函数中修改外函数的值，需要使用 nonlocal 关键字声明变量。"
   ]
  },
  {
   "cell_type": "code",
   "execution_count": 15,
   "metadata": {},
   "outputs": [
    {
     "data": {
      "text/plain": [
       "31"
      ]
     },
     "execution_count": 15,
     "metadata": {},
     "output_type": "execute_result"
    }
   ],
   "source": [
    "#案例说明\n",
    "def func(a,b):\n",
    "    def line(x):\n",
    "        nonlocal a\n",
    "        a = 5         #实际a值永远为5\n",
    "        return a * x + b #即 5 * x + b\n",
    "    return line\n",
    "\n",
    "i = func(3,6) #计算为 5*x + 6\n",
    "i(5)          #5*5 + 6 = 31"
   ]
  },
  {
   "cell_type": "markdown",
   "metadata": {},
   "source": [
    "### 递归\n",
    " - 如果一函数在内部调用自身本身，这个函数就是递归函数。"
   ]
  },
  {
   "cell_type": "code",
   "execution_count": 16,
   "metadata": {},
   "outputs": [
    {
     "data": {
      "text/plain": [
       "120"
      ]
     },
     "execution_count": 16,
     "metadata": {},
     "output_type": "execute_result"
    }
   ],
   "source": [
    "#递归案例\n",
    "def func(n):\n",
    "    if n == 1:\n",
    "        return 1\n",
    "    return n * func(n-1)\n",
    "func(5)"
   ]
  },
  {
   "cell_type": "markdown",
   "metadata": {},
   "source": [
    "#### 斐波那契数列\n",
    "`f(n) = f(n-1) + f(n-2) \n",
    "f(0) = 0\n",
    "f(1) = 1`"
   ]
  },
  {
   "cell_type": "code",
   "execution_count": 17,
   "metadata": {},
   "outputs": [
    {
     "name": "stdout",
     "output_type": "stream",
     "text": [
      "[0, 1, 1, 2, 3, 5, 8, 13, 21, 34, 55]\n"
     ]
    }
   ],
   "source": [
    "#循环：斐波那契数列\n",
    "i = 0\n",
    "j = 1\n",
    "lst = list([i,j])\n",
    "for k in range(2,11):\n",
    "    k = i+j\n",
    "    lst.append(k)\n",
    "    i = j\n",
    "    j = k\n",
    "print(lst)"
   ]
  },
  {
   "cell_type": "code",
   "execution_count": 18,
   "metadata": {},
   "outputs": [
    {
     "data": {
      "text/plain": [
       "[0, 1, 1, 2, 3, 5, 8, 13, 21, 34, 55]"
      ]
     },
     "execution_count": 18,
     "metadata": {},
     "output_type": "execute_result"
    }
   ],
   "source": [
    "#递归：斐波那契数列\n",
    "def feibo(n):\n",
    "    if n <= 1:\n",
    "        return n\n",
    "    return feibo(n-1) + feibo(n-2)\n",
    "\n",
    "lst = list()\n",
    "for k in range(11):\n",
    "    lst.append(feibo(k))\n",
    "lst"
   ]
  },
  {
   "cell_type": "markdown",
   "metadata": {},
   "source": [
    "#### 递归的层数设置\n",
    "一般而言Python函数的递归次数最大为995左右（实际看配置性能），如果想要递归最大化，可以再定义函数之前设置层数：\n",
    "\n",
    "`import sys\n",
    " sys.setrecursionlimit(2000)`"
   ]
  },
  {
   "cell_type": "markdown",
   "metadata": {},
   "source": [
    "## 匿名(Lambda)函数\n",
    "Python支持所谓的匿名或lambda函数。*匿名函数*是一种通过单个语句生成函数的方式，其结果是返回值。匿名函数使用lambda关键字定义，该关键字仅表达“我们生命一个匿名函数的意思”：\n",
    "\n",
    "`lambda argument_list:expression`\n",
    "\n",
    " - lambda:定义匿名函数的关键词。\n",
    " - argument_list:函数参数，可以是位置参数、默认参数、关键字参数，和正规函数里的参数类型一样。\n",
    " - “:”：冒号，在函数参数和表达式中间要加个冒号。\n",
    " - expression：没有return，表达是本身结果就是返回值。\n",
    " - 匿名函数拥有自己的命名空间，且不能访问自己参数列表之外或全局命名空间里的参数。"
   ]
  },
  {
   "cell_type": "code",
   "execution_count": 26,
   "metadata": {},
   "outputs": [
    {
     "name": "stdout",
     "output_type": "stream",
     "text": [
      "29\n",
      "15\n"
     ]
    }
   ],
   "source": [
    "###案例说明：\n",
    "def sqr(x):\n",
    "    return x ** 2\n",
    "\n",
    "y = lambda x: x ** 2\n",
    "\n",
    "sumary = lambda arg1,arg2:arg2 + arg1\n",
    "print(sumary(14,15))\n",
    "\n",
    "func = lambda *args:sum(args)    #关键字参数代入元组\n",
    "print(func(1,2,3,4,5))"
   ]
  },
  {
   "cell_type": "code",
   "execution_count": 31,
   "metadata": {},
   "outputs": [
    {
     "data": {
      "text/plain": [
       "['aaaa', 'foo', 'abab', 'card']"
      ]
     },
     "execution_count": 31,
     "metadata": {},
     "output_type": "execute_result"
    }
   ],
   "source": [
    "#案例：根据字符串中不同字母的数量对其进行排序：\n",
    "strings = ['foo','abab','card','aaaa']   \n",
    "strings.sort(key = lambda x: len(set(list(x))))\n",
    "'''利用集合的非重复性质，先list拆分单个字符串字母,再应用sort排序，应用sort参数'''\n",
    "strings"
   ]
  },
  {
   "cell_type": "markdown",
   "metadata": {},
   "source": [
    "### 匿名函数的应用\n",
    "**函数式编程**\n",
    "\n",
    "函数式编程 是指代码中每一块都是不可变的，都由纯函数的形式组成。这里的纯函数，是指函数本身相互独立、互不影响，对于相同的输入，总会有相同的输出，没有任何副作用。"
   ]
  },
  {
   "cell_type": "code",
   "execution_count": 35,
   "metadata": {},
   "outputs": [
    {
     "name": "stdout",
     "output_type": "stream",
     "text": [
      "非函数式编程的x： [11, 12, 13]\n",
      "函数是编程的x： [1, 2, 3]\n"
     ]
    }
   ],
   "source": [
    "#非函数式编程\n",
    "def f(x):\n",
    "    for i in range(0,len(x)):\n",
    "        x[i] += 10\n",
    "    return x\n",
    "x = [1,2,3]\n",
    "f(x)\n",
    "print(\"非函数式编程的x：\",x)\n",
    "\n",
    "#函数式编程\n",
    "def f(x):\n",
    "    y = []\n",
    "    for item in x:\n",
    "        y.append(item+10)\n",
    "    return y\n",
    "x = [1,2,3]\n",
    "f(x)\n",
    "print(\"函数是编程的x：\",x)"
   ]
  },
  {
   "cell_type": "markdown",
   "metadata": {},
   "source": [
    "匿名函数 常常应用于函数式编程的高阶函数 (high-order function)中，主要有两种形式：\n",
    " - 参数是函数 (filter, map)\n",
    " - 返回值是函数 (closure)\n",
    "\n",
    "如，在 filter和map函数中的应用：\n",
    " - filter(function, iterable) 过滤序列，过滤掉不符合条件的元素，返回一个迭代器对象，如果要转换为列表，可以使用 list() 来转换。\n",
    " - map(function, *iterables) 根据提供的函数对指定序列做映射。"
   ]
  },
  {
   "cell_type": "code",
   "execution_count": 39,
   "metadata": {},
   "outputs": [
    {
     "name": "stdout",
     "output_type": "stream",
     "text": [
      "[1, 3, 5, 7, 9]\n",
      "now: 2\n",
      "now: 3\n",
      "now: 5\n",
      "now: 7\n",
      "now: 11\n",
      "now: 13\n",
      "now: 17\n",
      "now: 19\n",
      "now: 23\n",
      "now: 29\n",
      "now: 31\n",
      "now: 37\n",
      "now: 41\n",
      "now: 43\n",
      "now: 47\n",
      "now: 53\n",
      "now: 59\n",
      "now: 61\n",
      "now: 67\n",
      "now: 71\n",
      "now: 73\n",
      "now: 79\n",
      "now: 83\n",
      "now: 89\n",
      "now: 97\n"
     ]
    }
   ],
   "source": [
    "###案例说明\n",
    "#filter 的基本用法\n",
    "odd = lambda x: x % 2 == 1\n",
    "tem = filter(odd,[1,2,3,4,5,6,7,8,9])\n",
    "print(list(tem)) #因为filter函数返回的是个iterator，所以输出的时候需要用list进行转换。\n",
    "\n",
    "#filter高级用法\n",
    "def _odd_iter():\n",
    "    n = 1 \n",
    "    while True:\n",
    "        n += 2\n",
    "        yield n   #带yield的函数是一个生成器，具体后文详解\n",
    "\n",
    "        \n",
    "def _not_divisible(n): \n",
    "    return lambda x : x % n > 0\n",
    "\n",
    "def primes():\n",
    "    yield 2\n",
    "    it = _odd_iter()\n",
    "    ftr = filter(_not_divisible(2), it) #1\n",
    "    while True:\n",
    "        n = next(ftr)        #2\n",
    "        yield n                \n",
    "        ftr = filter(_not_divisible(n), ftr) #3\n",
    "\n",
    "for n in primes():\n",
    "    if n < 100:\n",
    "        print('now:',n)\n",
    "    else:\n",
    "        break"
   ]
  },
  {
   "cell_type": "markdown",
   "metadata": {},
   "source": [
    "### 案例总结：\n",
    "1. yeild应用\n",
    " - 先把yield看做“return”，这个是直观的，它首先是个return，普通的return是什么意思，就是在程序中返回某个值，返回之后程序就不再往下运行了。\n",
    " - 看做return之后再把它看做一个是生成器（generator）的一部分（带yield的函数才是真正的迭代器）。\n",
    " - 这个生成器有一个函数就是next函数，next就相当于“下一步”生成哪个数，这一次的next开始的地方是接着上一次的next停止的地方执行的。\n",
    " \n",
    "2. filter高级应用\n",
    " - 其实filter返回的是一个filter对象。#3行通过重复赋值，可以向filter中添加多个过滤器。\n",
    " - 例子中，就是通过每次执行#3行，把当前素数作为新的被除数条件加入到过滤器ftr中，所以在for循环的后续迭代中，每次都增加一个素数条件进入过滤器。\n",
    " - 通过这种重复赋值的方法，可以给filter添加多个过滤函数，极大的加强了过滤功能。\n",
    " - filter的第二个参数可以传入iterator。当然，此时就不能用list取filter的结果，只能用next(filter对象)取下一个过滤结果为True的元素。"
   ]
  },
  {
   "cell_type": "code",
   "execution_count": 40,
   "metadata": {},
   "outputs": [
    {
     "name": "stdout",
     "output_type": "stream",
     "text": [
      "[3, 7, 11, 15, 19]\n"
     ]
    }
   ],
   "source": [
    "m = map(lambda x, y: x + y, [1, 3, 5, 7, 9], [2, 4, 6, 8, 10])\n",
    "print(list(m)) "
   ]
  },
  {
   "cell_type": "code",
   "execution_count": 44,
   "metadata": {},
   "outputs": [
    {
     "name": "stdout",
     "output_type": "stream",
     "text": [
      "sum: 15\n",
      "len: 5\n"
     ]
    },
    {
     "data": {
      "text/plain": [
       "3.0"
      ]
     },
     "execution_count": 44,
     "metadata": {},
     "output_type": "execute_result"
    }
   ],
   "source": [
    "#自定义高阶函数\n",
    "def apply_to_list(fun,some_list):\n",
    "    return fun(some_list)\n",
    "\n",
    "lst = [1,2,3,4,5]\n",
    "print(\"sum:\",apply_to_list(sum,lst))\n",
    "print(\"len:\",apply_to_list(len,lst))\n",
    "apply_to_list(lambda x: sum(x)/len(x),lst)"
   ]
  },
  {
   "cell_type": "markdown",
   "metadata": {},
   "source": [
    "### 柯里化：部分参数应用\n",
    " - 表示通过*部分参数*应用的方式从已有的函数中衍生出新的函数。\n",
    " 案例：\n",
    " \n",
    " `def add_numbers(x,y):\n",
    "     return x + y`\n",
    "\n",
    "functools模块可以使用pratial的函数简化处理：\n",
    " \n",
    " `from functools import partial\n",
    " add_five = partial(add_numbers,5)`"
   ]
  },
  {
   "cell_type": "markdown",
   "metadata": {},
   "source": [
    "### 生成器\n",
    " - 通过一致的方式遍历序列，列入列表中的对象或者文件中的一行行内容，这是Python的重要特性之一。\n",
    " - 这个特性是通过迭代器协议来实现的，迭代器协议是一种令对象可遍历的通用方式。"
   ]
  },
  {
   "cell_type": "code",
   "execution_count": 7,
   "metadata": {},
   "outputs": [
    {
     "name": "stdout",
     "output_type": "stream",
     "text": [
      "a\n",
      "b\n",
      "c\n"
     ]
    }
   ],
   "source": [
    "some_dict = dict(a=1,b=2,c=3)\n",
    "for key in some_dict:\n",
    "    print(key)"
   ]
  },
  {
   "cell_type": "markdown",
   "metadata": {},
   "source": [
    "当上述`for key in some_dict`时，Python解释器首先尝试根据some_dict生成一个迭代器：\n",
    "\n",
    "`dict_iterator = iter(some_dict)`\n",
    "\n",
    " - 迭代器就是一种用于在上下文中（例如for循环）向Python解释器生成对象的对象。\n",
    " - 大部分以列表或列表型对象为参数的方法都可以接收任意的迭代器对象。包括内建方法比如min、max和sum，以及类型构造函数比如list和tuple。\n",
    " - 生成器是构造新的可遍历对象的一种非常简洁的方式。通常函数执行并一次返回单个结果，而生成器则“惰性”地返回一个多结果序列，在每一个元素产生之后暂停，知道下一个请求。\n",
    " - 若创造一个生成器，只需在函数中将返回关键字return替换为yield."
   ]
  },
  {
   "cell_type": "code",
   "execution_count": 12,
   "metadata": {},
   "outputs": [
    {
     "name": "stdout",
     "output_type": "stream",
     "text": [
      "Generating squares from 1 to 100\n",
      "1 4 9 16 25 36 49 64 81 100 "
     ]
    }
   ],
   "source": [
    "##案例说明\n",
    "def squares(n=10):\n",
    "    print('Generating squares from 1 to {0}'.format(n ** 2))\n",
    "    for i in range(1,n+1):\n",
    "        yield i ** 2\n",
    "#当世界调用生成器时，代码并不会立即执行：\n",
    "gen = squares()\n",
    "gen                      #显现<generator object squares at ox7fbbd5ab4570>\n",
    "'''直到请求生成器中的元素时，才会执行代码'''\n",
    "for x in gen:\n",
    "    print(x,end = ' ')"
   ]
  },
  {
   "cell_type": "markdown",
   "metadata": {},
   "source": [
    "### 生成器表达式\n",
    "用生成器表达式来创建生成器更简单。生成器表达式与列表、字典、集合的推导式很类似，创建一个生成器表达式，只需要将列表推导式中的中括号体委小括号即可。"
   ]
  },
  {
   "cell_type": "code",
   "execution_count": 13,
   "metadata": {},
   "outputs": [
    {
     "data": {
      "text/plain": [
       "<generator object <genexpr> at 0x000002086752C318>"
      ]
     },
     "execution_count": 13,
     "metadata": {},
     "output_type": "execute_result"
    }
   ],
   "source": [
    "#案例说明：\n",
    "gen = (x ** 2 for x in range(100))\n",
    "gen"
   ]
  },
  {
   "cell_type": "code",
   "execution_count": 15,
   "metadata": {},
   "outputs": [
    {
     "data": {
      "text/plain": [
       "<generator object _make_gen at 0x000002086752C4F8>"
      ]
     },
     "execution_count": 15,
     "metadata": {},
     "output_type": "execute_result"
    }
   ],
   "source": [
    "'''上述代码等价于下述的生成器'''\n",
    "def _make_gen():\n",
    "    for x in range(100):\n",
    "        yield x ** 2\n",
    "\n",
    "gen = _make_gen()\n",
    "gen"
   ]
  },
  {
   "cell_type": "code",
   "execution_count": 17,
   "metadata": {},
   "outputs": [
    {
     "data": {
      "text/plain": [
       "{0: 0, 1: 1, 2: 4, 3: 9, 4: 16}"
      ]
     },
     "execution_count": 17,
     "metadata": {},
     "output_type": "execute_result"
    }
   ],
   "source": [
    "#生成器表达式可以作为函数参数用于替代列表推导式：\n",
    "sum(x ** 2 for x in range(100))\n",
    "dict((i,i ** 2)for i in range(5))"
   ]
  },
  {
   "cell_type": "markdown",
   "metadata": {},
   "source": [
    "### 练习题\n",
    "1. 怎么给函数编写⽂档？\n",
    "2. 怎么给函数参数和返回值注解？\n",
    "3. 闭包中，怎么对数字、字符串、元组等不可变元素更新。\n",
    "4. 分别根据每一行的首元素和尾元素大小对二维列表 a = [[6, 5], [3, 7], [2, 8]] 排序。(利用lambda表达式)\n",
    "5. 利用python解决汉诺塔问题？\n",
    " - 有a、b、c三根柱子，在a柱子上从下往上按照大小顺序摞着64片圆盘，把圆盘从下面开始按大小顺序重新摆放在c柱子上，尝试用函数来模拟解决的过程。（提示：将问题简化为已经成功地将a柱上面的63个盘子移到了b柱）"
   ]
  },
  {
   "cell_type": "markdown",
   "metadata": {},
   "source": [
    "### 作业：\n",
    "1. 函数编写文档\n",
    "使用三引号，且两个三引号单独成行，应用help查看对应函数的文档或者functionname.__doc__调出注释\n",
    "2. 函数参数和返回值注解\n",
    " - 参数注解：在定义函数的时候，参数列表内部的参数后面，加上冒号和要传入的类型。\n",
    "\n",
    "`def accumlate(x:int, y:int):\n",
    "    return x*y`\n",
    "\n",
    "- 返回值注解：在参数列表后面，冒号前面，增加一个 -> 后面接返回值的类型。\n",
    "\n",
    "`def accumlate(x:int, y:int) -> int:\n",
    "    return x*y`\n",
    "    \n",
    "3. 闭包中，对数字、字符串、元组等不可变元素更新\n",
    " - 这题目并不是太理解，后补。\n",
    "\n",
    "4. 对二维列表 a = [[6, 5], [3, 7], [2, 8]] 首尾元素排序，利用匿名函数。"
   ]
  },
  {
   "cell_type": "code",
   "execution_count": 58,
   "metadata": {},
   "outputs": [
    {
     "ename": "TypeError",
     "evalue": "<lambda>() missing 1 required positional argument: 'x'",
     "output_type": "error",
     "traceback": [
      "\u001b[1;31m---------------------------------------------------------------------------\u001b[0m",
      "\u001b[1;31mTypeError\u001b[0m                                 Traceback (most recent call last)",
      "\u001b[1;32m<ipython-input-58-1e56440f1735>\u001b[0m in \u001b[0;36m<module>\u001b[1;34m\u001b[0m\n\u001b[0;32m      1\u001b[0m \u001b[1;31m#4\u001b[0m\u001b[1;33m\u001b[0m\u001b[1;33m\u001b[0m\u001b[1;33m\u001b[0m\u001b[0m\n\u001b[0;32m      2\u001b[0m \u001b[0ma\u001b[0m \u001b[1;33m=\u001b[0m \u001b[1;33m[\u001b[0m\u001b[1;33m[\u001b[0m\u001b[1;36m6\u001b[0m\u001b[1;33m,\u001b[0m\u001b[1;36m5\u001b[0m\u001b[1;33m]\u001b[0m\u001b[1;33m,\u001b[0m\u001b[1;33m[\u001b[0m\u001b[1;36m3\u001b[0m\u001b[1;33m,\u001b[0m\u001b[1;36m7\u001b[0m\u001b[1;33m]\u001b[0m\u001b[1;33m,\u001b[0m\u001b[1;33m[\u001b[0m\u001b[1;36m2\u001b[0m\u001b[1;33m,\u001b[0m\u001b[1;36m8\u001b[0m\u001b[1;33m]\u001b[0m\u001b[1;33m]\u001b[0m\u001b[1;33m\u001b[0m\u001b[1;33m\u001b[0m\u001b[0m\n\u001b[1;32m----> 3\u001b[1;33m \u001b[0ma\u001b[0m\u001b[1;33m.\u001b[0m\u001b[0msort\u001b[0m\u001b[1;33m(\u001b[0m\u001b[0mkey\u001b[0m \u001b[1;33m=\u001b[0m \u001b[1;32mlambda\u001b[0m \u001b[0mvalue\u001b[0m\u001b[1;33m,\u001b[0m\u001b[0mx\u001b[0m \u001b[1;33m:\u001b[0m\u001b[0mvalue\u001b[0m \u001b[1;32min\u001b[0m \u001b[0ma\u001b[0m\u001b[1;33m[\u001b[0m\u001b[0mx\u001b[0m\u001b[1;33m]\u001b[0m\u001b[1;33m[\u001b[0m\u001b[1;36m0\u001b[0m\u001b[1;33m]\u001b[0m \u001b[1;32mand\u001b[0m \u001b[0mx\u001b[0m \u001b[1;32min\u001b[0m \u001b[0mrange\u001b[0m\u001b[1;33m(\u001b[0m\u001b[1;36m3\u001b[0m\u001b[1;33m)\u001b[0m\u001b[1;33m)\u001b[0m\u001b[1;33m\u001b[0m\u001b[1;33m\u001b[0m\u001b[0m\n\u001b[0m",
      "\u001b[1;31mTypeError\u001b[0m: <lambda>() missing 1 required positional argument: 'x'"
     ]
    }
   ],
   "source": [
    "#4\n",
    "a = [[6,5],[3,7],[2,8]]\n",
    "a.sort(key = lambda value,x :value in a[x][0] and x in range(3))"
   ]
  },
  {
   "cell_type": "markdown",
   "metadata": {},
   "source": [
    "### 参考资料\n",
    "https://blog.csdn.net/mieleizhi0522/article/details/82142856/\n",
    "\n",
    "https://blog.csdn.net/blwinner/article/details/81944142\n",
    "\n",
    "https://blog.csdn.net/qq_44774398/article/details/99425592\n",
    "\n",
    "https://www.cnblogs.com/blueteer/p/10232594.html\n",
    "\n",
    "https://blog.csdn.net/weixin_44141532/article/details/87116038\n",
    "\n",
    "https://www.cnblogs.com/shenjianping/p/11647473.html\n",
    "\n",
    "https://blog.csdn.net/qq_42897012/article/details/93491927"
   ]
  }
 ],
 "metadata": {
  "kernelspec": {
   "display_name": "Python 3",
   "language": "python",
   "name": "python3"
  },
  "language_info": {
   "codemirror_mode": {
    "name": "ipython",
    "version": 3
   },
   "file_extension": ".py",
   "mimetype": "text/x-python",
   "name": "python",
   "nbconvert_exporter": "python",
   "pygments_lexer": "ipython3",
   "version": "3.7.3"
  }
 },
 "nbformat": 4,
 "nbformat_minor": 4
}
