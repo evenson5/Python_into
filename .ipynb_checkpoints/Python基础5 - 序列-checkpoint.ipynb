{
 "cells": [
  {
   "cell_type": "code",
   "execution_count": 2,
   "metadata": {},
   "outputs": [],
   "source": [
    "from IPython.core.interactiveshell import InteractiveShell\n",
    "InteractiveShell.ast_node_interactivity = \"all\" "
   ]
  },
  {
   "cell_type": "markdown",
   "metadata": {},
   "source": [
    "## 序列\n",
    " - 在 Python 中，序列类型包括字符串、列表、元组、集合和字典，这些序列支持一些通用的操作，但比较特殊的是，集合和字典不支持索引、切片、相加和相乘操作。"
   ]
  },
  {
   "cell_type": "markdown",
   "metadata": {},
   "source": [
    "### 常见的内置函数\n",
    "`list(sub)`把一个可迭代对象转换为列表。\n",
    "\n",
    "`tuple(sub)` 把一个可迭代对象转换为元组。\n",
    "\n",
    "`str(obj)`把obj对象转换为字符串\n",
    "\n",
    "`len(s)` 返回对象（字符、列表、元组等）长度或元素个数。\n",
    " - s -- 对象。\n",
    "\n",
    "`max(sub)`返回序列或者参数集合中的最大值\n",
    "\n",
    "`min(sub)`返回序列或参数集合中的最小值\n",
    "\n",
    "`sum(iterable[, start=0])` 返回序列iterable与可选参数start的总和。"
   ]
  },
  {
   "cell_type": "code",
   "execution_count": 2,
   "metadata": {},
   "outputs": [
    {
     "data": {
      "text/plain": [
       "15"
      ]
     },
     "execution_count": 2,
     "metadata": {},
     "output_type": "execute_result"
    }
   ],
   "source": [
    "#上述函数基础4-5均有案例，此处不再举例，添加一个sum函数应用\n",
    "sum((1,1,1,1,1),10)"
   ]
  },
  {
   "cell_type": "markdown",
   "metadata": {},
   "source": [
    "### 排序的sort和sorted，以及reversed\n",
    "在列表的章节以经详解区别并举例，此处请参考4-列表，补一sorted案例："
   ]
  },
  {
   "cell_type": "code",
   "execution_count": 3,
   "metadata": {},
   "outputs": [
    {
     "name": "stdout",
     "output_type": "stream",
     "text": [
      "[{'age': 10, 'name': 'c'}, {'age': 20, 'name': 'a'}, {'age': 25, 'name': 'b'}]\n"
     ]
    }
   ],
   "source": [
    "t = ({\"age\": 20, \"name\": \"a\"}, {\"age\": 25, \"name\": \"b\"}, {\"age\": 10, \"name\": \"c\"})\n",
    "x = sorted(t, key=lambda a: a[\"age\"])#进行比较的参数key选用'age'的value，并默认升序排序\n",
    "print(x)"
   ]
  },
  {
   "cell_type": "markdown",
   "metadata": {},
   "source": [
    "`enumerate()`函数在基础4 - 列表中有详解\n",
    "\n",
    "`zip(iter1 [,iter2 [...]])`同上"
   ]
  },
  {
   "cell_type": "markdown",
   "metadata": {},
   "source": [
    "### 练习题：\n",
    "1. 怎么找出序列中的最⼤、⼩值？\n",
    "2. sort() 和 sorted() 区别\n",
    "3. 怎么快速求 1 到 100 所有整数相加之和？\n",
    "4. 求列表 [2,3,4,5] 中每个元素的立方根。\n",
    "5. 将[‘x’,‘y’,‘z’] 和 [1,2,3] 转成 [(‘x’,1),(‘y’,2),(‘z’,3)] 的形式。"
   ]
  },
  {
   "cell_type": "code",
   "execution_count": 3,
   "metadata": {},
   "outputs": [
    {
     "data": {
      "text/plain": [
       "'1'"
      ]
     },
     "execution_count": 3,
     "metadata": {},
     "output_type": "execute_result"
    },
    {
     "data": {
      "text/plain": [
       "'应用max()和min()函数，可返回序列或者参数集合中的最值'"
      ]
     },
     "execution_count": 3,
     "metadata": {},
     "output_type": "execute_result"
    },
    {
     "data": {
      "text/plain": [
       "'2'"
      ]
     },
     "execution_count": 3,
     "metadata": {},
     "output_type": "execute_result"
    },
    {
     "data": {
      "text/plain": [
       "'sort函数是内部进行排序，返回原序列即已排序，sorted是新序列'"
      ]
     },
     "execution_count": 3,
     "metadata": {},
     "output_type": "execute_result"
    },
    {
     "data": {
      "text/plain": [
       "'3'"
      ]
     },
     "execution_count": 3,
     "metadata": {},
     "output_type": "execute_result"
    },
    {
     "data": {
      "text/plain": [
       "5050"
      ]
     },
     "execution_count": 3,
     "metadata": {},
     "output_type": "execute_result"
    },
    {
     "data": {
      "text/plain": [
       "'4'"
      ]
     },
     "execution_count": 3,
     "metadata": {},
     "output_type": "execute_result"
    },
    {
     "data": {
      "text/plain": [
       "[1.2599210498948732,\n",
       " 1.4422495703074083,\n",
       " 1.5874010519681994,\n",
       " 1.7099759466766968]"
      ]
     },
     "execution_count": 3,
     "metadata": {},
     "output_type": "execute_result"
    },
    {
     "data": {
      "text/plain": [
       "'5'"
      ]
     },
     "execution_count": 3,
     "metadata": {},
     "output_type": "execute_result"
    },
    {
     "data": {
      "text/plain": [
       "'待学习更新'"
      ]
     },
     "execution_count": 3,
     "metadata": {},
     "output_type": "execute_result"
    }
   ],
   "source": [
    "'''1'''\n",
    "'''应用max()和min()函数，可返回序列或者参数集合中的最值'''\n",
    "'''2'''\n",
    "'''sort函数是内部进行排序，返回原序列即已排序，sorted是新序列'''\n",
    "'''3'''\n",
    "sum(range(101))\n",
    "'''4'''\n",
    "[item for item in map(lambda x:pow(x,1/3),[2,3,4,5])]\n",
    "'''5'''\n",
    "l1 = ['x','y','z']\n",
    "l2 = [1,2,3]\n",
    "'''待学习更新'''  "
   ]
  },
  {
   "cell_type": "markdown",
   "metadata": {},
   "source": [
    "### 错题思路\n",
    "4. 应用map函数和lambda函数\n",
    " - map函数和lambda函数联合应用：map(lambda )返回迭代器\n",
    " - lambda x:执行代码，x取值范围\n",
    "\n",
    "5. 应用zip函数可以格式对等(a,b) = zip(l1,l2)\n",
    " "
   ]
  },
  {
   "cell_type": "code",
   "execution_count": 4,
   "metadata": {},
   "outputs": [
    {
     "data": {
      "text/plain": [
       "[('x', 1), ('y', 2), ('z', 3)]"
      ]
     },
     "execution_count": 4,
     "metadata": {},
     "output_type": "execute_result"
    }
   ],
   "source": [
    "l1 = ['x','y','z']\n",
    "l2 = [1,2,3]\n",
    "[(a,b) for a,b in zip(l1,l2)]"
   ]
  },
  {
   "cell_type": "code",
   "execution_count": null,
   "metadata": {},
   "outputs": [],
   "source": []
  }
 ],
 "metadata": {
  "kernelspec": {
   "display_name": "Python 3",
   "language": "python",
   "name": "python3"
  },
  "language_info": {
   "codemirror_mode": {
    "name": "ipython",
    "version": 3
   },
   "file_extension": ".py",
   "mimetype": "text/x-python",
   "name": "python",
   "nbconvert_exporter": "python",
   "pygments_lexer": "ipython3",
   "version": "3.7.3"
  }
 },
 "nbformat": 4,
 "nbformat_minor": 4
}
