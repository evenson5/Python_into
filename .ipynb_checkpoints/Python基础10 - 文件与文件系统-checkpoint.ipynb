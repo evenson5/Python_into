{
 "cells": [
  {
   "cell_type": "markdown",
   "metadata": {},
   "source": [
    "### 打开文件\n",
    "`open(file, mode='r', buffering=None, encoding=None, errors=None, newline=None, closefd=True)`Open file and return a stream. Raise OSError upon failure.\n",
    "\n",
    " - file: 必需，文件路径（相对路径或者绝对路径）。\n",
    " - mode: 可选，文件打开模式\n",
    " - buffering: 设置缓冲\n",
    " - encoding: 一般使用utf8\n",
    " - errors: 报错级别\n",
    " - newline: 区分换行符"
   ]
  },
  {
   "cell_type": "markdown",
   "metadata": {},
   "source": [
    "#### file的选择:相对路径&绝对路径\n",
    " - 指定相对路径：相对与某个基准目录的路径，“/”表示根目录（域名映射的硬盘目录），“./”代表当前目录，“../”代表上级（父级）目录。例如`../data/data.txt`是data.txt位于当前python工作目录的父级目录中的data文件夹中。\n",
    " - 指定绝对路径：在硬盘上的真正的路径，例如`D:/python_data/data/data.txt`或者转义字符表示`D:\\\\python_data\\\\data\\\\data.txt`\n",
    " - 在路径前面加r，保持字符原始值的意思，例如`r'.\\...\\'`。"
   ]
  },
  {
   "cell_type": "markdown",
   "metadata": {},
   "source": [
    "#### `mode`的常见范围：\n",
    "\n",
    "| 打开模式     | 执行操作       | \n",
    "|:-----------:| :-------------:|\n",
    "| `r` | 以只读方式打开文件，文件的指针将会放在文件的开头，默认模式。 | \n",
    "| `w` | 打开一个文件只用于写入。若文件存在则打开从开头开始编辑，即原有内容会删除。若不存在则创建新文件。|\n",
    "| `x` | 写模式，新建一个文件，若已存在则报错。 | \n",
    "| `a` | 追加模式，打开一个文件用于追加。若文件存在，则指针放在文件结尾，新的内容被写在已有内容之后。若不存在，创建新文件进行写入。|\n",
    "| `b` |以二进制模式打开文件，一般用于非文本文件，如：图片 | \n",
    "| `t` | 以文本模式打开（默认）一般用于文本文件 |\n",
    "| `+` | 可读写模式（一般添加到其他模式中） | "
   ]
  },
  {
   "cell_type": "code",
   "execution_count": null,
   "metadata": {},
   "outputs": [],
   "source": [
    "#打开一个文件并返回文件对象，若无法打开会抛出OSError\n",
    "f = open('将进酒.txt')\n",
    "print(f)\n",
    "# <_io.TextIOWrapper name='将进酒.txt' mode='r' encoding='cp936'>\n",
    "\n",
    "for each in f:\n",
    "    print(each)\n",
    "    \n",
    "# 君不见，黄河之水天上来，奔流到海不复回。\n",
    "# 君不见，高堂明镜悲白发，朝如青丝暮成雪。\n",
    "# 人生得意须尽欢，莫使金樽空对月。\n",
    "# 天生我材必有用，千金散尽还复来。\n",
    "# 烹羊宰牛且为乐，会须一饮三百杯。\n",
    "# 岑夫子，丹丘生，将进酒，杯莫停。\n",
    "# 与君歌一曲，请君为我倾耳听。\n",
    "# 钟鼓馔玉不足贵，但愿长醉不复醒。\n",
    "# 古来圣贤皆寂寞，惟有饮者留其名。\n",
    "# 陈王昔时宴平乐，斗酒十千恣欢谑。\n",
    "# 主人何为言少钱，径须沽取对君酌。\n",
    "# 五花马，千金裘，呼儿将出换美酒，与尔同销万古愁。"
   ]
  },
  {
   "cell_type": "markdown",
   "metadata": {},
   "source": [
    "### 文件对象方法\n",
    "`fileObject.close()` 用于关闭一个已打开的文件。关闭后的文件不能再进行读写操作， 否则会触发ValueError错误。"
   ]
  },
  {
   "cell_type": "code",
   "execution_count": null,
   "metadata": {},
   "outputs": [],
   "source": [
    "f = open(\"将进酒.txt\")\n",
    "print('FileName:', f.name)  # FileName: 将进酒.txt\n",
    "f.close()"
   ]
  },
  {
   "cell_type": "markdown",
   "metadata": {},
   "source": [
    "`fileObject.read([size])` 用于从文件读取指定的字符数，如果未给定或为负则读取所有。"
   ]
  },
  {
   "cell_type": "code",
   "execution_count": null,
   "metadata": {},
   "outputs": [],
   "source": [
    "f = open('将进酒.txt', 'r')\n",
    "line = f.read(20)\n",
    "print(\"读取的字符串: %s\" % line)\n",
    "# 读取的字符串: 君不见，黄河之水天上来，奔流到海不复回。\n",
    "\n",
    "f.close()  #记得要关闭"
   ]
  },
  {
   "cell_type": "markdown",
   "metadata": {},
   "source": [
    "`fileObject.readline()`读取第一行的整行，包括 \"\\n\" 字符。\n",
    "\n",
    "`fileObject.readlines()`用于读取所有行(直到结束符 EOF)并返回列表，该列表可以由 Python 的 for... in ... 结构进行处理。"
   ]
  },
  {
   "cell_type": "code",
   "execution_count": null,
   "metadata": {},
   "outputs": [],
   "source": [
    "# readline()\n",
    "f = open('将进酒.txt', 'r')\n",
    "line = f.readline()\n",
    "print(\"读取的字符串: %s\" % line)\n",
    "# 读取的字符串: 君不见，黄河之水天上来，奔流到海不复回。\n",
    "f.close()"
   ]
  },
  {
   "cell_type": "code",
   "execution_count": null,
   "metadata": {},
   "outputs": [],
   "source": [
    "#readlines()\n",
    "f = open('将进酒.txt', 'r')\n",
    "lines = f.readlines()\n",
    "print(lines)\n",
    "\n",
    "for each in lines:\n",
    "    each.strip()     \n",
    "    print(each)\n",
    "\n",
    "# 君不见，黄河之水天上来，奔流到海不复回。\n",
    "# 君不见，高堂明镜悲白发，朝如青丝暮成雪。\n",
    "# 人生得意须尽欢，莫使金樽空对月。\n",
    "# 天生我材必有用，千金散尽还复来。\n",
    "# 烹羊宰牛且为乐，会须一饮三百杯。\n",
    "# 岑夫子，丹丘生，将进酒，杯莫停。\n",
    "# 与君歌一曲，请君为我倾耳听。\n",
    "# 钟鼓馔玉不足贵，但愿长醉不复醒。\n",
    "# 古来圣贤皆寂寞，惟有饮者留其名。\n",
    "# 陈王昔时宴平乐，斗酒十千恣欢谑。\n",
    "# 主人何为言少钱，径须沽取对君酌。\n",
    "# 五花马，千金裘，呼儿将出换美酒，与尔同销万古愁。\n",
    "\n",
    "f.close()"
   ]
  },
  {
   "cell_type": "markdown",
   "metadata": {},
   "source": [
    " `string.strip()`移除字符串头尾的字符，默认空格，换行符“\\n”，回车符“\\r”，制表符“\\t”"
   ]
  },
  {
   "cell_type": "markdown",
   "metadata": {},
   "source": [
    "`fileObject.tell()`返回文件的当前位置，即文件指针当前位置。"
   ]
  },
  {
   "cell_type": "code",
   "execution_count": null,
   "metadata": {},
   "outputs": [],
   "source": [
    "f = open('将进酒.txt', 'r')\n",
    "line = f.readline()\n",
    "print(line)\n",
    "# 君不见，黄河之水天上来，奔流到海不复回。\n",
    "pos = f.tell()\n",
    "print(pos)  # 42\n",
    "f.close()"
   ]
  },
  {
   "cell_type": "markdown",
   "metadata": {},
   "source": [
    "`fileObject.seek(offset[, whence])`用于移动文件读取指针到指定位置。\n",
    " - `offset`：开始的偏移量，也就是代表需要移动偏移的字节数，如果是负数表示从倒数第几位开始。\n",
    " - `whence`：可选，默认值为 0。给 offset 定义一个参数，表示要从哪个位置开始偏移；0 代表从文件开头开始算起，1 代表从当前位置开始算起，2 代表从文件末尾算起。"
   ]
  },
  {
   "cell_type": "code",
   "execution_count": null,
   "metadata": {},
   "outputs": [],
   "source": [
    "f = open('将进酒.txt', 'r')\n",
    "line = f.readline()\n",
    "print(line)\n",
    "# 君不见，黄河之水天上来，奔流到海不复回。\n",
    "line = f.readline()   #第二次readline指针从上一次结束的地方开始\n",
    "print(line)\n",
    "# 君不见，高堂明镜悲白发，朝如青丝暮成雪。\n",
    "f.seek(0, 0)           #文件的开头第0个字节开始\n",
    "line = f.readline()\n",
    "print(line)\n",
    "# 君不见，黄河之水天上来，奔流到海不复回。\n",
    "f.close()"
   ]
  },
  {
   "cell_type": "markdown",
   "metadata": {},
   "source": [
    "`fileObject.write(str)`用于向文件中写入指定字符串，返回的是写入的字符长度。"
   ]
  },
  {
   "cell_type": "code",
   "execution_count": 9,
   "metadata": {},
   "outputs": [
    {
     "name": "stdout",
     "output_type": "stream",
     "text": [
      "16\n",
      "10\n",
      "b'a'\n",
      "13\n",
      "b'd'\n"
     ]
    }
   ],
   "source": [
    "f = open('workfile.txt', 'wb+') #以二进制的形式读写文件\n",
    "print(f.write(b'0123456789abcdef'))  # 将后面的字符串转换成二进制，即16\n",
    "print(f.seek(10))   #指针指定第10个位置\n",
    "print(f.read(1))  # 读取第10个位置的内容即a，加上前面的b'，即b'a\n",
    "print(f.seek(-3,2))  # 从末尾数倒数第3个，即正着的第13个\n",
    "print(f.read(1))  # 当前读取，即b'd'"
   ]
  },
  {
   "cell_type": "markdown",
   "metadata": {},
   "source": [
    "**注：**\n",
    " - 在文件关闭前或缓冲区刷新前，字符串内容存储在缓冲区中，这时你在文件中是看不到写入的内容的。\n",
    "\n",
    " - 如果文件打开模式带b，那写入文件内容时，str（参数）要用encode方法转为bytes形式，否则报错：TypeError: a bytes-like object is required, not 'str'。"
   ]
  },
  {
   "cell_type": "code",
   "execution_count": null,
   "metadata": {},
   "outputs": [],
   "source": [
    "### 补充说明\n",
    "str = '...'\n",
    "# 文本 = Unicode字符序列\n",
    "# 相当于 string 类型\n",
    "\n",
    "str = b'...'\n",
    "# 文本 = 八位序列(0到255之间的整数)\n",
    "# 字节文字总是以‘b’或‘B’作为前缀；它们产生一个字节类型的实例，而不是str类型。\n",
    "# 相当于 byte[]"
   ]
  },
  {
   "cell_type": "code",
   "execution_count": null,
   "metadata": {},
   "outputs": [],
   "source": [
    "#案例补充\n",
    "f = open('将进酒.txt','r+')\n",
    "str = '\\n作者：李白'\n",
    "f.seek(0,2)\n",
    "line = f.write(str)\n",
    "f.seek(0,0)\n",
    "\n",
    "for each in f:\n",
    "    print(each)\n",
    "\n",
    "# 君不见，黄河之水天上来，奔流到海不复回。\n",
    "# 君不见，高堂明镜悲白发，朝如青丝暮成雪。\n",
    "# 人生得意须尽欢，莫使金樽空对月。\n",
    "# 天生我材必有用，千金散尽还复来。\n",
    "# 烹羊宰牛且为乐，会须一饮三百杯。\n",
    "# 岑夫子，丹丘生，将进酒，杯莫停。\n",
    "# 与君歌一曲，请君为我倾耳听。\n",
    "# 钟鼓馔玉不足贵，但愿长醉不复醒。\n",
    "# 古来圣贤皆寂寞，惟有饮者留其名。\n",
    "# 陈王昔时宴平乐，斗酒十千恣欢谑。\n",
    "# 主人何为言少钱，径须沽取对君酌。\n",
    "# 五花马，千金裘，呼儿将出换美酒，与尔同销万古愁。\n",
    "# 作者：李白\n",
    "\n",
    "f.close()"
   ]
  },
  {
   "cell_type": "markdown",
   "metadata": {},
   "source": [
    "`fileObject.writelines(sequence)`向文件写入一个序列字符串列表，如果需要换行则要自己加入每行的换行符\\n."
   ]
  },
  {
   "cell_type": "code",
   "execution_count": null,
   "metadata": {},
   "outputs": [],
   "source": [
    "f = open('test.txt', 'w+')  #读写创建文件\n",
    "seq = ['程序人生\\n', '非程序人生']\n",
    "f.writelines(seq)          #向文件输入字符串列表\n",
    "f.seek(0, 0)               #从头输入\n",
    "for each in f:             #遍历文件的每段话，以空格为一段\n",
    "    print(each)\n",
    "    \n",
    "# 程序人生\n",
    "# 非程序人生\n",
    "f.close()                #关闭文件"
   ]
  },
  {
   "cell_type": "markdown",
   "metadata": {},
   "source": [
    "### with语句\n",
    "一些对象定义了标准的清理行为，无论系统是否成功的使用了它，一旦不需要它了，那么这个标准的清理行为就会执行。\n",
    "\n",
    "关键词 with 语句就可以保证诸如文件之类的对象在使用完之后一定会正确的执行它的清理方法。"
   ]
  },
  {
   "cell_type": "code",
   "execution_count": 14,
   "metadata": {},
   "outputs": [],
   "source": [
    "##案例说明\n",
    "'''close'''\n",
    "path = 'example.txt'\n",
    "f = open(path,'w+')\n",
    "lines = [x.rstrip() for x in open(path)]\n",
    "lines\n",
    "f.close()\n",
    "\n",
    "'''with'''\n",
    "with open(path) as f:\n",
    "    lines = [x.rstrip() for x in f]"
   ]
  },
  {
   "cell_type": "markdown",
   "metadata": {},
   "source": [
    "### OS 模块中关于文件/目录常用的函数"
   ]
  },
  {
   "cell_type": "markdown",
   "metadata": {},
   "source": [
    "常用的操作系统就有：Windows，Mac OS，Linu，Unix等，这些操作系统底层对于文件系统的访问工作原理是不一样的，因此就要针对不同的系统来考虑使用哪些文件系统模块……，这样的做法是非常不友好且麻烦的，这样就意味着当你的程序运行环境一改变，就要相应的去修改大量的代码来应对。\n",
    "\n",
    "有了OS（Operation System）模块，我们不需要关心什么操作系统下使用什么模块，OS模块会帮你选择正确的模块并调用。\n",
    "\n",
    " - `os.getcwd()`用于返回当前工作目录。\n",
    " - `os.chdir(path)`用于改变当前工作目录到指定的路径。"
   ]
  },
  {
   "cell_type": "code",
   "execution_count": 15,
   "metadata": {},
   "outputs": [
    {
     "name": "stdout",
     "output_type": "stream",
     "text": [
      "当前工作目录 : C:\\Users\\MUJI\\Desktop\\Dell笔记本\\万门学习\\Data_whale\n",
      "目录修改成功 : C:\\\n"
     ]
    }
   ],
   "source": [
    "import os\n",
    "\n",
    "path = 'C:\\\\'\n",
    "print(\"当前工作目录 : %s\" % os.getcwd())\n",
    "#当前工作目录 : C:\\Users\\MUJI\\Desktop\\Dell笔记本\\万门学习\\Data_whale\n",
    "os.chdir(path)\n",
    "print(\"目录修改成功 : %s\" % os.getcwd())\n",
    "# 目录修改成功 : C:\\"
   ]
  },
  {
   "cell_type": "markdown",
   "metadata": {},
   "source": [
    "`listdir (path='.')`返回path指定的文件夹包含的文件或文件夹的名字的列表。"
   ]
  },
  {
   "cell_type": "code",
   "execution_count": 16,
   "metadata": {},
   "outputs": [
    {
     "name": "stdout",
     "output_type": "stream",
     "text": [
      "$360Section\n",
      "$Recycle.Bin\n",
      "360Safe\n",
      "360SANDBOX\n",
      "bootTel.dat\n",
      "Documents and Settings\n",
      "hiberfil.sys\n",
      "Intel\n",
      "pagefile.sys\n",
      "PerfLogs\n",
      "Program Files\n",
      "Program Files (x86)\n",
      "ProgramData\n",
      "Recovery\n",
      "swapfile.sys\n",
      "System Volume Information\n",
      "Users\n",
      "Windows\n"
     ]
    }
   ],
   "source": [
    "import os\n",
    "\n",
    "dirs = os.listdir() #返回path指定的文件夹包含的各种文件或夹的名字的列表\n",
    "for item in dirs:\n",
    "    print(item)"
   ]
  },
  {
   "cell_type": "markdown",
   "metadata": {},
   "source": [
    "`os.mkdir(path)`创建单层目录，如果该目录已存在抛出异常。\n",
    "\n",
    "`os.makedirs(path)`用于递归创建多层目录，如果该目录已存在抛出异常。"
   ]
  },
  {
   "cell_type": "code",
   "execution_count": 17,
   "metadata": {},
   "outputs": [
    {
     "ename": "FileNotFoundError",
     "evalue": "[WinError 3] 系统找不到指定的路径。: '.\\\\C\\\\A'",
     "output_type": "error",
     "traceback": [
      "\u001b[1;31m---------------------------------------------------------------------------\u001b[0m",
      "\u001b[1;31mFileNotFoundError\u001b[0m                         Traceback (most recent call last)",
      "\u001b[1;32m<ipython-input-17-beb75dcdca7e>\u001b[0m in \u001b[0;36m<module>\u001b[1;34m\u001b[0m\n\u001b[0;32m      5\u001b[0m     \u001b[0mos\u001b[0m\u001b[1;33m.\u001b[0m\u001b[0mmkdir\u001b[0m\u001b[1;33m(\u001b[0m\u001b[1;34mr'.\\B\\A'\u001b[0m\u001b[1;33m)\u001b[0m\u001b[1;33m\u001b[0m\u001b[1;33m\u001b[0m\u001b[0m\n\u001b[0;32m      6\u001b[0m \u001b[1;33m\u001b[0m\u001b[0m\n\u001b[1;32m----> 7\u001b[1;33m \u001b[0mos\u001b[0m\u001b[1;33m.\u001b[0m\u001b[0mmkdir\u001b[0m\u001b[1;33m(\u001b[0m\u001b[1;34mr'.\\C\\A'\u001b[0m\u001b[1;33m)\u001b[0m \u001b[1;31m# FileNotFoundError\u001b[0m\u001b[1;33m\u001b[0m\u001b[1;33m\u001b[0m\u001b[0m\n\u001b[0m",
      "\u001b[1;31mFileNotFoundError\u001b[0m: [WinError 3] 系统找不到指定的路径。: '.\\\\C\\\\A'"
     ]
    }
   ],
   "source": [
    "#案例说明\n",
    "import os\n",
    "\n",
    "if os.path.isdir(r'.\\b') is False:\n",
    "    os.mkdir(r'.\\B')\n",
    "    os.mkdir(r'.\\B\\A')\n",
    "\n",
    "os.mkdir(r'.\\C\\A') # FileNotFoundError"
   ]
  },
  {
   "cell_type": "code",
   "execution_count": 18,
   "metadata": {},
   "outputs": [],
   "source": [
    "#案例说明\n",
    "\n",
    "import os\n",
    "os.makedirs(r'.\\E\\A')"
   ]
  },
  {
   "cell_type": "markdown",
   "metadata": {},
   "source": [
    "`os.remove(path)`用于删除指定路径的文件,如果指定的路径是一个目录，将抛出 `OSError`.\n",
    "\n",
    "`os.rmdir(path)`用于删除单层目录。仅当这文件夹是空的才可以,否则, 抛出 `OSError`.\n",
    "\n",
    "`os.removedirs(path)`递归删除目录，从子目录到父目录逐层尝试删除，遇到目录非空则抛出异常。"
   ]
  },
  {
   "cell_type": "code",
   "execution_count": null,
   "metadata": {},
   "outputs": [],
   "source": [
    "#案例说明\n",
    "'''首先创建.\\E\\A\\text.txt文件，然后进行删除'''\n",
    "import os\n",
    "print('目录为：%s'%os.listdir(r'.\\E\\A'))\n",
    "os.remove(r'.\\E\\A\\test.txt')\n",
    "print(\"目录为：%s\"%os.listdir(r'.\\E\\A'))\n",
    "\n",
    "'''创建目录再进行删除'''\n",
    "print(\"目录为: %s\" % os.listdir(r'.\\E'))\n",
    "os.rmdir(r'.\\E\\A')\n",
    "print(\"目录为: %s\" % os.listdir(r'.\\E'))\n",
    "\n",
    "'''或者'''\n",
    "print(\"目录为: %s\" % os.listdir(os.getcwd()))\n",
    "os.removedirs(r'.\\E\\A')  # 先删除A 然后删除E\n",
    "print(\"目录为: %s\" % os.listdir(os.getcwd()))"
   ]
  },
  {
   "cell_type": "markdown",
   "metadata": {},
   "source": [
    "`os.rename(src, dst)`方法用于命名文件或目录，从 src 到 dst，如果 dst 是一个存在的目录, 将抛出` OSError`。"
   ]
  },
  {
   "cell_type": "code",
   "execution_count": null,
   "metadata": {},
   "outputs": [],
   "source": [
    "'''把test.txt文件重命名为test2.txt'''\n",
    "import os\n",
    "\n",
    "print(\"目录为: %s\" % os.listdir(os.getcwd()))\n",
    "os.rename(\"test.txt\", \"test2.txt\")\n",
    "print(\"重命名成功。\")\n",
    "print(\"目录为: %s\" % os.listdir(os.getcwd()))"
   ]
  },
  {
   "cell_type": "markdown",
   "metadata": {},
   "source": [
    "`os.system(command)`运行系统的shell命令（将字符串转化成命令）"
   ]
  },
  {
   "cell_type": "code",
   "execution_count": 20,
   "metadata": {},
   "outputs": [
    {
     "data": {
      "text/plain": [
       "0"
      ]
     },
     "execution_count": 20,
     "metadata": {},
     "output_type": "execute_result"
    }
   ],
   "source": [
    "'''先自行创建一个a.py的文件，然后由shell命令打开'''\n",
    "import os\n",
    "\n",
    "path = os.getcwd() + '\\\\a.py'       #当前目录下创建“a.py”文件\n",
    "a = os.system(r'python %s' % path)  \n",
    "\n",
    "os.system('calc')  # 打开计算器"
   ]
  },
  {
   "cell_type": "markdown",
   "metadata": {},
   "source": [
    "`os.curdir`指代当前目录（.）\n",
    "\n",
    "`os.pardir`指代上一级目录（..）\n",
    "\n",
    "`os.sep`输出操作系统特定的路径分隔符（win下为\\\\，Linux下为/）\n",
    "\n",
    "`os.linesep`当前平台使用的行终止符（win下为\\r\\n，Linux下为\\n）\n",
    "\n",
    "`os.name`指代当前使用的操作系统（包括：'mac'，'nt'）"
   ]
  },
  {
   "cell_type": "code",
   "execution_count": null,
   "metadata": {},
   "outputs": [],
   "source": [
    "import os\n",
    "\n",
    "print(os.curdir)  # .\n",
    "print(os.pardir)  # ..\n",
    "print(os.sep)  # \\\n",
    "print(os.linesep)\n",
    "print(os.name)  # nt"
   ]
  },
  {
   "cell_type": "markdown",
   "metadata": {},
   "source": [
    "- `os.path.basename(path)`去掉目录路径，单独返回文件名\n",
    "- `os.path.dirname(path)`去掉文件名，单独返回目录路径\n",
    "- `os.path.join(path1[, path2[, ...]])`将 path1，path2 各部分组合成一个路径名\n",
    "- `os.path.split(path)`分割文件名与路径，返回`(f_path,f_name)`元组。如果完全使用目录，它会将最后一个目录作为文件名分离，且不会判断文件或者目录是否存在。\n",
    "- `os.path.splitext(path)`分离文件名与扩展名，返回`(f_path,f_name)`元组。"
   ]
  },
  {
   "cell_type": "code",
   "execution_count": null,
   "metadata": {},
   "outputs": [],
   "source": [
    "import os\n",
    "\n",
    "# 返回文件名\n",
    "print(os.path.basename(r'C:\\test\\lsgo.txt'))  # lsgo.txt\n",
    "# 返回目录路径\n",
    "print(os.path.dirname(r'C:\\test\\lsgo.txt'))  # C:\\test\n",
    "# 将目录和文件名合成一个路径\n",
    "print(os.path.join('C:\\\\', 'test', 'lsgo.txt'))  # C:\\test\\lsgo.txt\n",
    "# 分割文件名与路径\n",
    "print(os.path.split(r'C:\\test\\lsgo.txt'))  # ('C:\\\\test', 'lsgo.txt')\n",
    "# 分离文件名与扩展名\n",
    "print(os.path.splitext(r'C:\\test\\lsgo.txt'))  # ('C:\\\\test\\\\lsgo', '.txt')"
   ]
  },
  {
   "cell_type": "markdown",
   "metadata": {},
   "source": [
    " - `os.path.getsize(file)`返回指定文件大小，单位是字节。\n",
    " - `os.path.getatime(file)`返回指定文件最近的访问时间\n",
    " - `os.path.getctime(file)`返回指定文件的创建时间\n",
    " - `os.path.getmtime(file)`返回指定文件的最新的修改时间\n",
    " - `浮点型秒数，可用time模块的`gmtime()`或`localtime()`函数换算"
   ]
  },
  {
   "cell_type": "code",
   "execution_count": null,
   "metadata": {},
   "outputs": [],
   "source": [
    "mport os\n",
    "import time\n",
    "\n",
    "file = r'.\\lsgo.txt'\n",
    "print(os.path.getsize(file))  # 30\n",
    "print(os.path.getatime(file))  # 1565593737.347196\n",
    "print(os.path.getctime(file))  # 1565593737.347196\n",
    "print(os.path.getmtime(file))  # 1565593797.9298275\n",
    "print(time.gmtime(os.path.getctime(file)))\n",
    "# time.struct_time(tm_year=2019, tm_mon=8, tm_mday=12, tm_hour=7, tm_min=8, tm_sec=57, tm_wday=0, tm_yday=224, tm_isdst=0)\n",
    "print(time.localtime(os.path.getctime(file)))\n",
    "# time.struct_time(tm_year=2019, tm_mon=8, tm_mday=12, tm_hour=15, tm_min=8, tm_sec=57, tm_wday=0, tm_yday=224, tm_isdst=0)"
   ]
  },
  {
   "cell_type": "markdown",
   "metadata": {},
   "source": [
    " - `os.path.exists(path)`判断指定路径（目录或文件）是否存在\n",
    " - `os.path.isabs(path)`判断指定路径是否为绝对路径\n",
    " - `os.path.isdir(path)`判断指定路径是否存在且是一个目录\n",
    " - `os.path.isfile(path)`判断指定路径是否存在且是一个文件\n",
    " - `os.path.islink(path)`判断指定路径是否存在且是一个符号链接\n",
    " - `os.path.ismount(path)`判断指定路径是否存在且是一个悬挂点\n",
    " - `os.path.samefile(path1,path2)`判断path1和path2两个路径是否指向同一个文件"
   ]
  },
  {
   "cell_type": "code",
   "execution_count": null,
   "metadata": {},
   "outputs": [],
   "source": [
    "import os\n",
    "\n",
    "print(os.path.ismount('D:\\\\'))  # True\n",
    "print(os.path.ismount('D:\\\\Test'))  # False"
   ]
  },
  {
   "cell_type": "markdown",
   "metadata": {},
   "source": [
    "### 序列化与反序列化\n",
    "pickle模块实现了基本的数据序列和反序列化。\n",
    " - 通过 pickle 模块的序列化操作我们能够将程序中运行的对象信息保存到文件中去，永久存储。\n",
    " - 通过 pickle 模块的反序列化操作，我们能够从文件中创建上一次程序保存的对象。"
   ]
  },
  {
   "cell_type": "markdown",
   "metadata": {},
   "source": [
    "pickle模块中最常用的函数为：\n",
    "`pickle.dump(obj, file, [,protocol])` 将obj对象序列化存入已经打开的file中。\n",
    " - obj：想要序列化的obj对象\n",
    " - file:文件名称\n",
    " - protocol：序列化使用的协议。如果该项省略，则默认为0。如果为负值或HIGHEST_PROTOCOL，则使用最高的协议版本。\n",
    "\n",
    "`pickle.load(file)` 将file中的对象序列化读出。"
   ]
  },
  {
   "cell_type": "code",
   "execution_count": 29,
   "metadata": {
    "scrolled": false
   },
   "outputs": [
    {
     "ename": "PermissionError",
     "evalue": "[Errno 13] Permission denied: '.\\\\datawhale.txt'",
     "output_type": "error",
     "traceback": [
      "\u001b[1;31m---------------------------------------------------------------------------\u001b[0m",
      "\u001b[1;31mPermissionError\u001b[0m                           Traceback (most recent call last)",
      "\u001b[1;32m<ipython-input-29-e96a0bf36b7a>\u001b[0m in \u001b[0;36m<module>\u001b[1;34m\u001b[0m\n\u001b[0;32m     10\u001b[0m \u001b[1;33m\u001b[0m\u001b[0m\n\u001b[0;32m     11\u001b[0m \u001b[1;31m#dump()将数据序列化到文件中\u001b[0m\u001b[1;33m\u001b[0m\u001b[1;33m\u001b[0m\u001b[1;33m\u001b[0m\u001b[0m\n\u001b[1;32m---> 12\u001b[1;33m \u001b[0mfw\u001b[0m \u001b[1;33m=\u001b[0m \u001b[0mopen\u001b[0m\u001b[1;33m(\u001b[0m\u001b[1;34mr'.\\datawhale.txt'\u001b[0m\u001b[1;33m,\u001b[0m\u001b[1;34m'wb'\u001b[0m\u001b[1;33m)\u001b[0m\u001b[1;33m\u001b[0m\u001b[1;33m\u001b[0m\u001b[0m\n\u001b[0m\u001b[0;32m     13\u001b[0m \u001b[1;33m\u001b[0m\u001b[0m\n\u001b[0;32m     14\u001b[0m \u001b[1;31m#pickle the list using the highest protocol available\u001b[0m\u001b[1;33m\u001b[0m\u001b[1;33m\u001b[0m\u001b[1;33m\u001b[0m\u001b[0m\n",
      "\u001b[1;31mPermissionError\u001b[0m: [Errno 13] Permission denied: '.\\\\datawhale.txt'"
     ]
    }
   ],
   "source": [
    "import pickle\n",
    "datalist = [[1,1,'yes'],\n",
    "           [1,1,'yes'],\n",
    "           [1,0,'no'],\n",
    "           [0,1,'no'],\n",
    "           [0,1,'no']]\n",
    "dataDic = {0:[1,2,3,4],\n",
    "          1:('a','b'),\n",
    "          2:{'c':'yes','d':'no'}}\n",
    "\n",
    "#dump()将数据序列化到文件中\n",
    "fw = open(r'.\\datawhale.txt','wb')\n",
    "\n",
    "#pickle the list using the highest protocol available\n",
    "pickle.dump(dataList,fw,-1)\n",
    "\n",
    "# Pickle dictionary using protocol 0.\n",
    "pickle.dump(dataDic, fw)\n",
    "fw.close()\n",
    "\n",
    "# 使用load()将数据从文件中序列化读出\n",
    "fr = open('dataFile.pkl', 'rb')\n",
    "data1 = pickle.load(fr)\n",
    "print(data1)\n",
    "data2 = pickle.load(fr)\n",
    "print(data2)\n",
    "fr.close()"
   ]
  },
  {
   "cell_type": "markdown",
   "metadata": {},
   "source": [
    "### 练习题：\n",
    "\n",
    "1. 打开中文字符的文档时，会出现乱码，Python自带的打开文件是否可以指定文字编码？还是只能用相关函数？\n",
    "\n",
    "2. 编写程序查找最长的单词\n",
    "\n",
    "输入文档: res/test.txt"
   ]
  },
  {
   "cell_type": "markdown",
   "metadata": {},
   "source": [
    "**第1题**\n",
    "\n",
    "可以应用`open(file, mode='r', buffering=None,encoding=None,newline=None, closefd=True)`函数来打开乱码的文档，其中`encoding`可以设置对应的编码模式，默认`utf-8`，可以设置多种格式，例如记事本编写的文本保存的`ANSI`."
   ]
  },
  {
   "cell_type": "markdown",
   "metadata": {},
   "source": [
    "**第2题思路**\n",
    " - 读取文档：首先读取文件并关闭是必要的操作，可以应用`open()`函数和`with()`函数。\n",
    " - 切割内容：常用的切割文本函数有整行读取切割，按照符号切割每段。这里选择后者，默认文档是不规则的内容编辑。\n",
    "  - 头尾去除字符：`strip()`\n",
    "  - 按照分隔符切割：`split()`\n",
    "  - 组合内容：对换行的切割后组合` .join()`\n",
    " - 对内容进行长度排序：切割完以后的内容进行排序判断元素的长短，可以根据每个切割后的元素长短进行排序，最长的（不止一个）进行输出。"
   ]
  },
  {
   "cell_type": "code",
   "execution_count": 34,
   "metadata": {},
   "outputs": [
    {
     "ename": "FileNotFoundError",
     "evalue": "[Errno 2] No such file or directory: 'workfile1.txt'",
     "output_type": "error",
     "traceback": [
      "\u001b[1;31m---------------------------------------------------------------------------\u001b[0m",
      "\u001b[1;31mFileNotFoundError\u001b[0m                         Traceback (most recent call last)",
      "\u001b[1;32m<ipython-input-34-c7159224132c>\u001b[0m in \u001b[0;36m<module>\u001b[1;34m\u001b[0m\n\u001b[0;32m      8\u001b[0m         \u001b[1;32mreturn\u001b[0m \u001b[0mlongest\u001b[0m\u001b[1;33m\u001b[0m\u001b[1;33m\u001b[0m\u001b[0m\n\u001b[0;32m      9\u001b[0m \u001b[1;33m\u001b[0m\u001b[0m\n\u001b[1;32m---> 10\u001b[1;33m \u001b[0mlongest_word\u001b[0m\u001b[1;33m(\u001b[0m\u001b[1;34m'workfile1.txt'\u001b[0m\u001b[1;33m)\u001b[0m\u001b[1;33m\u001b[0m\u001b[1;33m\u001b[0m\u001b[0m\n\u001b[0m",
      "\u001b[1;32m<ipython-input-34-c7159224132c>\u001b[0m in \u001b[0;36mlongest_word\u001b[1;34m(filename)\u001b[0m\n\u001b[0;32m      1\u001b[0m \u001b[1;31m#2\u001b[0m\u001b[1;33m\u001b[0m\u001b[1;33m\u001b[0m\u001b[1;33m\u001b[0m\u001b[0m\n\u001b[0;32m      2\u001b[0m \u001b[1;32mdef\u001b[0m \u001b[0mlongest_word\u001b[0m\u001b[1;33m(\u001b[0m\u001b[0mfilename\u001b[0m\u001b[1;33m)\u001b[0m\u001b[1;33m:\u001b[0m\u001b[1;33m\u001b[0m\u001b[1;33m\u001b[0m\u001b[0m\n\u001b[1;32m----> 3\u001b[1;33m     \u001b[1;32mwith\u001b[0m \u001b[0mopen\u001b[0m\u001b[1;33m(\u001b[0m\u001b[0mfilename\u001b[0m\u001b[1;33m,\u001b[0m\u001b[0mmode\u001b[0m\u001b[1;33m=\u001b[0m\u001b[1;34m'r'\u001b[0m\u001b[1;33m,\u001b[0m\u001b[0mencoding\u001b[0m\u001b[1;33m=\u001b[0m\u001b[1;34m'utf-8'\u001b[0m\u001b[1;33m)\u001b[0m \u001b[1;32mas\u001b[0m \u001b[0mdf\u001b[0m\u001b[1;33m:\u001b[0m\u001b[1;33m\u001b[0m\u001b[1;33m\u001b[0m\u001b[0m\n\u001b[0m\u001b[0;32m      4\u001b[0m         \u001b[0mdata\u001b[0m \u001b[1;33m=\u001b[0m \u001b[0mdf\u001b[0m\u001b[1;33m.\u001b[0m\u001b[0mstrip\u001b[0m\u001b[1;33m(\u001b[0m\u001b[1;33m)\u001b[0m\u001b[1;33m.\u001b[0m\u001b[0msplit\u001b[0m\u001b[1;33m(\u001b[0m\u001b[1;34m'\\n'\u001b[0m\u001b[1;33m)\u001b[0m\u001b[1;33m\u001b[0m\u001b[1;33m\u001b[0m\u001b[0m\n\u001b[0;32m      5\u001b[0m         \u001b[0mdata\u001b[0m \u001b[1;33m=\u001b[0m \u001b[1;34m' '\u001b[0m\u001b[1;33m.\u001b[0m\u001b[0mjoin\u001b[0m\u001b[1;33m(\u001b[0m\u001b[0mdata\u001b[0m\u001b[1;33m)\u001b[0m\u001b[1;33m.\u001b[0m\u001b[0msplit\u001b[0m\u001b[1;33m(\u001b[0m\u001b[1;34m' '\u001b[0m\u001b[1;33m)\u001b[0m\u001b[1;33m\u001b[0m\u001b[1;33m\u001b[0m\u001b[0m\n",
      "\u001b[1;31mFileNotFoundError\u001b[0m: [Errno 2] No such file or directory: 'workfile1.txt'"
     ]
    }
   ],
   "source": [
    "#2\n",
    "def longest_word(filename):\n",
    "    with open(filename,mode='r',encoding='utf-8') as df:\n",
    "        data = df.read().strip().split('\\n')\n",
    "    data = ' '.join(data).split(' ')\n",
    "    data.sort(key = lambda x : len(x))\n",
    "    longest = [i for i in data if len(i) == len(data[-1])]\n",
    "    return longest\n",
    "\n",
    "longest_word('workfile1.txt')"
   ]
  },
  {
   "cell_type": "markdown",
   "metadata": {},
   "source": [
    "### 参考文献\n",
    "https://www.cnblogs.com/littlefive/p/10235837.html\n",
    "\n",
    "https://blog.csdn.net/cnmilan/article/details/7700317\n",
    "\n",
    "https://www.cnblogs.com/fanqiusha1988/p/13368256.html?utm_source=tuicool\n",
    "\n",
    "https://blog.csdn.net/shuiyixin/article/details/90370387"
   ]
  }
 ],
 "metadata": {
  "kernelspec": {
   "display_name": "Python 3",
   "language": "python",
   "name": "python3"
  },
  "language_info": {
   "codemirror_mode": {
    "name": "ipython",
    "version": 3
   },
   "file_extension": ".py",
   "mimetype": "text/x-python",
   "name": "python",
   "nbconvert_exporter": "python",
   "pygments_lexer": "ipython3",
   "version": "3.7.3"
  }
 },
 "nbformat": 4,
 "nbformat_minor": 4
}
