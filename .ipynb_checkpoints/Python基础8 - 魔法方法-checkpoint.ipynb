{
 "cells": [
  {
   "cell_type": "code",
   "execution_count": 29,
   "metadata": {},
   "outputs": [],
   "source": [
    "from IPython.core.interactiveshell import InteractiveShell\n",
    "InteractiveShell.ast_node_Interactivity = \"all\""
   ]
  },
  {
   "cell_type": "markdown",
   "metadata": {},
   "source": [
    "### 参考文献：\n",
    "https://www.liaoxuefeng.com/wiki/1016959663602400/1017323698112640\n",
    "\n",
    "https://www.zhihu.com/question/46973549/answer/767530541\n",
    "\n",
    "https://zhuanlan.zhihu.com/p/141212114\n",
    "\n",
    "https://www.cnblogs.com/qunxiadexiaoxiangjiao/p/8330718.html\n",
    "\n",
    "https://www.cnblogs.com/gcgc/p/11585444.html\n",
    "\n",
    "https://www.cnblogs.com/hmw112626/p/9812675.html\n",
    "\n",
    "https://www.runoob.com/python/python-func-getattr.html\n",
    "\n",
    "https://www.cnblogs.com/fierydragon/p/12910281.html\n",
    "\n",
    "https://www.cnblogs.com/pachongshangdexuebi/p/4729341.html"
   ]
  },
  {
   "cell_type": "markdown",
   "metadata": {},
   "source": [
    "## 魔法方法\n",
    " - 魔法方法总是*被下划线*包围，例如`__init__`,是面向对象的Python的一切。\n",
    " - “魔力”在于它们总能在适当的时候被自动调用，也可以定义自己想要的行为，均自动发生。\n",
    " - 两个参数：第一个参数为`cls`（类方法）或者`self`（实例方法）。\n",
    "  - `cls`:代表一个类的名称。\n",
    "  - `self`:代表一个实例对象的名称。\n",
    " - 认识它可以真正开始意识到面向对象的Python的强大，然后随之而来的是责任，了解其正确的方法非常重要。"
   ]
  },
  {
   "cell_type": "markdown",
   "metadata": {},
   "source": [
    "### 1.基本魔法方法："
   ]
  },
  {
   "cell_type": "markdown",
   "metadata": {},
   "source": [
    "`__init__(self[,...])`构造器，当一个实例被创建的时候调用的初始方法。\n",
    " - 新建的实力本身连带其中的参数，会一并传给`__init__`函数并自动执行它，所以函数的参数列表在开头多出一项（命名为`self`），永远指代新建的那个实例对象。\n",
    " - `__init__`不允许有返回值，如果其过于复杂需要提前结束，可以使用**单独的`return`就好，不带返回值。**"
   ]
  },
  {
   "cell_type": "code",
   "execution_count": 37,
   "metadata": {},
   "outputs": [
    {
     "name": "stdout",
     "output_type": "stream",
     "text": [
      "18\n",
      "20\n"
     ]
    }
   ],
   "source": [
    "#案例说明\n",
    "class Rectangle:\n",
    "    def __init__(self,x,y):\n",
    "        self.x = x\n",
    "        self.y = y\n",
    "    \n",
    "    def getPeri(self):\n",
    "        return(self.x + self.y) * 2\n",
    "    \n",
    "    def getArea(self):\n",
    "        return(self.x * self.y)\n",
    "\n",
    "rect = Rectangle(4,5)\n",
    "print(rect.getPeri())\n",
    "print(rect.getArea())"
   ]
  },
  {
   "cell_type": "markdown",
   "metadata": {},
   "source": [
    "`__new__(cls[,...])`在一个对象实例化的时候所调用的第一个方法，调用`__init__`初始化前，先调用`__new__`.\n",
    " - 其第一个参数`cls`代表实例化的类，此参数在实例化时由Python解释器自动提供，其他的参数是用来直接传递给`__init__`方法。\n",
    " - `__new__`决定是否使用`__init__`方法，因为`__new__`可以调用其他类的构造方法或直接返回别的实例化对象作为本类的实例化。若`__new__`没有返回实例对象，则`__init__`不会被调用。\n",
    " - `__new__`主要是用于继承一个不可变得类型，不如一个`tuple`或`string`。"
   ]
  },
  {
   "cell_type": "code",
   "execution_count": 38,
   "metadata": {},
   "outputs": [
    {
     "name": "stdout",
     "output_type": "stream",
     "text": [
      "info B __new__\n",
      "<class '__main__.B'>\n",
      "info A __new__\n",
      "<class '__main__.B'>\n",
      "info B __init__\n"
     ]
    }
   ],
   "source": [
    "#案例说明1\n",
    "class A(object):\n",
    "    def __init__(self,value):\n",
    "        print(\"info A __init__\")\n",
    "        self.value = value\n",
    "        \n",
    "    def __new__(cls,*args, **kwargs):\n",
    "        print(\"info A __new__\")\n",
    "        print(cls)\n",
    "        return object.__new__(cls)\n",
    "    \n",
    "class B(A):\n",
    "    def __init__(self,value):\n",
    "        print(\"info B __init__\")\n",
    "        self.value = value\n",
    "        \n",
    "    def __new__(cls,*args,**kwargs):\n",
    "        print(\"info B __new__\")\n",
    "        print(cls)\n",
    "        return super().__new__(cls,*args,**kwargs)\n",
    "    \n",
    "\n",
    "b = B(5)"
   ]
  },
  {
   "cell_type": "code",
   "execution_count": 39,
   "metadata": {},
   "outputs": [
    {
     "name": "stdout",
     "output_type": "stream",
     "text": [
      "info B __new__\n",
      "<class '__main__.B'>\n",
      "info A __new__\n",
      "<class '__main__.A'>\n"
     ]
    }
   ],
   "source": [
    "#案例说明2\n",
    "class A(object):\n",
    "    def __init__(self,value):\n",
    "        print(\"info A __init__\")\n",
    "        self.value = value\n",
    "        \n",
    "    def __new__(cls,*args, **kwargs):\n",
    "        print(\"info A __new__\")\n",
    "        print(cls)\n",
    "        return object.__new__(cls)\n",
    "    \n",
    "class B(A):\n",
    "    def __init__(self,value):\n",
    "        print(\"info B __init__\")\n",
    "        self.value = value\n",
    "        \n",
    "    def __new__(cls,*args,**kwargs):\n",
    "        print(\"info B __new__\")\n",
    "        print(cls)\n",
    "        return super().__new__(A,*args,**kwargs)\n",
    "        #返回的实例对象为A\n",
    "\n",
    "b = B(5)"
   ]
  },
  {
   "cell_type": "markdown",
   "metadata": {},
   "source": [
    "若`__nuew__`没有正确返回当前类`cls`的实例，那`__init__`是不会被调用的，即使是父类的实例也不行，将没有`__init__`被调用。"
   ]
  },
  {
   "cell_type": "code",
   "execution_count": 40,
   "metadata": {},
   "outputs": [
    {
     "name": "stdout",
     "output_type": "stream",
     "text": [
      "2327712502952\n",
      "2327712502112\n"
     ]
    }
   ],
   "source": [
    "#`__nuew__`实现单例模式\n",
    "class Earth:\n",
    "    pass\n",
    "\n",
    "a = Earth()\n",
    "print(id(a))\n",
    "b= Earth()\n",
    "print(id(b))"
   ]
  },
  {
   "cell_type": "code",
   "execution_count": 41,
   "metadata": {},
   "outputs": [
    {
     "name": "stdout",
     "output_type": "stream",
     "text": [
      "2327712341912\n",
      "2327712341912\n"
     ]
    }
   ],
   "source": [
    "#一个类只有一个实例：定义一个类属性做判断\n",
    "class Earth:\n",
    "    __instance = None  # 定义一个类属性做判断\n",
    "\n",
    "    def __new__(cls):\n",
    "        if cls.__instance is None:  #如果instance为空则说明是第一次创建实例\n",
    "            cls.__instance = object.__new__(cls)\n",
    "            #调用父类的__new__(cls)创建实例，并赋予类变量instance，此时的该变量从None变为实例\n",
    "            return cls.__instance  #返回实例对象\n",
    "        else:\n",
    "            return cls.__instance  #返回上一个对象的引用\n",
    "        \n",
    "a = Earth()\n",
    "print(id(a))\n",
    "b = Earth()\n",
    "print(id(b))"
   ]
  },
  {
   "cell_type": "markdown",
   "metadata": {},
   "source": [
    "**`__new__`方法主要是当继承一些不可变得class时，例如`int,str,tuple`，提供一个自定义这些类的实例化过程的途径。**"
   ]
  },
  {
   "cell_type": "code",
   "execution_count": 42,
   "metadata": {},
   "outputs": [
    {
     "name": "stdout",
     "output_type": "stream",
     "text": [
      "I LOVE PYTHON.\n"
     ]
    }
   ],
   "source": [
    "#案例说明\n",
    "class CapStr(str):\n",
    "    def __new__(cls,string):\n",
    "        string = string.upper()\n",
    "        return str.__new__(cls,string)\n",
    "    \n",
    "a = CapStr(\"i love python.\")\n",
    "print(a)"
   ]
  },
  {
   "cell_type": "markdown",
   "metadata": {},
   "source": [
    "`__del__(self)` 析构器，当一个对象将要被系统回收之时调用的方法。\n",
    " - 创建对象后，python解释器默认调用`__init__`方法\n",
    " - 删除对象时，python解释器也会默认调用一个方法，即`__del__()`\n",
    " \n",
    ">Python 采用自动引用计数（ARC）方式来回收对象所占用的空间，当程序中有一个变量引用该 Python 对象时，Python 会自动保证该对象引用计数为 1；当程序中有两个变量引用该 Python 对象时，Python 会自动保证该对象引用计数为 2，依此类推，如果一个对象的引用计数变成了 0，则说明程序中不再有变量引用该对象，表明程序不再需要该对象，因此 Python 就会回收该对象。\n",
    "\n",
    ">大部分时候，Python 的 ARC 都能准确、高效地回收系统中的每个对象。但如果系统中出现循环引用的情况，比如对象 a 持有一个实例变量引用对象 b，而对象 b 又持有一个实例变量引用对象 a，此时两个对象的引用计数都是 1，而实际上程序已经不再有变量引用它们，系统应该回收它们，此时 Python 的垃圾回收器就可能没那么快，要等专门的循环垃圾回收器（Cyclic Garbage Collector）来检测并回收这种引用循环。"
   ]
  },
  {
   "cell_type": "code",
   "execution_count": 43,
   "metadata": {},
   "outputs": [
    {
     "name": "stdout",
     "output_type": "stream",
     "text": [
      "into C __init__\n",
      "into C__del__\n"
     ]
    }
   ],
   "source": [
    "# 案例说明\n",
    "class C(object):\n",
    "    def __init__(self):\n",
    "        print('into C __init__')\n",
    "        \n",
    "    def __del__(self):\n",
    "        print('into C__del__')\n",
    "        \n",
    "c1 = C()   # into C __init__\n",
    "\n",
    "c2 = c1\n",
    "c3 = c2\n",
    "\n",
    "del c3\n",
    "del c2\n",
    "del c1"
   ]
  },
  {
   "cell_type": "markdown",
   "metadata": {},
   "source": [
    "`__str__(self)`:\n",
    " - 当你打印一个对象的时候，触发__str__\n",
    " - 当你使用%s格式化的时候，触发__str__\n",
    " - str强转数据类型的时候，触发__str__\n",
    " \n",
    " `__repr__(self)`:\n",
    " - repr是str的备胎\n",
    " - 有`__str__`的时候执行`__str__`,没有实现`__str__`的时候，执行`__repr__`\n",
    " - `repr(obj)`内置函数对应的结果是`__repr__`的返回值\n",
    " - 当你使用%r格式化的时候 触发`__repr__`"
   ]
  },
  {
   "cell_type": "code",
   "execution_count": 44,
   "metadata": {},
   "outputs": [
    {
     "name": "stdout",
     "output_type": "stream",
     "text": [
      "名字：Tom，年龄：8\n",
      "名字：Tom，年龄：8\n",
      "Cat:(Tom,8)\n",
      "Tom在吃鱼....\n",
      "名字是:Tom, 年龄是:8\n"
     ]
    }
   ],
   "source": [
    "#案例说明\n",
    "class Cat():\n",
    "    def __init__(self,new_name, new_age):\n",
    "        self.name = new_name\n",
    "        self.age = new_age\n",
    "        \n",
    "    def __str__(self):\n",
    "        return \"名字：%s，年龄：%d\"%(self.name,self.age)\n",
    "    \n",
    "    def __repr__(self):\n",
    "        return \"Cat:(%s,%d)\" % (self.name, self.age)\n",
    "    \n",
    "    def eat(self):\n",
    "         print(\"%s在吃鱼....\" % self.name)\n",
    "            \n",
    "    def drink(self):\n",
    "        print(\"%s在喝可乐...\" % self.name)\n",
    "        \n",
    "    def introduce(self):\n",
    "        print(\"名字是:%s, 年龄是:%d\" % (self.name, self.age))\n",
    "        \n",
    "Tom = Cat('Tom',8)\n",
    "print(Tom)  #调用__str__\n",
    "print(str(Tom))\n",
    "print(repr(Tom))\n",
    "Tom.eat()\n",
    "Tom.introduce()"
   ]
  },
  {
   "cell_type": "markdown",
   "metadata": {},
   "source": [
    "### 应用区别：（例如datetime）\n",
    " - `_str__(self)` 的返回结果*可读性强*。也就是说，`__str__ `的意义是得到便于人们阅读的信息。\n",
    "\n",
    " - `__repr__(self)` 的返回结果应*更准确*。怎么说，`__repr__` 存在的目的在于调试，便于开发者使用。"
   ]
  },
  {
   "cell_type": "code",
   "execution_count": 45,
   "metadata": {},
   "outputs": [
    {
     "name": "stdout",
     "output_type": "stream",
     "text": [
      "2020-08-07\n",
      "datetime.date(2020, 8, 7)\n",
      "2020-08-07\n",
      "datetime.date(2020, 8, 7)\n"
     ]
    }
   ],
   "source": [
    "#datetime案例说明\n",
    "import datetime\n",
    "\n",
    "today = datetime.date.today()\n",
    "print(str(today))\n",
    "print(repr(today))\n",
    "\n",
    "print('%s'%today) #str()处理对象\n",
    "print('%r'%today)#repr()处理对象"
   ]
  },
  {
   "cell_type": "markdown",
   "metadata": {},
   "source": [
    "#### 其他基本方法：\n",
    "| 运算符       | 定义         | \n",
    "|:-----------:| :-------------:|\n",
    "| `__call__(self,[,args...])` | 允许一个类的实例像函数一样被调用：`x(a,b)`调用`x.__call__(a,b)` |\n",
    "| `__len__(self,other)` | 定义被`len()`调用时的行为 |\n",
    "| `__bytes__(self,other)` | 定义被`bytes()`调用时的行为  |\n",
    "| `__hash__(self,other)` | 定义被`hash()`调用时的行为  |\n",
    "| `__bool__(self,other)` | 定义被`bool()`调用时的行为  |\n",
    "| `__format__(self,other)` | 定义被`format()`调用时行为  |"
   ]
  },
  {
   "cell_type": "code",
   "execution_count": 46,
   "metadata": {},
   "outputs": [
    {
     "name": "stdout",
     "output_type": "stream",
     "text": [
      "__call__called,print x: 123\n"
     ]
    }
   ],
   "source": [
    "#案例说明\n",
    "class A(object):\n",
    "    def __call__(self,x):\n",
    "        print('__call__called,print x:',x)\n",
    "        \n",
    "        \n",
    "a = A()\n",
    "a('123') #a实际就是类对象A的实例对象，实例对象能像函数一样传参并被调用就是__call__()方法的功能"
   ]
  },
  {
   "cell_type": "markdown",
   "metadata": {},
   "source": [
    "### 2.有关属性：\n",
    "| 运算符       | 定义         | \n",
    "|:-----------:| :-------------:|\n",
    "| `__getattr__(object,mame[,default])` | 定义当用户试图获取一个不存在的属性时,赋予`default` |\n",
    "| `__getattribute__(self,other)` | 定义当该类的属性被访问时的行为（先调用，查看是否存在该属性，若不存在，则去调用`__getattr__`） |\n",
    "| `__setattr__(self,other)` | 定义当一个属性被设置时时的行为  |\n",
    "| `__delattr__(self,other)` | 定义当一个属性被删除时的行为  |\n",
    "| `__dir__(self,other)` | 定义当`dir()`被调用时的行为  |\n",
    "| `__get__(self,instance,owner)` | 定义当描述符的值被取得时的行为  |\n",
    "| `__set__(self,instance,value)` | 定义当描述符的值被改变时的行为  |\n",
    "| `__delete__(self,instance)` | 定义当描述符的值被删除时的行为  |"
   ]
  },
  {
   "cell_type": "code",
   "execution_count": 47,
   "metadata": {},
   "outputs": [
    {
     "name": "stdout",
     "output_type": "stream",
     "text": [
      "__getattribute__\n",
      "__getattr__\n",
      "------我是可爱的下划线----\n",
      "__setattr__\n",
      "__delattr__\n"
     ]
    }
   ],
   "source": [
    "#案例说明（属性访问）\n",
    "class A():\n",
    "    def __getattribute__(self, item):\n",
    "        print('__getattribute__')\n",
    "        return super().__getattribute__(item)\n",
    "\n",
    "    def __getattr__(self, item):\n",
    "        print('__getattr__')\n",
    "\n",
    "    def __setattr__(self, key, value):\n",
    "        print('__setattr__')\n",
    "        super().__setattr__(key, value)\n",
    "\n",
    "    def __delattr__(self, item):\n",
    "        print('__delattr__')\n",
    "        super().__delattr__(item)\n",
    "\n",
    "a = A()\n",
    "a.x\n",
    "print(\"------我是可爱的下划线----\")\n",
    "a.x = 1\n",
    "\n",
    "del a.x"
   ]
  },
  {
   "cell_type": "code",
   "execution_count": 48,
   "metadata": {},
   "outputs": [
    {
     "name": "stdout",
     "output_type": "stream",
     "text": [
      "__get__ <__main__.MyDecriptor object at 0x0000021DF67BE860> <__main__.Test object at 0x0000021DF67BEA20> <class '__main__.Test'>\n",
      "-------------------\n",
      "__set__ <__main__.MyDecriptor object at 0x0000021DF67BE860> <__main__.Test object at 0x0000021DF67BEA20> x-man\n",
      "__delete__ <__main__.MyDecriptor object at 0x0000021DF67BE860> <__main__.Test object at 0x0000021DF67BEA20>\n"
     ]
    }
   ],
   "source": [
    "#案例说明（描述符）\n",
    "class MyDecriptor:\n",
    "    def __get__(self, instance, owner):\n",
    "        print('__get__', self, instance, owner)\n",
    "\n",
    "    def __set__(self, instance, value):\n",
    "        print('__set__', self, instance, value)\n",
    "\n",
    "    def __delete__(self, instance):\n",
    "        print('__delete__', self, instance)\n",
    "\n",
    "\n",
    "class Test:\n",
    "    x = MyDecriptor()\n",
    "    \n",
    "t = Test()\n",
    "t.x\n",
    "\n",
    "print(\"-------------------\")\n",
    "\n",
    "t.x = 'x-man'\n",
    "\n",
    "del t.x"
   ]
  },
  {
   "cell_type": "markdown",
   "metadata": {},
   "source": [
    "### 3.算术运算符\n",
    " - 类型工厂函数，指的是“不通过类而是通过函数来创建对象。”\n",
    " \n",
    "| 运算符       | 定义         | \n",
    "|:-----------:| :-------------:|\n",
    "| `__add__(self,other)` | 定义加法的行为： `+`  |\n",
    "| `__sub__(self,other)` | 定义减法的行为： `-`  |\n",
    "| `__mul__(self,other)` | 定义乘法的行为： `*`  |\n",
    "| `__truediv__(self,other)` | 定义真除法的行为： `/`  |\n",
    "| `__floordiv__(self,other)` | 定义整数除法（地板除）的行为： `//`  |\n",
    "| `__mod__(self,other)` | 定义取模(向下取整)算法的行为： `%`  |\n",
    "| `__divmod__(self,other)` | 定义当被`divmod()`调用时的行为： `+divmod(a,b) `把除数和余数运算结果结合起来，返回一个包含商和余数的元组`(a//b, a%b)` |\n",
    "| `__pow__(self,other)` | 定义当被power()调用或**运算的行为  |\n",
    "| `__lshift__(self,other)` | 定义按位左移的行为 `<<`  |\n",
    "| `__rshift__(self,other)` | 定义按位右移的行为 `>>`  |\n",
    "| `__add__(self,other)` | 定义按位与操作的行为： `&`  |\n",
    "| `__xor__(self,other)` | 定义按位异或的行为： `^`  |\n",
    "| `__or__(self,other)` | 定义按位或操作的行为： `/|`  |"
   ]
  },
  {
   "cell_type": "code",
   "execution_count": 49,
   "metadata": {},
   "outputs": [
    {
     "name": "stdout",
     "output_type": "stream",
     "text": [
      "高为 10  重为 5\n",
      "高为 20  重为 10\n",
      "高为 10  重为 5\n",
      "高为 30  重为 15\n"
     ]
    }
   ],
   "source": [
    "#案例说明\n",
    "class MyClass:\n",
    "    \n",
    "    def __init__(self,height,weight):\n",
    "        self.height = height\n",
    "        self.weight = weight\n",
    "        \n",
    "    #俩对象的畅想家，宽不变，返回一个新的类：\n",
    "    def  __add__(self,others):\n",
    "        return Myclass(self.height + others.height, self.weight + others.weight)\n",
    "    \n",
    "     # 两个对象的宽相减，长不变.返回一个新的类\n",
    "    def __sub__(self, others):\n",
    "        return MyClass(self.height - others.height, self.weight - others.weight)\n",
    "    \n",
    "    # 说一下自己的参数\n",
    "    def intro(self):\n",
    "        print(\"高为\", self.height, \" 重为\", self.weight)\n",
    "        \n",
    "    \n",
    "def main():\n",
    "    a = MyClass(height=10, weight=5)\n",
    "    a.intro()\n",
    "\n",
    "    b = MyClass(height=20, weight=10)\n",
    "    b.intro()\n",
    "\n",
    "    c = b - a\n",
    "    c.intro()\n",
    "\n",
    "    d = a + b\n",
    "    d.intro()\n",
    "\n",
    "if __name__ == '__main__':  #仅运行main()的代码\n",
    "    main()"
   ]
  },
  {
   "cell_type": "markdown",
   "metadata": {},
   "source": [
    "#### 补充说明 `if __name__ = '__main__'`\n",
    " - 如果是直接执行某个.py文件的时候，该文件中那么”__name__ == '__main__'“是True,但如果从另外一个.py文件通过import导入该文件的时候，并且调用这个文件中的函数时，这是函数里面__name__的值就是我们这个py文件的名字而不是__main__。\n",
    " - 这个功能还有一个用处：调试代码的时候，在”if __name__ == '__main__'“中加入一些的调试代码，可以让外部模块调用的时候不执行调试代码，但是如果想排查问题的时候，直接执行该模块文件，调试代码能够正常运行！"
   ]
  },
  {
   "cell_type": "markdown",
   "metadata": {},
   "source": [
    "### 4.反算术运算符\n",
    " - 反运算魔法方法与算术运算符保持一一对应，不同之处就是反运算的魔法方法多了一个\"r\"，当文件左操作不支持相应的操作时被调用。\n",
    " \n",
    "| 运算符       | 定义         | \n",
    "|:-----------:| :-------------:|\n",
    "| `__radd__(self,other)` | 定义加法的行为： `+`，当左操作数不支持相应的操作时被调用 |\n",
    "| `__rsub__(self,other)` | 定义减法的行为： `-` ，当左操作数不支持相应的操作时被调用 |\n",
    "| `__rmul__(self,other)` | 定义乘法的行为： `*` ，当左操作数不支持相应的操作时被调用 |\n",
    "| `__rtruediv__(self,other)` | 定义真除法的行为： `/` ，当左操作数不支持相应的操作时被调用 |\n",
    "| `__rfloordiv__(self,other)` | 定义整数除法（地板除）的行为： `//` ，当左操作数不支持相应的操作时被调用 |\n",
    "| `__rmod__(self,other)` | 定义取模算法的行为： `%` ，当左操作数不支持相应的操作时被调用 |\n",
    "| `__rdivmod__(self,other)` | 定义当被`divmod()`调用时的行为： `+divmod(a,b) `把除数和余数运算结果结合起来，返回一个包含商和余数的元组`(a//b, a%b)`，当左操作数不支持相应的操作时被调用 |\n",
    "| `__rpow__(self,other)` | 定义当被power()调用或**运算的行为 ，当左操作数不支持相应的操作时被调用 |\n",
    "| `__rlshift__(self,other)` | 定义按位左移的行为 `<<` ，当左操作数不支持相应的操作时被调用 |\n",
    "| `__rrshift__(self,other)` | 定义按位右移的行为 `>>` ，当左操作数不支持相应的操作时被调用 |\n",
    "| `__rxor__(self,other)` | 定义按位异或的行为： `^` ，当左操作数不支持相应的操作时被调用 |\n",
    "| `__ror__(self,other)` | 当左操作数不支持相应的操作时被调用，定义按位或操作的行为： `|` |"
   ]
  },
  {
   "cell_type": "markdown",
   "metadata": {},
   "source": [
    "#### 举例说明：`a + b`:\n",
    "加数是a，被加数是b，因此a是主动，反运算就是若a对象的`__add__()`方法没有实现或者不支持相应的操作，则Python就会调用b的`__add__()`方法。"
   ]
  },
  {
   "cell_type": "code",
   "execution_count": 50,
   "metadata": {},
   "outputs": [
    {
     "name": "stdout",
     "output_type": "stream",
     "text": [
      "8\n",
      "-2\n",
      "-3\n"
     ]
    }
   ],
   "source": [
    "#案例说明\n",
    "class Nint(int):\n",
    "    def __radd__(self,other):\n",
    "        return int.__sub__(other,self) #注意：self与other互换了位置\n",
    "    \n",
    "a = Nint(5)\n",
    "b = Nint(3)\n",
    "print(a + b)  #因为a对象有默认的add()，所以b的__radd__没有执行\n",
    "print(1 + b)  #因1本身没有任何方法，所以直接调用b的__radd__()\n",
    "print(2 + a)  #同上"
   ]
  },
  {
   "cell_type": "markdown",
   "metadata": {},
   "source": [
    "### 5.增量赋值运算符\n",
    "\n",
    "| 运算符       | 定义         | \n",
    "|:-----------:| :-------------:|\n",
    "| `__iadd__(self,other)` | 定义加法的行为： `+=`  |\n",
    "| `__isub__(self,other)` | 定义减法的行为： `-=`  |\n",
    "| `__imul__(self,other)` | 定义乘法的行为： `*=`  |\n",
    "| `__itruediv__(self,other)` | 定义真除法的行为： `/=`  |\n",
    "| `__ifloordiv__(self,other)` | 定义整数除法（地板除）的行为： `//=`  |\n",
    "| `__imod__(self,other)` | 定义取模算法的行为： `%=`  |\n",
    "| `__ipow__(self,other)` | 定义当被power()调用或`**=`运算的行为  |\n",
    "| `__ilshift__(self,other)` | 定义按位左移的行为 `<<=`  |\n",
    "| `__irshift__(self,other)` | 定义按位右移的行为 `>>=`  |\n",
    "| `__iand__(self,other)` | 定义按位与操作的行为： `&=`  |\n",
    "| `__ixor__(self,other)` | 定义按位异或的行为： `^=`  |\n",
    "| `__ior__(self,other)` | 定义按位或操作的行为： `/|=`  |"
   ]
  },
  {
   "cell_type": "markdown",
   "metadata": {},
   "source": [
    "### 6.一元运算符\n",
    " - `__neg__(self)`定义正号的行为：`+x`\n",
    " - `__pos__(self)`定义负号的行为：`-x`\n",
    " - `__abs__(self)`定义当被`abs()`调用时的行为\n",
    " - `__invert__(self)`定义按位求反的行为：`~x`"
   ]
  },
  {
   "cell_type": "markdown",
   "metadata": {},
   "source": [
    "### 7.定制序列（容器类型）\n",
    "协议与其他编程语言中的接口很相似，规定哪些方法必须定义。然而在Python中的协议就显得不那么正式。Python中协议更像是一种指南。\n",
    "\n",
    "| 运算符       | 定义         | \n",
    "|:-----------:| :-------------:|\n",
    "| `__len__(self)` | 定义`len()`调用时的行为  |\n",
    "| `__getitem__(self,key)` | 定义获取容器中指定元素的行为，相当于 self[key]  |\n",
    "| `__setitem__(self,other)` | 定义设置容器中指定元素的行为，相当于 self[key] = value  |\n",
    "| `__delitem__(self,other)` | 定义删除容器中指定元素的行为，相当于 del self[key]  |\n",
    "| `__iter__(self,other)` |定义当迭代容器中的元素的行为  |\n",
    "| `__reversed__(self,other)` | 定义当被 reversed() 调用时的行为  |\n",
    "| `__contains__(self,other)` |  定义当使用成员测试运算符（in 或 not in）时的行为  |\n",
    "\n",
    " - 如果说你希望定制的容器是不可变的话，你只需要定义`__len__()`和`__getitem__()`方法。\n",
    " - 如果你希望定制的容器是可变的话，除了`__len__()`和`__getitem__()`方法，你还需要定义`__setitem__()`和`__delitem__()`两个方法。"
   ]
  },
  {
   "cell_type": "code",
   "execution_count": 51,
   "metadata": {},
   "outputs": [
    {
     "name": "stdout",
     "output_type": "stream",
     "text": [
      "3\n",
      "6\n",
      "-------------------\n",
      "9\n"
     ]
    }
   ],
   "source": [
    "#案例：编写一个不可改变的自定义列表，要求记录列表中每个元素被访问的次数\n",
    "class CountList:\n",
    "    def __init__(self, *args):\n",
    "        self.values = [x for x in args]\n",
    "        self.count = {}.fromkeys(range(len(self.values)),0)\n",
    "\n",
    "    def __len__(self):\n",
    "        return len(self.values)\n",
    "\n",
    "    def __getitem__(self, item):\n",
    "        self.count[item] += 1\n",
    "        return self.values[item]\n",
    "    \n",
    "        \n",
    "c1 = CountList(1, 3, 5, 7, 9)\n",
    "c2 = CountList(2, 4, 6, 8, 10)\n",
    "print(c1[1])\n",
    "print(c2[2])\n",
    "print(\"-------------------\")\n",
    "\n",
    "print(c1[1]+c2[2])"
   ]
  },
  {
   "cell_type": "code",
   "execution_count": 53,
   "metadata": {},
   "outputs": [
    {
     "name": "stdout",
     "output_type": "stream",
     "text": [
      "{0: 0, 1: 2, 2: 0, 3: 0, 4: 0}\n",
      "{0: 0, 1: 0, 2: 2, 3: 0, 4: 0}\n",
      "{0: 0, 1: 2, 2: 0, 3: 0, 4: 0}\n"
     ]
    }
   ],
   "source": [
    "print(c1.count)\n",
    "print(c2.count)\n",
    "print(c1.count)"
   ]
  },
  {
   "cell_type": "code",
   "execution_count": 54,
   "metadata": {},
   "outputs": [
    {
     "name": "stdout",
     "output_type": "stream",
     "text": [
      "3\n",
      "6\n",
      "-------------------\n",
      "33\n"
     ]
    }
   ],
   "source": [
    "#案例：编写一个可改变的自定义列表，要求记录列表中每个元素被访问的次数\n",
    "class CountList:\n",
    "    def __init__(self, *args):\n",
    "        self.values = [x for x in args]\n",
    "        self.count = {}.fromkeys(range(len(self.values)), 0)\n",
    "\n",
    "    def __len__(self):\n",
    "        return len(self.values)\n",
    "\n",
    "    def __getitem__(self, item):\n",
    "        self.count[item] += 1\n",
    "        return self.values[item]\n",
    "\n",
    "    def __setitem__(self, key, value):   #可设置指定元素的行为\n",
    "        self.values[key] = value\n",
    "\n",
    "    def __delitem__(self, key):         #可删除对应元素\n",
    "        del self.values[key]\n",
    "        for i in range(0, len(self.values)):\n",
    "            if i >= key:\n",
    "                self.count[i] = self.count[i + 1]\n",
    "        self.count.pop(len(self.values))\n",
    "\n",
    "c1 = CountList(1,3,4,5,9)\n",
    "c2 = CountList(2, 4, 6, 8, 10)\n",
    "print(c1[1])  \n",
    "print(c2[2])  \n",
    "print(\"-------------------\")\n",
    "c2[2] = 30    #设置元素\n",
    "\n",
    "print(c1[1]+c2[2])"
   ]
  },
  {
   "cell_type": "code",
   "execution_count": 55,
   "metadata": {},
   "outputs": [
    {
     "name": "stdout",
     "output_type": "stream",
     "text": [
      "{0: 0, 1: 2, 2: 0, 3: 0, 4: 0}\n",
      "{0: 0, 1: 0, 2: 2, 3: 0, 4: 0}\n",
      "{0: 0, 1: 0, 2: 0, 3: 0}\n"
     ]
    }
   ],
   "source": [
    "print(c1.count)\n",
    "print(c2.count)\n",
    "del c1[1]\n",
    "print(c1.count)"
   ]
  },
  {
   "cell_type": "markdown",
   "metadata": {},
   "source": [
    "### 8.生成器\n",
    " - 在Python中，这种一边循环一边计算的机制，称为生成器：generator.\n",
    " - 要创建一个generator，有很多种方法。第一种方法很简单，只要把一个列表生成式的[]改成()"
   ]
  },
  {
   "cell_type": "code",
   "execution_count": 56,
   "metadata": {},
   "outputs": [
    {
     "name": "stdout",
     "output_type": "stream",
     "text": [
      "list: [0, 1, 4, 9, 16, 25, 36, 49, 64, 81]\n"
     ]
    },
    {
     "data": {
      "text/plain": [
       "<generator object <genexpr> at 0x0000021DF677B6D8>"
      ]
     },
     "execution_count": 56,
     "metadata": {},
     "output_type": "execute_result"
    }
   ],
   "source": [
    "L = [x * x for x in range(10)]\n",
    "\n",
    "G = (x * x for x in range(10))\n",
    "\n",
    "print(\"list:\",L)\n",
    "G"
   ]
  },
  {
   "cell_type": "markdown",
   "metadata": {},
   "source": [
    " - `generator`保存的是算法，使用for循环来迭代它，并且不需要`next()`不用关心`StopIteration`的错误。\n",
    " - 如果推算的算法比较复杂，用类似列表生成式的for循环无法实现的时候，还可以用`yield()`函数来实现。\n",
    " - 在调用生成器运行的过程中，每次遇到 yield 时函数会暂停并保存当前所有的运行信息，返回 yield 的值, 并在下一次执行` next()` 方法时从当前位置继续运行。\n",
    " - 调用一个生成器函数，返回的是一个迭代器对象。"
   ]
  },
  {
   "cell_type": "code",
   "execution_count": 57,
   "metadata": {},
   "outputs": [
    {
     "name": "stdout",
     "output_type": "stream",
     "text": [
      "1 1 2 3 5 8 13 21 34 55 89 "
     ]
    }
   ],
   "source": [
    "#斐波那契数列\n",
    "def libs(n):\n",
    "    a = 0\n",
    "    b = 1\n",
    "    while True:\n",
    "        a,b = b, a+b\n",
    "        if a > n:\n",
    "            return\n",
    "        else:\n",
    "            yield a \n",
    "            \n",
    "for value in libs(100):\n",
    "    print(value,end = ' ')"
   ]
  },
  {
   "cell_type": "markdown",
   "metadata": {},
   "source": [
    "### 9.迭代器\n",
    " - 迭代是 Python 最强大的功能之一，是访问集合元素的一种方式。\n",
    " - 迭代器是一个可以记住遍历的位置的对象。\n",
    " - 迭代器对象从集合的第一个元素开始访问，直到所有的元素被访问完结束。\n",
    " - 迭代器只能往前不会后退。\n",
    " - 字符串，列表或元组对象都可用于创建迭代器："
   ]
  },
  {
   "cell_type": "code",
   "execution_count": 58,
   "metadata": {},
   "outputs": [
    {
     "name": "stdout",
     "output_type": "stream",
     "text": [
      "l\n",
      "s\n",
      "g\n",
      "o\n",
      "g\n",
      "r\n",
      "o\n",
      "u\n",
      "p\n"
     ]
    }
   ],
   "source": [
    "#案例说明\n",
    "string = 'lsgogroup'\n",
    "for c in iter(string):\n",
    "    print(c)"
   ]
  },
  {
   "cell_type": "code",
   "execution_count": 59,
   "metadata": {},
   "outputs": [
    {
     "name": "stdout",
     "output_type": "stream",
     "text": [
      "l\n",
      "s\n",
      "g\n",
      "o\n",
      "g\n",
      "r\n",
      "o\n",
      "u\n",
      "p\n"
     ]
    }
   ],
   "source": [
    "for c in string:\n",
    "    print(c)"
   ]
  },
  {
   "cell_type": "markdown",
   "metadata": {},
   "source": [
    " - 可以直接作用于for循环的数据类型统称为可迭代对象`Iterable`,有以下几种：\n",
    "\n",
    "  - 一类是集合数据类型，如list、tuple、dict、set、str等；\n",
    "\n",
    "  - 一类是`generator`，包括生成器和带`yield`的`generator function`。\n",
    "\n",
    " - 而生成器不但可以作用于for循环，还可以被`next()`函数不断调用并返回下一个值，直到最后抛出`StopIteration`错误表示无法继续返回下一个值了。可以被`next()`函数调用并不断返回下一个值的对象称为迭代器`Iterator`.\n",
    " - 生成器都是`Iterator`对象，但list、dict、str虽然是`Iterable`，却不是`Iterator`。把list、dict、str等`Iterable`变成`Iterator`可以使用`iter()`函数。\n",
    " - Python的for循环本质上就是通过不断调用`next()`函数实现。"
   ]
  },
  {
   "cell_type": "code",
   "execution_count": 60,
   "metadata": {},
   "outputs": [
    {
     "name": "stdout",
     "output_type": "stream",
     "text": [
      "1 1 2 3 5 8 13 21 34 55 89 "
     ]
    }
   ],
   "source": [
    "#斐波那契数列案例说明\n",
    "class Fibs:\n",
    "    def __init__(self, n=10):\n",
    "        self.a = 0\n",
    "        self.b = 1\n",
    "        self.n = n\n",
    "\n",
    "    def __iter__(self):\n",
    "        return self\n",
    "\n",
    "    def __next__(self):\n",
    "        self.a, self.b = self.b, self.a + self.b\n",
    "        if self.a > self.n:\n",
    "            raise StopIteration\n",
    "        return self.a\n",
    "\n",
    "\n",
    "fibs = Fibs(100)\n",
    "for each in fibs:\n",
    "    print(each, end=' ')"
   ]
  },
  {
   "cell_type": "code",
   "execution_count": 61,
   "metadata": {},
   "outputs": [
    {
     "name": "stdout",
     "output_type": "stream",
     "text": [
      "[1]\n",
      "[1, 1]\n",
      "[1, 2, 1]\n",
      "[1, 3, 3, 1]\n",
      "[1, 4, 6, 4, 1]\n",
      "[1, 5, 10, 10, 5, 1]\n",
      "[1, 6, 15, 20, 15, 6, 1]\n",
      "[1, 7, 21, 35, 35, 21, 7, 1]\n",
      "[1, 8, 28, 56, 70, 56, 28, 8, 1]\n",
      "[1, 9, 36, 84, 126, 126, 84, 36, 9, 1]\n"
     ]
    }
   ],
   "source": [
    "#杨辉三角数列案例\n",
    "#每一行做一个list，先写一个generator，不断输出下一行的list\n",
    "def triangle():\n",
    "    L = [1]\n",
    "    while True:\n",
    "        yield L\n",
    "        L = [1] + [L[i] + L[i+1] for i in range(len(L)-1)] + [1]\n",
    " \n",
    "#再利用for循环遍历每一个List，append到新的列表中\n",
    "n = 0\n",
    "result = []\n",
    "t = triangle()\n",
    "for i in t:\n",
    "    print(i)\n",
    "    result.append(t)\n",
    "    n += 1\n",
    "    if n == 10:\n",
    "        break"
   ]
  },
  {
   "cell_type": "markdown",
   "metadata": {},
   "source": [
    "### 练习题\n",
    "1. 上面提到了许多魔法方法，如__new__,__init__, __str__,__rstr__,__getitem__,__setitem__等等，请总结它们各自的使用方法。\n",
    "\n",
    "2. 利用python做一个简单的定时器类\n",
    "\n",
    "要求:\n",
    "\n",
    " - 定制一个计时器的类。\n",
    " - start和stop方法代表启动计时和停止计时。\n",
    " - 假设计时器对象t1，print(t1)和直接调用t1均显示结果。\n",
    " - 当计时器未启动或已经停止计时时，调用stop方法会给予温馨的提示。\n",
    " - 两个计时器对象可以进行相加：t1+t2。\n",
    " - 只能使用提供的有限资源完成。"
   ]
  },
  {
   "cell_type": "code",
   "execution_count": null,
   "metadata": {},
   "outputs": [],
   "source": []
  }
 ],
 "metadata": {
  "kernelspec": {
   "display_name": "Python 3",
   "language": "python",
   "name": "python3"
  },
  "language_info": {
   "codemirror_mode": {
    "name": "ipython",
    "version": 3
   },
   "file_extension": ".py",
   "mimetype": "text/x-python",
   "name": "python",
   "nbconvert_exporter": "python",
   "pygments_lexer": "ipython3",
   "version": "3.7.3"
  }
 },
 "nbformat": 4,
 "nbformat_minor": 4
}
