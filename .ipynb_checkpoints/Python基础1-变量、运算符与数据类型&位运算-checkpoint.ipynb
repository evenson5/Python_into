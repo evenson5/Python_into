{
 "cells": [
  {
   "cell_type": "markdown",
   "metadata": {},
   "source": [
    "## 致敬Python（基础巩固）"
   ]
  },
  {
   "cell_type": "code",
   "execution_count": 1,
   "metadata": {},
   "outputs": [],
   "source": [
    "#显现所有的输出\n",
    "from IPython.core.interactiveshell import InteractiveShell\n",
    "InteractiveShell.ast_node_interactivity = \"all\""
   ]
  },
  {
   "cell_type": "markdown",
   "metadata": {},
   "source": [
    "## Chapter One\n",
    " - 注释\n",
    "  - 三引号的内容注释（单引号和双引号）\n",
    " - 运算符\n",
    "  - 算术运算符\n",
    "  - 比较运算符\n",
    "  - 逻辑运算符\n",
    "  - 位运算符\n",
    "   - 位运算符案例\n",
    "  - 三元运算\n",
    "  - 其他运算符\n",
    "  - 运算优先级\n",
    " - 变量和赋值\n",
    " - 数据类型与转换\n",
    "  - int \n",
    "  - float\n",
    "  - boolean\n",
    "  - string(补充)\n",
    "  - type() & isinstance()\n",
    " - print 函数\n",
    "  - New Style PY3.6"
   ]
  },
  {
   "cell_type": "markdown",
   "metadata": {},
   "source": [
    "### 1.注释\n",
    "> 两种方式：python中符号#表示注释，作用于整行；三引号"
   ]
  },
  {
   "cell_type": "code",
   "execution_count": 2,
   "metadata": {},
   "outputs": [
    {
     "name": "stdout",
     "output_type": "stream",
     "text": [
      "Hello World!\n",
      "Welcome to Python basics\n"
     ]
    }
   ],
   "source": [
    "print(\"Hello World!\\n\"\n",
    "\"Welcome to Python basics\")\n",
    "#Hello World! \\n换行作用（后面有详细注释）"
   ]
  },
  {
   "cell_type": "markdown",
   "metadata": {},
   "source": [
    "#### ''' '''或\"\"\"表示区间注释，三引号之间的所有内容被注释\n",
    "注意：'''和 \"\"\"是两种符号，前者是单引号，后者是双引号"
   ]
  },
  {
   "cell_type": "code",
   "execution_count": 3,
   "metadata": {},
   "outputs": [
    {
     "name": "stdout",
     "output_type": "stream",
     "text": [
      "单引号尝试\n",
      "三个引号即三次双引号尝试\n"
     ]
    }
   ],
   "source": [
    "'''单引号'''\n",
    "print(\"单引号尝试\")\n",
    "\"\"\"三次双引号\"\"\"\n",
    "print(\"三个引号即三次双引号尝试\")"
   ]
  },
  {
   "cell_type": "code",
   "execution_count": 21,
   "metadata": {},
   "outputs": [
    {
     "data": {
      "text/plain": [
       "'三次双引号'"
      ]
     },
     "execution_count": 21,
     "metadata": {},
     "output_type": "execute_result"
    },
    {
     "data": {
      "text/plain": [
       "'单引号'"
      ]
     },
     "execution_count": 21,
     "metadata": {},
     "output_type": "execute_result"
    }
   ],
   "source": [
    "\"\"\"三次双引号\"\"\"\n",
    "'''单引号'''"
   ]
  },
  {
   "cell_type": "markdown",
   "metadata": {},
   "source": [
    "### 2.运算符"
   ]
  },
  {
   "cell_type": "markdown",
   "metadata": {},
   "source": [
    "#### 算术运算符\n",
    "|    操作符 |               名称                        |示例\n",
    "|:---------------:|:----------------------------:|:-----------------------:|\n",
    "|+|加|3+4           |\n",
    "|- |减 |3-5            |\n",
    "|* |乘|3*5            |\n",
    "|/|除|3+4           |\n",
    "|//|整除（地板除） |5//3=1    |\n",
    "|%|取余|4%3=1          |\n",
    "|** |幂 |2**3=pow(2,3)=8            |"
   ]
  },
  {
   "cell_type": "code",
   "execution_count": 20,
   "metadata": {},
   "outputs": [
    {
     "name": "stdout",
     "output_type": "stream",
     "text": [
      "-8\n",
      "0\n",
      "2\n",
      "8\n"
     ]
    }
   ],
   "source": [
    "#print可直接输出对应运算值\n",
    "print(1-9)   #相减\n",
    "print(3//4)  #整除\n",
    "print(6%4)   #取余\n",
    "print(2**3)  #幂，pow(2,3)为计算输出"
   ]
  },
  {
   "cell_type": "code",
   "execution_count": 3,
   "metadata": {},
   "outputs": [
    {
     "name": "stdout",
     "output_type": "stream",
     "text": [
      "2\n"
     ]
    },
    {
     "data": {
      "text/plain": [
       "2"
      ]
     },
     "execution_count": 3,
     "metadata": {},
     "output_type": "execute_result"
    }
   ],
   "source": [
    "#注：对于直接计算的，例如6%4，会显示out：2，意为计算输出,如下\n",
    "print(6%4)\n",
    "6%4"
   ]
  },
  {
   "cell_type": "markdown",
   "metadata": {},
   "source": [
    "#### 比较运算符\n",
    "|    操作符 |               名称                        |示例\n",
    "|:---------------:|:----------------------------:|:-----------------------:|\n",
    "|>|大于|4 > 1           |\n",
    "|>= |大于等于（不小于） |5 >= 3            |\n",
    "|<|小于|3 < 5            |\n",
    "|<=|小于等于（不大于）|3 <= 4           |\n",
    "|==|等于 |5 == 3    |\n",
    "|!=|不等于|4 != 3          |"
   ]
  },
  {
   "cell_type": "code",
   "execution_count": 24,
   "metadata": {},
   "outputs": [
    {
     "name": "stdout",
     "output_type": "stream",
     "text": [
      "False\n",
      "False\n"
     ]
    }
   ],
   "source": [
    "print(5 != 5) \n",
    "print(4 == 8) "
   ]
  },
  {
   "cell_type": "markdown",
   "metadata": {},
   "source": [
    "#### 逻辑运算符\n",
    "|    操作符 |               名称                        |示例\n",
    "|:---------------:|:----------------------------:|:-----------------------:|\n",
    "|and|与|(2>1) and (1<=4)          |\n",
    "|or|或|(2>1) or (1>=4)       |\n",
    "|not|非|not (2 != 1)      |"
   ]
  },
  {
   "cell_type": "code",
   "execution_count": 25,
   "metadata": {},
   "outputs": [
    {
     "name": "stdout",
     "output_type": "stream",
     "text": [
      "True\n",
      "False\n"
     ]
    }
   ],
   "source": [
    "print((5 == 5)or(6 <= 3))\n",
    "print(not(1 != 2))"
   ]
  },
  {
   "cell_type": "code",
   "execution_count": 26,
   "metadata": {},
   "outputs": [
    {
     "data": {
      "text/plain": [
       "bool"
      ]
     },
     "execution_count": 26,
     "metadata": {},
     "output_type": "execute_result"
    }
   ],
   "source": [
    "#应用比较运算符和逻辑运算符，直接得到的都是布尔值\n",
    "type(not(1 != 2))"
   ]
  },
  {
   "attachments": {
    "%E4%BD%8D%E8%BF%90%E7%AE%97%E7%AC%A6.jpg": {
     "image/jpeg": "[encoded data removed]"
    }
   },
   "cell_type": "markdown",
   "metadata": {},
   "source": [
    "#### 位运算符（不清楚请参考git对应图片）\n",
    "![%E4%BD%8D%E8%BF%90%E7%AE%97%E7%AC%A6.jpg](attachment:%E4%BD%8D%E8%BF%90%E7%AE%97%E7%AC%A6.jpg)"
   ]
  },
  {
   "cell_type": "markdown",
   "metadata": {},
   "source": [
    "#### 位运算案例\n",
    " - ~0 = ~(~(1)) = 1 (忽略横杠问题) 取反\n",
    " - 1&1 =  1                        与\n",
    " - 0&1 = 1&0 = 0&0 = 0             与\n",
    " - 1|1 = 1|0 = 0|1 =1              或\n",
    " - 0|0 = 0                         或\n",
    " - 1^0 = 0^1 = 1                   异或\n",
    " - 0^0 = 1^1 = 0                   异或"
   ]
  },
  {
   "cell_type": "code",
   "execution_count": 41,
   "metadata": {},
   "outputs": [
    {
     "name": "stdout",
     "output_type": "stream",
     "text": [
      "0b100 0b101\n",
      "-0b110 -6\n",
      "0b100 4\n",
      "0b101 5\n",
      "0b1 1\n"
     ]
    }
   ],
   "source": [
    "#结合二进制运算，具体可参考后续章节\n",
    "print(bin(4),bin(5))      #4和5的二进制\n",
    "print(bin(~5),~5)         #5的二进制按位取反，二进制按位取反后对应十进制数值\n",
    "print(bin(4&5),4&5)       #4&5二进制按位与（0&0=0&1=1&0=0,1&1=1），对应的十进制数值\n",
    "print(bin(4|5),4|5)       #4|5二进制按位或(0|0=0,1|0=0|1=1|1=1)，对应的十进制数值\n",
    "print(bin(4^5),4^5)       #按位异或操作(0^0=1^1=0,1^0=0^1=1)，对应的十进制数值"
   ]
  },
  {
   "cell_type": "code",
   "execution_count": 39,
   "metadata": {},
   "outputs": [
    {
     "name": "stdout",
     "output_type": "stream",
     "text": [
      "2 1 0 -1 -2 -3 -4\n"
     ]
    }
   ],
   "source": [
    "print(~-3,~-2,~-1,~0,~1,~2,~3)#置换成二进制后进行换位取反，再置换为十进制数"
   ]
  },
  {
   "cell_type": "code",
   "execution_count": 40,
   "metadata": {},
   "outputs": [
    {
     "name": "stdout",
     "output_type": "stream",
     "text": [
      "0b1 0b10 0b11\n"
     ]
    }
   ],
   "source": [
    "print(bin(1),bin(2),bin(3))"
   ]
  },
  {
   "cell_type": "code",
   "execution_count": 42,
   "metadata": {},
   "outputs": [
    {
     "name": "stdout",
     "output_type": "stream",
     "text": [
      "0b10000000 128\n",
      "0b0 0\n"
     ]
    }
   ],
   "source": [
    "#按位左操作和按位右操作\n",
    "print(bin(4<<5),4<<5) #4按位左操作5就是在二进制4的基础上向右边添加5个0,十进制对应4*2^5=128\n",
    "print(bin(4>>5),4>>5) #4按位右操作5就是在二进制4的基础上去掉后5位为0b0，十进制对应0"
   ]
  },
  {
   "cell_type": "markdown",
   "metadata": {},
   "source": [
    "#### 三元运算符"
   ]
  },
  {
   "cell_type": "code",
   "execution_count": 45,
   "metadata": {},
   "outputs": [
    {
     "name": "stdout",
     "output_type": "stream",
     "text": [
      "4\n"
     ]
    }
   ],
   "source": [
    "#比较两个数中较小的并输出\n",
    "x,y = 4,5\n",
    "if x < y:\n",
    "    small = x\n",
    "else:\n",
    "    small = y\n",
    "print(small)"
   ]
  },
  {
   "cell_type": "markdown",
   "metadata": {},
   "source": [
    "#### 其他运算符\n",
    "|    操作符 |               名称                        |示例\n",
    "|:---------------:|:----------------------------:|:-----------------------:|\n",
    "|is|是|'hello' is 'hello'         |\n",
    "|is not|不是|2 is not 3    |\n",
    "|in|存在|1 in [1,2,3,4]     |\n",
    "|not in|不存在|1 not in [2,3,4,5]     |"
   ]
  },
  {
   "cell_type": "code",
   "execution_count": 50,
   "metadata": {},
   "outputs": [
    {
     "name": "stdout",
     "output_type": "stream",
     "text": [
      "A exists\n",
      "C exists\n"
     ]
    }
   ],
   "source": [
    "#应用in 和not in是否存在在列表中做判断\n",
    "letters = ['A','B','C','D']\n",
    "if 'A' in letters:\n",
    "    print('A' + ' exists')\n",
    "if 'C' not in letters:\n",
    "    print('C' + ' not exists')\n",
    "else:\n",
    "    print('C exists')"
   ]
  },
  {
   "cell_type": "markdown",
   "metadata": {},
   "source": [
    "### 注意：\n",
    " - is,is not 对比的是两个变量的内存地址\n",
    " - ==,!=对比的是两个变量的值\n",
    " - 比较两个变量，指向的都是地址不可变的类型（str等），那么is,is not和==,!=是完全等价的\n",
    " - 比较两个变量，指向的都是地址可变的类型（list,dict,tuple等），两者有区别"
   ]
  },
  {
   "cell_type": "code",
   "execution_count": 51,
   "metadata": {},
   "outputs": [
    {
     "name": "stdout",
     "output_type": "stream",
     "text": [
      "True True\n",
      "False False\n"
     ]
    }
   ],
   "source": [
    "#比较的两个变量，都指向不可变类型\n",
    "a = \"hello\"\n",
    "b = \"hello\"\n",
    "print(a is b, a == b)\n",
    "print(a is not b, a != b)"
   ]
  },
  {
   "cell_type": "code",
   "execution_count": 52,
   "metadata": {},
   "outputs": [
    {
     "name": "stdout",
     "output_type": "stream",
     "text": [
      "False True\n",
      "True False\n"
     ]
    }
   ],
   "source": [
    "#比较的两个变量属于list、tuple、dict等地址可变的类型\n",
    "a = ['hello']\n",
    "b = ['hello']\n",
    "print(a is b, a == b)\n",
    "print(a is not b, a !=b)"
   ]
  },
  {
   "cell_type": "markdown",
   "metadata": {},
   "source": [
    "### 运算符的优先级（注意）\n",
    " - 一元运算符优于二元运算符，例如正负号\n",
    " - 先算术，后移位，最后位运算，例如1 << 3 + 2 & 7 等价于 (1 <<(3 + 2)) & 7，都是0\n",
    " - 逻辑运算最后结合，例如 3 < 4 and 4 == 5 等价于 (3 < 4) and (4 == 4)，都是False"
   ]
  },
  {
   "cell_type": "markdown",
   "metadata": {},
   "source": [
    "### 3.变量和赋值\n",
    " - 使用变量前，需要对其先赋值\n",
    " - 变量可以包括字母、数字、下划线，但不能是数字开头\n",
    " - Python的变量名是大小写敏感的，例如IM != im"
   ]
  },
  {
   "cell_type": "code",
   "execution_count": 65,
   "metadata": {},
   "outputs": [
    {
     "name": "stdout",
     "output_type": "stream",
     "text": [
      "time: 117.9090909090909\n"
     ]
    }
   ],
   "source": [
    "speed_of_lx=110/12.97\n",
    "distance= 1000\n",
    "time = distance / speed_of_lx\n",
    "print('time:',time)"
   ]
  },
  {
   "cell_type": "code",
   "execution_count": 67,
   "metadata": {},
   "outputs": [
    {
     "name": "stdout",
     "output_type": "stream",
     "text": [
      "一枚小学者要认真学习\n"
     ]
    }
   ],
   "source": [
    "i_am = '一枚小学者'\n",
    "a_student = '认真学习'\n",
    "i = i_am + '要' + a_student\n",
    "print(i)"
   ]
  },
  {
   "cell_type": "markdown",
   "metadata": {},
   "source": [
    "### 4.数据类型与转换\n",
    "|    操作符 |               名称                        |示例\n",
    "|:---------------:|:----------------------------:|:-----------------------:|\n",
    "|int|整型|5，-2       |\n",
    "|float|浮点型|3.14 |\n",
    "|bool|布尔型|True,False   |\n",
    "|str|字符串|'hello'    |"
   ]
  },
  {
   "cell_type": "code",
   "execution_count": 74,
   "metadata": {},
   "outputs": [
    {
     "name": "stdout",
     "output_type": "stream",
     "text": [
      "hello <class 'str'>\n",
      "15 <class 'int'>\n",
      "True <class 'bool'>\n",
      "3.14 <class 'float'>\n"
     ]
    }
   ],
   "source": [
    "#python里的万物皆对象，有对应的attributes和methods\n",
    "print('hello',type('hello'))\n",
    "print(15,type(15))\n",
    "print(5 == 5,type(5 == 5))\n",
    "print(3.14,type(3.14))"
   ]
  },
  {
   "cell_type": "markdown",
   "metadata": {},
   "source": [
    "#### Int"
   ]
  },
  {
   "cell_type": "code",
   "execution_count": 75,
   "metadata": {},
   "outputs": [
    {
     "name": "stdout",
     "output_type": "stream",
     "text": [
      "['__abs__', '__add__', '__and__', '__bool__', '__ceil__', '__class__', '__delattr__', '__dir__', '__divmod__', '__doc__', '__eq__', '__float__', '__floor__', '__floordiv__', '__format__', '__ge__', '__getattribute__', '__getnewargs__', '__gt__', '__hash__', '__index__', '__init__', '__init_subclass__', '__int__', '__invert__', '__le__', '__lshift__', '__lt__', '__mod__', '__mul__', '__ne__', '__neg__', '__new__', '__or__', '__pos__', '__pow__', '__radd__', '__rand__', '__rdivmod__', '__reduce__', '__reduce_ex__', '__repr__', '__rfloordiv__', '__rlshift__', '__rmod__', '__rmul__', '__ror__', '__round__', '__rpow__', '__rrshift__', '__rshift__', '__rsub__', '__rtruediv__', '__rxor__', '__setattr__', '__sizeof__', '__str__', '__sub__', '__subclasshook__', '__truediv__', '__trunc__', '__xor__', 'bit_length', 'conjugate', 'denominator', 'from_bytes', 'imag', 'numerator', 'real', 'to_bytes']\n"
     ]
    }
   ],
   "source": [
    "b = dir(int)\n",
    "print(b)"
   ]
  },
  {
   "cell_type": "code",
   "execution_count": 80,
   "metadata": {},
   "outputs": [
    {
     "name": "stdout",
     "output_type": "stream",
     "text": [
      "13\n"
     ]
    }
   ],
   "source": [
    "print(len(bin(1031)))"
   ]
  },
  {
   "cell_type": "code",
   "execution_count": 78,
   "metadata": {},
   "outputs": [
    {
     "name": "stdout",
     "output_type": "stream",
     "text": [
      "0b10000000111\n",
      "11\n"
     ]
    }
   ],
   "source": [
    "a = 1031\n",
    "print(bin(a))\n",
    "print(a.bit_length())#指定二进制的长度"
   ]
  },
  {
   "cell_type": "markdown",
   "metadata": {},
   "source": [
    "#### Float"
   ]
  },
  {
   "cell_type": "code",
   "execution_count": 81,
   "metadata": {},
   "outputs": [
    {
     "data": {
      "text/plain": [
       "float"
      ]
     },
     "execution_count": 81,
     "metadata": {},
     "output_type": "execute_result"
    }
   ],
   "source": [
    "type(99.99)"
   ]
  },
  {
   "cell_type": "code",
   "execution_count": 82,
   "metadata": {},
   "outputs": [
    {
     "data": {
      "text/plain": [
       "9999.0"
      ]
     },
     "execution_count": 82,
     "metadata": {},
     "output_type": "execute_result"
    }
   ],
   "source": [
    "99.99e2"
   ]
  },
  {
   "cell_type": "code",
   "execution_count": 83,
   "metadata": {},
   "outputs": [
    {
     "data": {
      "text/plain": [
       "0.9999"
      ]
     },
     "execution_count": 83,
     "metadata": {},
     "output_type": "execute_result"
    }
   ],
   "source": [
    "99.99e-2"
   ]
  },
  {
   "cell_type": "code",
   "execution_count": 88,
   "metadata": {},
   "outputs": [],
   "source": [
    "#保留浮点型的小数点后n位，可以用decimal包里的Decimal对象和getcontext()方法来实现\n",
    "import decimal\n",
    "from decimal import Decimal\n",
    "import math"
   ]
  },
  {
   "cell_type": "code",
   "execution_count": 92,
   "metadata": {},
   "outputs": [
    {
     "name": "stdout",
     "output_type": "stream",
     "text": [
      "3.141592653589793\n",
      "Context(prec=28, rounding=ROUND_HALF_EVEN, Emin=-999999, Emax=999999, capitals=1, clamp=0, flags=[], traps=[InvalidOperation, DivisionByZero, Overflow])\n"
     ]
    }
   ],
   "source": [
    "a = math.pi\n",
    "print(a)\n",
    "b = decimal.getcontext()\n",
    "print(b)"
   ]
  },
  {
   "cell_type": "code",
   "execution_count": 96,
   "metadata": {},
   "outputs": [
    {
     "name": "stdout",
     "output_type": "stream",
     "text": [
      "0.3183098861837906839460338501\n",
      "0.31831\n"
     ]
    }
   ],
   "source": [
    "c = Decimal(1) / Decimal(a)#此处Decimal需要大写D\n",
    "print(c)    \n",
    "#可以用getcontext().prec调整精度\n",
    "decimal.getcontext().prec = 5\n",
    "c = Decimal(1) / Decimal(a)\n",
    "print(c)"
   ]
  },
  {
   "cell_type": "markdown",
   "metadata": {},
   "source": [
    "### Boolean\n",
    " - 布尔型变量只取True或False\n",
    " - boolean用在数值运算中，1代表True,0代表False"
   ]
  },
  {
   "cell_type": "code",
   "execution_count": 97,
   "metadata": {},
   "outputs": [
    {
     "data": {
      "text/plain": [
       "bool"
      ]
     },
     "execution_count": 97,
     "metadata": {},
     "output_type": "execute_result"
    }
   ],
   "source": [
    "type(1<2)"
   ]
  },
  {
   "cell_type": "code",
   "execution_count": 100,
   "metadata": {},
   "outputs": [
    {
     "name": "stdout",
     "output_type": "stream",
     "text": [
      "2\n"
     ]
    }
   ],
   "source": [
    "a = (2 != 1)\n",
    "print(a + True)"
   ]
  },
  {
   "cell_type": "markdown",
   "metadata": {},
   "source": [
    "### 可以用bool(x)创建变量，其中x可以是\n",
    " - 基本类型：整型、浮点型、布尔型、字符串（java作引用类型，也有做容器类型，此处有多个解释）\n",
    "  - x为整型0，浮点型0.0时，结果为False；否则为True\n",
    " - 容器类型：元组、列表、字典和集合\n",
    "  - x为空的变量，结果为False;否则为True"
   ]
  },
  {
   "cell_type": "code",
   "execution_count": 101,
   "metadata": {},
   "outputs": [
    {
     "name": "stdout",
     "output_type": "stream",
     "text": [
      "<class 'float'> False True False True\n"
     ]
    }
   ],
   "source": [
    "print(type(3.14),bool(0.000),bool(3.14),bool(False),bool(True))"
   ]
  },
  {
   "cell_type": "code",
   "execution_count": 103,
   "metadata": {},
   "outputs": [
    {
     "name": "stdout",
     "output_type": "stream",
     "text": [
      "<class 'dict'> False True True\n"
     ]
    }
   ],
   "source": [
    "print(type({}),bool(set()),bool({1}),bool({'a':1,'b':2}))"
   ]
  },
  {
   "cell_type": "markdown",
   "metadata": {},
   "source": [
    "### Strings"
   ]
  },
  {
   "cell_type": "code",
   "execution_count": 105,
   "metadata": {},
   "outputs": [
    {
     "name": "stdout",
     "output_type": "stream",
     "text": [
      "<class 'str'>\n"
     ]
    }
   ],
   "source": [
    "s = \"This is a string.\"\n",
    "print(type(s))"
   ]
  },
  {
   "cell_type": "code",
   "execution_count": 108,
   "metadata": {},
   "outputs": [
    {
     "data": {
      "text/plain": [
       "\"I'm a string,too\""
      ]
     },
     "execution_count": 108,
     "metadata": {},
     "output_type": "execute_result"
    },
    {
     "data": {
      "text/plain": [
       "'I\"m also a string.'"
      ]
     },
     "execution_count": 108,
     "metadata": {},
     "output_type": "execute_result"
    }
   ],
   "source": [
    "#单、双引号的两种嵌套方式\n",
    "\"I'm a string,too\"  #习惯这种方式\n",
    "'I\"m also a string.'#后面一种嵌套方式不太舒服"
   ]
  },
  {
   "cell_type": "code",
   "execution_count": 110,
   "metadata": {},
   "outputs": [
    {
     "name": "stdout",
     "output_type": "stream",
     "text": [
      "He said: \" I'm a good student.\"\n",
      " I agree with him.\n"
     ]
    }
   ],
   "source": [
    "#\\\"   \\\"在双引号嵌套内表示引用；\\n表示换行\n",
    "s = \"He said: \\\" I'm a good student.\\\"\\n I agree with him.\"\n",
    "print(s)"
   ]
  },
  {
   "cell_type": "markdown",
   "metadata": {},
   "source": [
    "#### Type & Isinstance\n",
    " - type()不会认为子类是一种父类类型，不考虑继承关系\n",
    " - isinstance()认为自雷是一种父类类型，考虑继承关系\n",
    " - 举例说明：\n",
    ">class A:\n",
    ">     pass\n",
    "> class B(A):\n",
    ">     pass\n",
    " \n",
    " isinstance(A(),A) #returns True\n",
    "\n",
    " type(A()) == A    #returns True\n",
    "\n",
    " isinstance(B(),A) #returns True\n",
    "\n",
    " type(B()) == A    #returns False"
   ]
  },
  {
   "cell_type": "code",
   "execution_count": 2,
   "metadata": {},
   "outputs": [
    {
     "name": "stdout",
     "output_type": "stream",
     "text": [
      "True\n"
     ]
    }
   ],
   "source": [
    "#对类型是否相同推荐使用isinstance()\n",
    "print(isinstance('i love 5.21',str))"
   ]
  },
  {
   "cell_type": "code",
   "execution_count": 14,
   "metadata": {},
   "outputs": [
    {
     "name": "stdout",
     "output_type": "stream",
     "text": [
      "43\n",
      "-43\n",
      "26.0\n",
      "3.1415926\n"
     ]
    }
   ],
   "source": [
    "#类型转换，以案例说明\n",
    "print(int(5.98)+int('38'))    #int(5.98)=5\n",
    "print(int(-3.78)+int('-40'))  #int(-3.78)=-3\n",
    "print(float(3)+float('23'))\n",
    "print(str(3.14)+str(15926))"
   ]
  },
  {
   "cell_type": "markdown",
   "metadata": {},
   "source": [
    "### 5.print()函数\n",
    " - print(*objects, sep= ' ',end='\\n',file=sys.stdout,flush=False)\n",
    " - 将对象以字符串表示的方式格式化输出到流文件对象file里，其中所有非关键字参数都按str()方式进行转换为字符串输出\n",
    " - 关键字参数sep实现分隔符，默认空格\n",
    " - 关键字参数end结束字符，默认换行\\n\n",
    " - 关键字参数file定义流输出文件，默认标准系统输出sys.stdout\n",
    " - 关键字参数flush立即把内容输出到流文件，不做缓存"
   ]
  },
  {
   "cell_type": "code",
   "execution_count": 8,
   "metadata": {},
   "outputs": [
    {
     "name": "stdout",
     "output_type": "stream",
     "text": [
      "This is printed by me.\n",
      "apple & another thing and ... \n",
      "mango & another thing and ... \n",
      "mongo db & another thing and ... \n",
      "carrot & another thing and ... \n",
      "lemon & another thing and ... \n"
     ]
    }
   ],
   "source": [
    "shoplist = ['apple','mango','mongo db','carrot','lemon']\n",
    "print('This is printed by me',sep = '&',end='.\\n' )\n",
    "for item in shoplist:\n",
    "    print(item,'another thing',sep=' & ',end=' and ... \\n')"
   ]
  },
  {
   "cell_type": "markdown",
   "metadata": {},
   "source": [
    "### New style in PY3.6"
   ]
  },
  {
   "cell_type": "code",
   "execution_count": 9,
   "metadata": {},
   "outputs": [
    {
     "name": "stdout",
     "output_type": "stream",
     "text": [
      "one 1\n",
      "two 2\n",
      "1 0\n"
     ]
    }
   ],
   "source": [
    "print('%s %d' % ('one',1))     #对于Out的格式输出，%s为str,%d为数值\n",
    "print('{} {}'.format ('two',2))#可以以大括号为输出，格式为'{}'.format\n",
    "print('{1} {0}'.format(0,1))   #大括号内的顺序可调"
   ]
  },
  {
   "cell_type": "code",
   "execution_count": 12,
   "metadata": {},
   "outputs": [
    {
     "name": "stdout",
     "output_type": "stream",
     "text": [
      "1 pluse 6 is7,and not 6\n"
     ]
    }
   ],
   "source": [
    "#公式化输出\n",
    "a = 1\n",
    "b = 6\n",
    "print(f'{str(a)} pluse {str(b)} is {a + b},and not {a * b}')"
   ]
  },
  {
   "cell_type": "markdown",
   "metadata": {},
   "source": [
    "## Chapter Two 位运算内容\n",
    " - 原码、反码和补码（基础）\n",
    " - 二进制按位操作\n",
    " - 位运算的快速计算\n",
    " - 利用位运算计算整数集合\n",
    "  - python中的bin输出\n",
    "  - 案例总结\n",
    " - Leetcode位运算习题\n",
    " - Lambda简要说明"
   ]
  },
  {
   "cell_type": "markdown",
   "metadata": {},
   "source": [
    "## 二、 位运算内容"
   ]
  },
  {
   "cell_type": "markdown",
   "metadata": {},
   "source": [
    "### 1. 原码、反码和补码（计算机内部使用补码）\n",
    "最高位是符号位，0为正，1为负"
   ]
  },
  {
   "cell_type": "markdown",
   "metadata": {},
   "source": [
    "#### 原码：二进制表示（有一位符号位）\n",
    " - 00 00 00 11 --> 3\n",
    " - 10 00 00 11 --> -3\n",
    " \n",
    "#### 反码：正数的反码就是原码，负数的反码是符号位不变，其余位取反\n",
    " - 00 00 00 11 --> 3\n",
    " - 11 11 11 00 -->-3\n",
    " \n",
    "#### 补码：正数的补码就是原码，负数的补码是反码+1\n",
    " - 00 00 00 11 --> 3\n",
    " - 11 11 11 01 -->-3"
   ]
  },
  {
   "cell_type": "markdown",
   "metadata": {},
   "source": [
    "### 2.二进制按位操作\n",
    " - 按位非操作\n",
    "  - 00 00 01 01 --> 5\n",
    "      - 11 11 10 10 --> （倒运算）11 11 10 01 -->(倒运算) 00 00 01 10 --> -(1*2*2+1*2)=-6\n",
    " - 按位与操作\n",
    "  - 00 00 01 01 --> 5  &\n",
    "  - 00 00 01 10 --> 6\n",
    "      - 00 00 01 00 --> 4\n",
    " - 按位或操作\n",
    "  - 00 00 01 01 --> 5  |\n",
    "  - 00 00 01 10 --> 6\n",
    "      - 00 00 01 11 --> 7\n",
    " - 按位异或操作（满足交换律和结合律）\n",
    "  - 00 00 01 01 --> 5  ^\n",
    "  - 00 00 01 10 --> 6\n",
    "      - 00 00 00 11 --> 3\n",
    " - 按位左移操作\n",
    "  - 00 00 10 11 --> 11  \n",
    "  - 11 << 3\n",
    "      - 00 00 10 11 000 --> 11*2^3 = 88\n",
    " - 按位右移操作\n",
    "  - 00 00 10 11 --> 11  \n",
    "  - 11 >> 2\n",
    "      - 00 00 10 --> 11//2^2 = 2"
   ]
  },
  {
   "cell_type": "markdown",
   "metadata": {},
   "source": [
    "### 3.位运算的快速计算\n",
    "n << 1 --> n*2\n",
    "\n",
    "n >> 1 --> n/2 ，负奇数的运算不可用\n",
    "\n",
    "n << m --> n*(2^m)\n",
    "\n",
    "n >> m --> n/(2^m)\n",
    "#### 通过^快速交换两个整数\n",
    "a ^= b\n",
    "\n",
    "b ^= a\n",
    "\n",
    "a ^= b\n",
    "#### 通过 a & (-a) 快速获取a的最后为1位置的整数\n",
    " - 00 00 01 01 --> 5 &\n",
    " - 11 11 10 11 --> -5\n",
    "  - 00 00 00 01 --> 1\n",
    " - 00 00 11 10 --> 14 &\n",
    " - 11 11 00 10 --> -14\n",
    "  - 00 00 00 10 --> 2"
   ]
  },
  {
   "cell_type": "markdown",
   "metadata": {},
   "source": [
    "### 4.利用位运算实现整数集合\n",
    "一个数的二进制表示可以看做是一个集合，0表示不在集合中，1则在集合中。\n",
    " - 集合{1,3,4,8}可以表示成 01 00 01 10 10 \n",
    "#### 1,3,4,8表示这些位置在集合中，对一个unit的确定对应热禁止位置上为1，其余位0，可视化为{9:0,8:1,7:0,6:0,5:0,4:1,3:1,2:0,1:1,0:0}\n",
    "> 补充说明：对于0~31可用一个unit确定的集合，可以通过一个unit的32确定对应数值的位置为1，然后按照unit保存，可以进行集合的并集、交集、差集等预算；超过32的可以用对应多个无符号整数表示。\n",
    "\n",
    "#### 元素与集合的操作（a为集合，i属于数值）\n",
    "\n",
    "a | (1<<i) --> 把i插入到集合中\n",
    "\n",
    "a & ~(1<<i) --> 把i从集合中删除\n",
    "\n",
    "a & (1<<i) --> 判断i是否属于该集合（0为不属于，非0则属于）\n",
    "\n",
    "#### 集合间的操作（a和b属于数值）\n",
    "\n",
    "a补 --> ~a\n",
    "\n",
    "a 交 b --> a & b\n",
    "\n",
    "a 并 b --> a | b\n",
    "\n",
    "a 差 b --> a &(~b)"
   ]
  },
  {
   "cell_type": "code",
   "execution_count": 19,
   "metadata": {},
   "outputs": [
    {
     "name": "stdout",
     "output_type": "stream",
     "text": [
      "0b100\n",
      "-0b100\n",
      "0b111111111111111111111100\n",
      "0b111111111111111111111101\n",
      "16777213\n"
     ]
    }
   ],
   "source": [
    "#注：体会下python的bin()输出\n",
    "print(bin(4))\n",
    "print(bin(-4))\n",
    "\n",
    "print(bin(-4 & 0xffffff))\n",
    "\n",
    "print(bin(0xfffffd))\n",
    "\n",
    "print(0xfffffd)"
   ]
  },
  {
   "cell_type": "markdown",
   "metadata": {},
   "source": [
    "### 上述总结：\n",
    "1. Python中bin()一个负数（十进制），输出的为原码的二进制加上一个负号\n",
    "\n",
    "2. Python中的整型是补码形式存储。\n",
    "\n",
    "3. Python中的整型是不限长度的不会超范围溢出\n",
    "\n",
    "为了获得负数（十进制）的补码，需手动将其和十六进制数0xffffff进行按位与操作，再bin()输出，得到的才是负数的补码表示。"
   ]
  },
  {
   "cell_type": "markdown",
   "metadata": {},
   "source": [
    "### 课后题：给定一个非空整数数组，除了某个元素只出现一次以外，其余每个元素均出现两次，找出只出现一次的元素。PS：尝试使用位运算解决\n",
    "eg. [2,2,1] --> 1\n",
    "\n",
    "eg. [4,2,2,1,1] --> 4\n",
    "\n",
    " Class Solution:\n",
    "    \n",
    "    def singleNumber(self,nums: List[int]) -> int:\n",
    "        a = 0\n",
    "        for nums in List:\n",
    "            a = a ^ nums\n",
    "        return a\n",
    "\n",
    "> 原答案：利用lambda简化\n",
    "\n",
    "Class Solution:\n",
    "    \n",
    "    def singleNumber(self,nums: List[int]) -> int:\n",
    "        return reduce(lambda x,y : x ^ y ,nums)"
   ]
  },
  {
   "cell_type": "markdown",
   "metadata": {},
   "source": [
    "### Lambda简要说明"
   ]
  },
  {
   "cell_type": "code",
   "execution_count": 11,
   "metadata": {},
   "outputs": [
    {
     "name": "stdout",
     "output_type": "stream",
     "text": [
      "2 * 4 =  8\n"
     ]
    },
    {
     "data": {
      "text/plain": [
       "8"
      ]
     },
     "execution_count": 11,
     "metadata": {},
     "output_type": "execute_result"
    }
   ],
   "source": [
    "#函数定义：\n",
    "def mul(op1, op2):\n",
    "    return op1 * op2\n",
    "\n",
    "print(\"2 * 4 = \",mul (2, 4))\n",
    "#Lambda:\n",
    "mul = lambda op1,op2 : op1*op2\n",
    "mul(2,4)"
   ]
  },
  {
   "cell_type": "code",
   "execution_count": null,
   "metadata": {},
   "outputs": [],
   "source": []
  }
 ],
 "metadata": {
  "kernelspec": {
   "display_name": "Python 3",
   "language": "python",
   "name": "python3"
  },
  "language_info": {
   "codemirror_mode": {
    "name": "ipython",
    "version": 3
   },
   "file_extension": ".py",
   "mimetype": "text/x-python",
   "name": "python",
   "nbconvert_exporter": "python",
   "pygments_lexer": "ipython3",
   "version": "3.7.3"
  }
 },
 "nbformat": 4,
 "nbformat_minor": 4
}
