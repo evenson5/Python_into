{
 "cells": [
  {
   "cell_type": "code",
   "execution_count": 1,
   "metadata": {},
   "outputs": [],
   "source": [
    "from IPython.core.interactiveshell import InteractiveShell\n",
    "InteractiveShell.ast_node_interactivity = \"all\" "
   ]
  },
  {
   "cell_type": "markdown",
   "metadata": {},
   "source": [
    "## 集合\n",
    " - 集合是一种无序且元素唯一的容器。\n",
    " - Python中set与dict类似，也是一组key的集合，但不存储value.由于key不能重复，在set汇总没有重复的key.(与dict性质一致，key为不可变类型，即哈希的值)\n"
   ]
  },
  {
   "cell_type": "markdown",
   "metadata": {},
   "source": [
    "### 集合的创建\n",
    " - 可以先创建对象再加入元素\n",
    " - 在创建空集合的时候只能使用`s = set()`，因为`s = {}`创建的是空字典。"
   ]
  },
  {
   "cell_type": "code",
   "execution_count": 17,
   "metadata": {},
   "outputs": [
    {
     "data": {
      "text/plain": [
       "{'apple', 'banana'}"
      ]
     },
     "execution_count": 17,
     "metadata": {},
     "output_type": "execute_result"
    },
    {
     "data": {
      "text/plain": [
       "{1, 2, 3, 4}"
      ]
     },
     "execution_count": 17,
     "metadata": {},
     "output_type": "execute_result"
    },
    {
     "data": {
      "text/plain": [
       "{123, 234, 333, 345}"
      ]
     },
     "execution_count": 17,
     "metadata": {},
     "output_type": "execute_result"
    }
   ],
   "source": [
    "###创建集合\n",
    "basket = set()\n",
    "basket.add('apple')\n",
    "basket.add('banana')\n",
    "basket\n",
    "\n",
    "set([2,3,4,4,3,2,1])#集合是无序且唯一元素的容器，但是运行无数次依旧是1,2,3,4排序 = =。\n",
    "set([123,345,234,333])"
   ]
  },
  {
   "cell_type": "markdown",
   "metadata": {},
   "source": [
    "### set对int的无序解释:\n",
    " - 声明set和dict是无序的，其无序的实现方式是hash表。\n",
    " - 针对str的set运行无数次是乱序的，其hash值就是无序的。\n",
    " - 但是int的set不管运行多少次都是有序的，因int的hash值就是它本身。"
   ]
  },
  {
   "cell_type": "markdown",
   "metadata": {},
   "source": [
    "### 访问集合中的值\n",
    " - 可以通过使用len()内建函数得到集合的大小。\n",
    " - 利用for循环把集合中的数据一个个读取出来。\n",
    " - 通过in和not in 判断元素是否在集合中。"
   ]
  },
  {
   "cell_type": "markdown",
   "metadata": {},
   "source": [
    "### 集合的内置方法\n",
    "|    函数 |     替代方法                        |描述\n",
    "|:---------------:|:----------------------------:|:-----------------------:|\n",
    "|s.add(x)|N/A|将元素x加入集合s中,一次只增加一个元素           |\n",
    "|s.clear()|N/A|将集合重置为空，清空所有元素           |\n",
    "|s.remove()|N/A|从集合s中移除某个元素           |\n",
    "|s.discard()|N/A|移除指定元素           |\n",
    "|s.pop()|N/A|从集合s中随机移除元素，如果s为空则显示KE异常           |\n",
    "|s.union(b)|`s\\|b `|s和b中联合所有的非重复元素，赋值于新的对象           |\n",
    "|s.update(b)|`s \\|=b` |将s内容设置为s与b的并集          |\n",
    "|s.intersection(b)|s&b|   s与b集合的交集        |\n",
    "|s.intersection_update(b)|s&=b|将s的内容设置为两者的交集           |\n",
    "|s.difference(b)|s-b|在s不在b的元素           |\n",
    "|s.difference_update(b)|s-=b|将s设置为在s不在b的元素           |\n",
    "|s.symmetric_difference(b)|s^b|所有在s或b中，但不同时在s、b中的元素           |\n",
    "|s.symmetric_difference_update(b)|s^=b|将s的内容设为有所在s或b中，但不同时在a、b中的二元素           |\n",
    "|s.issubset(b)|N/A|如果s包含于b，返回True           |\n",
    "|s.issuperset(b)|N/A|如果s包含b，返回True           |\n",
    "|s.isdisjoint(b)|N/A|s与b没有交集返回True           |"
   ]
  },
  {
   "cell_type": "code",
   "execution_count": 31,
   "metadata": {},
   "outputs": [
    {
     "data": {
      "text/plain": [
       "{'apple', 'banana', 'cherry', 'melon', 'orange'}"
      ]
     },
     "execution_count": 31,
     "metadata": {},
     "output_type": "execute_result"
    }
   ],
   "source": [
    "#集合添加元素，若元素已存在则不执行任何操作。\n",
    "fruits = {'apple','banana','melon','cherry'}\n",
    "fruits.add('orange')\n",
    "fruits.add('banana')\n",
    "fruits"
   ]
  },
  {
   "cell_type": "code",
   "execution_count": 32,
   "metadata": {},
   "outputs": [
    {
     "data": {
      "text/plain": [
       "{'banana', 'cherry', 'melon', 'orange'}"
      ]
     },
     "execution_count": 32,
     "metadata": {},
     "output_type": "execute_result"
    },
    {
     "data": {
      "text/plain": [
       "{'banana', 'cherry', 'melon', 'orange'}"
      ]
     },
     "execution_count": 32,
     "metadata": {},
     "output_type": "execute_result"
    },
    {
     "data": {
      "text/plain": [
       "'melon'"
      ]
     },
     "execution_count": 32,
     "metadata": {},
     "output_type": "execute_result"
    }
   ],
   "source": [
    "#集中删除形式\n",
    "fruits.remove('apple')\n",
    "fruits\n",
    "fruits.discard('egg')  #discard删除没有的元素不会报错\n",
    "fruits\n",
    "fruits.pop()"
   ]
  },
  {
   "cell_type": "code",
   "execution_count": 37,
   "metadata": {},
   "outputs": [
    {
     "data": {
      "text/plain": [
       "{'apple', 'banana', 'bean', 'beet', 'cherry', 'cucumber', 'melon', 'potato'}"
      ]
     },
     "execution_count": 37,
     "metadata": {},
     "output_type": "execute_result"
    },
    {
     "data": {
      "text/plain": [
       "{'apple', 'banana', 'bean', 'beet', 'cherry', 'cucumber', 'melon', 'potato'}"
      ]
     },
     "execution_count": 37,
     "metadata": {},
     "output_type": "execute_result"
    }
   ],
   "source": [
    "#并集常见操作\n",
    "fruits = {'apple','banana','melon','cherry'}\n",
    "vegtables = {'cucumber','bean','beet','potato'}\n",
    "eat = fruits.union(vegtables)#union需要赋予\n",
    "eat\n",
    "\n",
    "fruits.update(vegtables)#在第一个fruits的基础上\n",
    "fruits"
   ]
  },
  {
   "cell_type": "code",
   "execution_count": 61,
   "metadata": {},
   "outputs": [
    {
     "name": "stdout",
     "output_type": "stream",
     "text": [
      "交集s: {'banana', 'apple'} 集合fruits: {'banana', 'apple', 'melon', 'cherry'}\n"
     ]
    },
    {
     "data": {
      "text/plain": [
       "{'apple', 'banana'}"
      ]
     },
     "execution_count": 61,
     "metadata": {},
     "output_type": "execute_result"
    }
   ],
   "source": [
    "#交集常见操作\n",
    "fruits = {'apple','banana','melon','cherry'}\n",
    "fruits1 ={'banana','lemon','apple','apricot'}\n",
    "s = fruits.intersection(fruits1)\n",
    "print(\"交集s:\",s,\"集合fruits:\",fruits)#对原集合无操作\n",
    "fruits.intersection_update(fruits1) #直接在第一个集合上交集并赋值第一个集合\n",
    "fruits"
   ]
  },
  {
   "cell_type": "code",
   "execution_count": 62,
   "metadata": {},
   "outputs": [
    {
     "data": {
      "text/plain": [
       "{'apricot', 'lemon'}"
      ]
     },
     "execution_count": 62,
     "metadata": {},
     "output_type": "execute_result"
    },
    {
     "name": "stdout",
     "output_type": "stream",
     "text": [
      "看一下fruits1: {'banana', 'apple', 'apricot', 'lemon'}\n",
      "这次的fruits1: {'apricot', 'lemon'}\n"
     ]
    }
   ],
   "source": [
    "#差集操作\n",
    "fruits1.difference(fruits)\n",
    "print(\"看一下fruits1:\",fruits1)\n",
    "fruits1.difference_update(fruits)\n",
    "print(\"这次的fruits1:\",fruits1)        #fruits1中移除了fruits内包含的元素"
   ]
  },
  {
   "cell_type": "code",
   "execution_count": 63,
   "metadata": {},
   "outputs": [
    {
     "data": {
      "text/plain": [
       "{'apricot', 'cherry', 'lemon', 'melon'}"
      ]
     },
     "execution_count": 63,
     "metadata": {},
     "output_type": "execute_result"
    },
    {
     "name": "stdout",
     "output_type": "stream",
     "text": [
      "看一下fruits: {'banana', 'apple', 'apricot', 'lemon'}\n",
      "这次的fruits: {'apricot', 'lemon', 'melon', 'cherry'}\n"
     ]
    }
   ],
   "source": [
    "#集合的异或\n",
    "fruits1 ={'banana','lemon','apple','apricot'}\n",
    "fruits = {'apple','banana','melon','cherry'}\n",
    "fruits.symmetric_difference(fruits1)\n",
    "print(\"看一下fruits:\",fruits1)\n",
    "fruits.symmetric_difference_update(fruits1)\n",
    "print(\"这次的fruits:\",fruits)   #fruits中移除了与fruits的交集，添加了fruits中没有的元素"
   ]
  },
  {
   "cell_type": "code",
   "execution_count": 69,
   "metadata": {},
   "outputs": [
    {
     "data": {
      "text/plain": [
       "False"
      ]
     },
     "execution_count": 69,
     "metadata": {},
     "output_type": "execute_result"
    },
    {
     "data": {
      "text/plain": [
       "True"
      ]
     },
     "execution_count": 69,
     "metadata": {},
     "output_type": "execute_result"
    },
    {
     "data": {
      "text/plain": [
       "False"
      ]
     },
     "execution_count": 69,
     "metadata": {},
     "output_type": "execute_result"
    }
   ],
   "source": [
    "#集合包含的判断\n",
    "fruits = {'apple','banana','melon','cherry'}\n",
    "fruits1 ={'banana','apple'}\n",
    "fruits.issubset(fruits1) \n",
    "fruits.issuperset(fruits1)\n",
    "fruits.isdisjoint(fruits1) #判断是否没有交集"
   ]
  },
  {
   "cell_type": "markdown",
   "metadata": {},
   "source": [
    "### 练习题\n",
    "1. 怎么表示只包含⼀个数字1的元组。\n",
    "2. 创建一个空集合，增加 {‘x’,‘y’,‘z’} 三个元素。\n",
    "3. 列表['A', 'B', 'A', 'B']去重。\n",
    "4. 求两个集合{6, 7, 8}，{7, 8, 9}中不重复的元素（差集指的是两个集合交集外的部分）。\n",
    "5. 求{'A', 'B', 'C'}中元素在 {'B', 'C', 'D'}中出现的次数。"
   ]
  },
  {
   "cell_type": "code",
   "execution_count": 94,
   "metadata": {},
   "outputs": [
    {
     "data": {
      "text/plain": [
       "'1.只含数字1的元组'"
      ]
     },
     "execution_count": 94,
     "metadata": {},
     "output_type": "execute_result"
    },
    {
     "data": {
      "text/plain": [
       "{1}"
      ]
     },
     "execution_count": 94,
     "metadata": {},
     "output_type": "execute_result"
    },
    {
     "data": {
      "text/plain": [
       "'2'"
      ]
     },
     "execution_count": 94,
     "metadata": {},
     "output_type": "execute_result"
    },
    {
     "data": {
      "text/plain": [
       "{'x', 'y', 'z'}"
      ]
     },
     "execution_count": 94,
     "metadata": {},
     "output_type": "execute_result"
    },
    {
     "data": {
      "text/plain": [
       "'3'"
      ]
     },
     "execution_count": 94,
     "metadata": {},
     "output_type": "execute_result"
    },
    {
     "data": {
      "text/plain": [
       "['A', 'B']"
      ]
     },
     "execution_count": 94,
     "metadata": {},
     "output_type": "execute_result"
    },
    {
     "data": {
      "text/plain": [
       "'4'"
      ]
     },
     "execution_count": 94,
     "metadata": {},
     "output_type": "execute_result"
    },
    {
     "data": {
      "text/plain": [
       "{6, 9}"
      ]
     },
     "execution_count": 94,
     "metadata": {},
     "output_type": "execute_result"
    },
    {
     "data": {
      "text/plain": [
       "'5'"
      ]
     },
     "execution_count": 94,
     "metadata": {},
     "output_type": "execute_result"
    },
    {
     "name": "stdout",
     "output_type": "stream",
     "text": [
      "出现元素: B 出现1次\n",
      "出现元素: C 出现1次\n"
     ]
    }
   ],
   "source": [
    "'''1.只含数字1的元组'''\n",
    "s =set([1])\n",
    "s\n",
    "'''2'''\n",
    "s = set()\n",
    "s.update({'x','y','z'})\n",
    "s\n",
    "'''3'''\n",
    "li = ['A','B','A','B']\n",
    "s = set(li)\n",
    "li = list(s)\n",
    "li\n",
    "'''4'''\n",
    "s1 = {6,7,8}\n",
    "s2 = {7,8,9}\n",
    "s=s1.symmetric_difference(s2)\n",
    "s\n",
    "'''5'''\n",
    "s1 = {'A','B','C'}\n",
    "s2 = {'B','C','D'}\n",
    "for i in s1:\n",
    "    num = 0\n",
    "    if i in s2:\n",
    "        num += 1\n",
    "        print(\"出现元素:\",i,\"出现%d次\"%num)\n",
    "    else:\n",
    "        continue"
   ]
  },
  {
   "cell_type": "markdown",
   "metadata": {},
   "source": [
    "### 不可变集合 \n",
    " - Python 提供了不能改变元素的集合的实现版本，即不能增加或删除元素，类型名叫frozenset。需要注意的是frozenset仍然可以进行集合操作，只是**不能用带有update的方法**。\n",
    " - `frozenset([iterable])` 返回一个冻结的集合，冻结后集合不能再添加或删除任何元素。"
   ]
  },
  {
   "cell_type": "code",
   "execution_count": 72,
   "metadata": {},
   "outputs": [
    {
     "name": "stdout",
     "output_type": "stream",
     "text": [
      "a: frozenset({0, 1, 2, 3, 4, 5, 6, 7, 8, 9}) b: {0, 1, 2, 3, 4}\n"
     ]
    },
    {
     "data": {
      "text/plain": [
       "frozenset({5, 6, 7, 8, 9})"
      ]
     },
     "execution_count": 72,
     "metadata": {},
     "output_type": "execute_result"
    },
    {
     "ename": "AttributeError",
     "evalue": "'frozenset' object has no attribute 'symmetric_difference_update'",
     "output_type": "error",
     "traceback": [
      "\u001b[1;31m---------------------------------------------------------------------------\u001b[0m",
      "\u001b[1;31mAttributeError\u001b[0m                            Traceback (most recent call last)",
      "\u001b[1;32m<ipython-input-72-7cdb3a7f7af4>\u001b[0m in \u001b[0;36m<module>\u001b[1;34m\u001b[0m\n\u001b[0;32m      3\u001b[0m \u001b[0mprint\u001b[0m\u001b[1;33m(\u001b[0m\u001b[1;34m\"a:\"\u001b[0m\u001b[1;33m,\u001b[0m\u001b[0ma\u001b[0m\u001b[1;33m,\u001b[0m\u001b[1;34m\"b:\"\u001b[0m\u001b[1;33m,\u001b[0m\u001b[0mb\u001b[0m\u001b[1;33m)\u001b[0m\u001b[1;33m\u001b[0m\u001b[1;33m\u001b[0m\u001b[0m\n\u001b[0;32m      4\u001b[0m \u001b[0ma\u001b[0m\u001b[1;33m.\u001b[0m\u001b[0msymmetric_difference\u001b[0m\u001b[1;33m(\u001b[0m\u001b[0mb\u001b[0m\u001b[1;33m)\u001b[0m\u001b[1;33m\u001b[0m\u001b[1;33m\u001b[0m\u001b[0m\n\u001b[1;32m----> 5\u001b[1;33m \u001b[0ma\u001b[0m\u001b[1;33m.\u001b[0m\u001b[0msymmetric_difference_update\u001b[0m\u001b[1;33m(\u001b[0m\u001b[0mb\u001b[0m\u001b[1;33m)\u001b[0m\u001b[1;31m#会显示对应的提示\u001b[0m\u001b[1;33m\u001b[0m\u001b[1;33m\u001b[0m\u001b[0m\n\u001b[0m",
      "\u001b[1;31mAttributeError\u001b[0m: 'frozenset' object has no attribute 'symmetric_difference_update'"
     ]
    }
   ],
   "source": [
    "a = frozenset(range(10))  # 生成一个新的不可变集合\n",
    "b = set(range(5))\n",
    "print(\"a:\",a,\"b:\",b)\n",
    "a.symmetric_difference(b)\n",
    "a.symmetric_difference_update(b)#会显示对应的提示"
   ]
  },
  {
   "cell_type": "markdown",
   "metadata": {},
   "source": [
    "### 参考资料：\n",
    "https://blog.csdn.net/qq_16617397/article/details/83627602\n",
    "\n",
    "《利用Python进行数据分析第三章》\n",
    "\n",
    "https://github.com/datawhalechina/team-learning-program/blob/master/PythonLanguage/10.%20%E9%9B%86%E5%90%88.md"
   ]
  },
  {
   "cell_type": "code",
   "execution_count": null,
   "metadata": {},
   "outputs": [],
   "source": []
  }
 ],
 "metadata": {
  "kernelspec": {
   "display_name": "Python 3",
   "language": "python",
   "name": "python3"
  },
  "language_info": {
   "codemirror_mode": {
    "name": "ipython",
    "version": 3
   },
   "file_extension": ".py",
   "mimetype": "text/x-python",
   "name": "python",
   "nbconvert_exporter": "python",
   "pygments_lexer": "ipython3",
   "version": "3.7.3"
  }
 },
 "nbformat": 4,
 "nbformat_minor": 4
}
