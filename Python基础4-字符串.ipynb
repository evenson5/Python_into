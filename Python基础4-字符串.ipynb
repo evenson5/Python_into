{
 "cells": [
  {
   "cell_type": "code",
   "execution_count": 1,
   "metadata": {},
   "outputs": [],
   "source": [
    "from IPython.core.interactiveshell import InteractiveShell\n",
    "InteractiveShell.ast_node_interactivity = \"all\""
   ]
  },
  {
   "cell_type": "markdown",
   "metadata": {},
   "source": [
    "## 字符串\n",
    " - Python中字符串被定义为引号之间的字符集合\n",
    " - Python支持使用成对的单引号或双引号。"
   ]
  },
  {
   "cell_type": "code",
   "execution_count": 14,
   "metadata": {},
   "outputs": [
    {
     "data": {
      "text/plain": [
       "2"
      ]
     },
     "execution_count": 14,
     "metadata": {},
     "output_type": "execute_result"
    },
    {
     "name": "stdout",
     "output_type": "stream",
     "text": [
      "I don't love python.\n",
      "I love python.\n",
      "55\n",
      "10\n"
     ]
    }
   ],
   "source": [
    "t1 = \"I don't love python.\"\n",
    "t2 = 'I love python.'\n",
    "isinstance(t1,str)+isinstance(t2,str)\n",
    "print(t1,t2,sep='\\n')\n",
    "\n",
    "print('5'+\"5\")\n",
    "print(5+5)"
   ]
  },
  {
   "cell_type": "markdown",
   "metadata": {},
   "source": [
    "### 转义字符串表格\n",
    "|    转义字符 |        描述               |转义字符|        描述               |\n",
    "|:---------------:|:------------------:|:-----------:|:-----------------------:|\n",
    "|`\\`(行尾时)|续行符，表示一行没有结束|`\\n `        |换行符|\n",
    "|`\\\\` |反斜杠符号 |`\\v`            |垂直制表符|\n",
    "|`\\'`|单引号|`\\t` |水平制表符         |\n",
    "|`\\\"`|双引号|`\\r`        |回车符        |\n",
    "|`\\a`|响铃符，发出系统响铃 |`\\f`    |换页符       |\n",
    "|`\\b`|退格符（Backspace）|`\\o`          |八进制数代表的字符        |\n",
    "|`\\e`|转义符|`\\x`  |十六进制数代表的字符\n",
    "|`\\000`|终止符，`\\000`后的字符串全部忽略|`\\other`    |其他的字符以普通格式输出      |"
   ]
  },
  {
   "cell_type": "code",
   "execution_count": 20,
   "metadata": {},
   "outputs": [
    {
     "name": "stdout",
     "output_type": "stream",
     "text": [
      "Let's go!\n",
      "He said:\"You're lucky!\"\n",
      "I think this is too simple to solve it.\n",
      " Perhaps you forgot something like this,.\band this one.\n"
     ]
    }
   ],
   "source": [
    "###转义字符应用\n",
    "print('Let\\'s go!')\n",
    "print('He said:\\\"You\\'re lucky!\"')\n",
    "print('I think this is too simple to solve it.\\n Perhaps you forgot something like this,.\\band this one.')"
   ]
  },
  {
   "cell_type": "code",
   "execution_count": 19,
   "metadata": {},
   "outputs": [
    {
     "name": "stdout",
     "output_type": "stream",
     "text": [
      "D:\\DataWhale Files\\data\\python基础\n",
      "D:\\DataWhale Files\\data\\python基础\n"
     ]
    }
   ],
   "source": [
    "### 指定绝对路径引用\n",
    "print(\"D:\\\\DataWhale Files\\\\data\\\\python基础\")\n",
    "print(r'D:\\DataWhale Files\\data\\python基础')"
   ]
  },
  {
   "cell_type": "markdown",
   "metadata": {},
   "source": [
    "### 字符串的切片与拼接\n",
    " - 类似元组是immutable\n",
    " - 从0开始\n",
    " - 切片的[start:end)\n",
    " - 索引同列表索引"
   ]
  },
  {
   "cell_type": "code",
   "execution_count": 26,
   "metadata": {},
   "outputs": [
    {
     "data": {
      "text/plain": [
       "'.'"
      ]
     },
     "execution_count": 26,
     "metadata": {},
     "output_type": "execute_result"
    },
    {
     "data": {
      "text/plain": [
       "'.elttil a nohtyp evol I'"
      ]
     },
     "execution_count": 26,
     "metadata": {},
     "output_type": "execute_result"
    },
    {
     "data": {
      "text/plain": [
       "'I love python a little.'"
      ]
     },
     "execution_count": 26,
     "metadata": {},
     "output_type": "execute_result"
    }
   ],
   "source": [
    "s = 'I love python a little.'\n",
    "s[-1]\n",
    "s[::-1]\n",
    "s[:3] + 'o'+ s[4:]"
   ]
  },
  {
   "cell_type": "markdown",
   "metadata": {},
   "source": [
    "### 常用内置方法\n",
    "**大小写**\n",
    " - capitalize()：将字符串的第一个字符转换为大写。\n",
    " - lower():将字符串所有大写字符转为小写。\n",
    " - upper():将字符串所有小写字符转为大写。\n",
    " - swapcase():将字符串所有大写转为小写，小写转为大写。（大小写调换哈）"
   ]
  },
  {
   "cell_type": "code",
   "execution_count": 28,
   "metadata": {},
   "outputs": [
    {
     "data": {
      "text/plain": [
       "'I love python. xie xie datawhale.'"
      ]
     },
     "execution_count": 28,
     "metadata": {},
     "output_type": "execute_result"
    },
    {
     "data": {
      "text/plain": [
       "'i love python. xie xie datawhale.'"
      ]
     },
     "execution_count": 28,
     "metadata": {},
     "output_type": "execute_result"
    },
    {
     "data": {
      "text/plain": [
       "'I LOVE PYTHON. XIE XIE DATAWHALE.'"
      ]
     },
     "execution_count": 28,
     "metadata": {},
     "output_type": "execute_result"
    },
    {
     "data": {
      "text/plain": [
       "'i love python. XIE XIE DATAWHALE.'"
      ]
     },
     "execution_count": 28,
     "metadata": {},
     "output_type": "execute_result"
    }
   ],
   "source": [
    "###大小写转换案例：\n",
    "st = 'I LOVE PYTHON. xie xie datawhale.'\n",
    "st.capitalize()\n",
    "st.lower()\n",
    "st.upper()\n",
    "st.swapcase()"
   ]
  },
  {
   "cell_type": "markdown",
   "metadata": {},
   "source": [
    "**检查字符串包含的内容**\n",
    " - count(str, beg=0, end=len(string)):返回str在string里出现的次数。若`beg`或`end`指定，则返回指定范围内的次数。\n",
    " - endswith(suffix, beg=0, end=len(string)):检查字符串是否以指定子字符串suffix结束，beg和end同上。\n",
    " - startswith(substr, beg=0, end=len(string)):检查字符串是否以指定字符串substr开始，beg和end同上。\n",
    " - find(str, beg=0, end=len(string)):检查str是否包含在字符串中，beg和end同上；如果包含返回开始的索引值，否则返回-1.\n",
    " - rfind(str, beg=0, end=len(string)):类似find函数，从右边查找。\n",
    " - isnumeric():如果字符串中只包含数字字符，返回True，否则False."
   ]
  },
  {
   "cell_type": "code",
   "execution_count": 37,
   "metadata": {
    "scrolled": true
   },
   "outputs": [
    {
     "data": {
      "text/plain": [
       "2"
      ]
     },
     "execution_count": 37,
     "metadata": {},
     "output_type": "execute_result"
    },
    {
     "data": {
      "text/plain": [
       "True"
      ]
     },
     "execution_count": 37,
     "metadata": {},
     "output_type": "execute_result"
    },
    {
     "data": {
      "text/plain": [
       "36"
      ]
     },
     "execution_count": 37,
     "metadata": {},
     "output_type": "execute_result"
    },
    {
     "data": {
      "text/plain": [
       "False"
      ]
     },
     "execution_count": 37,
     "metadata": {},
     "output_type": "execute_result"
    }
   ],
   "source": [
    "st = 'I LOVE PYTHON. xie xie datawhale.55555'\n",
    "st.count('xie')\n",
    "st.endswith('55')\n",
    "st.rfind('55')\n",
    "st.isnumeric()"
   ]
  },
  {
   "cell_type": "markdown",
   "metadata": {},
   "source": [
    "### 填充使对齐\n",
    " - ljust(width[,fillchar]):返回一个原字符串**左对齐**，并使用fillchar(默认空格)填充至**长度width**的新字符串。\n",
    " - rjust(width[,fillchar]):返回一个原字符串**右对齐**，并使用fillchar（默认空格）填充**致长度width**的新字符串。"
   ]
  },
  {
   "cell_type": "code",
   "execution_count": 55,
   "metadata": {},
   "outputs": [
    {
     "data": {
      "text/plain": [
       "'hello 110100'"
      ]
     },
     "execution_count": 55,
     "metadata": {},
     "output_type": "execute_result"
    },
    {
     "data": {
      "text/plain": [
       "'hello 1101'"
      ]
     },
     "execution_count": 55,
     "metadata": {},
     "output_type": "execute_result"
    },
    {
     "ename": "TypeError",
     "evalue": "The fill character must be exactly one character long",
     "output_type": "error",
     "traceback": [
      "\u001b[1;31m---------------------------------------------------------------------------\u001b[0m",
      "\u001b[1;31mTypeError\u001b[0m                                 Traceback (most recent call last)",
      "\u001b[1;32m<ipython-input-55-3a2582364aa3>\u001b[0m in \u001b[0;36m<module>\u001b[1;34m\u001b[0m\n\u001b[0;32m      2\u001b[0m \u001b[0mst\u001b[0m\u001b[1;33m.\u001b[0m\u001b[0mljust\u001b[0m\u001b[1;33m(\u001b[0m\u001b[1;36m12\u001b[0m\u001b[1;33m,\u001b[0m\u001b[1;34m'0'\u001b[0m\u001b[1;33m)\u001b[0m \u001b[1;31m#左对齐，右边添加‘0’元素，满12个（大于10）\u001b[0m\u001b[1;33m\u001b[0m\u001b[1;33m\u001b[0m\u001b[0m\n\u001b[0;32m      3\u001b[0m \u001b[0mst\u001b[0m\u001b[1;33m.\u001b[0m\u001b[0mrjust\u001b[0m\u001b[1;33m(\u001b[0m\u001b[1;36m10\u001b[0m\u001b[1;33m,\u001b[0m\u001b[1;34m'1'\u001b[0m\u001b[1;33m)\u001b[0m \u001b[1;31m#右对齐，左边添加“1”元素，满10个（等于10），结果就与原来一致\u001b[0m\u001b[1;33m\u001b[0m\u001b[1;33m\u001b[0m\u001b[0m\n\u001b[1;32m----> 4\u001b[1;33m \u001b[0mst\u001b[0m\u001b[1;33m.\u001b[0m\u001b[0mljust\u001b[0m\u001b[1;33m(\u001b[0m\u001b[1;36m12\u001b[0m\u001b[1;33m,\u001b[0m\u001b[1;34m'10'\u001b[0m\u001b[1;33m)\u001b[0m\u001b[1;31m#左对齐，右边添加“10”两个元素，显示必须是一个元素\u001b[0m\u001b[1;33m\u001b[0m\u001b[1;33m\u001b[0m\u001b[0m\n\u001b[0m",
      "\u001b[1;31mTypeError\u001b[0m: The fill character must be exactly one character long"
     ]
    }
   ],
   "source": [
    "st = 'hello 1101'#长度为10的str\n",
    "st.ljust(12,'0') #左对齐，右边添加‘0’元素，满12个（大于10）\n",
    "st.rjust(10,'1') #右对齐，左边添加“1”元素，满10个（等于10），结果就与原来一致\n",
    "st.ljust(12,'10')#左对齐，右边添加“10”两个元素，显示必须是一个元素"
   ]
  },
  {
   "cell_type": "markdown",
   "metadata": {},
   "source": [
    "#### 小结：\n",
    " - 对于填充str函数而言，添加后的长度即width等于小于原str长度的，答案为原str。\n",
    " - 添加的元素超过1个的则添加失败，只能为1个，空格可以，不能为空。"
   ]
  },
  {
   "cell_type": "markdown",
   "metadata": {},
   "source": [
    "### 头尾删掉字符串\n",
    " - lstrip([chars]):截掉字符串左边的空格或指定字符,默认为空格，开头段字符的移除在遇到未包含的元素时停止，顺序错乱也OK。\n",
    " - rstrip([chars]):删除字符串末尾的空格或指定字符，同上。\n",
    " - strip([chars]):在字符串上执行lstrip()和rstrip()."
   ]
  },
  {
   "cell_type": "code",
   "execution_count": 95,
   "metadata": {},
   "outputs": [
    {
     "name": "stdout",
     "output_type": "stream",
     "text": [
      "datawhal\n"
     ]
    },
    {
     "data": {
      "text/plain": [
       "'依次从头删除，默认为删除空格(str里有无都可以)，删一个加一个，跳过顺序但包含前面所有的字符，继续操作'"
      ]
     },
     "execution_count": 95,
     "metadata": {},
     "output_type": "execute_result"
    },
    {
     "name": "stdout",
     "output_type": "stream",
     "text": [
      "I LOVE PYTHON. xie xi\n"
     ]
    },
    {
     "data": {
      "text/plain": [
       "'strip()可以头或尾删除字符串，同上，另外跳过顺序对于已包含在内的不重复也已删除，例如datawhale中前面两个‘a’，因为‘dtwhale’中已包含了a,所以答案是删除整个datawhale；因为strip里包含空格，xie中的e同理也被删除。而i并未加入strip函数中，所以停在了xi，前面没有小写字母所以保存完好。'"
      ]
     },
     "execution_count": 95,
     "metadata": {},
     "output_type": "execute_result"
    }
   ],
   "source": [
    "st = 'I LOVE PYTHON. xie xie datawhale.'\n",
    "print(st.lstrip().strip('I LOVE').strip(' xieTHON.PY'))#此处顺序已错乱\n",
    "'''依次从头删除，默认为删除空格(str里有无都可以)，删一个加一个，跳过顺序但包含前面所有的字符，继续操作'''\n",
    "print(st.strip().strip(' dtwhale.'))\n",
    "'''strip()可以头或尾删除字符串，同上，另外跳过顺序对于已包含在内的不重复也已删除，例如datawhale中前面两个‘a’，因为‘dtwhale’中已包含了a,所以答案是删除整个datawhale；因为strip里包含空格，xie中的e同理也被删除。而i并未加入strip函数中，所以停在了xi，前面没有小写字母所以保存完好。'''"
   ]
  },
  {
   "cell_type": "markdown",
   "metadata": {},
   "source": [
    "### 字符串分组&替换&切分\n",
    " - partition(sub):找到字符串sub,将字符串分为一个三元组`(pre_sub,sub,fol_sub)`，如果字符串中不包含sub则返回('原字符串','','').\n",
    " - rpartition(sub):类似于partition()方法，不过从右边开始查找。\n",
    " - replace(old,new[,max]):将字符串old替换成new,如果max指定，则替换不超过max次。\n",
    " - split(sep=None,maxsplit=-1):不带参数默认是以空格为分隔符切片字符串，如果maxsplit参数有设置，即默认为-1则分割最大个数的子字符串，若有数字num，则分割num次，得到num+1个数,返回切片后的字符串拼接的列表。\n",
    " - splitlines([keepends]):按照行('\\r','\\rn','\\n')分隔，返回一个包含各行作为元素的列表，如果keepends=False,不包含换行符，反之为True则保留换行符。"
   ]
  },
  {
   "cell_type": "code",
   "execution_count": 4,
   "metadata": {},
   "outputs": [
    {
     "data": {
      "text/plain": [
       "('I LOVE PYTHON', '. ', 'xie xie DataWhale.')"
      ]
     },
     "execution_count": 4,
     "metadata": {},
     "output_type": "execute_result"
    },
    {
     "data": {
      "text/plain": [
       "('I LOVE PYTHON. xie', ' xie', ' DataWhale.')"
      ]
     },
     "execution_count": 4,
     "metadata": {},
     "output_type": "execute_result"
    },
    {
     "data": {
      "text/plain": [
       "(' I LOVE PYTHON', '. ', 'xie xie DataWhale.')"
      ]
     },
     "execution_count": 4,
     "metadata": {},
     "output_type": "execute_result"
    }
   ],
   "source": [
    "###分组案例\n",
    "st = ' I LOVE PYTHON. xie xie DataWhale.'\n",
    "st.strip().partition('. ')    #strip()去掉前置空格，partition将.和空格作为sub，分割成三段\n",
    "st.strip().rpartition(' xie') #同上，rpartition从右边开始，将空格和'xie'作为sub分割三段\n",
    "st.partition('. ')       #不去掉前置空格，同第一种分割情况"
   ]
  },
  {
   "cell_type": "code",
   "execution_count": 13,
   "metadata": {},
   "outputs": [
    {
     "data": {
      "text/plain": [
       "' I LOVE PYTHON. Thank you for the DataWhale.'"
      ]
     },
     "execution_count": 13,
     "metadata": {},
     "output_type": "execute_result"
    },
    {
     "data": {
      "text/plain": [
       "\"将'xie xie'代替为‘Thank you for the’，默认所有的量\""
      ]
     },
     "execution_count": 13,
     "metadata": {},
     "output_type": "execute_result"
    },
    {
     "data": {
      "text/plain": [
       "' I LOVE PYTHON. Xie Xie DataWhale.'"
      ]
     },
     "execution_count": 13,
     "metadata": {},
     "output_type": "execute_result"
    }
   ],
   "source": [
    "###替代案例\n",
    "st = ' I LOVE PYTHON. xie xie DataWhale.'\n",
    "st.replace('xie xie','Thank you for the')\n",
    "'''将'xie xie'代替为‘Thank you for the’，默认所有的量'''\n",
    "st.replace('xie ','Xie ',2)#将'xie'代替为'Xie'，次数为2次"
   ]
  },
  {
   "cell_type": "code",
   "execution_count": 36,
   "metadata": {},
   "outputs": [
    {
     "data": {
      "text/plain": [
       "['I LOVE PYTHON', 'xie xie DataWhale.']"
      ]
     },
     "execution_count": 36,
     "metadata": {},
     "output_type": "execute_result"
    },
    {
     "data": {
      "text/plain": [
       "['I LOVE PYTHON', ' xie xie DataWhale', '']"
      ]
     },
     "execution_count": 36,
     "metadata": {},
     "output_type": "execute_result"
    },
    {
     "data": {
      "text/plain": [
       "\"以'.'为分割线，maxsplit取默认值，最大可能分割str,实际分割次数为2次，得到个数为3个，即maxsplit=2，同下\""
      ]
     },
     "execution_count": 36,
     "metadata": {},
     "output_type": "execute_result"
    },
    {
     "data": {
      "text/plain": [
       "['I LOVE PYTHON', ' xie xie DataWhale', '']"
      ]
     },
     "execution_count": 36,
     "metadata": {},
     "output_type": "execute_result"
    },
    {
     "data": {
      "text/plain": [
       "'将字符串sr以\"[\"为分隔符，拆分为\"hello boy<\"和\"www.baidu.com]>byebye\"分别赋值于u1和u2'"
      ]
     },
     "execution_count": 36,
     "metadata": {},
     "output_type": "execute_result"
    },
    {
     "data": {
      "text/plain": [
       "'www.baidu.com'"
      ]
     },
     "execution_count": 36,
     "metadata": {},
     "output_type": "execute_result"
    }
   ],
   "source": [
    "###切分案例\n",
    "st = ' I LOVE PYTHON. xie xie DataWhale.'\n",
    "st.strip().split('. ')    #以'. '为分割线，最大可能分割str\n",
    "st.strip().split('.',maxsplit=-1)\n",
    "'''以'.'为分割线，maxsplit取默认值，最大可能分割str,实际分割次数为2次，得到个数为3个，即maxsplit=2，同下'''\n",
    "st.strip().split('.',maxsplit=2)\n",
    "\n",
    "##分割后保存到相应变量中\n",
    "sr = \"hello boy<[www.baidu.com]>byebye\"\n",
    "u1, u2= sr.split('[') \n",
    "'''将字符串sr以\"[\"为分隔符，拆分为\"hello boy<\"和\"www.baidu.com]>byebye\"分别赋值于u1和u2'''\n",
    "u3 = u2.split(']')[0]#将u2以']'为分隔符且取第一部分即'www.baidu.com'，赋值给u3\n",
    "u3"
   ]
  },
  {
   "cell_type": "code",
   "execution_count": 32,
   "metadata": {},
   "outputs": [
    {
     "name": "stdout",
     "output_type": "stream",
     "text": [
      "hello\n",
      "baby \n",
      "~\n"
     ]
    },
    {
     "data": {
      "text/plain": [
       "['hello', 'baby ', '~']"
      ]
     },
     "execution_count": 32,
     "metadata": {},
     "output_type": "execute_result"
    }
   ],
   "source": [
    "##split应用到print中\n",
    "c = '''hello\n",
    "baby \n",
    "~'''\n",
    "print(c)\n",
    "c.split('\\n')"
   ]
  },
  {
   "cell_type": "code",
   "execution_count": 37,
   "metadata": {},
   "outputs": [
    {
     "name": "stdout",
     "output_type": "stream",
     "text": [
      "['I ', ' Love ', ' LsgoGroup']\n",
      "['I \\n', ' Love \\n', ' LsgoGroup']\n"
     ]
    }
   ],
   "source": [
    "str6 = 'I \\n Love \\n LsgoGroup'\n",
    "print(str6.splitlines())  \n",
    "print(str6.splitlines(True))"
   ]
  },
  {
   "cell_type": "markdown",
   "metadata": {},
   "source": [
    "### 字符串格式化\n",
    " - format格式化函数：需要结合常见的Python字符串格式化符号，应用到函数中。\n",
    " \n",
    "|    符号 |        描述               |\n",
    "|:---------------:|:------------------|\n",
    "|%c|格式化字符及其ASCII码|\n",
    "|%s |格式化字符串，用str()方法处理对象 |\n",
    "|%r|格式化字符串，用rper()方法处理对象,rper()即将对象转化为解释器读取的形式|\n",
    "|%d|格式化整数|\n",
    "|%o|格式化无符号八进制数 |\n",
    "|%x   |格式化无符号十六进制数      |\n",
    "|%X|格式化无符号十六进制数（大写）|\n",
    "|%f         |格式化浮点数字，可指定小数点后的精度      |\n",
    "|%e|用科学计数法格式化浮点数|\n",
    "|%E  |作用同%e|\n",
    "|%g|可以根据值的大小决定使用%f或%e|\n",
    "|%G    |作用同%g     |"
   ]
  },
  {
   "cell_type": "code",
   "execution_count": 49,
   "metadata": {},
   "outputs": [
    {
     "name": "stdout",
     "output_type": "stream",
     "text": [
      "a,b,c\n",
      "我叫Sho，今年才28岁，确切的来说是28.7年岁\n",
      "八进制：12，十六进制：a，十六进制大写：A\n",
      "科学计数法：2.345678e+01,推荐计数：23.4568\n"
     ]
    },
    {
     "data": {
      "text/plain": [
       "'字符串显现的两种表达方式'"
      ]
     },
     "execution_count": 49,
     "metadata": {},
     "output_type": "execute_result"
    },
    {
     "name": "stdout",
     "output_type": "stream",
     "text": [
      "I said:'I am 28 years old..'\n"
     ]
    },
    {
     "data": {
      "text/plain": [
       "\"注意前后两个'.'的位置，前者是字符串引用，所以.位置在整个print里面。后者属于先将字符串转化为解释器，解释器自带‘’单引号，后加的符号在引用解释之后，即单引号之后。\""
      ]
     },
     "execution_count": 49,
     "metadata": {},
     "output_type": "execute_result"
    },
    {
     "name": "stdout",
     "output_type": "stream",
     "text": [
      "I said:'I am 28 years old.'.\n"
     ]
    }
   ],
   "source": [
    "###字符串格式化案例（多应用）\n",
    "print('%c,%c,%c'%(97,98,99))\n",
    "print('我叫%s，今年才%d岁，确切的来说是%.1f年岁'%('Sho',28,28.7))\n",
    "print('八进制：%o，十六进制：%x，十六进制大写：%X'%(10,10,10))\n",
    "print('科学计数法：%e,推荐计数：%g'%(23.45678,23.45678))\n",
    "'''字符串显现的两种表达方式'''\n",
    "text = 'I am %d years old.'%28\n",
    "print(\"I said:'%s.'\"%text)\n",
    "'''注意前后两个'.'的位置，前者是字符串引用，所以.位置在整个print里面。后者属于先将字符串转化为解释器，解释器自带‘’单引号，后加的符号在引用解释之后，即单引号之后。'''\n",
    "print(\"I said:%r.\"%text)"
   ]
  },
  {
   "cell_type": "markdown",
   "metadata": {},
   "source": [
    "#### 格式化操作符辅助指令\n",
    "\n",
    "|    符号 |        描述               |\n",
    "|:---------------:|:------------------|\n",
    "|m.n|m是显示的最小总宽度，n是小数点后的位数（若可用的话）|\n",
    "|-|用作左对齐 |\n",
    "|+|在正数前面显示加号（+）|\n",
    "|#|八进制数前面显示零（0），十六进制前面显示'0x'或大写时的'0X'|\n",
    "|0|显示的数字前面填充‘0’而不是默认的空格 |"
   ]
  },
  {
   "cell_type": "code",
   "execution_count": 54,
   "metadata": {},
   "outputs": [
    {
     "name": "stdout",
     "output_type": "stream",
     "text": [
      "29.40\n",
      "    10\n"
     ]
    },
    {
     "data": {
      "text/plain": [
       "'格式化整数，不足的左边添加对应不足长度空格；格式化浮点数对于整数位置不足的不需要。'"
      ]
     },
     "execution_count": 54,
     "metadata": {},
     "output_type": "execute_result"
    },
    {
     "name": "stdout",
     "output_type": "stream",
     "text": [
      "10    \n",
      "+10\n",
      "八进制：0o12，十六进制：0xa,十六进制大写：0XA\n",
      "用0填充：000010\n"
     ]
    }
   ],
   "source": [
    "#结合辅助指令进行格式化操作案例：\n",
    "print('%4.2f'%29.39584)#格式化浮点数对于整数保留4位（不足则按照最大的保留），小数2位四舍五入\n",
    "print('%6d'%10)        \n",
    "'''格式化整数，不足的左边添加对应不足长度空格；格式化浮点数对于整数位置不足的不需要。'''\n",
    "print('%-6d'%10)#左对齐，不足的在末尾处添加对应空格\n",
    "print('%+d'%10) #正数前面显示＋,负数前面没有影响还是负号\n",
    "print('八进制：%#o，十六进制：%#x,十六进制大写：%#X'%(10,10,10))\n",
    "print('用0填充：%06d'%10)#0代替了空格"
   ]
  },
  {
   "cell_type": "markdown",
   "metadata": {},
   "source": [
    "### 练习题\n",
    "1. 字符串函数回顾\n",
    "\n",
    " - 怎么批量替换字符串中的元素？\n",
    " - 怎么把字符串按照空格进⾏拆分？\n",
    " - 怎么去除字符串⾸位的空格？"
   ]
  },
  {
   "cell_type": "markdown",
   "metadata": {},
   "source": [
    "#### 第1题解答：\n",
    "#批量替换字符串中的元素：\n",
    "\n",
    "`str.replace(old,new[,max])`\n",
    "\n",
    "其中old为原字符串被替代的，new为新替代的，max默认即可\n",
    "\n",
    "#字符串按照空格进行拆分：\n",
    "\n",
    "`str.split()`\n",
    "\n",
    "#去除字符串中首位的空格\n",
    "\n",
    "`str.lstrip()`"
   ]
  },
  {
   "cell_type": "markdown",
   "metadata": {},
   "source": [
    "2. 实现isdigit函数\n",
    "\n",
    "题目要求\n",
    "\n",
    "实现函数isdigit， 判断字符串里是否只包含数字0~9"
   ]
  },
  {
   "cell_type": "markdown",
   "metadata": {},
   "source": [
    "#### 解题思路：\n",
    "普遍情况：\n",
    " - 因为isnumeric()和isdigit()都是判断字符串里是否值包含数字的函数，所以首先区别两者的不同，即两者对于True、False和Error不同。\n",
    " - isnumeric()\n",
    "  - True的判断：Unicode数字，全角数字（双字节），罗马数字，汉字数字\n",
    "  - False的判断：无\n",
    "  - Error的判断：byte数字（单字节）\n",
    " - isdigit()\n",
    "  - True: Unicode数字，byte数字（单字节），全角数字（双字节），罗马数字\n",
    "  - False: 汉字数字\n",
    "  - Error: 无\n",
    " - 因为是套用isnumeric()做isdigit，原汉字数字判断结果转为False，原byte数字（单字节）转为True.\n",
    "\n",
    "本题情况：\n",
    " - 因为题目只考虑纯数字0~9，即Unicode和全角，均为两个函数的True判断，所以换成符合两个条件满足即可，或者在isnumeric判断成数字后，只要进一步判断字符串全是0-9的数字即可。\n",
    " - 判断字符串是否全是0-9的数字，可以采用正则匹配法。"
   ]
  },
  {
   "cell_type": "code",
   "execution_count": 58,
   "metadata": {},
   "outputs": [],
   "source": [
    "###应用对字符串内是否只包含数字isnumeric()函数：\n",
    "import re                  #调用正则模块\n",
    "st = re.compile('^[0-9]*$')#验证是否为数字\n",
    "number = st.match(string)  #将字符串代入验证\n",
    "\n",
    "def isdigit(string):      \n",
    "    if isnumeric(string): \n",
    "        '''如果满足isnumeric判断是否只为数字的条件，继续对是否只为0-9的数字进行判断。因为即使满足isnumeric函数的判断，不一定是数字0-9'''\n",
    "        if number:    #如果全是数字则可以确定字符串中只包含数字0-9\n",
    "            print(True) \n",
    "        else:\n",
    "            print(False)#否则为False\n",
    "    else:\n",
    "        print(False)  #不满足isnumeric的判断即不可能只是数字0-9"
   ]
  },
  {
   "cell_type": "markdown",
   "metadata": {},
   "source": [
    "3. leetcode 5题 最长回文子串\n",
    "\n",
    "给定一个字符串 s，找到 s 中最长的回文子串。你可以假设 s 的最大长度为 1000。\n",
    "\n",
    "示例:\n",
    "\n",
    "输入: \"babad\"\n",
    "\n",
    "输出: \"bab\"\n",
    "\n",
    "输入: \"cbbd\"\n",
    "\n",
    "输出: \"bb\""
   ]
  },
  {
   "cell_type": "markdown",
   "metadata": {},
   "source": [
    "#### 解题思路：\n",
    "确定定义：\n",
    " - 回文子串就是一串字符无论从前往后还是倒序读都是一样的，两个一模一样的单个元素组成最短，例如'oo'.\n",
    " - 但是\"google\"中最长的回文子串就是'goog'，虽然'oo'也是回文串，却不是最长。\n",
    "\n",
    "判断条件：\n",
    " - 回文子串的长度可以为奇数可以为偶数，偶数个即中心对称，奇数个则除去中间元素中心对称。\n",
    " - 偶数长度的回文子串即相邻的两个元素相等，然后向两边扩充1个位置相等，继续，直至不等，可以计算长度。例如S[i]=S[i+1],S[i-1]=S[i+2],……\n",
    " - 奇数长度的回文子串即隔一个元素两个元素相等，然后向两边扩充1个位置相等，继续，制止不等，可计算长度。例如S[i-1]=S[i+1],S[i-2]=S[i+2],……\n",
    "\n",
    "函数结构：\n",
    " - 可以分成两个部分，第一个部分是对回文子串的判断，计算其长度并摘出；第二部分为最长长度的回文子串判断。\n",
    "  - 首先在字符串s中找到两个相等的元素例如s[i]和s[j]，如果最初相等的元素索引的i=j-1,则是偶数长度的回文子串，如果i=j即两个一致，则是奇数长度的回文子串。\n",
    "  - 对于s[i]==s[j],各向外扩展（方法同上），如果还是相等，循环继续，直到在字符串长度内不等为止。如果不等，记录下i和j的位置，计算回文子串的长度即j-i-1，并且摘出回文子串s[i+1,j]。\n",
    "  - 对于在字符串内找不到想的的元素不符合本题，不必进行判断。\n",
    " - 第二部分是对于已经找出来的奇偶个数的回文子串进行长度比较，留下最长的。"
   ]
  },
  {
   "cell_type": "code",
   "execution_count": 65,
   "metadata": {},
   "outputs": [],
   "source": [
    "class Solution:\n",
    "    def longestPalindrome(self, s: str) -> str: #题干定义函数，这里对slef不是太理解，查阅资料和函数定义类有关，时间原因后期详解，后文加上对应self\n",
    "        s = input(\"请输入一个字符串s：\")        #首先对输入的字符串s进行判断，由于回文子串长度必须大于2，所以对于不满足条件的重新输入\n",
    "        if len(s) <=1:\n",
    "            print('请重新输入长度大于2的字符串s:%s'%s)\n",
    "        else:              \n",
    "            for i in len(s):                    #满足初步条件的字符串进行遍历\n",
    "                '''调用回文子串的函数并判断该长度是奇个数还是偶个数，如果最初两个相等的值是同一个index则根据判断条件为奇个数的字符串。\n",
    "                如果相邻的两个元素相等则为偶个数的回文子串。并对奇偶的回文子串进行赋值，长度进行赋值'''\n",
    "                huiwenstring_odd,len_odd = huiwenstring_odd_even(s,i,i)\n",
    "                huiwenstring_even,len_even = huiwenstring_odd_even(s,i,i+1)\n",
    "                \n",
    "                max_len = 1  #建立一个长度值\n",
    "                sub = \"\"     #建立一个空字符串\n",
    "                if len_odd > len_even: #判断奇偶回文子串的长度，长的赋予字符串sub\n",
    "                    sub = huiwenstring_odd\n",
    "                else:\n",
    "                    sub = huiwenstring_even\n",
    "                if len(sub) > 1:     #对赋予字符串的sub长度进行判断，只有大于1的才是存在的回文子串\n",
    "                    max_len = len(sub)\n",
    "                    print(\"这是最长的回文子串：%s\"%sub)#显现最长的回文子串\n",
    "        return max_len               #返回对应的长度\n",
    "                \n",
    "    def huiwenstring_odd_even(self,s,i,j):  #输入回文子串的函数自变量\n",
    "        while i >=0 and j < len(s) and s[i]==s[j]:#如果存在相等的元素继续循环外扩，直到不等为止  \n",
    "            i -= 1\n",
    "            j += 1\n",
    "        return j - i - 1, s[i+1:j]       #返回对应的长度和回文子串的字符串    "
   ]
  },
  {
   "cell_type": "markdown",
   "metadata": {},
   "source": [
    "### 参考资料：\n",
    "https://blog.csdn.net/m0_38063172/article/details/82220501?utm_source=blogxgwz4\n",
    "\n",
    "https://blog.csdn.net/xx344879362/article/details/51295479\n",
    "\n",
    "https://www.cnblogs.com/jebeljebel/p/4006433.html\n",
    "\n",
    "https://docs.python.org/3/library/functions.html?highlight=format#format\n",
    "\n",
    "**（Python官方文档）必备推荐**：https://docs.python.org/3/\n",
    "\n",
    "等……"
   ]
  }
 ],
 "metadata": {
  "kernelspec": {
   "display_name": "Python 3",
   "language": "python",
   "name": "python3"
  },
  "language_info": {
   "codemirror_mode": {
    "name": "ipython",
    "version": 3
   },
   "file_extension": ".py",
   "mimetype": "text/x-python",
   "name": "python",
   "nbconvert_exporter": "python",
   "pygments_lexer": "ipython3",
   "version": "3.7.3"
  }
 },
 "nbformat": 4,
 "nbformat_minor": 4
}
