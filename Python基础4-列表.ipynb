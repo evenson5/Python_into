{
 "cells": [
  {
   "cell_type": "markdown",
   "metadata": {},
   "source": [
    "## 列表"
   ]
  },
  {
   "cell_type": "code",
   "execution_count": null,
   "metadata": {},
   "outputs": [],
   "source": [
    "from IPython.core.interactiveshell import InteractiveShell\n",
    "InteractiveShell.ast_node_interactivity = \"all\""
   ]
  },
  {
   "cell_type": "markdown",
   "metadata": {},
   "source": [
    "### 前言：数据类型\n",
    "**简单数据类型**\n",
    " - 整型  `<class 'int'>` **不可更改类型**\n",
    " - 浮点型`<class 'float'>`**不可更改类型**\n",
    " - 布尔型`<class 'bool'>`\n",
    " - 字符串`<class 'str'>`**不可更改类型**\n",
    " \n",
    "**容器数据类型**\n",
    "\n",
    " - 列表 `<class 'list'>`  **可更改类型**\n",
    " - 元组 `<class 'tuple'>` **不可更改类型**\n",
    " - 字典 `<class 'dict'>`  **可更改类型**\n",
    " - 集合 `<class 'set'>`   **可更改类型**\n",
    " \n",
    "**具体可参考Git项目Python基础1章节https://github.com/evenson5/Python_into/blob/master/Python%E5%9F%BA%E7%A1%801-%E5%8F%98%E9%87%8F%E3%80%81%E8%BF%90%E7%AE%97%E7%AC%A6%E4%B8%8E%E6%95%B0%E6%8D%AE%E7%B1%BB%E5%9E%8B%26%E4%BD%8D%E8%BF%90%E7%AE%97.ipynb**"
   ]
  },
  {
   "cell_type": "markdown",
   "metadata": {},
   "source": [
    "### 列表的定义\n",
    "列表是**有序集合**，**无固定大小**，能够保存**任意数量任意类型**的Python对象，语法为\n",
    "`[元素1，元素2，...,元素n]`\n",
    " - 有序，长度可变\n",
    " - 内容可修改，任意类型\n",
    " - 中括号“[]”定义，逗号“,”分开"
   ]
  },
  {
   "cell_type": "markdown",
   "metadata": {},
   "source": [
    "### 列表的创建\n",
    "定义列表有两种方法，一种是使用中括号[]，另一种用list类型函数来定义列表：\n",
    " - 中括号创建列表：\n",
    " `list_a = [1,2,3,'abv','2012-12-21']`\n",
    " \n",
    "- list类型函数定义：\n",
    " `list_b = list(tuple_a)`\n",
    " 小括号内str、set、range()等都可以\n",
    " \n",
    " \n",
    " - 常见创建列表类型：\n",
    "  - 混合列表\n",
    "  - range()创建\n",
    "  - 推导式创建\n",
    "  - 二维数组\n",
    "  - 空列表"
   ]
  },
  {
   "cell_type": "code",
   "execution_count": 3,
   "metadata": {},
   "outputs": [
    {
     "name": "stdout",
     "output_type": "stream",
     "text": [
      "['Sun', 'Mon', 'Tues', 'Wed', 'Turs', 'Fri', 'Sat'] <class 'list'>\n",
      "[2, 1, 4, None] <class 'list'>\n",
      "[[1, 2, 't'], 3, 45, 2, True] <class 'list'>\n",
      "['foo', 'bar', 'hi', 32] <class 'list'>\n"
     ]
    }
   ],
   "source": [
    "###创建普通列表\n",
    "##同一类型\n",
    "x = ['Sun','Mon','Tues','Wed','Thurs','Fri','Sat']\n",
    "print(x,type(x))\n",
    "\n",
    "##混合型\n",
    "y = [2,1,4,None]\n",
    "print(y,type(y))\n",
    "\n",
    "z = [[1,2,'t'],3,45,2,True]\n",
    "print(z,type(z))\n",
    "\n",
    "#list类型函数定义\n",
    "t = ('foo','bar','hi',32)\n",
    "w = list(t)\n",
    "print(w,type(w))"
   ]
  },
  {
   "cell_type": "code",
   "execution_count": 7,
   "metadata": {},
   "outputs": [
    {
     "name": "stdout",
     "output_type": "stream",
     "text": [
      "[0, 1, 2, 3, 4, 5, 6, 7, 8, 9]\n",
      "[1, 3, 5, 7, 9]\n",
      "[-1, -3, -5, -7, -9]\n",
      "<class 'list'>\n",
      "<class 'list'>\n",
      "<class 'list'>\n"
     ]
    }
   ],
   "source": [
    "###用range()创建列表\n",
    "x = list(range(10))\n",
    "y = list(range(1,10,2))\n",
    "z = list(range(-1,-10,-2))\n",
    "print(x,y,z,sep = '\\n',end='\\n')\n",
    "print(type(x),type(y),type(z),sep='\\n')"
   ]
  },
  {
   "cell_type": "code",
   "execution_count": 8,
   "metadata": {},
   "outputs": [
    {
     "name": "stdout",
     "output_type": "stream",
     "text": [
      "[1, 2, 3, 4, 5, 1, 2, 3, 4, 5, 1, 2, 3, 4, 5, 1, 2, 3, 4, 5, 1, 2, 3, 4, 5] <class 'list'>\n",
      "[-1, -3, -5, -7, -9] <class 'list'>\n",
      "[3, 9, 15, 21, 27, 33, 39, 45, 51, 57, 63, 69, 75, 81, 87, 93, 99] <class 'list'>\n"
     ]
    }
   ],
   "source": [
    "###利用推导式创建列表\n",
    "x = [1,2,3,4,5]*5\n",
    "print(x,type(x))\n",
    "\n",
    "y = [i for i in range(-1,-10,-2)]\n",
    "print(y,type(y))\n",
    "\n",
    "z = [i for i in range(100) if (i % 3) == 0 and (i % 2) != 0]\n",
    "print(z,type(z))"
   ]
  },
  {
   "cell_type": "code",
   "execution_count": 21,
   "metadata": {},
   "outputs": [
    {
     "name": "stdout",
     "output_type": "stream",
     "text": [
      "[[1, 2, 3], [1, 2, 3], [1, 2, 3], [1, 2, 3]] <class 'list'>\n",
      "[1, 2, 3] <class 'list'>\n",
      "[1, 2, 3] <class 'list'>\n",
      "[1, 2, 3] <class 'list'>\n",
      "[1, 2, 3] <class 'list'>\n",
      "[[1, 1, 3], [1, 1, 3], [1, 1, 3], [1, 1, 3]]\n"
     ]
    }
   ],
   "source": [
    "###创建多维数组\n",
    "x = [[i for i in range(1,4)] for row in range(4)]\n",
    "print(x,type(x))\n",
    "\n",
    "for j in x:\n",
    "    print(j,type(j))\n",
    "\n",
    "x[0][1] = x[1][1] = x[2][1] = x[3][1] = 1\n",
    "print(x)"
   ]
  },
  {
   "cell_type": "markdown",
   "metadata": {},
   "source": [
    "#### 注意：由于list的元素是任何对象，列表中所保留的是对象的指针，即保存一个[1,2,3]，也有3个指针和3个证书对象。所以，对于在原list或其他类型基础上运算得到的新list，当原list或其他类型改变时，对应的运算后对象也随之改变。"
   ]
  },
  {
   "cell_type": "code",
   "execution_count": 23,
   "metadata": {},
   "outputs": [
    {
     "name": "stdout",
     "output_type": "stream",
     "text": [
      "[] <class 'list'>\n"
     ]
    }
   ],
   "source": [
    "###创建一个空列表\n",
    "empty = []\n",
    "print(empty,type(empty))"
   ]
  },
  {
   "cell_type": "markdown",
   "metadata": {},
   "source": [
    "### 增加和移除元素\n",
    " - 常见的对list的增加元素操作有append()、expend()和insert()函数。\n",
    " - 常见的对list的移除元素操作有remove()、pop()和del函数。\n",
    " - 可以使用in或not in检查单个元素是否在列表中。\n",
    " - 扩展：collections.deque\n",
    " - 所有的上述函数对列表的添加移除都是在原始列表中进行操作，没有返回值。"
   ]
  },
  {
   "cell_type": "markdown",
   "metadata": {},
   "source": [
    "#### list()\n",
    "`list.append(obj)`\n",
    "\n",
    "在列表末尾添加新的对象，只接受一个参数，参数可以是任何数据类型，被追加的元素在list中保持着原结构类型。"
   ]
  },
  {
   "cell_type": "code",
   "execution_count": 24,
   "metadata": {},
   "outputs": [
    {
     "name": "stdout",
     "output_type": "stream",
     "text": [
      "['Sun', 'Mon', 'Tues', 'Wed', 'Thurs', 'Fri', 'Sat']\n",
      "['Sun', 'Mon', 'Tues', 'Wed', 'Thurs', 'Fri', 'Sat', ['Weekday', 'Weekend']]\n"
     ]
    }
   ],
   "source": [
    "### append()函数\n",
    "x = ['Sun','Mon','Tues','Wed','Thurs','Fri']\n",
    "x.append('Sat')\n",
    "print(x)\n",
    "#如果增加的元素是一个list，则list将作为一个整体进行添加，也是和extend()的区别\n",
    "x.append(['Weekday','Weekend'])\n",
    "print(x)"
   ]
  },
  {
   "cell_type": "markdown",
   "metadata": {},
   "source": [
    "#### extend()函数\n",
    "`list.extend(seq)`\n",
    "\n",
    "在列表末尾一次性**追加多个值**，用新列表扩展原来的列表，参数可以是任何数据类型，被追加的元素在list中保持着原结构类型。\n",
    "\n",
    " - append属于一个东西整体添加在列表后，extend属于把一个东西的所有元素扩展在列表后。"
   ]
  },
  {
   "cell_type": "code",
   "execution_count": 25,
   "metadata": {},
   "outputs": [
    {
     "name": "stdout",
     "output_type": "stream",
     "text": [
      "['Sun', 'Mon', 'Tues', 'Wed', 'Thurs', 'Fri', 'Sat', 'Weekday', 'Weekend']\n"
     ]
    }
   ],
   "source": [
    "x = ['Sun','Mon','Tues','Wed','Thurs','Fri','Sat']\n",
    "x.extend(['Weekday','Weekend'])\n",
    "print(x)    #此处与append()增加的类型不同，长度不一"
   ]
  },
  {
   "cell_type": "markdown",
   "metadata": {},
   "source": [
    "#### insert()函数\n",
    "`list.insert(index,obj)`在编码index位置插入obj\n",
    "\n",
    " - 注：insert和append相比，计算代价更高，因为自序列元素不得不在内部移动为新元素提供空间。若在序列的头部和尾部插入元素，可以使用collections.deque，是一个双端队列，可以满足头尾部增加的要求。（详细的后文补充说明）"
   ]
  },
  {
   "cell_type": "code",
   "execution_count": 26,
   "metadata": {},
   "outputs": [
    {
     "name": "stdout",
     "output_type": "stream",
     "text": [
      "['Sun', 'Mon', 'Tues', 'Wed', 'Thurs', 'Fri', 'Sat']\n"
     ]
    }
   ],
   "source": [
    "### insert()函数,index从0开始计算\n",
    "x = ['Sun','Mon','Tues','Wed','Thurs','Fri']\n",
    "x.insert(6,'Sat')\n",
    "print(x)"
   ]
  },
  {
   "cell_type": "markdown",
   "metadata": {},
   "source": [
    "#### pop()函数\n",
    "insert的反操作是pop，该操作会将特定位置的元素移除并返回。\n",
    "\n",
    "`list.pop([index=-1])`移出列表中的一个元素（默认最后一个元素）并返回"
   ]
  },
  {
   "cell_type": "code",
   "execution_count": 28,
   "metadata": {},
   "outputs": [
    {
     "name": "stdout",
     "output_type": "stream",
     "text": [
      "Fri ['Sun', 'Mon', 'Tues', 'Wed', 'Thurs']\n",
      "Fri Tues ['Sun', 'Mon', 'Wed', 'Thurs']\n"
     ]
    }
   ],
   "source": [
    "###pop函数\n",
    "x = ['Sun','Mon','Tues','Wed','Thurs','Fri']\n",
    "y = x.pop()\n",
    "print(y,x)\n",
    "\n",
    "z = x.pop(2)\n",
    "print(y,z,x)"
   ]
  },
  {
   "cell_type": "markdown",
   "metadata": {},
   "source": [
    "#### remove()函数\n",
    "该方法是定位第一个符合要求的值并移除它。\n",
    "`list.remove(obj)`"
   ]
  },
  {
   "cell_type": "code",
   "execution_count": 31,
   "metadata": {},
   "outputs": [
    {
     "name": "stdout",
     "output_type": "stream",
     "text": [
      "['Sun', 'Mon', 'Tues', 'Wed', 1, 'Thurs', 'Fri']\n"
     ]
    }
   ],
   "source": [
    "#### remove()\n",
    "x = ['Sun','Mon',1,'Tues','Wed',1,'Thurs','Fri']\n",
    "x.remove(1)\n",
    "print(x)"
   ]
  },
  {
   "cell_type": "markdown",
   "metadata": {},
   "source": [
    "#### del()函数\n",
    "`del list[start:end]`可以删除单个或多个对象\n",
    " - 注：del适用于在list中删除一个元素且不再使用它；如果删除后再继续使用，用pop方式。"
   ]
  },
  {
   "cell_type": "code",
   "execution_count": 34,
   "metadata": {},
   "outputs": [
    {
     "name": "stdout",
     "output_type": "stream",
     "text": [
      "['Fri']\n"
     ]
    }
   ],
   "source": [
    "### del()\n",
    "x = ['Sun','Mon','Tues','Wed','Thurs','Fri']\n",
    "del x[0:5] #切片内是左闭又开\n",
    "print(x)"
   ]
  },
  {
   "cell_type": "code",
   "execution_count": 35,
   "metadata": {},
   "outputs": [
    {
     "data": {
      "text/plain": [
       "True"
      ]
     },
     "execution_count": 35,
     "metadata": {},
     "output_type": "execute_result"
    },
    {
     "data": {
      "text/plain": [
       "True"
      ]
     },
     "execution_count": 35,
     "metadata": {},
     "output_type": "execute_result"
    }
   ],
   "source": [
    "###in 和 not in作为是否在list中的判断\n",
    "x = ['Sun','Mon','Tues','Wed','Thurs','Fri']\n",
    "'Sun' in x\n",
    "'Sat' not in x"
   ]
  },
  {
   "cell_type": "markdown",
   "metadata": {},
   "source": [
    "### 连接和联合列表\n",
    " - 常见的连接和联合有两种方式：一种是+号连接，一种是在已定义的列表上extend。\n",
    " - 注意：通过添加内容连接列表是一种相对高代价的操作，因为连接过程中创建了新列表，且还要复制对象。使用extend将元素添加到已经存在的列表中较好，尤其是大型列表。append、insert等同理。"
   ]
  },
  {
   "cell_type": "code",
   "execution_count": 36,
   "metadata": {},
   "outputs": [
    {
     "name": "stdout",
     "output_type": "stream",
     "text": [
      "[4, 5, 'foo', 4, 8, (2, 3)]\n",
      "[4, 5, 'foo', 4, 8, (2, 3)]\n"
     ]
    }
   ],
   "source": [
    "### +号连接和extend连接方法\n",
    "w = [4,5,'foo'] + [4,8,(2,3)]\n",
    "print(w)\n",
    "\n",
    "z = [4,5,'foo']\n",
    "z.extend([4,8,(2,3)])\n",
    "print(z)"
   ]
  },
  {
   "cell_type": "markdown",
   "metadata": {},
   "source": [
    "对于大型的列表，同理推荐extend()函数连接列表即前者：\n",
    "\n",
    "`everythin = []\n",
    "for chunk in list_of_lists:\n",
    "    everything.extend(chunk)`\n",
    "\n",
    "`everything=[]\n",
    "for chunk in list_of lists:\n",
    "    everything = everything + chunk`"
   ]
  },
  {
   "cell_type": "markdown",
   "metadata": {},
   "source": [
    "### 列表的常用操作符\n",
    " - 等号操作符： `==`，当元素和对应位置均相同时（一模一样）返回True\n",
    " - 重复操作符：`*`，列表的复制拼接方式，*后面决定复制次数。"
   ]
  },
  {
   "cell_type": "code",
   "execution_count": 37,
   "metadata": {},
   "outputs": [
    {
     "name": "stdout",
     "output_type": "stream",
     "text": [
      "True\n",
      "[123, 456, 123, 456, 123, 456]\n"
     ]
    }
   ],
   "source": [
    "### 列表操作符\n",
    "list1 = [1,2,3]\n",
    "list2 = [1,2,3]\n",
    "list3 = [123,456]\n",
    "print(list1 == list2)\n",
    "print(list3*3)"
   ]
  },
  {
   "cell_type": "markdown",
   "metadata": {},
   "source": [
    "### 索引&切片\n",
    "使用切片符号可以对大多数序列类型选取其子集，它的基本形式是将start:stop传入到索引符号[]中。\n",
    " - 索引值从0开始\n",
    " - 索引值指定为-1即最后一个列表元素，-2即倒数第二个，以此类推。\n",
    " - [start,stop]默认左闭右开，即包含start，但不包含stop，数量为stop-start\n",
    " - [start,stop,step]:step即间隔，默认为1，若为负数(step也为负数)则倒数（从尾部开始）间隔对应个数。"
   ]
  },
  {
   "cell_type": "code",
   "execution_count": 38,
   "metadata": {},
   "outputs": [
    {
     "data": {
      "text/plain": [
       "'Fri'"
      ]
     },
     "execution_count": 38,
     "metadata": {},
     "output_type": "execute_result"
    }
   ],
   "source": [
    "x = ['Sun','Mon','Tues','Wed','Thurs','Fri']\n",
    "x[-1]"
   ]
  },
  {
   "cell_type": "code",
   "execution_count": 39,
   "metadata": {},
   "outputs": [
    {
     "data": {
      "text/plain": [
       "['Mon', 'Tues', 'Wed', 'Thurs']"
      ]
     },
     "execution_count": 39,
     "metadata": {},
     "output_type": "execute_result"
    }
   ],
   "source": [
    "x[1:5]#左闭右开"
   ]
  },
  {
   "cell_type": "code",
   "execution_count": 40,
   "metadata": {},
   "outputs": [
    {
     "data": {
      "text/plain": [
       "['Sun', 'Mon', 'Tues', 3, 4, 'Thurs', 'Fri']"
      ]
     },
     "execution_count": 40,
     "metadata": {},
     "output_type": "execute_result"
    }
   ],
   "source": [
    "x[3:4] = [3,4] #实际是index=3的这一个地方用3和4两个数字代替\n",
    "x"
   ]
  },
  {
   "cell_type": "code",
   "execution_count": 49,
   "metadata": {},
   "outputs": [
    {
     "data": {
      "text/plain": [
       "['Sun', 'Mon', 'Tues', 3]"
      ]
     },
     "execution_count": 49,
     "metadata": {},
     "output_type": "execute_result"
    },
    {
     "data": {
      "text/plain": [
       "[3, 4, 'Thurs', 'Fri']"
      ]
     },
     "execution_count": 49,
     "metadata": {},
     "output_type": "execute_result"
    },
    {
     "data": {
      "text/plain": [
       "['Sun', 'Tues', 4, 'Fri']"
      ]
     },
     "execution_count": 49,
     "metadata": {},
     "output_type": "execute_result"
    }
   ],
   "source": [
    "###start和stop都可以省略，省略时默认传入序列的起始位置或结束位置，默认正顺序:\n",
    "x[:4]\n",
    "x[-4:]\n",
    "x[::2]"
   ]
  },
  {
   "cell_type": "code",
   "execution_count": 50,
   "metadata": {},
   "outputs": [
    {
     "data": {
      "text/plain": [
       "['Fri', 'Thurs', 4]"
      ]
     },
     "execution_count": 50,
     "metadata": {},
     "output_type": "execute_result"
    },
    {
     "data": {
      "text/plain": [
       "['Fri', 'Thurs', 4]"
      ]
     },
     "execution_count": 50,
     "metadata": {},
     "output_type": "execute_result"
    },
    {
     "data": {
      "text/plain": [
       "['Fri', 4, 'Tues', 'Sun']"
      ]
     },
     "execution_count": 50,
     "metadata": {},
     "output_type": "execute_result"
    }
   ],
   "source": [
    "###如果倒序取子列表，step设为负数\n",
    "x[-1:-4:-1] #倒序选择字列表\n",
    "x[-1:3:-1]  #同上，第3等价于倒着第4，一列表共7个元素\n",
    "x[::-2]   #与x[::2]顺序相反"
   ]
  },
  {
   "cell_type": "markdown",
   "metadata": {},
   "source": [
    "### 浅拷贝与深拷贝\n",
    " - 直接赋值：对象的直接引用,**同步**。\n",
    " - 浅拷贝(copy)：复制列表中的所有元素，拷贝父对象，不会拷贝对象的内部的子对象，所以**原始数据改变，子对象会改变**。\n",
    " - 深拷贝(deepcopy)：包含对象里面的子对象的拷贝，所以原始对象的改变不会造成深拷贝里**任何子元素**的改变。"
   ]
  },
  {
   "cell_type": "code",
   "execution_count": 101,
   "metadata": {},
   "outputs": [
    {
     "name": "stdout",
     "output_type": "stream",
     "text": [
      "[1, 42, 322, 12] [1, 42, 322, 12] [1, 42, 322, 12] [1, 42, 322, 12]\n",
      "[1, 42, 322, 12, 4] [1, 42, 322, 12, 4] [1, 42, 322, 12] [1, 42, 322, 12]\n"
     ]
    },
    {
     "data": {
      "text/plain": [
       "'对于list1这类父对象的改变，改变后的列表：list2是直接赋值，list2同步改变；list3是浅拷贝，list3对于父对象改变的不做改变；list4也是浅拷贝，同上'"
      ]
     },
     "execution_count": 101,
     "metadata": {},
     "output_type": "execute_result"
    }
   ],
   "source": [
    "###浅拷贝和深拷贝案例之父对象改变\n",
    "list1 = [1,42,322,12]      #list1创建\n",
    "list2 = list1              #list2被赋值list1\n",
    "list3 = list1.copy()       #list3copylist1,浅拷贝\n",
    "list4 = list1[:]           #list4浅拷贝\n",
    "print(list1,list2,list3,list4)#显现四个list，跟list1的数值一样\n",
    "list1.append(4)            #对list1列表末尾进行添加元素“4”，即父对象改变\n",
    "print(list1,list2,list3,list4)#显现对list1操作后的列表\n",
    "'''对于list1这类父对象的改变，改变后的列表：list2是直接赋值，list2同步改变；list3是浅拷贝，list3对于父对象改变的不做改变；list4也是浅拷贝，同上'''"
   ]
  },
  {
   "cell_type": "code",
   "execution_count": 118,
   "metadata": {},
   "outputs": [
    {
     "name": "stdout",
     "output_type": "stream",
     "text": [
      "[1, [1, 2, 3], 'A'] [1, [1, 2, 3], 'A'] [1, [1, 2, 3], 'A']\n",
      "[1, [1, 2, 3, 0], 'A'] [1, [1, 2, 3, 0], 'A'] [1, [1, 2, 3, 0], 'A']\n",
      "[1, [1, 2, 3, 0, '4'], 'A'] [1, [1, 2, 3, 0, '4'], 'A'] [1, [1, 2, 3, 0, '4'], 'A']\n",
      "[1, [1, 2, 3, 0, '4', '5'], 'A'] [1, [1, 2, 3, 0, '4', '5'], 'A'] [1, [1, 2, 3, 0, '4', '5'], 'A']\n",
      "[1, [1, 2, 3, 0, '4', '5'], 'A', 'b'] [1, [1, 2, 3, 0, '4', '5'], 'A', 'b'] [1, [1, 2, 3, 0, '4', '5'], 'A', 'c']\n"
     ]
    },
    {
     "data": {
      "text/plain": [
       "'对于赋值列表增删，原列表同步更改；对于浅拷贝列表增删的父类别，只有自身更改，原列表和赋值列表没有反应；对于各列表的子类别的修改，除了深拷贝列表，均同步修改'"
      ]
     },
     "execution_count": 118,
     "metadata": {},
     "output_type": "execute_result"
    }
   ],
   "source": [
    "###浅拷贝和深拷贝之子对象改变\n",
    "a = [1,[1,2,3],'A'] \n",
    "b = a             #直接赋值\n",
    "c = a.copy()      #浅拷贝\n",
    "print(a,b,c)      #第一次输出数值一致\n",
    "a[1].append(0)    #对原列表a进行子类别添加\n",
    "print(a,b,c)      #添加原列表的子类别后显现，列表均添加该元素，输出一致\n",
    "b[1].append('4')  #对赋值列表b进行子类别添加\n",
    "print(a,b,c)      #添加赋值列表b的子类别后显现，列表均添加该元素，输出一致\n",
    "c[1].append('5')  #对浅拷贝列表c进行子类别添加\n",
    "print(a,b,c)      #添加浅拷贝列表的子类别后显现，列表均添加该元素，输出一致\n",
    "\n",
    "b.append('b')     #向赋值列表添加新的父类别\n",
    "c.append('c')     #向浅拷贝列表添加新的父类别\n",
    "print(a,b,c)      \n",
    "'''对于赋值列表增删，原列表同步更改；对于浅拷贝列表增删的父类别，只有自身更改，原列表和赋值列表没有反应；对于各列表的子类别的修改，除了深拷贝列表，均同步修改'''"
   ]
  },
  {
   "cell_type": "code",
   "execution_count": 100,
   "metadata": {
    "scrolled": false
   },
   "outputs": [
    {
     "name": "stdout",
     "output_type": "stream",
     "text": [
      "[1, 42, 322, 12, 4] [1, 42, 322, 12, 4] [1, 42, 322, 12] [1, 42, 322, 12] [1, 42, 322, 12, 4]\n",
      "[1, 42, 322, 12, 4, 1] [1, 42, 322, 12, 4, 1] [1, 42, 322, 12] [1, 42, 322, 12] [1, 42, 322, 12, 4]\n",
      "[1, 1, 4, 12, 42, 322] [1, 1, 4, 12, 42, 322] [1, 42, 322, 12] [1, 42, 322, 12] [1, 42, 322, 12, 4]\n"
     ]
    }
   ],
   "source": [
    "###直接深拷贝列表的修改\n",
    "import copy\n",
    "list5 = copy.deepcopy(list1)\n",
    "print(list1,list2,list3,list4,list5)\n",
    "list1.append(1)\n",
    "print(list1,list2,list3,list4,list5)#深拷贝列表无反应；因为是父类别修改浅拷贝列表也没反应。\n",
    "\n",
    "list1.sort()   #对列表进行内部排序(无需新建一个对象)，此处区别于sorted（保留原列表）               \n",
    "print(list1,list2,list3,list4,list5)#因为sort是列表内排序，所以显现的排序后的只有源列表和赋值，除赋值列表外其余列表不变"
   ]
  },
  {
   "cell_type": "markdown",
   "metadata": {},
   "source": [
    "### 总结\n",
    " - 赋值，其实就是同一个东西，内部的元素和各id均一致，所以一变均变，A is B,it's True.\n",
    " - 浅拷贝，不是同一个东西，内部的元素一致，各元素id一致，但总的列表id不一样。A is not B.But A[i] is B[i].\n",
    "  - 浅拷贝的子类别更改，原列表的同步；反之原列表的子类别更改，浅拷贝的同步。\n",
    "  - 浅拷贝的父类别更改（包括添删），原列表不同步，反之亦不同步。\n",
    " - 深拷贝属于彻底独立于源对象的复制品，内部元素一致，除了原列表的父类别id一致，其余id均不一致。\n",
    "  - 深拷贝元素做任何改动都不会影响原对象，反之亦然。"
   ]
  },
  {
   "cell_type": "code",
   "execution_count": 98,
   "metadata": {},
   "outputs": [
    {
     "name": "stdout",
     "output_type": "stream",
     "text": [
      "[1, 2, [-1, 4], [5, [-1, 4]]]\n"
     ]
    }
   ],
   "source": [
    "# 赋值修改\n",
    "from copy import deepcopy\n",
    "a = [3, 4]\n",
    "m = [1, 2, a, [5, a]]\n",
    "n = deepcopy(m)\n",
    "n[3][1][0] = -1\n",
    "print(n)"
   ]
  },
  {
   "cell_type": "markdown",
   "metadata": {},
   "source": [
    "### 排序&二分搜索和已排序列表的维护\n",
    " - sort函数：对列表进行内部排序（无需创建新列表）\n",
    "  - 应用二级排序key生成排序值\n",
    " `list.sort(key=None,reverse=False)`\n",
    " - sorted函数：返回一个根据任意序列中的元素新建的已排序列表，参数与sort一致。\n",
    " - bisect函数：实现了二分搜索和已排序列表的差值。\n",
    "  - bisect.bisect会找到元素应当被插入的位置，并保持序列排序。\n",
    "  - bisect.insort将元素插入到相应的位置。"
   ]
  },
  {
   "cell_type": "code",
   "execution_count": 102,
   "metadata": {},
   "outputs": [
    {
     "data": {
      "text/plain": [
       "[1, 2, 3, 4, 6, 7]"
      ]
     },
     "execution_count": 102,
     "metadata": {},
     "output_type": "execute_result"
    }
   ],
   "source": [
    "###sort应用\n",
    "a = [7,2,4,6,1,3]\n",
    "a.sort()\n",
    "a"
   ]
  },
  {
   "cell_type": "markdown",
   "metadata": {},
   "source": [
    "sort有一些选项会派上用场，其中一项是传递一个**二级排序key**—一个用于**生成排序值**的函数。\n",
    " - key:用来进行比较的元素，具体的函数的参数是取自于可迭代对象中，指定可迭代对象中的一个元素进行排序。\n",
    " - reverse:排序规则，默认False即升序，True为降序"
   ]
  },
  {
   "cell_type": "code",
   "execution_count": 117,
   "metadata": {
    "scrolled": true
   },
   "outputs": [
    {
     "data": {
      "text/plain": [
       "['I', 'like', 'these', 'moments']"
      ]
     },
     "execution_count": 117,
     "metadata": {},
     "output_type": "execute_result"
    },
    {
     "data": {
      "text/plain": [
       "[(1, 1), (3, 2), (8, 3), (2, 4)]"
      ]
     },
     "execution_count": 117,
     "metadata": {},
     "output_type": "execute_result"
    }
   ],
   "source": [
    "###应用Key生成排序值：例如根据字符串的长度进行排序\n",
    "b = ['these','moments','I','like']\n",
    "b.sort(key=len)\n",
    "b\n",
    "#根据列表的第二个元素大小排序\n",
    "def takeSecond(elem):\n",
    "    return elem[1]\n",
    "\n",
    "c = [(1,1),(3,2),(2,4),(8,3)]\n",
    "c.sort(key=takeSecond)\n",
    "c"
   ]
  },
  {
   "cell_type": "code",
   "execution_count": 115,
   "metadata": {},
   "outputs": [
    {
     "data": {
      "text/plain": [
       "[1, 2, 3, 4, 6, 9]"
      ]
     },
     "execution_count": 115,
     "metadata": {},
     "output_type": "execute_result"
    },
    {
     "data": {
      "text/plain": [
       "['y', 't', 'p', 'o', 'n', 'h', '6', '5', '4', ' ']"
      ]
     },
     "execution_count": 115,
     "metadata": {},
     "output_type": "execute_result"
    }
   ],
   "source": [
    "###sorted函数：\n",
    "sorted([1,3,2,9,4,6])  \n",
    "sorted('python 456',reverse = True)#对于字符串、数字和空格的排序，空格在前，数字其次，最后字母排序，反之为倒序"
   ]
  },
  {
   "cell_type": "code",
   "execution_count": 110,
   "metadata": {},
   "outputs": [
    {
     "data": {
      "text/plain": [
       "0"
      ]
     },
     "execution_count": 110,
     "metadata": {},
     "output_type": "execute_result"
    },
    {
     "data": {
      "text/plain": [
       "7"
      ]
     },
     "execution_count": 110,
     "metadata": {},
     "output_type": "execute_result"
    },
    {
     "data": {
      "text/plain": [
       "[1, 2, 2, 2, 3, 5, 4, 6, 7]"
      ]
     },
     "execution_count": 110,
     "metadata": {},
     "output_type": "execute_result"
    },
    {
     "data": {
      "text/plain": [
       "'因为bisect模块的函数不会检查列表是否已经排序，所以对未排序列表不会报错，但可能会导致不正确的结果，例如本题插入数值4'"
      ]
     },
     "execution_count": 110,
     "metadata": {},
     "output_type": "execute_result"
    }
   ],
   "source": [
    "###bisect模块函数按照已排序列表的差值查询应当被插入的位置，并保持序列排序：\n",
    "import bisect\n",
    "c = [1,2,2,2,3,5,4,7]  #故意将5和4倒着排序\n",
    "bisect.bisect(c,0)\n",
    "bisect.bisect(c,4)  #对于原有一模一样的数值，插入在原有数值后面，而不是大于4的5前面\n",
    "bisect.insort(c,6)\n",
    "c\n",
    "'''因为bisect模块的函数不会检查列表是否已经排序，所以对未排序列表不会报错，但可能会导致不正确的结果，例如本题插入数值4'''"
   ]
  },
  {
   "cell_type": "markdown",
   "metadata": {},
   "source": [
    "### 内建序列函数\n",
    " - count函数：统计某个元素在列表中出现的次数。\n",
    "\n",
    "`list.count(obj)`\n",
    "\n",
    " - enumerate函数：遍历一个序列追踪当前元素的索引。\n",
    "\n",
    "`enumerate(sequence,[start=0])`\n",
    " \n",
    "  - Python内建enumerate函数，返回了(i,value),例如遍历条件`for i,value in enumerate(collection):`\n",
    "\n",
    "\n",
    " - index函数：从列表中找出某个值第一次匹配的索引位置\n",
    " \n",
    " `list.index(x,start[,end]])`\n",
    " \n",
    " - reverse函数：反向列表中元素；reversed函数：将序列函数倒序排列。\n",
    "`list.reverse()`\n",
    "  - 注：reversed()是一个生成器，需要实例化（例如list和for循环）\n",
    "\n",
    " - zip函数：将列表、元组等配对，并可拆分。\n",
    "\n",
    "`seq = zip(list1,list2,...)`\n",
    "\n",
    "`list1,list2,... = zip(*seq)`\n",
    "  - zip函数可以处理任意长度的序列，生成列表的长度由最短的序列决定。"
   ]
  },
  {
   "cell_type": "code",
   "execution_count": 119,
   "metadata": {},
   "outputs": [
    {
     "name": "stdout",
     "output_type": "stream",
     "text": [
      "[123, 456, 123, 456, 123, 456]\n",
      "3\n"
     ]
    }
   ],
   "source": [
    "###count函数计算出现的次数\n",
    "list1 = [123,456]*3\n",
    "print(list1)\n",
    "num = list1.count(123)\n",
    "print(num)"
   ]
  },
  {
   "cell_type": "code",
   "execution_count": 35,
   "metadata": {},
   "outputs": [
    {
     "name": "stdout",
     "output_type": "stream",
     "text": [
      "{0: 'spring', 1: 'summer', 2: 'autumn', 3: 'winter'}\n",
      "[(1, 'spring'), (2, 'summer'), (3, 'autumn'), (4, 'winter')]\n"
     ]
    }
   ],
   "source": [
    "###enumerate函数建立当前元素的索引，常用与列表和字典\n",
    "seasons = ['spring','summer','autumn','winter']#列表\n",
    "d1 ={}#新建一个空字典用于赋值\n",
    "for k,v in enumerate(seasons):#遍历enumerate内的i和value值，各命名为k和v\n",
    "    d1[k] = v                 #k索引，默认从0开始，v为value值，赋予字典d1内\n",
    "print(d1)                     #打印d1\n",
    "#enumerate函数索引从1开始\n",
    "lst = list(enumerate(seasons,start=1)) #创建新的列表lst，追踪原seasons元素，从1开始\n",
    "print(lst)"
   ]
  },
  {
   "cell_type": "code",
   "execution_count": 1,
   "metadata": {},
   "outputs": [
    {
     "name": "stdout",
     "output_type": "stream",
     "text": [
      "0\n",
      "3\n"
     ]
    },
    {
     "ename": "ValueError",
     "evalue": "123 is not in list",
     "output_type": "error",
     "traceback": [
      "\u001b[1;31m---------------------------------------------------------------------------\u001b[0m",
      "\u001b[1;31mValueError\u001b[0m                                Traceback (most recent call last)",
      "\u001b[1;32m<ipython-input-1-093cee01bf13>\u001b[0m in \u001b[0;36m<module>\u001b[1;34m\u001b[0m\n\u001b[0;32m      3\u001b[0m \u001b[0mprint\u001b[0m\u001b[1;33m(\u001b[0m\u001b[0mlist1\u001b[0m\u001b[1;33m.\u001b[0m\u001b[0mindex\u001b[0m\u001b[1;33m(\u001b[0m\u001b[1;36m123\u001b[0m\u001b[1;33m)\u001b[0m\u001b[1;33m)\u001b[0m\u001b[1;33m\u001b[0m\u001b[1;33m\u001b[0m\u001b[0m\n\u001b[0;32m      4\u001b[0m \u001b[0mprint\u001b[0m\u001b[1;33m(\u001b[0m\u001b[0mlist1\u001b[0m\u001b[1;33m.\u001b[0m\u001b[0mindex\u001b[0m\u001b[1;33m(\u001b[0m\u001b[1;36m123\u001b[0m\u001b[1;33m,\u001b[0m\u001b[1;36m3\u001b[0m\u001b[1;33m)\u001b[0m\u001b[1;33m)\u001b[0m\u001b[1;33m\u001b[0m\u001b[1;33m\u001b[0m\u001b[0m\n\u001b[1;32m----> 5\u001b[1;33m \u001b[0mprint\u001b[0m\u001b[1;33m(\u001b[0m\u001b[0mlist1\u001b[0m\u001b[1;33m.\u001b[0m\u001b[0mindex\u001b[0m\u001b[1;33m(\u001b[0m\u001b[1;36m123\u001b[0m\u001b[1;33m,\u001b[0m\u001b[1;36m4\u001b[0m\u001b[1;33m,\u001b[0m\u001b[1;36m5\u001b[0m\u001b[1;33m)\u001b[0m\u001b[1;33m)\u001b[0m\u001b[1;33m\u001b[0m\u001b[1;33m\u001b[0m\u001b[0m\n\u001b[0m\u001b[0;32m      6\u001b[0m \u001b[1;34m'''对于不在列表内的，会显示is not in list'''\u001b[0m\u001b[1;33m\u001b[0m\u001b[1;33m\u001b[0m\u001b[0m\n",
      "\u001b[1;31mValueError\u001b[0m: 123 is not in list"
     ]
    }
   ],
   "source": [
    "###index函数从列表中找第一个匹配索引位置：\n",
    "list1 = [123,321,456]*3\n",
    "print(list1.index(123))\n",
    "print(list1.index(123,3))\n",
    "print(list1.index(123,4,5))\n",
    "'''对于不在列表内的，会显示is not in list'''"
   ]
  },
  {
   "cell_type": "code",
   "execution_count": 22,
   "metadata": {},
   "outputs": [
    {
     "name": "stdout",
     "output_type": "stream",
     "text": [
      "[324, 678, 544, 123]\n"
     ]
    }
   ],
   "source": [
    "### reverse()和reversed()函数\n",
    "x = [123,544,678,324]\n",
    "x.reverse()\n",
    "print(x)"
   ]
  },
  {
   "cell_type": "code",
   "execution_count": 138,
   "metadata": {},
   "outputs": [
    {
     "data": {
      "text/plain": [
       "[('bar', 'False'), ('foo', 'True'), ('zoo', 'Zero')]"
      ]
     },
     "execution_count": 138,
     "metadata": {},
     "output_type": "execute_result"
    },
    {
     "name": "stdout",
     "output_type": "stream",
     "text": [
      "1:bar,False\n",
      "2:foo,True\n",
      "3:zoo,Zero\n"
     ]
    }
   ],
   "source": [
    "### zip新建一个元组构成的列表\n",
    "list1 = ['bar','foo','zoo','net'] #较长序列的list\n",
    "list2 = ['False','True','Zero']   #较短序列的list\n",
    "zipped = zip(list1,list2)\n",
    "list(zipped)                  #以较短序列决定\n",
    "\n",
    "##zip可以和enumerate函数使用：\n",
    "for k,(a,b) in enumerate(zip(list1,list2), start=1):#从1开始索引zip内的元素\n",
    "    print('{}:{},{}'.format(k,a,b))     #打印对应格式"
   ]
  },
  {
   "cell_type": "code",
   "execution_count": 142,
   "metadata": {},
   "outputs": [
    {
     "name": "stdout",
     "output_type": "stream",
     "text": [
      "('bar', 'foo', 'zoo') ('False', 'True', 'Zero')\n"
     ]
    }
   ],
   "source": [
    "###zip拆分序列\n",
    "list3 = [('bar', 'False'), ('foo', 'True'), ('zoo', 'Zero')]\n",
    "list1,list2 = zip(*list3)\n",
    "print(list1,list2)"
   ]
  },
  {
   "cell_type": "markdown",
   "metadata": {},
   "source": [
    "### 练习题\n",
    "1. 列表操作练习\n",
    "\n",
    "列表lst 内容如下\n",
    "\n",
    "lst = [2, 5, 6, 7, 8, 9, 2, 9, 9]\n",
    "\n",
    "请写程序完成下列操作：\n",
    "\n",
    " - 在列表的末尾增加元素15\n",
    " - 在列表的中间位置插入元素20\n",
    " - 将列表[2, 5, 6]合并到lst中\n",
    " - 移除列表中索引为3的元素\n",
    " - 翻转列表里的所有元素\n",
    " - 对列表里的元素进行排序，从小到大一次，从大到小一次"
   ]
  },
  {
   "cell_type": "code",
   "execution_count": 23,
   "metadata": {},
   "outputs": [
    {
     "data": {
      "text/plain": [
       "[2, 5, 6, 7, 8, 9, 2, 9, 9, 15]"
      ]
     },
     "execution_count": 23,
     "metadata": {},
     "output_type": "execute_result"
    },
    {
     "name": "stdout",
     "output_type": "stream",
     "text": [
      "[2, 5, 6, 7, 20, 8, 9, 2, 9, 9]\n",
      "[2, 5, 6, 7, 8, 9, 2, 9, 9, 2, 5, 6]\n",
      "[2, 5, 6, 8, 9, 2, 9, 9]\n",
      "[9, 9, 2, 9, 8, 7, 6, 5, 2]\n",
      "[2, 2, 5, 6, 7, 8, 9, 9, 9]\n",
      "[9, 9, 9, 8, 7, 6, 5, 2, 2]\n"
     ]
    }
   ],
   "source": [
    "#末尾增加元素15\n",
    "lst = [2,5,6,7,8,9,2,9,9]\n",
    "lst.append(15)\n",
    "lst\n",
    "###因为每个要求都是在原lst上产生的，简便应用，可以利用for循环原lst对应的次数\n",
    "for i in range(6):                     #除了完成的第一题，其余5个题目\n",
    "    lst = [2,5,6,7,8,9,2,9,9]\n",
    "    if i == 0:\n",
    "        lst.insert(int(len(lst)/2),20)\n",
    "    #列表中间插入元素即固定位置插入应用list.insert，列表中间定义为len/2（奇数偶数相同）\n",
    "    elif i == 1:\n",
    "        lst.extend([2,5,6])#末尾合并列表，而不是插入，插入用append\n",
    "    elif i == 2:\n",
    "        l = lst.pop(3)     #摘除的元素，再显现lst就是摘除后的，应用pop\n",
    "    elif i == 3:\n",
    "        lst.reverse()      #reverse()指反转list，如果倒序用sort(reverse=True)或者reversed\n",
    "    elif i == 4:\n",
    "        lst.sort()         #sort()默认排正序\n",
    "    else:\n",
    "        lst.sort(reverse=True)#sort(reverse=True)排倒序\n",
    "    print(lst)"
   ]
  },
  {
   "cell_type": "markdown",
   "metadata": {},
   "source": [
    "2. 修改列表\n",
    "\n",
    "问题描述：\n",
    "\n",
    "lst = [1, [4, 6], True]\n",
    "\n",
    "请将列表里所有数字修改成原来的两倍"
   ]
  },
  {
   "cell_type": "markdown",
   "metadata": {},
   "source": [
    "### 解题思路：\n",
    " - 列表的元素是多元化的，首先要判断一般列表内可能包含的内容，可以包括数值型，例如int、float等、布尔型和字符串，字典、列表、元组、集合等。\n",
    " - 其中，数值型是可以计算，直接修改成两倍。\n",
    " - 布尔型是不必变\n",
    " - 字符串是不必变\n",
    " - 字典、列表等容器类需要进一步进行判断\n",
    " - 结合题目给的列表，容器类只有一层，所以可以对内容进行上述判断。\n",
    " - 可以遍历列表元素进行判断，并赋予对应的索引，对元素进行上述类别判断，符合则*2，不符合则不变。\n",
    " "
   ]
  },
  {
   "cell_type": "code",
   "execution_count": 26,
   "metadata": {},
   "outputs": [
    {
     "name": "stdout",
     "output_type": "stream",
     "text": [
      "[2, [8, 12], True]\n"
     ]
    }
   ],
   "source": [
    "#定义二倍列表数值的函数：\n",
    "def double_list(l):\n",
    "    for index,value in enumerate(l):  #对于列表内元素和索引的遍历，保障操作后索引按照设置归位\n",
    "        if isinstance(value,bool):  #先做bool类型判断，为Bool不作int计算\n",
    "            continue                #是bool继续下面的操作判断，不作改变\n",
    "        elif isinstance(value,(int,float)):#同时判断是否为int或float,小括号括起来\n",
    "            l[index] *= 2           #根据index数值型变成2倍，赋值原index\n",
    "        elif isinstance(value,list):#因为本题只有list子类别，未见数值类set、tuple，所以仅判断list\n",
    "            double_list(value)      #数列表型的可以递归到此函数中\n",
    "        else:\n",
    "            continue                #其他字符串等不变\n",
    "\n",
    "#代入对应的列表\n",
    "l = [1,[4,6],True]\n",
    "double_list(l)\n",
    "print(l)"
   ]
  },
  {
   "cell_type": "markdown",
   "metadata": {},
   "source": [
    "### 上题总结：\n",
    " - bool是int的子类别，所以如果先对数值进行判断的话，bool型会计算其内，即True会当成1计算，False当成0计算。所以可以先进行bool判断，再进行数值判断。\n",
    " - 对于列表这样有序的类别，对其内部元素进行操作，可以结合enumerate函数对元素进行索引追踪，结合for函数遍历内部的索引和元素，再对应操作，即索引不变。\n",
    " - isinstance函数适合对类别进行判断，优于type。"
   ]
  },
  {
   "cell_type": "markdown",
   "metadata": {},
   "source": [
    "3. 山脉数组的峰顶索引\n",
    "\n",
    "如果一个数组k符合下面两个属性，则称之为山脉数组\n",
    "\n",
    "数组的长度大于等于3\n",
    "\n",
    "存在$i$，$i$ >0 且$i<\\operatorname{len}(k)-1$， 使得$$\\mathrm{k}[0]<\\mathrm{k}[1]<\\ldots<\\mathrm{k}[\\mathrm{i}-1]<\\mathrm{k}[\\mathrm{i}]>\\mathrm{k}[\\mathrm{i}+1] \\ldots>\\mathrm{k}[\\operatorname{len}(\\mathrm{k})-1]$$\n",
    "\n",
    "这个$i$就是顶峰索引。\n",
    "\n",
    "现在，给定一个山脉数组，求顶峰索引。\n",
    "\n",
    "示例:\n",
    "\n",
    "输入：[1, 3, 4, 5, 3]\n",
    "\n",
    "输出：True\n",
    "\n",
    "输入：[1, 2, 4, 6, 4, 5]\n",
    "\n",
    "输出：False\n",
    "\n",
    "`class Solution:\n",
    "    def peakIndexInMountainArray(self, A: List[int]) -> int:`"
   ]
  },
  {
   "cell_type": "markdown",
   "metadata": {},
   "source": [
    "### 解题思路：\n",
    " - 数列的长度必须大于等于3\n",
    " - 对于定义的山脉，存在i使k[i]左边的从左到右是从小到大的排序，且k[i]最大；而其右边从k[i+1]起是从大到小排序\n",
    " - 根据上述可以利用二分法进行查找，即无限二分切分，大于中间的即为i的左侧，反之为i的右侧\n",
    " - 题目最终是对是否存在这个顶峰索引进行判断，而不是求索引值"
   ]
  },
  {
   "cell_type": "code",
   "execution_count": 6,
   "metadata": {
    "scrolled": true
   },
   "outputs": [
    {
     "ename": "NameError",
     "evalue": "name 'List' is not defined",
     "output_type": "error",
     "traceback": [
      "\u001b[1;31m---------------------------------------------------------------------------\u001b[0m",
      "\u001b[1;31mNameError\u001b[0m                                 Traceback (most recent call last)",
      "\u001b[1;32m<ipython-input-6-608ec643d25e>\u001b[0m in \u001b[0;36m<module>\u001b[1;34m\u001b[0m\n\u001b[1;32m----> 1\u001b[1;33m \u001b[1;32mclass\u001b[0m \u001b[0mSolution\u001b[0m\u001b[1;33m:\u001b[0m\u001b[1;33m\u001b[0m\u001b[1;33m\u001b[0m\u001b[0m\n\u001b[0m\u001b[0;32m      2\u001b[0m     \u001b[1;32mdef\u001b[0m \u001b[0mpeakIndexInMountainArray\u001b[0m\u001b[1;33m(\u001b[0m\u001b[0mself\u001b[0m\u001b[1;33m,\u001b[0m \u001b[0mA\u001b[0m\u001b[1;33m:\u001b[0m \u001b[0mList\u001b[0m\u001b[1;33m[\u001b[0m\u001b[0mint\u001b[0m\u001b[1;33m]\u001b[0m\u001b[1;33m)\u001b[0m \u001b[1;33m->\u001b[0m \u001b[0mint\u001b[0m\u001b[1;33m:\u001b[0m\u001b[1;33m\u001b[0m\u001b[1;33m\u001b[0m\u001b[0m\n\u001b[0;32m      3\u001b[0m     \u001b[1;31m#前面的代码不是很懂，估计是定义函数\u001b[0m\u001b[1;33m\u001b[0m\u001b[1;33m\u001b[0m\u001b[1;33m\u001b[0m\u001b[0m\n\u001b[0;32m      4\u001b[0m         \u001b[0mleft\u001b[0m \u001b[1;33m=\u001b[0m \u001b[1;36m0\u001b[0m              \u001b[1;31m#题干的i-1\u001b[0m\u001b[1;33m\u001b[0m\u001b[1;33m\u001b[0m\u001b[0m\n\u001b[0;32m      5\u001b[0m         \u001b[0mright\u001b[0m \u001b[1;33m=\u001b[0m \u001b[0mlen\u001b[0m\u001b[1;33m(\u001b[0m\u001b[0mA\u001b[0m\u001b[1;33m)\u001b[0m\u001b[1;33m-\u001b[0m\u001b[1;36m1\u001b[0m      \u001b[1;31m#题干的i+1\u001b[0m\u001b[1;33m\u001b[0m\u001b[1;33m\u001b[0m\u001b[0m\n",
      "\u001b[1;32m<ipython-input-6-608ec643d25e>\u001b[0m in \u001b[0;36mSolution\u001b[1;34m()\u001b[0m\n\u001b[0;32m      1\u001b[0m \u001b[1;32mclass\u001b[0m \u001b[0mSolution\u001b[0m\u001b[1;33m:\u001b[0m\u001b[1;33m\u001b[0m\u001b[1;33m\u001b[0m\u001b[0m\n\u001b[1;32m----> 2\u001b[1;33m     \u001b[1;32mdef\u001b[0m \u001b[0mpeakIndexInMountainArray\u001b[0m\u001b[1;33m(\u001b[0m\u001b[0mself\u001b[0m\u001b[1;33m,\u001b[0m \u001b[0mA\u001b[0m\u001b[1;33m:\u001b[0m \u001b[0mList\u001b[0m\u001b[1;33m[\u001b[0m\u001b[0mint\u001b[0m\u001b[1;33m]\u001b[0m\u001b[1;33m)\u001b[0m \u001b[1;33m->\u001b[0m \u001b[0mint\u001b[0m\u001b[1;33m:\u001b[0m\u001b[1;33m\u001b[0m\u001b[1;33m\u001b[0m\u001b[0m\n\u001b[0m\u001b[0;32m      3\u001b[0m     \u001b[1;31m#前面的代码不是很懂，估计是定义函数\u001b[0m\u001b[1;33m\u001b[0m\u001b[1;33m\u001b[0m\u001b[1;33m\u001b[0m\u001b[0m\n\u001b[0;32m      4\u001b[0m         \u001b[0mleft\u001b[0m \u001b[1;33m=\u001b[0m \u001b[1;36m0\u001b[0m              \u001b[1;31m#题干的i-1\u001b[0m\u001b[1;33m\u001b[0m\u001b[1;33m\u001b[0m\u001b[0m\n\u001b[0;32m      5\u001b[0m         \u001b[0mright\u001b[0m \u001b[1;33m=\u001b[0m \u001b[0mlen\u001b[0m\u001b[1;33m(\u001b[0m\u001b[0mA\u001b[0m\u001b[1;33m)\u001b[0m\u001b[1;33m-\u001b[0m\u001b[1;36m1\u001b[0m      \u001b[1;31m#题干的i+1\u001b[0m\u001b[1;33m\u001b[0m\u001b[1;33m\u001b[0m\u001b[0m\n",
      "\u001b[1;31mNameError\u001b[0m: name 'List' is not defined"
     ]
    }
   ],
   "source": [
    "class Solution:\n",
    "    def peakIndexInMountainArray(self, A: List[int]) -> int:\n",
    "    #前面的代码不是很懂，估计是定义函数\n",
    "        left = 0              #题干的i-1\n",
    "        right = len(A)-1      #题干的i+1\n",
    "        while left < right:   #当i的两边符合左边数值小于右边时可循环二分\n",
    "            i = (left+right)/2#第一次二分\n",
    "            if A[i]<A[i+1]:   #判断i对应列表元素值的大小\n",
    "                left = i+1    #将较大的值赋予left，缩小范围为[i+1,right],向[left,right]右靠拢\n",
    "            else:\n",
    "                right = i     #将娇小的值赋予right，缩小范围为[left,i]，向[left,right]左缩进\n",
    "        print(left,i,right)   #输出最后的值\n",
    "        if i != 0:            #如果i存在，则存在顶峰索引\n",
    "            print(True)\n",
    "        else:\n",
    "            print(False)\n",
    "        return"
   ]
  },
  {
   "cell_type": "markdown",
   "metadata": {},
   "source": [
    "### 心得：\n",
    " - 最初学习函数是采取根据文档定义，扩充案例充分理解，分析归纳；结合网上搜到的其他文档一起总结。\n",
    "  - 但是上述方法忽略了官网的文档的意义，时间消耗得相对很多。\n",
    " - 根据自己的学习习性，对于工具类函数应用分两种，一种是直接应用型，官方文档简单明了，或文档解释较为复杂，没有对应案例不如实践知真理，就以案例学习为主，探索案例学习，注意常用参数和决定性参数。\n",
    "  - 另一种是研究应用型，各参数都有实际的应用含义，先学习官方文档，结合资料，扩充案例理解，分析总结，再回顾文档进行巩固。\n",
    " - 对于学习心得未来再做扩充。"
   ]
  },
  {
   "cell_type": "markdown",
   "metadata": {},
   "source": [
    "### 参考资料：\n",
    "https://www.runoob.com/w3cnote/python-understanding-dict-copy-shallow-or-deep.html\n",
    "\n",
    "https://www.jianshu.com/p/aa38d2ad786c\n",
    "\n",
    "https://blog.csdn.net/u010339879/article/details/80767293\n",
    "\n",
    "浅拷贝和深拷贝特别推荐：https://zhuanlan.zhihu.com/p/40449219\n",
    "\n",
    "《利用Python进行数据分析》-第3章内建数据结构、函数及文件\n",
    "\n",
    "https://github.com/datawhalechina/team-learning-program/blob/master/Python-Language\n",
    "\n",
    "**（Python官方文档）必备推荐**：https://docs.python.org/3/\n",
    "\n",
    "等"
   ]
  }
 ],
 "metadata": {
  "kernelspec": {
   "display_name": "Python 3",
   "language": "python",
   "name": "python3"
  },
  "language_info": {
   "codemirror_mode": {
    "name": "ipython",
    "version": 3
   },
   "file_extension": ".py",
   "mimetype": "text/x-python",
   "name": "python",
   "nbconvert_exporter": "python",
   "pygments_lexer": "ipython3",
   "version": "3.7.3"
  }
 },
 "nbformat": 4,
 "nbformat_minor": 4
}
