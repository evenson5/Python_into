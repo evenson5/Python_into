{
 "cells": [
  {
   "cell_type": "code",
   "execution_count": 1,
   "metadata": {},
   "outputs": [],
   "source": [
    "from IPython.core.interactiveshell import InteractiveShell\n",
    "InteractiveShell.ast_node_interactivity = \"all\" "
   ]
  },
  {
   "cell_type": "markdown",
   "metadata": {},
   "source": [
    "## 字典\n",
    "### 可变类型mutable与不可变类型immutable\n",
    "如何快速判断一个数据类型X是不是可变类型，一般采用两种方法：\n",
    " - id()对比：用id(x)函数，对x进行某种操作，比较前后的id，如果前后id不一样，则x为不可变类型，若一样，则可变类型。\n",
    " - hash()：hash(x)只要不报错，证明x可被哈希，即不可变，反之可变类型。\n",
    "\n",
    "**简单数据类型**\n",
    " - 整型  `<class 'int'>` **不可更改类型**\n",
    " - 浮点型`<class 'float'>`**不可更改类型**\n",
    " - 布尔型`<class 'bool'>`**不可更改类型**\n",
    " - 字符串`<class 'str'>`**不可更改类型**\n",
    "\n",
    "**容器类数据类型**：\n",
    "\n",
    " - 列表 `<class 'list'>`  **可更改类型**\n",
    " - 元组 `<class 'tuple'>` **不可更改类型**\n",
    " - 字典 `<class 'dict'>`  **可更改类型**\n",
    " - 集合 `<class 'set'>`   **可更改类型**\n",
    " \n",
    " 字典类：\n",
    " - 序列是以连续的整数为索引，而字典是以**关键字**为索引，关键字可以是任何不可变类型，通常用字符串或数值表示。\n",
    " - 字典是Python惟一的一个映射类型，字符串、元组、列表属于序列类型。"
   ]
  },
  {
   "cell_type": "code",
   "execution_count": 2,
   "metadata": {},
   "outputs": [
    {
     "name": "stdout",
     "output_type": "stream",
     "text": [
      "140718113200464\n",
      "140718113723232\n"
     ]
    },
    {
     "data": {
      "text/plain": [
       "'经过操作后的id对比可以发现，前后id不同，即bool型数据是不可变类型。'"
      ]
     },
     "execution_count": 2,
     "metadata": {},
     "output_type": "execute_result"
    },
    {
     "data": {
      "text/plain": [
       "2"
      ]
     },
     "execution_count": 2,
     "metadata": {},
     "output_type": "execute_result"
    },
    {
     "data": {
      "text/plain": [
       "'hash()一下未报错，证明可被哈希，即为不可改类型，其他类型同理可证。'"
      ]
     },
     "execution_count": 2,
     "metadata": {},
     "output_type": "execute_result"
    }
   ],
   "source": [
    "i = True\n",
    "print(id(i))\n",
    "i = True + 1\n",
    "print(id(i))\n",
    "'''经过操作后的id对比可以发现，前后id不同，即bool型数据是不可变类型。'''\n",
    "hash(i)\n",
    "'''hash()一下未报错，证明可被哈希，即为不可改类型，其他类型同理可证。'''"
   ]
  },
  {
   "cell_type": "markdown",
   "metadata": {},
   "source": [
    "### 字典的创建及简单操作\n",
    " - dict(字典)可能是Python内建数据结构中最重要的。更为常用的名字是*哈希表*或*关联数组*。\n",
    " - 字典是无序的，且拥有**灵活尺寸的键值对**集合，其中键和值都是Python对象，同一个字典内的键不互相同。\n",
    " - 用大括号{}是创建字典的一种方式，在字典中用逗号将键值对分隔。\n",
    " `{key1:value1,key2:value2,...,keyn:valuen}`"
   ]
  },
  {
   "cell_type": "code",
   "execution_count": 50,
   "metadata": {},
   "outputs": [
    {
     "data": {
      "text/plain": [
       "{'a': 'value', 'b': [1, 2, 3], 'c': (3, 'e')}"
      ]
     },
     "execution_count": 50,
     "metadata": {},
     "output_type": "execute_result"
    }
   ],
   "source": [
    "###创建一个字典\n",
    "empty_dict = {}\n",
    "d1 = {'a':'value','b':[1,2,3],'c':(3,'e')}\n",
    "d1"
   ]
  },
  {
   "cell_type": "code",
   "execution_count": 4,
   "metadata": {
    "scrolled": true
   },
   "outputs": [
    {
     "data": {
      "text/plain": [
       "{'a': 'value', 'b': [1, 2, 3], 'c': (3, 'e'), 'd': 'expend'}"
      ]
     },
     "execution_count": 4,
     "metadata": {},
     "output_type": "execute_result"
    }
   ],
   "source": [
    "###插入或设置字典中的元素（也可以用于创建）\n",
    "d1['d']='expend'  #可以通过key直接在原字典上插入新的键值对\n",
    "d1"
   ]
  },
  {
   "cell_type": "code",
   "execution_count": 52,
   "metadata": {},
   "outputs": [
    {
     "data": {
      "text/plain": [
       "{'a': 'value', 'b': [1, 2, 3], 'c': (3, 'c')}"
      ]
     },
     "execution_count": 52,
     "metadata": {},
     "output_type": "execute_result"
    }
   ],
   "source": [
    "d1['c'] = (3,'c')\n",
    "d1"
   ]
  },
  {
   "cell_type": "markdown",
   "metadata": {},
   "source": [
    "#### 从序列生成字典\n",
    "`mapping =  {}\n",
    "for key ,value in zip (key_list,value_list):     \n",
    "     mapping[key] = value  `\n",
    "#创建一个空字典\n",
    "#将key_lsit和value_list打包成元组，键值对遍历对应的键与值。\n",
    "#键值对分别赋值"
   ]
  },
  {
   "cell_type": "code",
   "execution_count": 5,
   "metadata": {},
   "outputs": [
    {
     "data": {
      "text/plain": [
       "{0: 4, 1: 3, 2: 2, 3: 1, 4: 0}"
      ]
     },
     "execution_count": 5,
     "metadata": {},
     "output_type": "execute_result"
    }
   ],
   "source": [
    "##创建一个0:4正序为key，反顺序为value的字典：\n",
    "mapping = dict(zip(range(5),reversed(range(5))))\n",
    "mapping"
   ]
  },
  {
   "cell_type": "code",
   "execution_count": 6,
   "metadata": {},
   "outputs": [
    {
     "data": {
      "text/plain": [
       "{'a': 123, 'b': 'banana', 'c': 'cherry'}"
      ]
     },
     "execution_count": 6,
     "metadata": {},
     "output_type": "execute_result"
    },
    {
     "data": {
      "text/plain": [
       "{'a': 'apple', 'b': 'banana', 'c': 'cherry'}"
      ]
     },
     "execution_count": 6,
     "metadata": {},
     "output_type": "execute_result"
    }
   ],
   "source": [
    "###利用构造函数dict，结合list和tuple创建字典：\n",
    "dict1 = dict([('a',123),('b','banana'),('c','cherry')])\n",
    "dict2 = dict((('a','apple'),('b',\"banana\"),('c','cherry')))\n",
    "dict1\n",
    "dict2"
   ]
  },
  {
   "cell_type": "code",
   "execution_count": 7,
   "metadata": {},
   "outputs": [
    {
     "name": "stdout",
     "output_type": "stream",
     "text": [
      "{'name': 'Tom', 'age': 10, 'sex': 'M'} <class 'dict'>\n"
     ]
    }
   ],
   "source": [
    "###利用\"the name = value\"形式创建字典\n",
    "dic = dict(name='Tom',age = 10,sex ='M')\n",
    "print(dic,type(dic))"
   ]
  },
  {
   "cell_type": "code",
   "execution_count": 8,
   "metadata": {
    "scrolled": false
   },
   "outputs": [
    {
     "name": "stdout",
     "output_type": "stream",
     "text": [
      "{'rice': 23, 'wheat': 45, 'corn': 85}\n",
      "85\n"
     ]
    },
    {
     "ename": "KeyError",
     "evalue": "2",
     "output_type": "error",
     "traceback": [
      "\u001b[1;31m---------------------------------------------------------------------------\u001b[0m",
      "\u001b[1;31mKeyError\u001b[0m                                  Traceback (most recent call last)",
      "\u001b[1;32m<ipython-input-8-f8f273c82da5>\u001b[0m in \u001b[0;36m<module>\u001b[1;34m\u001b[0m\n\u001b[0;32m      2\u001b[0m \u001b[0md2\u001b[0m \u001b[1;33m=\u001b[0m \u001b[1;33m{\u001b[0m\u001b[1;34m'rice'\u001b[0m\u001b[1;33m:\u001b[0m\u001b[1;36m23\u001b[0m\u001b[1;33m,\u001b[0m\u001b[1;34m'wheat'\u001b[0m\u001b[1;33m:\u001b[0m\u001b[1;36m45\u001b[0m\u001b[1;33m,\u001b[0m\u001b[1;34m'corn'\u001b[0m\u001b[1;33m:\u001b[0m\u001b[1;36m85\u001b[0m\u001b[1;33m}\u001b[0m\u001b[1;33m\u001b[0m\u001b[1;33m\u001b[0m\u001b[0m\n\u001b[0;32m      3\u001b[0m \u001b[0mprint\u001b[0m\u001b[1;33m(\u001b[0m\u001b[0md2\u001b[0m\u001b[1;33m,\u001b[0m\u001b[0md2\u001b[0m\u001b[1;33m[\u001b[0m\u001b[1;34m'corn'\u001b[0m\u001b[1;33m]\u001b[0m\u001b[1;33m,\u001b[0m\u001b[0msep\u001b[0m \u001b[1;33m=\u001b[0m \u001b[1;34m'\\n'\u001b[0m\u001b[1;33m)\u001b[0m\u001b[1;33m\u001b[0m\u001b[1;33m\u001b[0m\u001b[0m\n\u001b[1;32m----> 4\u001b[1;33m \u001b[0md2\u001b[0m\u001b[1;33m[\u001b[0m\u001b[1;36m2\u001b[0m\u001b[1;33m]\u001b[0m       \u001b[1;31m#从dict中调取key显现对应的value,如果不是字典中的key，将显现“KeyError”\u001b[0m\u001b[1;33m\u001b[0m\u001b[1;33m\u001b[0m\u001b[0m\n\u001b[0m",
      "\u001b[1;31mKeyError\u001b[0m: 2"
     ]
    }
   ],
   "source": [
    "###访问字典\n",
    "d2 = {'rice':23,'wheat':45,'corn':85}\n",
    "print(d2,d2['corn'],sep = '\\n')\n",
    "d2[2]       #从dict中调取key显现对应的value,如果不是字典中的key，将显现“KeyError”"
   ]
  },
  {
   "cell_type": "markdown",
   "metadata": {},
   "source": [
    "### 字典的内置方法"
   ]
  },
  {
   "cell_type": "markdown",
   "metadata": {},
   "source": [
    "`dict.fromkeys(seq,[,value])`用于创建一个新字典，以序列seq做为键，value作为键对应的初始值。"
   ]
  },
  {
   "cell_type": "code",
   "execution_count": 14,
   "metadata": {},
   "outputs": [
    {
     "data": {
      "text/plain": [
       "\"应用dict中的fromkeys建立dict,seq为keys,('Tom','22','male')作为每一项Key的value\""
      ]
     },
     "execution_count": 14,
     "metadata": {},
     "output_type": "execute_result"
    },
    {
     "data": {
      "text/plain": [
       "{'name': ('Tom', '22', 'male'),\n",
       " 'age': ('Tom', '22', 'male'),\n",
       " 'sex': ('Tom', '22', 'male')}"
      ]
     },
     "execution_count": 14,
     "metadata": {},
     "output_type": "execute_result"
    }
   ],
   "source": [
    "###fromkeys构建字典\n",
    "seq = ('name','age','sex') #创建一个tuple-seq\n",
    "dic1 = dict.fromkeys(seq,('Tom','22','male'))\n",
    "'''应用dict中的fromkeys建立dict,seq为keys,('Tom','22','male')作为每一项Key的value'''\n",
    "dic1"
   ]
  },
  {
   "cell_type": "markdown",
   "metadata": {},
   "source": [
    "`dict.keys()`返回一个可迭代对象，可以使用list()来转换为列表，列表为字典中的所有keys\n",
    "\n",
    "`dict.values()`返回一个迭代器，可以使用list()来转换为列表，列表为字典中的所有values\n",
    "\n",
    "`dict.items()`以列表返回可遍历的（键，值）元祖数组。"
   ]
  },
  {
   "cell_type": "markdown",
   "metadata": {},
   "source": [
    "**补充说明迭代对象和迭代器**\n",
    " - 迭代器协议是指：对象必须提供一个next方法，执行该方法要么返回迭代中的下一项，要么就引起一个stoplteration异常，以终止迭代。\n",
    " - 迭代对象：但凡内部含有__iter__方法的对象，都是可迭代对象，可利用dir()查看。\n",
    " - 迭代器：在python中，内部含有’Iter’方法并且含有’next’方法的对象就是迭代器。\n",
    " \n",
    " 参考资料：\n",
    " \n",
    " https://blog.csdn.net/caiyongxin_001/article/details/105036451\n",
    " \n",
    " https://www.cnblogs.com/marton/p/10778409.html\n",
    " \n",
    " https://www.cnblogs.com/Wj-Li/p/10864922.html"
   ]
  },
  {
   "cell_type": "code",
   "execution_count": 17,
   "metadata": {},
   "outputs": [
    {
     "data": {
      "text/plain": [
       "dict_keys(['a', 'b', 'c'])"
      ]
     },
     "execution_count": 17,
     "metadata": {},
     "output_type": "execute_result"
    },
    {
     "data": {
      "text/plain": [
       "['a', 'b', 'c']"
      ]
     },
     "execution_count": 17,
     "metadata": {},
     "output_type": "execute_result"
    },
    {
     "data": {
      "text/plain": [
       "dict_values(['apple', 'banana', 'cherry'])"
      ]
     },
     "execution_count": 17,
     "metadata": {},
     "output_type": "execute_result"
    },
    {
     "data": {
      "text/plain": [
       "['apple', 'banana', 'cherry']"
      ]
     },
     "execution_count": 17,
     "metadata": {},
     "output_type": "execute_result"
    },
    {
     "data": {
      "text/plain": [
       "dict_items([('a', 'apple'), ('b', 'banana'), ('c', 'cherry')])"
      ]
     },
     "execution_count": 17,
     "metadata": {},
     "output_type": "execute_result"
    },
    {
     "data": {
      "text/plain": [
       "[('a', 'apple'), ('b', 'banana'), ('c', 'cherry')]"
      ]
     },
     "execution_count": 17,
     "metadata": {},
     "output_type": "execute_result"
    }
   ],
   "source": [
    "###返回字典元素的案例：\n",
    "#返回所有键\n",
    "dict2.keys()  #返回一个迭代对象\n",
    "list(dict2.keys())#转换为列表\n",
    "\n",
    "#返回values\n",
    "dict2.values() #返回对应的values，为迭代器\n",
    "list(dict2.values())#转换为列表\n",
    "\n",
    "#返回可遍历的元组数组\n",
    "dict2.items() #成对的元组数组\n",
    "list(dict2.items())"
   ]
  },
  {
   "cell_type": "markdown",
   "metadata": {},
   "source": [
    "`dict.get(key,default = None)`返回指定键的值，如果值不存在字典中返回默认值。\n",
    "\n",
    "`dict.setdefault(key,default = None)`和get()方法类似，如果不存在与字典中，将会添加键并将值设为默认。"
   ]
  },
  {
   "cell_type": "markdown",
   "metadata": {},
   "source": [
    "#### 默认值\n",
    "一般而言，会有以下的代码逻辑：\n",
    "\n",
    "`if key in some_dict:\n",
    "    value = some_dict[key]\n",
    "else:\n",
    "    value = default_value`\n",
    "\n",
    "不过字典的get()与pop()方法可以返回一个默认值，因此if - else代码块可以被简写为：\n",
    "\n",
    "`value = some_dict.get(key,default_value)`\n",
    "（不过key不是字典键时，get会返回None，pop会显示KeyError异常，具体可参考下述案例。）\n",
    "\n",
    "常见的场景是字典中的值集合通过*设置*成为另一种集合，例如列表，见下述例子"
   ]
  },
  {
   "cell_type": "code",
   "execution_count": 46,
   "metadata": {},
   "outputs": [
    {
     "data": {
      "text/plain": [
       "{'a': ['apple', 'ambulance'], 'b': ['banana', 'bar', 'book']}"
      ]
     },
     "execution_count": 46,
     "metadata": {},
     "output_type": "execute_result"
    }
   ],
   "source": [
    "#将字词组成的列表根据首字母分类为包含列表的字典：\n",
    "words = ['apple','banana','bar','ambulance','book']\n",
    "by_letters = {}\n",
    "\n",
    "for word in words:\n",
    "    letter = word[0]\n",
    "    if letter not in by_letters:\n",
    "        by_letters[letter] = [word]\n",
    "    else:\n",
    "        by_letters[letter].append(word)\n",
    "\n",
    "by_letters"
   ]
  },
  {
   "cell_type": "code",
   "execution_count": 47,
   "metadata": {},
   "outputs": [
    {
     "data": {
      "text/plain": [
       "'字典的setdefault方法就是为了这个目的而产生的，上述的for循环可以写为：'"
      ]
     },
     "execution_count": 47,
     "metadata": {},
     "output_type": "execute_result"
    }
   ],
   "source": [
    "'''字典的setdefault方法就是为了这个目的而产生的，上述的for循环可以写为：'''\n",
    "for word in words:\n",
    "    letter = word[0]\n",
    "    by_letters.setdefault(letter,[]).append(word)"
   ]
  },
  {
   "cell_type": "code",
   "execution_count": 49,
   "metadata": {},
   "outputs": [
    {
     "data": {
      "text/plain": [
       "'内建的集合模块有一个非常有用的类：defaultdict，这个类使得上述目的实现更为简单。想要生成符合要求的字典，可以向字典中传入类型或能在各位置生成默认值的函数：'"
      ]
     },
     "execution_count": 49,
     "metadata": {},
     "output_type": "execute_result"
    }
   ],
   "source": [
    "# defaultdict\n",
    "'''内建的集合模块有一个非常有用的类：defaultdict，这个类使得上述目的实现更为简单。想要生成符合要求的字典，可以向字典中传入类型或能在各位置生成默认值的函数：''' \n",
    "from collections import defaultdict\n",
    "by_letters = defaultdict(list)\n",
    "for word in words:\n",
    "    by_letters[word[0]].append(word)"
   ]
  },
  {
   "cell_type": "code",
   "execution_count": 18,
   "metadata": {},
   "outputs": [
    {
     "data": {
      "text/plain": [
       "{'a': 123, 'b': 'banana', 'c': 'cherry'}"
      ]
     },
     "execution_count": 18,
     "metadata": {},
     "output_type": "execute_result"
    }
   ],
   "source": [
    "###get()和setdefault()案例应用：\n",
    "dict1"
   ]
  },
  {
   "cell_type": "code",
   "execution_count": 20,
   "metadata": {},
   "outputs": [
    {
     "data": {
      "text/plain": [
       "'cherry'"
      ]
     },
     "execution_count": 20,
     "metadata": {},
     "output_type": "execute_result"
    },
    {
     "data": {
      "text/plain": [
       "{'a': 123, 'b': 'banana', 'c': 'cherry'}"
      ]
     },
     "execution_count": 20,
     "metadata": {},
     "output_type": "execute_result"
    }
   ],
   "source": [
    "dict1.get('c')\n",
    "dict1.get('d',None)#对于不存在的Key用get函数及返回默认值,且对原dict没有影响。\n",
    "dict1"
   ]
  },
  {
   "cell_type": "code",
   "execution_count": 26,
   "metadata": {},
   "outputs": [
    {
     "data": {
      "text/plain": [
       "'elephant'"
      ]
     },
     "execution_count": 26,
     "metadata": {},
     "output_type": "execute_result"
    },
    {
     "data": {
      "text/plain": [
       "{'a': 123, 'b': 'banana', 'c': 'cherry', 'd': None, 'e': 'elephant', 'f': None}"
      ]
     },
     "execution_count": 26,
     "metadata": {},
     "output_type": "execute_result"
    }
   ],
   "source": [
    "dict1.setdefault('d',None)#setdefault函数与get不同点，对于不存在字典中的key，会添加并将值设为默认值，默认为None\n",
    "dict1.setdefault('e','elephant')#将默认值改为'elephant'\n",
    "dict1.setdefault('f')#不加值，默认为None\n",
    "dict1"
   ]
  },
  {
   "cell_type": "markdown",
   "metadata": {},
   "source": [
    "`in`检查key是否在dict中，如果key存在则返回true，否则返回false.而not in 操作刚好相反。"
   ]
  },
  {
   "cell_type": "code",
   "execution_count": 28,
   "metadata": {},
   "outputs": [
    {
     "data": {
      "text/plain": [
       "False"
      ]
     },
     "execution_count": 28,
     "metadata": {},
     "output_type": "execute_result"
    },
    {
     "data": {
      "text/plain": [
       "True"
      ]
     },
     "execution_count": 28,
     "metadata": {},
     "output_type": "execute_result"
    },
    {
     "name": "stdout",
     "output_type": "stream",
     "text": [
      "85不在key内，请确认键名\n"
     ]
    }
   ],
   "source": [
    "###检查是否含有一个键：\n",
    "'i' in d2\n",
    "'rice' in d2\n",
    "\n",
    "if 85 not in d2:\n",
    "    print('85不在key内，请确认键名')\n",
    "else:\n",
    "    print('哦，原来存在啊')"
   ]
  },
  {
   "cell_type": "markdown",
   "metadata": {},
   "source": [
    "**几种常见的删除方式**\n",
    "\n",
    "`dict.pop(key,[,default])`删除字典给定键key所对应的值，返回值为被删除的值。key值必须给出，若key不存在，则返回default值。\n",
    "\n",
    "`del dict[key]`删除字典给定键key所对应的值。\n",
    "\n",
    "`dict.popitem()`随机返回并删除字典中的键值对，如果字典已为空，却调用了此方法，就爆出KeyError异常。\n",
    "\n",
    "`dict.clear()`用于删除字典内所有元素。\n"
   ]
  },
  {
   "cell_type": "code",
   "execution_count": 35,
   "metadata": {},
   "outputs": [
    {
     "name": "stdout",
     "output_type": "stream",
     "text": [
      "123 {'b': 'banana', 'c': 'cherry'}\n",
      "banana {'c': 'cherry'}\n",
      "dog {'c': 'cherry'}\n"
     ]
    },
    {
     "data": {
      "text/plain": [
       "'删除不存在的key值就直接返回后面的default值。若default未赋值，则会显示KeyError异常'"
      ]
     },
     "execution_count": 35,
     "metadata": {},
     "output_type": "execute_result"
    }
   ],
   "source": [
    "###删除字典案例：\n",
    "#pop应用\n",
    "dict1 = dict([('a',123),('b','banana'),('c','cherry')])\n",
    "print(dict1.pop('a'),dict1)        #删除pop中key为a的键值对并返回该值\n",
    "print(dict1.pop('b','boy'),dict1)  #删除pop中key为b（对的）value为boy（不存在的value）键值对，则返回实际b对应的值\n",
    "print(dict1.pop('d','dog'),dict1) \n",
    "'''删除不存在的key值就直接返回后面的default值。若default未赋值，则会显示KeyError异常'''"
   ]
  },
  {
   "cell_type": "code",
   "execution_count": 38,
   "metadata": {},
   "outputs": [
    {
     "data": {
      "text/plain": [
       "{'b': 'banana', 'c': 'cherry', 'd': 'dog'}"
      ]
     },
     "execution_count": 38,
     "metadata": {},
     "output_type": "execute_result"
    }
   ],
   "source": [
    "#del的应用\n",
    "dict1 = dict([('a',123),('b','banana'),('c','cherry')])\n",
    "dict1['d'] = ('dog')   #添加新的键值对\n",
    "del dict1['a']         #用del删除键为a的键值对\n",
    "dict1                  #显现dict1"
   ]
  },
  {
   "cell_type": "code",
   "execution_count": 41,
   "metadata": {},
   "outputs": [
    {
     "data": {
      "text/plain": [
       "('c', 'cherry')"
      ]
     },
     "execution_count": 41,
     "metadata": {},
     "output_type": "execute_result"
    },
    {
     "data": {
      "text/plain": [
       "{'a': 123, 'b': 'banana'}"
      ]
     },
     "execution_count": 41,
     "metadata": {},
     "output_type": "execute_result"
    },
    {
     "name": "stdout",
     "output_type": "stream",
     "text": [
      "None {}\n"
     ]
    }
   ],
   "source": [
    "#popitem()与cleat()的应用\n",
    "dict1 = dict([('a',123),('b','banana'),('c','cherry')])\n",
    "dict1.popitem() #随机删除一对键值对\n",
    "dict1\n",
    "print(dict1.clear(),dict1)"
   ]
  },
  {
   "cell_type": "markdown",
   "metadata": {},
   "source": [
    "`dict.copy()`返回一个字典的浅复制。\n",
    "\n",
    "**注：对于赋值、浅复制与深复制请参考Python基础4-列表内对应详解**"
   ]
  },
  {
   "cell_type": "markdown",
   "metadata": {},
   "source": [
    "`dict1.update(dict2)`dict2合并到dict1中。"
   ]
  },
  {
   "cell_type": "code",
   "execution_count": 43,
   "metadata": {},
   "outputs": [
    {
     "data": {
      "text/plain": [
       "{'a': 123, 'b': 'banana', 'c': 'cherry', 'd': 'dog', 'e': 456}"
      ]
     },
     "execution_count": 43,
     "metadata": {},
     "output_type": "execute_result"
    }
   ],
   "source": [
    "#update()的应用案例\n",
    "dict1 = dict([('a',123),('b','banana'),('c','cherry')])\n",
    "dict1.update({'d':'dog','e':456})#将括号内的dict打印到dict1中\n",
    "dict1                            #打印新的dict1"
   ]
  },
  {
   "cell_type": "markdown",
   "metadata": {},
   "source": [
    "### 有效的字典键类型\n",
    " - 尽管字典的值可以使任何Python对象，但**键必须是不可变对象**，例如标量类型（整数、浮点数、字符串）或元组（元组内对象也必须是不可变对象，具体可参考元组定义）。即可使用哈希化进行判断。\n",
    " - 如果想将列表作为键，一种方式就是将其转换为元组，而元组只要它内部元素都可以哈希化（定义），则自身哈希化。"
   ]
  },
  {
   "cell_type": "code",
   "execution_count": 44,
   "metadata": {},
   "outputs": [
    {
     "data": {
      "text/plain": [
       "{(1, 2, 3, 4): 5}"
      ]
     },
     "execution_count": 44,
     "metadata": {},
     "output_type": "execute_result"
    }
   ],
   "source": [
    "#举个栗子\n",
    "d = {}\n",
    "d[tuple([1,2,3,4])] = 5#将列表[1,2,3,4]转化为元组作为key，5作为对应值赋予字典d\n",
    "d"
   ]
  },
  {
   "cell_type": "markdown",
   "metadata": {},
   "source": [
    "### 练习题"
   ]
  },
  {
   "cell_type": "markdown",
   "metadata": {},
   "source": [
    "1. 字典基本操作\n",
    "\n",
    "字典内容如下:\n",
    "\n",
    "dic = {\n",
    "    'python': 95,\n",
    "    'java': 99,\n",
    "    'c': 100\n",
    "    }\n",
    "    \n",
    "用程序解答下面的题目：\n",
    "\n",
    " - 字典的长度是多少\n",
    " - 请修改'java' 这个key对应的value值为98\n",
    " - 删除 c 这个key\n",
    " - 增加一个key-value对，key值为 php, value是90\n",
    " - 获取所有的key值，存储在列表里\n",
    " - 获取所有的value值，存储在列表里\n",
    " - 判断 javascript 是否在字典中\n",
    " - 获得字典里所有value 的和\n",
    " - 获取字典里最大的value\n",
    " - 获取字典里最小的value\n",
    " - 字典 dic1 = {'php': 97}， 将dic1的数据更新到dic中"
   ]
  },
  {
   "cell_type": "code",
   "execution_count": 70,
   "metadata": {},
   "outputs": [
    {
     "name": "stdout",
     "output_type": "stream",
     "text": [
      "3\n"
     ]
    },
    {
     "data": {
      "text/plain": [
       "{'python': 95, 'java': 98, 'c': 100}"
      ]
     },
     "execution_count": 70,
     "metadata": {},
     "output_type": "execute_result"
    },
    {
     "name": "stdout",
     "output_type": "stream",
     "text": [
      "100 {'python': 95, 'java': 99}\n"
     ]
    },
    {
     "data": {
      "text/plain": [
       "{'python': 95, 'java': 99, 'c': 100, 'php': 90}"
      ]
     },
     "execution_count": 70,
     "metadata": {},
     "output_type": "execute_result"
    },
    {
     "name": "stdout",
     "output_type": "stream",
     "text": [
      "['python', 'java', 'c']\n",
      "[95, 99, 100]\n"
     ]
    },
    {
     "data": {
      "text/plain": [
       "False"
      ]
     },
     "execution_count": 70,
     "metadata": {},
     "output_type": "execute_result"
    },
    {
     "name": "stdout",
     "output_type": "stream",
     "text": [
      "294\n"
     ]
    },
    {
     "data": {
      "text/plain": [
       "100"
      ]
     },
     "execution_count": 70,
     "metadata": {},
     "output_type": "execute_result"
    },
    {
     "data": {
      "text/plain": [
       "95"
      ]
     },
     "execution_count": 70,
     "metadata": {},
     "output_type": "execute_result"
    },
    {
     "data": {
      "text/plain": [
       "{'python': 95, 'java': 99, 'c': 100, 'php': 97}"
      ]
     },
     "execution_count": 70,
     "metadata": {},
     "output_type": "execute_result"
    }
   ],
   "source": [
    "for i in range(11):\n",
    "    dic = {'python':95,'java':99,'c':100}\n",
    "    if i == 0:\n",
    "        print(len(dic))\n",
    "    elif i == 1:\n",
    "        dic['java']=98         #dict可以直接改对应的键值对\n",
    "        dic\n",
    "    elif i == 2:\n",
    "        print(dic.pop('c'),dic)#删除键，查看新的dict\n",
    "    elif i == 3:\n",
    "        dic['php']=90          #dict直接增加新的键值对\n",
    "        dic\n",
    "    elif i == 4:\n",
    "        print(list(dic.keys()))#dict直接查看键\n",
    "    elif i == 5:\n",
    "        print(list(dic.values()))#dict直接查看值\n",
    "    elif i == 6:\n",
    "        'javascript' in dic     \n",
    "    elif i == 7:                #计算对应的value之和，可以遍历values的值，或者sum(dic.values())\n",
    "        num = 0\n",
    "        for j in dic.values():\n",
    "            num += j\n",
    "        print(num)\n",
    "    elif i == 8:\n",
    "        max(tuple(dic.values()))#将values转换成对应的元组，求里面的最大值\n",
    "    elif i == 9:\n",
    "        min(tuple(dic.values()))\n",
    "    else:\n",
    "        dic.update({'php':97})#添加新的字典在原字典内\n",
    "        dic"
   ]
  },
  {
   "cell_type": "markdown",
   "metadata": {},
   "source": [
    "2. 字典中的value\n",
    "\n",
    "有一个字典，保存的是学生各个编程语言的成绩，内容如下\n",
    "\n",
    "`data = {\n",
    "        'python': {'上学期': '90', '下学期': '95'},\n",
    "        'c++': ['95', '96', '97'],\n",
    "        'java': [{'月考':'90', '期中考试': '94', '期末考试': '98'}]\n",
    "        }`\n",
    "\n",
    "各门课程的考试成绩存储方式并不相同，有的用字典，有的用列表，但是分数都是字符串类型，请实现函数transfer_score(score_dict)，将分数修改成int类型"
   ]
  },
  {
   "cell_type": "markdown",
   "metadata": {},
   "source": [
    "### 解题思路\n",
    "根据本题字典：\n",
    " - 先对类型字典内的values类型进行判断\n",
    " - 如果是字典，则取value值，用isdigt函数判断是否只为数值，然后int。如果其他题目不是的话进行递归。\n",
    " - 如果是列表，则直接遍历元素进行是否为字符串的判断，如果是则进行isdigit(）判断，查看是否是为数值，是数值则int，否则都要递归。\n",
    " - 如果是字符串，进行数值判断并int数值。如果不是本题则是数值进行int,不是报错。"
   ]
  },
  {
   "cell_type": "code",
   "execution_count": 131,
   "metadata": {
    "scrolled": true
   },
   "outputs": [
    {
     "name": "stdout",
     "output_type": "stream",
     "text": [
      "90\n",
      "95\n",
      "95\n",
      "96\n",
      "97\n",
      "90\n",
      "94\n",
      "98\n"
     ]
    },
    {
     "data": {
      "text/plain": [
       "'此题目前有瑕疵，待后续跟进优化'"
      ]
     },
     "execution_count": 131,
     "metadata": {},
     "output_type": "execute_result"
    }
   ],
   "source": [
    "def transfer_score(data):\n",
    "    for value in data.values():\n",
    "        if isinstance(value,list):\n",
    "            for i in value:\n",
    "                if isinstance(i,str):\n",
    "                    if i.isdigit():\n",
    "                        i = int(i)\n",
    "                        print(i)\n",
    "                    else:\n",
    "                        print(\"格式有误\")\n",
    "                else:\n",
    "                    transfer_score(i)\n",
    "        elif isinstance(value,dict):\n",
    "            for j in value.values():\n",
    "                if j.isdigit():\n",
    "                    j = int(j)\n",
    "                    print(j)\n",
    "                else:\n",
    "                    print(\"格式有误\")\n",
    "        else:\n",
    "            if value.isdigit():\n",
    "                value = int(value)\n",
    "                print(value)\n",
    "data = {\n",
    "        'python': {'上学期': '90', '下学期': '95'},\n",
    "        'c++': ['95', '96', '97'],\n",
    "        'java': [{'月考':'90', '期中考试': '94', '期末考试': '98'}]\n",
    "        }\n",
    "transfer_score(data)\n",
    "'''此题目前有瑕疵，待后续跟进优化'''"
   ]
  },
  {
   "cell_type": "markdown",
   "metadata": {},
   "source": [
    "### 答案思路\n",
    " - 只要考虑是不是字典，列表，分类别进行讨论对待。再细分到后面str时，返回对应的int即可。\n",
    " - 应用isinstance()进行判断，判断后对类别进行遍历\n",
    " - 对于是dict的，可遍历其中的key和value from dict.items()，再对key和递归的value进行赋值，后续对value再递归判断。\n",
    " - 对于list的同理，取list每一个元素增加到新的list中，对于新的list内进行递归判断。\n",
    " - 最后大家都转换成str,对str进行判断，return int(data)即可。\n",
    " - 调用对应的类函数：if __name__ == '__main__':data={}\n",
    "  - data = transfer_score(data)\n",
    "  - 再pprint.pprint(data)"
   ]
  },
  {
   "cell_type": "code",
   "execution_count": 9,
   "metadata": {},
   "outputs": [
    {
     "name": "stdout",
     "output_type": "stream",
     "text": [
      "{'c++': [95, 96, 97],\n",
      " 'java': [{'月考': 90, '期中考试': 94, '期末考试': 98}],\n",
      " 'python': {'上学期': 90, '下学期': 95}}\n"
     ]
    }
   ],
   "source": [
    "##标准答案\n",
    "import pprint   #pretty print最后打印比print更直观\n",
    "\n",
    "def transfer_score(data):\n",
    "    if isinstance(data,dict):\n",
    "        for key,value in data.items():\n",
    "            data[key] = transfer_score(value)\n",
    "        return data\n",
    "    \n",
    "    if isinstance(data,list):\n",
    "        data_lst = []\n",
    "        for item in data:\n",
    "            data_lst.append(transfer_score(item))\n",
    "        return data_lst\n",
    "    \n",
    "    if isinstance(data,str):\n",
    "        return int(data)\n",
    "    \n",
    "if __name__ == '__main__':\n",
    "    data ={'python': {'上学期': '90', '下学期': '95'},\n",
    "        'c++': ['95', '96', '97'],\n",
    "        'java': [{'月考':'90', '期中考试': '94', '期末考试': '98'}]\n",
    "    }\n",
    "    \n",
    "data = transfer_score(data)\n",
    "pprint.pprint(data)"
   ]
  },
  {
   "cell_type": "code",
   "execution_count": 7,
   "metadata": {},
   "outputs": [
    {
     "name": "stdout",
     "output_type": "stream",
     "text": [
      "{'c++': None, 'java': None, 'python': {'上学期': None, '下学期': None}}\n"
     ]
    }
   ],
   "source": [
    "def transfer_score(data):\n",
    "    if isinstance(data,dict):\n",
    "        for key,value in data.items():\n",
    "            data[key] = transfer_score(value)\n",
    "        return data\n",
    "\n",
    "if __name__ == '__main__':\n",
    "    data ={'python': {'上学期': '90', '下学期': '95'},\n",
    "        'c++': ['95', '96', '97'],\n",
    "        'java': [{'月考':'90', '期中考试': '94', '期末考试': '98'}]\n",
    "    }\n",
    "    \n",
    "data = transfer_score(data)\n",
    "pprint.pprint(data)"
   ]
  },
  {
   "cell_type": "code",
   "execution_count": null,
   "metadata": {},
   "outputs": [],
   "source": []
  }
 ],
 "metadata": {
  "kernelspec": {
   "display_name": "Python 3",
   "language": "python",
   "name": "python3"
  },
  "language_info": {
   "codemirror_mode": {
    "name": "ipython",
    "version": 3
   },
   "file_extension": ".py",
   "mimetype": "text/x-python",
   "name": "python",
   "nbconvert_exporter": "python",
   "pygments_lexer": "ipython3",
   "version": "3.7.3"
  }
 },
 "nbformat": 4,
 "nbformat_minor": 4
}
