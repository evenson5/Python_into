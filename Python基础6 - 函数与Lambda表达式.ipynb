{
 "cells": [
  {
   "cell_type": "code",
   "execution_count": 1,
   "metadata": {},
   "outputs": [],
   "source": [
    "from IPython.core.interactiveshell import InteractiveShell\n",
    "InteractiveShell.ast_node_Interactivity = \"all\""
   ]
  },
  {
   "cell_type": "markdown",
   "metadata": {},
   "source": [
    "## 函数\n",
    " - 函数是Python中最重要、最基础的代码组织和代码复用方式。如果需要多次重复相同或类似的代码，就值得写一个可复用的函数。\n",
    " - 通过给一组Python语句一个函数名，形成的函数可以使代码更加可读。\n",
    " - 函数以`def`关键字开始，后接函数名和圆括号()。\n",
    " - 函数执行的代码以冒号开始，并且对应缩进。\n",
    " - return[表达式]结束函数，选择性的返回一个值给调用方，无return自动返回None.\n",
    " "
   ]
  },
  {
   "cell_type": "markdown",
   "metadata": {},
   "source": [
    "### 举例说明：\n",
    "`def my_function(x, y, z=1.5):\n",
    "    if z > 1:\n",
    "        return z * (x + y)\n",
    "    else:\n",
    "        return z / (x + y)`\n",
    "        \n",
    " - 函数都有对应的*位置参数*和*关键字参数*。关键字参数最常用于指定默认值或可选参数。上述案例，x和y是位置参数，z是关键字参数。\n",
    "\n",
    "上述案例可调用为：\n",
    " \n",
    " `my_function(5,6,z=0.1)\n",
    "  my_function(3,6,3.14)\n",
    "  my_function(4,5)`\n",
    " - 函数参数的主要限制是关键字参数必须跟在位置参数（如果有的话）后，可以任意顺序指定关键字参数，不必强行记下函数参数的顺序，只需用参数名指定。\n",
    "\n",
    "上述案例可调用为：\n",
    "\n",
    "`my_function(x=1,y=5,z=9)\n",
    " my_function(y=8,x=4,z=1)`\n",
    " \n",
    " - 也可以用关键字参数项位置参数传参。"
   ]
  },
  {
   "cell_type": "code",
   "execution_count": 4,
   "metadata": {},
   "outputs": [
    {
     "name": "stdout",
     "output_type": "stream",
     "text": [
      "没错，我就是显现函数\n",
      "Hello\n",
      "调用函数后显现： None\n",
      "调用add函数，并赋值（1,2）： 3\n"
     ]
    }
   ],
   "source": [
    "'''函数的调用'''\n",
    "def printme(str):\n",
    "    print(str)\n",
    "    \n",
    "printme(\"没错，我就是显现函数\")\n",
    "st = printme('Hello')\n",
    "print(\"调用函数后显现：\",st)\n",
    "'''注意：因为函数体内的语句在执行到return时，函数执行完毕并返回结果。若没有return语句，函数执行完毕也会返回结果，\n",
    "只是自动返回结果为None。这就是为什么对于没有return[表达式]的函数，print会显示None'''\n",
    "\n",
    "def add(a,b):\n",
    "    return a+b\n",
    "\n",
    "s = add(1,2)\n",
    "print(\"调用add函数，并赋值（1,2）：\",s)"
   ]
  },
  {
   "cell_type": "code",
   "execution_count": 13,
   "metadata": {},
   "outputs": [
    {
     "name": "stdout",
     "output_type": "stream",
     "text": [
      "传递进来的小小的程序人生叫做实参，因为是具体的参数值。\n",
      "函数定义过程中name是形参\n",
      "Help on function my_function in module __main__:\n",
      "\n",
      "my_function(name)\n",
      "    函数定义过程中name是形参\n",
      "\n"
     ]
    }
   ],
   "source": [
    "'''函数文档'''\n",
    "def my_function(name):\n",
    "    \"函数定义过程中name是形参\"\n",
    "    print('传递进来的{}叫做实参，因为是具体的参数值。'.format(name))\n",
    "\n",
    "my_function('小小的程序人生')#调用函数，显现传递进来的小小的程序人生叫做实参，因为是具体的参数值。\n",
    "\n",
    "print(my_function.__doc__)#显现my_function的文字注释\n",
    "\n",
    "help(my_function)        #查看函数或模块用途的详细说明"
   ]
  },
  {
   "cell_type": "markdown",
   "metadata": {},
   "source": [
    "### 函数是对象\n",
    "由于Python万物皆对象，函数也是对象，其他语言比较难的构造在Python中非常容易实现。\n",
    "\n",
    " - 举例说明：\n",
    " \n",
    "`states = [' Alabama','Georgia!','Georgia','georgia','Fl0rIda','south  carolina**','west virginia?']`\n",
    "\n",
    "在对states进行数据清洗时，因为各操作较麻烦。解决方法之一是使用内建的字符串方法，结合标准库中的正则表达式模块re:"
   ]
  },
  {
   "cell_type": "code",
   "execution_count": 14,
   "metadata": {},
   "outputs": [
    {
     "data": {
      "text/plain": [
       "['Alabama',\n",
       " 'Georgia',\n",
       " 'Georgia',\n",
       " 'Georgia',\n",
       " 'Fl0Rida',\n",
       " 'South  Carolina',\n",
       " 'West Virginia']"
      ]
     },
     "execution_count": 14,
     "metadata": {},
     "output_type": "execute_result"
    }
   ],
   "source": [
    "import re\n",
    "def clean_strings(strings):\n",
    "    result = []\n",
    "    for value in strings:\n",
    "        value = value.strip()\n",
    "        value = re.sub('[!*?]','',value)\n",
    "        value = value.title()\n",
    "        result.append(value)\n",
    "    return result\n",
    "\n",
    "states = [' Alabama','Georgia!','Georgia','georgia','Fl0rIda','south  carolina**','west virginia?']\n",
    "clean_strings(states)"
   ]
  },
  {
   "cell_type": "markdown",
   "metadata": {},
   "source": [
    "### 函数参数\n",
    "Python的函数具有非常灵活的参数状态，既可以实现简单的调用，又可以传入非常复杂的参数。从简到繁的参数形态如下：\n",
    " - 位置参数（positional argument）\n",
    " - 默认参数（default argument）\n",
    " - 可变参数（variable argument）\n",
    " - 关键字参数（keyword argument）\n",
    " - 命名关键字参数（name keyword argument）\n",
    " - 参数组合"
   ]
  },
  {
   "cell_type": "code",
   "execution_count": 15,
   "metadata": {},
   "outputs": [
    {
     "data": {
      "text/plain": [
       "'arg1位置参数，这些参数在调用函数时位置要固定'"
      ]
     },
     "execution_count": 15,
     "metadata": {},
     "output_type": "execute_result"
    }
   ],
   "source": [
    "'''位置参数'''\n",
    "def functionname(arg1):\n",
    "    \"函数_文档字符串\"\n",
    "    function_suite\n",
    "    return [expression]\n",
    "'''arg1位置参数，这些参数在调用函数时位置要固定'''"
   ]
  },
  {
   "cell_type": "markdown",
   "metadata": {},
   "source": [
    "**默认参数**\n",
    "\n",
    "`def functionname(arg1,arg2=v):\n",
    "    \"函数_文档字符串\"\n",
    "    function_suite\n",
    "    return [expression]`\n",
    "1. arg2 = v默认参数，有默认值，调用函数时，默认参数的值如果没有传入，则为默认值。\n",
    "2. 设置函数时默认参数一定要放在未知参数后面，不然城西报错。\n",
    "3. 调用函数时允许函数参数的顺序与设置时不一致，因为Python解释器能够用参数名匹配参数值。"
   ]
  },
  {
   "cell_type": "markdown",
   "metadata": {},
   "source": [
    "**可变参数**\n",
    "\n",
    "顾名思义，可变参数就是传入的参数个数是可变的，可以是 0, 1, 2 到任意个，是不定长的参数。\n",
    "\n",
    "`def functionname(arg1, arg2=v, *args):\n",
    "    \"函数_文档字符串\"\n",
    "    function_suite\n",
    "    return [expression]`\n",
    "\n",
    " - *args可变参数，可以使从0个到任意个，自动组装成元组\n",
    " - 加了星号(*)的变量名会存放所有未命名的变量参数。"
   ]
  },
  {
   "cell_type": "code",
   "execution_count": 17,
   "metadata": {},
   "outputs": [
    {
     "name": "stdout",
     "output_type": "stream",
     "text": [
      "10\n",
      "[1, 2, '3']\n"
     ]
    }
   ],
   "source": [
    "#可变参数案例：\n",
    "def printinfo(arg1,*args):\n",
    "    print(arg1)\n",
    "    for v in args:\n",
    "        print(v)\n",
    "printinfo(10,[1,2,'3'])"
   ]
  },
  {
   "cell_type": "markdown",
   "metadata": {},
   "source": [
    "**关键字参数**\n",
    "\n",
    "`def functionname(arg1, arg2=v, *args, **kw):\n",
    "    \"函数_文档字符串\"\n",
    "    function_suite\n",
    "    return [expression]`\n",
    "\n",
    " - **kw - 关键字参数，可以是从零个到任意个，自动组装成字典。\n",
    " - 可变参数和关键字参数区别在于，前者**调用**时自动组装成一个元组，后者在**函数内部**自动组装成一个字典。"
   ]
  },
  {
   "cell_type": "code",
   "execution_count": 19,
   "metadata": {},
   "outputs": [
    {
     "name": "stdout",
     "output_type": "stream",
     "text": [
      "10\n",
      "([23, 2, 'e'],)\n",
      "{'a': 1, 'n': 4}\n"
     ]
    }
   ],
   "source": [
    "#关键字参数\n",
    "def printinfo(arg1, *args, **kwargs):\n",
    "    print(arg1)\n",
    "    print(args)\n",
    "    print(kwargs)\n",
    "\n",
    "printinfo(10,[23,2,'e'],a=1,n=4)"
   ]
  },
  {
   "cell_type": "markdown",
   "metadata": {},
   "source": [
    "**命名关键字参数**\n",
    "\n",
    "`def functionname(arg1, arg2=v, *args, *, nkw, **kw):\n",
    "    \"函数_文档字符串\"\n",
    "    function_suite\n",
    "    return [expression]`\n",
    "    \n",
    " - *, nkw - 命名关键字参数，用户想要输入的关键字参数，定义方式是在nkw 前面加个分隔符 *。\n",
    " - 如果要限制关键字参数的名字，就可以用「命名关键字参数」\n",
    " - 使用命名关键字参数时，要特别注意不能缺少参数名。"
   ]
  },
  {
   "cell_type": "code",
   "execution_count": 25,
   "metadata": {},
   "outputs": [
    {
     "name": "stdout",
     "output_type": "stream",
     "text": [
      "66\n",
      "[1, 2, 3]\n",
      "{'a': 1}\n"
     ]
    },
    {
     "ename": "TypeError",
     "evalue": "printinfo() takes 1 positional argument but 2 were given",
     "output_type": "error",
     "traceback": [
      "\u001b[1;31m---------------------------------------------------------------------------\u001b[0m",
      "\u001b[1;31mTypeError\u001b[0m                                 Traceback (most recent call last)",
      "\u001b[1;32m<ipython-input-25-fdaf41808312>\u001b[0m in \u001b[0;36m<module>\u001b[1;34m\u001b[0m\n\u001b[0;32m      6\u001b[0m \u001b[0mprintinfo\u001b[0m\u001b[1;33m(\u001b[0m\u001b[1;36m66\u001b[0m\u001b[1;33m,\u001b[0m\u001b[0mnkw\u001b[0m\u001b[1;33m=\u001b[0m\u001b[1;33m[\u001b[0m\u001b[1;36m1\u001b[0m\u001b[1;33m,\u001b[0m\u001b[1;36m2\u001b[0m\u001b[1;33m,\u001b[0m\u001b[1;36m3\u001b[0m\u001b[1;33m]\u001b[0m\u001b[1;33m,\u001b[0m\u001b[0ma\u001b[0m\u001b[1;33m=\u001b[0m\u001b[1;36m1\u001b[0m\u001b[1;33m)\u001b[0m\u001b[1;33m\u001b[0m\u001b[1;33m\u001b[0m\u001b[0m\n\u001b[0;32m      7\u001b[0m \u001b[1;33m\u001b[0m\u001b[0m\n\u001b[1;32m----> 8\u001b[1;33m \u001b[0mprintinfo\u001b[0m\u001b[1;33m(\u001b[0m\u001b[1;36m66\u001b[0m\u001b[1;33m,\u001b[0m\u001b[1;36m88\u001b[0m\u001b[1;33m,\u001b[0m\u001b[0ma\u001b[0m\u001b[1;33m=\u001b[0m\u001b[1;36m1\u001b[0m\u001b[1;33m)\u001b[0m\u001b[1;33m\u001b[0m\u001b[1;33m\u001b[0m\u001b[0m\n\u001b[0m",
      "\u001b[1;31mTypeError\u001b[0m: printinfo() takes 1 positional argument but 2 were given"
     ]
    }
   ],
   "source": [
    "def printinfo(arg1, *, nkw, **kwargs):\n",
    "    print(arg1)\n",
    "    print(nkw)\n",
    "    print(kwargs)\n",
    "\n",
    "printinfo(66,nkw=[1,2,3],a=1)\n",
    "\n",
    "printinfo(66,88,a=1)    \n",
    "'''由于没有写参数名nwk，因此88被当做第二个位置参数，但原函数只有一个，所以程序报错'''"
   ]
  },
  {
   "cell_type": "markdown",
   "metadata": {},
   "source": [
    "**参数组合**\n",
    "\n",
    "在 Python 中定义函数，可以用位置参数、默认参数、可变参数、命名关键字参数和关键字参数，这 5 种参数中的 4 个都可以一起使用，但是注意，参数定义的顺序必须是：\n",
    "\n",
    " - 位置参数、默认参数、可变参数和关键字参数。\n",
    " - 位置参数、默认参数、命名关键字参数和关键字参数。\n",
    "\n",
    "要注意定义可变参数和关键字参数的语法：\n",
    " - *args 是可变参数，args 接收的是一个 tuple\n",
    " - **kw 是关键字参数，kw 接收的是一个 dict\n",
    "命名关键字参数是为了限制调用者可以传入的参数名，同时可以提供默认值。定义命名关键字参数不要忘了写分隔符 *，否则定义的是位置参数。\n",
    "\n",
    "警告：虽然可以组合多达 5 种参数，但不要同时使用太多的组合，否则函数很难懂。\n"
   ]
  },
  {
   "cell_type": "markdown",
   "metadata": {},
   "source": [
    "#### 函数的返回值\n",
    "Python使用函数时可以返回多个值，代码如下：\n",
    "\n",
    "`def f():\n",
    "    a = 4\n",
    "    b = 5\n",
    "    c = 6\n",
    "    return a, a+b, a+b+c`\n",
    "\n",
    "返回多个值的实质上是返回了一个对象，即元组，而元组之后又被拆包为多个结果变量。"
   ]
  },
  {
   "cell_type": "markdown",
   "metadata": {},
   "source": [
    "### 命名空间、作用域和本地函数\n",
    "函数有两种连接变量的方式：**全局、本地。**在Python中另一种更贴切的描述变量作用域的名称是命名空间。\n",
    " - 在函数内部，任意变量都是默认分配到本地命名空间的。\n",
    " - 本地命名空间是在函数被调用时生成的，并立即有函数的参数填充。\n",
    " - 一般在函数执行结束后，本地命名空间会被销毁（除了一些特殊情况）。"
   ]
  },
  {
   "cell_type": "markdown",
   "metadata": {},
   "source": [
    "#### 变量作用域\n",
    " - Python 中，程序的变量并不是在哪个位置都可以访问的，访问权限决定于这个变量是在哪里赋值的。\n",
    " - 定义在函数内部的变量拥有局部作用域，该变量称为局部变量。\n",
    " - 定义在函数外部的变量拥有全局作用域，该变量称为全局变量。\n",
    " - 局部变量只能在其被声明的函数内部访问，而全局变量可以在整个程序范围内访问。"
   ]
  },
  {
   "cell_type": "code",
   "execution_count": 28,
   "metadata": {},
   "outputs": [
    {
     "name": "stdout",
     "output_type": "stream",
     "text": [
      "[]\n"
     ]
    }
   ],
   "source": [
    "#案例说明\n",
    "def func():\n",
    "    a = []\n",
    "    for i in range(5):\n",
    "        a.append(i)\n",
    "\n",
    "'''当调用func()时，空的列表a会被创建，五个元素被添加到列表，a在函数退出时被销毁。若a在func外：'''\n",
    "a = []\n",
    "def func():\n",
    "    for i in range(5):\n",
    "        a.append(i)\n",
    "\n",
    "'''那些变量需要使用global关键字声明为全局变量：'''\n",
    "a = None\n",
    "def bind_a_variable():\n",
    "    global a    \n",
    "    '''global：通常全局变量用来存储系统中的某些状态，如果大量使用全局变量，可能需要面向对象编程（使用类）。'''\n",
    "    a = []\n",
    "    \n",
    "bind_a_variable()\n",
    "print(a)"
   ]
  },
  {
   "cell_type": "code",
   "execution_count": 34,
   "metadata": {},
   "outputs": [
    {
     "name": "stdout",
     "output_type": "stream",
     "text": [
      "outer函数调用\n",
      "inner函数被调用\n"
     ]
    }
   ],
   "source": [
    "### 内嵌函数案例\n",
    "def outer():\n",
    "    print('outer函数调用')\n",
    "    \n",
    "    def inner():\n",
    "        print('inner函数被调用')\n",
    "    inner()   #inner()函数在outer函数内部被调用，且只能在内部调用\n",
    "    \n",
    "outer()  #运行outer()函数，内部函数一起"
   ]
  },
  {
   "cell_type": "markdown",
   "metadata": {},
   "source": [
    "### 闭包\n",
    " - 是函数式编程的一个重要的语法结构，是一种特殊的内嵌函数。\n",
    " - 如果在一个内部函数里对外层非全局作用域的变量进行引用，那么内部函数就被认为是闭包。\n",
    " - 通过闭包可以访问外层非全局作用域的变量，这个作用域称为**闭包作用域。**\n",
    " - 闭包的用途是为了装饰器的实现。\n",
    " \n",
    "`def 外层函数(参数):\n",
    "    def 内层函数():\n",
    "        print(\"内层函数执行\", 参数)\n",
    "    return 内层函数\n",
    "内层函数的引用 = 外层函数(\"传入参数\")\n",
    "内层函数的引用()`"
   ]
  },
  {
   "cell_type": "code",
   "execution_count": 43,
   "metadata": {},
   "outputs": [
    {
     "data": {
      "text/plain": [
       "21"
      ]
     },
     "execution_count": 43,
     "metadata": {},
     "output_type": "execute_result"
    }
   ],
   "source": [
    "#闭包的返回值通常是函数\n",
    "def func(a,b):\n",
    "    def line(x):\n",
    "        return a*x + b\n",
    "    return line\n",
    "\n",
    "i = func(3,6)\n",
    "i(5)        "
   ]
  },
  {
   "cell_type": "markdown",
   "metadata": {},
   "source": [
    "#### 案例解析\n",
    " - 外函数func有接收参数 a=3，b=6，内函数line接收参数x=5。\n",
    " - 在内函数体中计算了a*x+b 即 3×5+6的值作为返回值，外函数返回内函数的引用，这里的引用指的是内函数line在内存中的起始地址，最终调用内函数line()得到返回值21."
   ]
  },
  {
   "cell_type": "code",
   "execution_count": 46,
   "metadata": {},
   "outputs": [
    {
     "name": "stdout",
     "output_type": "stream",
     "text": [
      "1\n",
      "0\n",
      "0\n"
     ]
    }
   ],
   "source": [
    "def make_counter(init):\n",
    "    counter = [init]\n",
    "    \n",
    "    def inc():counter[0] += 1\n",
    "    def dec():counter[0] -= 1\n",
    "    def get():return counter[0]\n",
    "    def reset():counter[0] = init\n",
    "    return inc,dec,get,reset\n",
    "\n",
    "make_counter(0)\n",
    "inc()\n",
    "print(get())\n",
    "dec()\n",
    "print(get())\n",
    "reset()\n",
    "print(get())"
   ]
  },
  {
   "cell_type": "markdown",
   "metadata": {},
   "source": [
    "#### 案例解析\n",
    " - 外函数make_counter接受参数0，代入内函数\n",
    " - 由于inc()、dec()、reset均没有return，所以非闭包，但对应计算仍成立。\n",
    " - get()属于闭包，计算后如上。"
   ]
  },
  {
   "cell_type": "markdown",
   "metadata": {},
   "source": [
    "#### 内函数修外函数的值，即修改闭包作用域中的变量-nonlocal关键字\n",
    " - 一般在函数结束时，会释放临时变量，但在闭包中，由于外函数的临时变量在内函数中用到，此时外函数会把临时变量与内函数绑定到一起，这样虽然外函数结束了，但调用内函数时依旧能够使用临时变量，即闭包外层的参数可以在内存中进行保留。\n",
    " - 如果想要在内函数中修改外函数的值，需要使用 nonlocal 关键字声明变量。"
   ]
  },
  {
   "cell_type": "code",
   "execution_count": 48,
   "metadata": {},
   "outputs": [
    {
     "data": {
      "text/plain": [
       "31"
      ]
     },
     "execution_count": 48,
     "metadata": {},
     "output_type": "execute_result"
    }
   ],
   "source": [
    "#案例说明\n",
    "def func(a,b):\n",
    "    def line(x):\n",
    "        nonlocal a\n",
    "        a = 5         #实际a值永远为5\n",
    "        return a * x + b #即 5 * x + b\n",
    "    return line\n",
    "\n",
    "i = func(3,6) #计算为 5*x + 6\n",
    "i(5)          #5*5 + 6 = 31"
   ]
  },
  {
   "cell_type": "markdown",
   "metadata": {},
   "source": [
    "### 递归\n",
    " - 如果一函数在内部调用自身本身，这个函数就是递归函数。"
   ]
  },
  {
   "cell_type": "code",
   "execution_count": 49,
   "metadata": {},
   "outputs": [
    {
     "data": {
      "text/plain": [
       "120"
      ]
     },
     "execution_count": 49,
     "metadata": {},
     "output_type": "execute_result"
    }
   ],
   "source": [
    "#递归案例\n",
    "def func(n):\n",
    "    if n == 1:\n",
    "        return 1\n",
    "    return n * func(n-1)\n",
    "func(5)"
   ]
  },
  {
   "cell_type": "markdown",
   "metadata": {},
   "source": [
    "#### 斐波那契数列\n",
    "`f(n) = f(n-1) + f(n-2) \n",
    "f(0) = 0\n",
    "f(1) = 1`"
   ]
  },
  {
   "cell_type": "code",
   "execution_count": 50,
   "metadata": {},
   "outputs": [
    {
     "name": "stdout",
     "output_type": "stream",
     "text": [
      "[0, 1, 1, 2, 3, 5, 8, 13, 21, 34, 55]\n"
     ]
    }
   ],
   "source": [
    "#循环：斐波那契数列\n",
    "i = 0\n",
    "j = 1\n",
    "lst = list([i,j])\n",
    "for k in range(2,11):\n",
    "    k = i+j\n",
    "    lst.append(k)\n",
    "    i = j\n",
    "    j = k\n",
    "print(lst)"
   ]
  },
  {
   "cell_type": "code",
   "execution_count": 51,
   "metadata": {},
   "outputs": [
    {
     "data": {
      "text/plain": [
       "[0, 1, 1, 2, 3, 5, 8, 13, 21, 34, 55]"
      ]
     },
     "execution_count": 51,
     "metadata": {},
     "output_type": "execute_result"
    }
   ],
   "source": [
    "#递归：斐波那契数列\n",
    "def feibo(n):\n",
    "    if n <= 1:\n",
    "        return n\n",
    "    return feibo(n-1) + feibo(n-2)\n",
    "\n",
    "lst = list()\n",
    "for k in range(11):\n",
    "    lst.append(feibo(k))\n",
    "lst"
   ]
  },
  {
   "cell_type": "code",
   "execution_count": null,
   "metadata": {},
   "outputs": [],
   "source": []
  }
 ],
 "metadata": {
  "kernelspec": {
   "display_name": "Python 3",
   "language": "python",
   "name": "python3"
  },
  "language_info": {
   "codemirror_mode": {
    "name": "ipython",
    "version": 3
   },
   "file_extension": ".py",
   "mimetype": "text/x-python",
   "name": "python",
   "nbconvert_exporter": "python",
   "pygments_lexer": "ipython3",
   "version": "3.7.3"
  }
 },
 "nbformat": 4,
 "nbformat_minor": 4
}
