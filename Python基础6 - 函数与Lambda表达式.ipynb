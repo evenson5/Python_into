{
 "cells": [
  {
   "cell_type": "code",
   "execution_count": 1,
   "metadata": {},
   "outputs": [],
   "source": [
    "from IPython.core.interactiveshell import InteractiveShell\n",
    "InteractiveShell.ast_node_Interactivity = \"all\""
   ]
  },
  {
   "cell_type": "markdown",
   "metadata": {},
   "source": [
    "## 函数\n",
    " - 函数是Python中最重要、最基础的代码组织和代码复用方式。如果需要多次重复相同或类似的代码，就值得写一个可复用的函数。\n",
    " - 通过给一组Python语句一个函数名，形成的函数可以使代码更加可读。\n",
    " - 函数以`def`关键字开始，后接函数名和圆括号()。\n",
    " - 函数执行的代码以冒号开始，并且对应缩进。\n",
    " - return[表达式]结束函数，选择性的返回一个值给调用方，无return自动返回None.\n",
    " "
   ]
  },
  {
   "cell_type": "markdown",
   "metadata": {},
   "source": [
    "### 举例说明：\n",
    "`def my_function(x, y, z=1.5):\n",
    "    if z > 1:\n",
    "        return z * (x + y)\n",
    "    else:\n",
    "        return z / (x + y)`\n",
    "        \n",
    " - 函数都有对应的*位置参数*和*关键字参数*。关键字参数最常用于指定默认值或可选参数。上述案例，x和y是位置参数，z是关键字参数。\n",
    "\n",
    "上述案例可调用为：\n",
    " \n",
    " `my_function(5,6,z=0.1)\n",
    "  my_function(3,6,3.14)\n",
    "  my_function(4,5)`\n",
    " - 函数参数的主要限制是关键字参数必须跟在位置参数（如果有的话）后，可以任意顺序指定关键字参数，不必强行记下函数参数的顺序，只需用参数名指定。\n",
    "\n",
    "上述案例可调用为：\n",
    "\n",
    "`my_function(x=1,y=5,z=9)\n",
    " my_function(y=8,x=4,z=1)`\n",
    " \n",
    " - 也可以用关键字参数项位置参数传参。"
   ]
  },
  {
   "cell_type": "code",
   "execution_count": 4,
   "metadata": {},
   "outputs": [
    {
     "name": "stdout",
     "output_type": "stream",
     "text": [
      "没错，我就是显现函数\n",
      "Hello\n",
      "调用函数后显现： None\n",
      "调用add函数，并赋值（1,2）： 3\n"
     ]
    }
   ],
   "source": [
    "'''函数的调用'''\n",
    "def printme(str):\n",
    "    print(str)\n",
    "    \n",
    "printme(\"没错，我就是显现函数\")\n",
    "st = printme('Hello')\n",
    "print(\"调用函数后显现：\",st)\n",
    "'''注意：因为函数体内的语句在执行到return时，函数执行完毕并返回结果。若没有return语句，函数执行完毕也会返回结果，\n",
    "只是自动返回结果为None。这就是为什么对于没有return[表达式]的函数，print会显示None'''\n",
    "\n",
    "def add(a,b):\n",
    "    return a+b\n",
    "\n",
    "s = add(1,2)\n",
    "print(\"调用add函数，并赋值（1,2）：\",s)"
   ]
  },
  {
   "cell_type": "code",
   "execution_count": null,
   "metadata": {},
   "outputs": [],
   "source": [
    "'''函数文档'''\n",
    "def my_function(name):\n",
    "    "
   ]
  }
 ],
 "metadata": {
  "kernelspec": {
   "display_name": "Python 3",
   "language": "python",
   "name": "python3"
  },
  "language_info": {
   "codemirror_mode": {
    "name": "ipython",
    "version": 3
   },
   "file_extension": ".py",
   "mimetype": "text/x-python",
   "name": "python",
   "nbconvert_exporter": "python",
   "pygments_lexer": "ipython3",
   "version": "3.7.3"
  }
 },
 "nbformat": 4,
 "nbformat_minor": 4
}
