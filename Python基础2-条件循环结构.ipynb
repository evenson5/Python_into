{
 "cells": [
  {
   "cell_type": "markdown",
   "metadata": {},
   "source": [
    "## Chapter Three 条件语句"
   ]
  },
  {
   "cell_type": "markdown",
   "metadata": {},
   "source": [
    " - if 语句\n",
    " - if - else语句\n",
    " - if -elif -else语句\n",
    " - assert关键词"
   ]
  },
  {
   "cell_type": "markdown",
   "metadata": {},
   "source": [
    "### if语句"
   ]
  },
  {
   "cell_type": "code",
   "execution_count": 1,
   "metadata": {},
   "outputs": [],
   "source": [
    "from IPython.core.interactiveshell import InteractiveShell\n",
    "InteractiveShell.ast_node_interactivity = \"all\""
   ]
  },
  {
   "cell_type": "markdown",
   "metadata": {},
   "source": [
    "`if expression:\n",
    "    expr_true_suite`\n",
    "\n",
    "- if语句的expr_true_suite 代码块只有当条件表达式 expression 结果为真时才执行，否则将继续执行紧跟在该代码块后面的语句。\n",
    "- 单个 if 语句中的 expression 条件表达式可以通过**布尔操作符and，or和not实现多重条件**判断。"
   ]
  },
  {
   "cell_type": "code",
   "execution_count": 2,
   "metadata": {},
   "outputs": [],
   "source": [
    "# eg.This is correct Judgement!\n",
    "if 1 < 2 and not 2 != 1:\n",
    "    print('请记住运算顺序：一元运算符优于二元运算符（例如正负号）\\n算术、移位，而后位运算\\n最后比较再逻辑')"
   ]
  },
  {
   "cell_type": "markdown",
   "metadata": {},
   "source": [
    "### if - else 语句"
   ]
  },
  {
   "cell_type": "markdown",
   "metadata": {},
   "source": [
    "`if expression:   \n",
    "   expr_true_suite\n",
    "else:    \n",
    "    expr_false_suite`\n",
    " - if语句的条件表达式结果布尔值为假，则程序执行else语句后的代码。\n",
    " - if语句支持嵌套，即在一个if语句中嵌入另一个if语句，从而构成不同层次的选择结构，Python使用缩进来标记代码，注意else以及各语句的悬挂问题。"
   ]
  },
  {
   "cell_type": "markdown",
   "metadata": {},
   "source": [
    "### if - else的有趣贴：\n",
    "` if not True:\n",
    "      print('This is wrong!')\n",
    "  else:\n",
    "      print('This is right!')`\n",
    "\n",
    "问：先执行哪一个？"
   ]
  },
  {
   "cell_type": "code",
   "execution_count": 11,
   "metadata": {},
   "outputs": [
    {
     "name": "stdout",
     "output_type": "stream",
     "text": [
      "Yes,it's here\n"
     ]
    }
   ],
   "source": [
    "if not True:\n",
    "    print('NO')\n",
    "else:\n",
    "    print(\"Yes,it's here\")"
   ]
  },
  {
   "cell_type": "code",
   "execution_count": 12,
   "metadata": {},
   "outputs": [
    {
     "name": "stdout",
     "output_type": "stream",
     "text": [
      "请猜一猜是哪个数字？666\n",
      "恭喜你答对了！\n",
      "然而并没有奖励 = =。\n",
      "下次见!\n"
     ]
    }
   ],
   "source": [
    "#eg.猜测的数字是否为666放的if嵌套,一对大的if,else和一对小的if,else\n",
    "temp = input(\"请猜一猜是哪个数字？\")\n",
    "#input默认为str,转换为int类型\n",
    "guess = int(temp)\n",
    "if guess == 666:\n",
    "    print(\"恭喜你答对了！\")\n",
    "    print(\"然而并没有奖励 = =。\")\n",
    "else:\n",
    "    if guess > 666:\n",
    "        print(\"你想的有点多。。\")\n",
    "    else:\n",
    "        print(\"小了\")\n",
    "print(\"下次见!\")"
   ]
  },
  {
   "cell_type": "markdown",
   "metadata": {},
   "source": [
    "### if - elif - else 语句\n",
    " - elif即else if，用来检查多个表达式是否为真，为真时执行对应代码块中的代码。\n",
    " - 对于多个嵌套语句，请**注意格式**，格式出错结果有很大的差距。\n",
    "\n",
    "`if expression1:\n",
    "    expr1_true_suite\n",
    "elif expression2:\n",
    "    expr2_true_suite\n",
    "    .\n",
    "    .\n",
    "elif expressionN:\n",
    "    exprN_true_suite\n",
    "else:\n",
    "    expr_false_suite`"
   ]
  },
  {
   "cell_type": "code",
   "execution_count": 4,
   "metadata": {},
   "outputs": [
    {
     "name": "stdout",
     "output_type": "stream",
     "text": [
      "请输出你的成绩：2\n",
      "不合格\n"
     ]
    }
   ],
   "source": [
    "#eg.根据你输入的成绩进行等级判断\n",
    "temp = input('请输出你的成绩：')\n",
    "score = int(temp)\n",
    "if 100 >= score >= 90:\n",
    "    print('A')\n",
    "elif 90 > score >= 80:\n",
    "    print('B')\n",
    "elif 80 > score >= 70:\n",
    "    print('C')\n",
    "else:\n",
    "    print('不合格')"
   ]
  },
  {
   "cell_type": "markdown",
   "metadata": {},
   "source": [
    "### assert关键词\n",
    " - assert关键词称之为“断言”，当关键词后边的条件为False时，程序自动崩溃并抛出AssertionError的异常。\n",
    " - 进行单元测试时，可用来在程序中置入检查点，只有条件为True才能使程序正常工作。"
   ]
  },
  {
   "cell_type": "code",
   "execution_count": 5,
   "metadata": {},
   "outputs": [
    {
     "data": {
      "text/plain": [
       "'lsgogroup'"
      ]
     },
     "execution_count": 5,
     "metadata": {},
     "output_type": "execute_result"
    },
    {
     "ename": "AssertionError",
     "evalue": "",
     "output_type": "error",
     "traceback": [
      "\u001b[1;31m---------------------------------------------------------------------------\u001b[0m",
      "\u001b[1;31mAssertionError\u001b[0m                            Traceback (most recent call last)",
      "\u001b[1;32m<ipython-input-5-fd26194a9d27>\u001b[0m in \u001b[0;36m<module>\u001b[1;34m\u001b[0m\n\u001b[0;32m      2\u001b[0m \u001b[0mmy_list\u001b[0m \u001b[1;33m=\u001b[0m \u001b[1;33m[\u001b[0m\u001b[1;34m'lsgogroup'\u001b[0m\u001b[1;33m]\u001b[0m\u001b[1;33m\u001b[0m\u001b[1;33m\u001b[0m\u001b[0m\n\u001b[0;32m      3\u001b[0m \u001b[0mmy_list\u001b[0m\u001b[1;33m.\u001b[0m\u001b[0mpop\u001b[0m\u001b[1;33m(\u001b[0m\u001b[1;36m0\u001b[0m\u001b[1;33m)\u001b[0m\u001b[1;33m\u001b[0m\u001b[1;33m\u001b[0m\u001b[0m\n\u001b[1;32m----> 4\u001b[1;33m \u001b[1;32massert\u001b[0m \u001b[0mlen\u001b[0m\u001b[1;33m(\u001b[0m\u001b[0mmy_list\u001b[0m\u001b[1;33m)\u001b[0m \u001b[1;33m>\u001b[0m \u001b[1;36m0\u001b[0m\u001b[1;33m\u001b[0m\u001b[1;33m\u001b[0m\u001b[0m\n\u001b[0m",
      "\u001b[1;31mAssertionError\u001b[0m: "
     ]
    }
   ],
   "source": [
    "#AssertionError\n",
    "my_list = ['lsgogroup']\n",
    "my_list.pop(0)\n",
    "assert len(my_list) > 0"
   ]
  },
  {
   "cell_type": "code",
   "execution_count": null,
   "metadata": {},
   "outputs": [],
   "source": [
    "# True正常工作\n",
    "assert 3 < 7"
   ]
  },
  {
   "cell_type": "markdown",
   "metadata": {},
   "source": [
    "## Chapter Four 循环语句\n",
    " - while 循环\n",
    " - while - else循环\n",
    " - break 语句\n",
    " - for 循环\n",
    " - for - else 循环\n",
    " - range()函数\n",
    " - enumerate()函数\n",
    "  - enuerate()与for结合\n",
    " - continue语句\n",
    " - pass 语句\n",
    " - 推导式\n",
    "  - 列表推导式\n",
    "  - 元组推导式\n",
    "  - 字典推导式\n",
    "  - 集合推导式\n",
    " - 综合例子\n",
    "  - 总结\n",
    " - 练习题"
   ]
  },
  {
   "cell_type": "markdown",
   "metadata": {},
   "source": [
    "### While 循环\n",
    " - while语句最基本的形式包括一个位于顶部的布尔表达式，一个或多个属于while代码块的锁紧语句。\n",
    " \n",
    "` while 布尔表达式：\n",
    "     代码块`  \n",
    " - while循环的代码块会一直循环执行，**直到布尔表达式的值为布尔假**。\n",
    " - 如果布尔表达式不带有 `<、>、==、!=、in、notin`等运算符，仅仅给出数值之类的条件也是可以的，非零整数视为真值，执行循环体；写入为0时视为假值，不执行循环体。也可以写入str、list或任何序列长度非零则视为真值，执行循环体；否则视为假值，不执行循环体。"
   ]
  },
  {
   "cell_type": "code",
   "execution_count": 13,
   "metadata": {},
   "outputs": [
    {
     "name": "stdout",
     "output_type": "stream",
     "text": [
      "猜一猜数字：8\n",
      "Congratulation!\n",
      "So...what!?\n",
      "Game Over!\n"
     ]
    }
   ],
   "source": [
    "#eg.循环猜数字，最多三次机会\n",
    "count = 0\n",
    "while count < 3:\n",
    "    temp = input(\"猜一猜数字：\")\n",
    "    guess = int(temp)\n",
    "    if guess > 8:\n",
    "        print(\"你想多了\")\n",
    "        print(\"Come on!\")\n",
    "    else:\n",
    "        if guess == 8:\n",
    "            print(\"Congratulation!\")\n",
    "            print(\"So...what!?\")\n",
    "            count = 3\n",
    "        else:\n",
    "            print(\"大胆地猜！\")\n",
    "    count += 1\n",
    "print(\"Game Over!\")"
   ]
  },
  {
   "cell_type": "code",
   "execution_count": 14,
   "metadata": {},
   "outputs": [
    {
     "name": "stdout",
     "output_type": "stream",
     "text": [
      "['a', 'b', 'c', 'd']\n",
      "['b', 'c', 'd']\n",
      "['c', 'd']\n",
      "['d']\n"
     ]
    }
   ],
   "source": [
    "#eg.布尔表达式返回0，循环终止：\n",
    "s = ['a','b','c','d']\n",
    "while s:\n",
    "    print(s)\n",
    "    s = s[1:]"
   ]
  },
  {
   "cell_type": "markdown",
   "metadata": {},
   "source": [
    "### while - else 循环\n",
    "` while 布尔表达式:\n",
    "    代码块\n",
    "else:\n",
    "    代码块 `\n",
    " - 当while循环正常执行完的情况下，执行else输出，如果while循环中执行了**跳出循环**的语句，比如**break**，将不执行else代码块的内容。"
   ]
  },
  {
   "cell_type": "code",
   "execution_count": 15,
   "metadata": {},
   "outputs": [
    {
     "name": "stdout",
     "output_type": "stream",
     "text": [
      "0 is less than 5\n",
      "1 is less than 5\n",
      "2 is less than 5\n",
      "3 is less than 5\n",
      "4 is less than 5\n",
      "5 is 5\n"
     ]
    }
   ],
   "source": [
    "# eg.循环判断,直到数字为5\n",
    "count = 0\n",
    "while count < 5:\n",
    "    print(\"%d is less than 5\" % count)\n",
    "    count += 1\n",
    "else:\n",
    "    print(\"%d is 5\"% count)"
   ]
  },
  {
   "cell_type": "code",
   "execution_count": 16,
   "metadata": {},
   "outputs": [
    {
     "name": "stdout",
     "output_type": "stream",
     "text": [
      "0 is less than 5\n",
      "6 is not less than 5\n"
     ]
    }
   ],
   "source": [
    "# eg.有无break的区别之没有break\n",
    "count = 0\n",
    "while count < 5:\n",
    "    print(\"%d is less than 5\" % count)\n",
    "    count = 6\n",
    "else:\n",
    "    print(\"%d is not less than 5\" % count)"
   ]
  },
  {
   "cell_type": "code",
   "execution_count": 17,
   "metadata": {},
   "outputs": [
    {
     "name": "stdout",
     "output_type": "stream",
     "text": [
      "0 is less than 5\n"
     ]
    }
   ],
   "source": [
    "# eg.有无break的区别之有break：break直接跳出所在层的循环，不会执行else语句\n",
    "count = 0\n",
    "while count < 5:\n",
    "    print(\"%d is less than 5\"% count)\n",
    "    count = 6 #此处有没有都可，因为break是直接跳出所在层的循环\n",
    "    break\n",
    "else:\n",
    "    print(\"%d is not less than 5\"% count)"
   ]
  },
  {
   "cell_type": "markdown",
   "metadata": {},
   "source": [
    "### break语句\n",
    " - break 语句可以跳出当前所在层的循环。"
   ]
  },
  {
   "cell_type": "code",
   "execution_count": 18,
   "metadata": {},
   "outputs": [
    {
     "name": "stdout",
     "output_type": "stream",
     "text": [
      "第1次进行选择\n",
      "Do you want continue? [Yes or No]:Y\n",
      "第2次进行选择\n",
      "Do you want continue? [Yes or No]:Y\n",
      "第3次进行选择\n",
      "Do you want continue? [Yes or No]:Y\n",
      "第4次进行选择\n",
      "Do you want continue? [Yes or No]:N\n",
      "You choose the end.\n"
     ]
    }
   ],
   "source": [
    "# eg.是否继续由你定，次数不限\n",
    "choice = 1\n",
    "while choice >= 1:\n",
    "    print(\"第%d次进行选择\"%choice)\n",
    "    answer = input(\"Do you want continue? [Yes or No]:\")\n",
    "    if answer == 'Y':\n",
    "        choice +=1\n",
    "    elif answer == 'N':\n",
    "        print(\"You choose the end.\")\n",
    "        choice = 0\n",
    "    else:\n",
    "        print(\"You don't know this game rule, only Y or N\\n Game over!\")\n",
    "        break"
   ]
  },
  {
   "cell_type": "code",
   "execution_count": 19,
   "metadata": {},
   "outputs": [
    {
     "name": "stdout",
     "output_type": "stream",
     "text": [
      "请输入你猜测的数字：99\n",
      "大了，你又想多了\n",
      "请输入你猜测的数字：40\n",
      "大了，你又想多了\n",
      "请输入你猜测的数字：20\n",
      "厉害了\n",
      "游戏结束，下次再来！\n"
     ]
    }
   ],
   "source": [
    "# eg.100以内来猜数字直到你猜对为止\n",
    "import random\n",
    "secret = random.randint(1,100)\n",
    "\n",
    "while 1:\n",
    "    temp = input(\"请输入你猜测的数字：\")\n",
    "    guess =int(temp)\n",
    "    if guess > secret:\n",
    "        print(\"大了，你又想多了\")\n",
    "    else:\n",
    "        if guess == secret:\n",
    "            print(\"厉害了\")\n",
    "            break\n",
    "        else:\n",
    "            print(\"小了，小了\")\n",
    "print(\"游戏结束，下次再来！\")"
   ]
  },
  {
   "cell_type": "markdown",
   "metadata": {},
   "source": [
    "### for 循环\n",
    " - for循环是迭代循环，在Python中相当于一个通用的序列迭代器，可以**遍历任何有序序列**，例如`str、list、tuple`等，也可以遍历啊任何迭代对象，如`dict`。\n",
    " - **每次循环，迭代变量被设置为可迭代对象的当前元素，提供给代码块使用。**\n",
    " \n",
    " `for 迭代变量 in 可迭代对象:\n",
    "    代码块`\n",
    "    "
   ]
  },
  {
   "cell_type": "code",
   "execution_count": 20,
   "metadata": {},
   "outputs": [
    {
     "name": "stdout",
     "output_type": "stream",
     "text": [
      "A\n",
      "B\n",
      "C\n",
      "D\n",
      "E\n"
     ]
    }
   ],
   "source": [
    "# eg.输出list中的元素方法一：直接遍历输出\n",
    "member = ['A','B','C','D','E']\n",
    "for letter in member:\n",
    "    print(letter)"
   ]
  },
  {
   "cell_type": "code",
   "execution_count": 22,
   "metadata": {},
   "outputs": [
    {
     "name": "stdout",
     "output_type": "stream",
     "text": [
      "0 A\n",
      "1 B\n",
      "2 C\n",
      "3 D\n",
      "4 E\n"
     ]
    }
   ],
   "source": [
    "# eg.输出list中的元素方法二：序列输出\n",
    "for i in range(len(member)):\n",
    "    print(i,member[i]) #此处的i是从0开始排序"
   ]
  },
  {
   "cell_type": "markdown",
   "metadata": {},
   "source": [
    "### for 和 if - else综合应用\n",
    "OOOOOO\n",
    "\n",
    "OOOOOX\n",
    "\n",
    "OOOOXX\n",
    "\n",
    "OOOXXX\n",
    "\n",
    "OOXXXX\n",
    "\n",
    "OXXXXX\n",
    "\n",
    "尝试输出上述结果\n",
    " - 总共6行，可采取for遍历6行rang(6)\n",
    " - O与X总共执行6次，可采取for遍历range(6)\n",
    " - 对于O与X的布置，当行数和列数之和在5以内则布置O，否则为X\n",
    " - O先X后,对于一行6个开外的不需要显示，中间无缝连接"
   ]
  },
  {
   "cell_type": "code",
   "execution_count": 61,
   "metadata": {},
   "outputs": [
    {
     "name": "stdout",
     "output_type": "stream",
     "text": [
      "OOOOOO\n",
      "OOOOOX\n",
      "OOOOXX\n",
      "OOOXXX\n",
      "OOXXXX\n",
      "OXXXXX\n"
     ]
    }
   ],
   "source": [
    "for i in range(6):\n",
    "    for j in range(6):\n",
    "        if i + j <= 5:\n",
    "            print(\"O\",end = \"\")\n",
    "        else:\n",
    "            print(\"X\",end = \"\")\n",
    "    print(\"\")"
   ]
  },
  {
   "cell_type": "markdown",
   "metadata": {},
   "source": [
    "### for - else 循环\n",
    " - 当for循环争产执行完的情况下，执行else输出，如果for 循环中执行了跳出循环语句，例如break，将不执行else执行代码，与while - else语句一致。\n",
    "\n",
    "`for 迭代变量 in 可迭代对象:\n",
    "    代码块\n",
    "else:\n",
    "    代码块`"
   ]
  },
  {
   "cell_type": "code",
   "execution_count": 24,
   "metadata": {},
   "outputs": [
    {
     "name": "stdout",
     "output_type": "stream",
     "text": [
      "10 等于 2 * 5\n",
      "11 是一个质数\n",
      "12 等于 2 * 6\n",
      "13 是一个质数\n",
      "14 等于 2 * 7\n",
      "15 是一个质数\n",
      "16 等于 2 * 8\n",
      "17 是一个质数\n",
      "18 等于 2 * 9\n",
      "19 是一个质数\n"
     ]
    }
   ],
   "source": [
    "# eg.查找10-19之间的质数，非质数拆解\n",
    "for num in range(10,20):\n",
    "    for i in range(2,num):\n",
    "        if num % i == 0:\n",
    "            j = num / i\n",
    "            print('%d 等于 %d * %d'%(num,i,j))\n",
    "            break \n",
    "        else:\n",
    "            print(num,'是一个质数')\n",
    "            break #必须加上break，不然质数就会循环同i一样个数的次数"
   ]
  },
  {
   "cell_type": "code",
   "execution_count": 25,
   "metadata": {},
   "outputs": [
    {
     "name": "stdout",
     "output_type": "stream",
     "text": [
      "2\n",
      "3\n",
      "4\n",
      "5\n",
      "6\n",
      "7\n",
      "8\n",
      "9\n",
      "10\n"
     ]
    }
   ],
   "source": [
    "#上述例子num = 11，则i可能的取值以及对应的循环次数=10-2+1=9次，不包含11\n",
    "for i in range(2,11):\n",
    "    print(i)"
   ]
  },
  {
   "cell_type": "markdown",
   "metadata": {},
   "source": [
    "### range()函数\n",
    "`range([start,]stop[,step=1])`\n",
    " - 这个BIF（Built-in functions）有三个参数，其中用中括号括起来的两个表示这两个参数可选。\n",
    " - step = 1表示第三个参数默认值为1.\n",
    " - range 这个BIF作用是生成一个从start参数的值开始，到stop参数的值结束的数字序列，该序列左闭右开。"
   ]
  },
  {
   "cell_type": "code",
   "execution_count": 26,
   "metadata": {
    "scrolled": false
   },
   "outputs": [
    {
     "name": "stdout",
     "output_type": "stream",
     "text": [
      "2\n",
      "4\n",
      "6\n",
      "8\n"
     ]
    }
   ],
   "source": [
    "# eg.range()函数三个参数举例说明(两个参数通上个例子)\n",
    "for i in range(2,10,2):\n",
    "    print(i)"
   ]
  },
  {
   "cell_type": "markdown",
   "metadata": {},
   "source": [
    "#### 如果步长为负数有两种情况：\n",
    " - start < stop时，print未有任何显现\n",
    " - start > stop时，print会按照start开始，以负数为步长显现"
   ]
  },
  {
   "cell_type": "code",
   "execution_count": 34,
   "metadata": {},
   "outputs": [
    {
     "name": "stdout",
     "output_type": "stream",
     "text": [
      "j: 10\n",
      "j: 9\n",
      "j: 8\n",
      "j: 7\n",
      "j: 6\n",
      "j: 5\n",
      "j: 4\n",
      "j: 3\n",
      "j: 2\n"
     ]
    }
   ],
   "source": [
    "for i in range(1,10,-1):\n",
    "    print(\"i:\",i)\n",
    "\n",
    "for j in range(10,1,-1):\n",
    "    print(\"j:\",j)"
   ]
  },
  {
   "cell_type": "markdown",
   "metadata": {},
   "source": [
    "### enumerate()函数\n",
    "`enumerate(sequence,[start=0])`\n",
    "\n",
    " - sequence：一个序列、迭代器或其他支持迭代对象。\n",
    " - start：下标起始位置。\n",
    " - 返回enumerate(枚举)对象"
   ]
  },
  {
   "cell_type": "code",
   "execution_count": null,
   "metadata": {},
   "outputs": [],
   "source": [
    "# eg.举个栗子\n",
    "seasons = ['spring','summer','autumn','winter']\n",
    "d1 = dict(enumerate(seasons))\n",
    "print(d1)\n",
    "lst = list(enumerate(seasons,start=2))\n",
    "print(lst)"
   ]
  },
  {
   "cell_type": "markdown",
   "metadata": {},
   "source": [
    "#### enumerate()与for循环的结合使用\n",
    "`for i, a in enumerate(A)\n",
    "    do something with a`\n",
    "\n",
    " - 用enumerate(A)不仅返回了A中的元素，还给该元素一个索引值（默认0开始），或者enumerate(A,i)从i开始索引。"
   ]
  },
  {
   "cell_type": "code",
   "execution_count": 36,
   "metadata": {},
   "outputs": [
    {
     "name": "stdout",
     "output_type": "stream",
     "text": [
      "1 I love Python\n",
      "2 I love C\n",
      "3 I love R\n",
      "4 I love Matlab\n",
      "Done!\n"
     ]
    }
   ],
   "source": [
    "# eg.enumerate()与for的案例,注意i的位置和enumerate()格式有关\n",
    "languages = ['Python','C','R','Matlab']\n",
    "for i,language in enumerate(languages,1):\n",
    "    print(i,'I love',language)\n",
    "print('Done!')"
   ]
  },
  {
   "cell_type": "markdown",
   "metadata": {},
   "source": [
    "### continue语句\n",
    " - continue终止本轮循环开始下一轮循环"
   ]
  },
  {
   "cell_type": "code",
   "execution_count": 37,
   "metadata": {},
   "outputs": [
    {
     "name": "stdout",
     "output_type": "stream",
     "text": [
      "3\n",
      "2\n",
      "5\n",
      "4\n",
      "7\n",
      "6\n",
      "9\n",
      "8\n",
      "11\n"
     ]
    }
   ],
   "source": [
    "# eg.举个栗子\n",
    "for i in range(1,10): #注：range(1,10)从1开始，range(10)从0开始\n",
    "    if i % 2 == 0:\n",
    "        print(i)\n",
    "        continue\n",
    "    i += 2\n",
    "    print(i)\n",
    "# 1-->3,2-->2，但continue执行，即continue后面操作中断，从i=3开始，3-->5,4-->4,5-->7,…，以此类推"
   ]
  },
  {
   "cell_type": "markdown",
   "metadata": {},
   "source": [
    "### pass语句\n",
    " - pass语句是**不做任何事**，即在**需要有语句的地方不写**任何语句，那么解释器会提示出错，而pass语句就是用来解决这些问题。\n",
    " - pass是空语句，只有占位的作用，目的为了**保持程序结构的完整性**。例如暂时不确定在这个位置放什么样的代码，可暂放pass语句，使代码正常运行。"
   ]
  },
  {
   "cell_type": "code",
   "execution_count": 38,
   "metadata": {},
   "outputs": [
    {
     "ename": "SyntaxError",
     "evalue": "unexpected EOF while parsing (<ipython-input-38-13aeae14a5d5>, line 2)",
     "output_type": "error",
     "traceback": [
      "\u001b[1;36m  File \u001b[1;32m\"<ipython-input-38-13aeae14a5d5>\"\u001b[1;36m, line \u001b[1;32m2\u001b[0m\n\u001b[1;33m    def a_func():\u001b[0m\n\u001b[1;37m                 ^\u001b[0m\n\u001b[1;31mSyntaxError\u001b[0m\u001b[1;31m:\u001b[0m unexpected EOF while parsing\n"
     ]
    }
   ],
   "source": [
    "# eg.函数错误例子\n",
    "def a_func():"
   ]
  },
  {
   "cell_type": "code",
   "execution_count": 39,
   "metadata": {},
   "outputs": [],
   "source": [
    "#加个 pass万事可OK\n",
    "def a_func():\n",
    "    pass"
   ]
  },
  {
   "cell_type": "markdown",
   "metadata": {},
   "source": [
    "### 推导式"
   ]
  },
  {
   "cell_type": "markdown",
   "metadata": {},
   "source": [
    "### 列表推导式\n",
    "`[expr for value in collection [if condition]]`"
   ]
  },
  {
   "cell_type": "code",
   "execution_count": 40,
   "metadata": {},
   "outputs": [
    {
     "name": "stdout",
     "output_type": "stream",
     "text": [
      "[16, 4, 0, 4, 16]\n"
     ]
    }
   ],
   "source": [
    "x = [-4,-2,0,2,4]\n",
    "y = [a**2 for a in x]\n",
    "print(y)"
   ]
  },
  {
   "cell_type": "code",
   "execution_count": 41,
   "metadata": {},
   "outputs": [
    {
     "name": "stdout",
     "output_type": "stream",
     "text": [
      "[1, 4, 9, 16, 25, 36, 49, 64, 81]\n"
     ]
    }
   ],
   "source": [
    "x = [i ** 2 for i in range(1,10)]\n",
    "print(x)"
   ]
  },
  {
   "cell_type": "code",
   "execution_count": 42,
   "metadata": {},
   "outputs": [
    {
     "name": "stdout",
     "output_type": "stream",
     "text": [
      "[(0, 0), (1, 1), (2, 4), (3, 9), (4, 16), (5, 25)]\n"
     ]
    }
   ],
   "source": [
    "x = [(i,i ** 2) for i in range(6)]\n",
    "print(x)"
   ]
  },
  {
   "cell_type": "code",
   "execution_count": 43,
   "metadata": {},
   "outputs": [
    {
     "name": "stdout",
     "output_type": "stream",
     "text": [
      "[(0, 0), (0, 1), (1, 0), (1, 1), (2, 0), (2, 1)]\n"
     ]
    }
   ],
   "source": [
    "a = [(i, j) for i in range(3)for j in range(2)]\n",
    "print(a)"
   ]
  },
  {
   "cell_type": "code",
   "execution_count": 44,
   "metadata": {},
   "outputs": [
    {
     "name": "stdout",
     "output_type": "stream",
     "text": [
      "[3, 9, 15, 21, 27, 33, 39, 45, 51, 57, 63, 69, 75, 81, 87, 93, 99]\n"
     ]
    }
   ],
   "source": [
    "a = [i for i in range(100) if (i % 2) != 0 and (i % 3) == 0]\n",
    "print(a)"
   ]
  },
  {
   "cell_type": "code",
   "execution_count": 45,
   "metadata": {},
   "outputs": [
    {
     "name": "stdout",
     "output_type": "stream",
     "text": [
      "[(1, 1), (3, 2), (9, 0), (9, 2), (15, 0), (15, 2), (21, 0), (21, 2), (27, 0), (27, 2)]\n"
     ]
    }
   ],
   "source": [
    "# 多个变量for&if语句全程无逗号，对于list内的tuple重赋值\n",
    "b = [(i, j) for i in range(30) if (i % 2) != 0 and (i % 3) == 0 for j in range(3) if (j % 2) == 0 ]\n",
    "b[0]=(1,1)\n",
    "print(b)"
   ]
  },
  {
   "cell_type": "markdown",
   "metadata": {},
   "source": [
    "### 元组推导式\n",
    "`(expr for value in collection [if condition])`"
   ]
  },
  {
   "cell_type": "code",
   "execution_count": 46,
   "metadata": {},
   "outputs": [
    {
     "name": "stdout",
     "output_type": "stream",
     "text": [
      "<generator object <genexpr> at 0x0000020388146E58>\n",
      "(0, 1, 2, 3, 4, 5, 6, 7, 8, 9)\n"
     ]
    }
   ],
   "source": [
    "t = (x for x in range(10))\n",
    "print(t)       #tuple不能直接print\n",
    "print(tuple(t))"
   ]
  },
  {
   "cell_type": "markdown",
   "metadata": {},
   "source": [
    "### 字典推导式\n",
    "`{key_expr:value_expr for value in collection [if condition]}`"
   ]
  },
  {
   "cell_type": "code",
   "execution_count": 47,
   "metadata": {
    "scrolled": true
   },
   "outputs": [
    {
     "name": "stdout",
     "output_type": "stream",
     "text": [
      "{0: True, 3: False, 6: True, 9: False}\n"
     ]
    }
   ],
   "source": [
    "# 创建个字典，keys为i，i是0-9（闭区间）内3的倍数，values在前者条件下判断是否为2的倍数\n",
    "d = {i: i % 2 == 0 for i in range(10) if i % 3 == 0}\n",
    "print(d)"
   ]
  },
  {
   "cell_type": "markdown",
   "metadata": {},
   "source": [
    " **如果keys 和values都是变量，如果能做到同时判断，进行以下尝试**"
   ]
  },
  {
   "cell_type": "code",
   "execution_count": 48,
   "metadata": {},
   "outputs": [
    {
     "name": "stdout",
     "output_type": "stream",
     "text": [
      "{0: 2, 3: 2, 6: 2, 9: 2}\n"
     ]
    }
   ],
   "source": [
    "d1 = {i: j  for i in range(10) if i % 3 == 0 for j in range(3) if j % 2 == 0}\n",
    "print(d1)"
   ]
  },
  {
   "cell_type": "markdown",
   "metadata": {},
   "source": [
    "#### 虽然上述values也是变量，但因为for循环嵌套是，最终都是j==2，代码bug更正如下\n",
    " - 应用zip函数zip(i,j)打包为远祖的列表，再赋予前值\n",
    " - i,j拆解为两个并列for循环即可"
   ]
  },
  {
   "cell_type": "code",
   "execution_count": 49,
   "metadata": {},
   "outputs": [
    {
     "data": {
      "text/plain": [
       "{0: 0, 3: 2, 6: 4, 9: 6}"
      ]
     },
     "execution_count": 49,
     "metadata": {},
     "output_type": "execute_result"
    }
   ],
   "source": [
    "{i:j  for i,j in zip(\n",
    "     [k for k in range(10) if k % 3 == 0],\n",
    "     [l for l in range(7) if l % 2 == 0])}"
   ]
  },
  {
   "cell_type": "markdown",
   "metadata": {},
   "source": [
    "### 集合推导式\n",
    "`{expr for value in collection [if condition]}`"
   ]
  },
  {
   "cell_type": "code",
   "execution_count": 50,
   "metadata": {},
   "outputs": [
    {
     "name": "stdout",
     "output_type": "stream",
     "text": [
      "{0, 1, 2, 3, 4, 5, 6, 7, 8, 9}\n"
     ]
    }
   ],
   "source": [
    "s = {i for i in range(10)}\n",
    "print(s)"
   ]
  },
  {
   "cell_type": "code",
   "execution_count": 51,
   "metadata": {},
   "outputs": [
    {
     "name": "stdout",
     "output_type": "stream",
     "text": [
      "0\n",
      "1\n",
      "(2, 3, 4, 5, 6, 7, 8, 9)\n"
     ]
    }
   ],
   "source": [
    "# 其他\n",
    "e = (i for i in range(10))\n",
    "print(next(e))\n",
    "print(next(e))\n",
    "print(tuple(e))"
   ]
  },
  {
   "cell_type": "markdown",
   "metadata": {},
   "source": [
    "如果再print(next(e))则StopIteration:因为在tuple(e)所有行显示完，next()在所有行完成后会引发StopIteration"
   ]
  },
  {
   "cell_type": "code",
   "execution_count": 52,
   "metadata": {},
   "outputs": [
    {
     "name": "stdout",
     "output_type": "stream",
     "text": [
      "45\n"
     ]
    }
   ],
   "source": [
    "e = (i for i in range(10))\n",
    "E = sum(e)\n",
    "print(E)"
   ]
  },
  {
   "cell_type": "markdown",
   "metadata": {},
   "source": [
    " - 上述可达成的原因：生成器表达式是用圆括号括起来的紧凑形式生成器标注，即\n",
    "`generator_expression ::= \"(\"expression comp_for \")\"`\n",
    " - 元组推导式返回的是生成器对象。\n",
    " - 生成器表达式会产生一个新的生成器对象，句法与推导式相同，不过它用圆括号，而不是方或者花括号括起来，以上成立，或用下面的方法一样。\n",
    " - 生成器表达式和列表推导式的用法基本一致，但工作方式是每次处理一个对象，而不是推导式的一次性处理和狗仔整个数据结构，节省了大量的内存。"
   ]
  },
  {
   "cell_type": "code",
   "execution_count": 53,
   "metadata": {},
   "outputs": [
    {
     "name": "stdout",
     "output_type": "stream",
     "text": [
      "45\n",
      "45\n"
     ]
    }
   ],
   "source": [
    "s = sum((i for i in range(10)))\n",
    "print(s)\n",
    "s1 = sum([i for i in range(10)])\n",
    "print(s1)"
   ]
  },
  {
   "cell_type": "markdown",
   "metadata": {},
   "source": [
    "### 综合例子"
   ]
  },
  {
   "cell_type": "code",
   "execution_count": 54,
   "metadata": {
    "scrolled": true
   },
   "outputs": [
    {
     "name": "stdout",
     "output_type": "stream",
     "text": [
      "Please enter the password:123\n"
     ]
    }
   ],
   "source": [
    "#三次机会猜密码组合，猜对其中之一即可\n",
    "passlist = ['123','234','789'] #密码列表\n",
    "valid = False                  #猜测的最初状态为False\n",
    "count =3                       #最多次数为3次\n",
    "while count > 0:               #因为最多次数为3次，猜错一次少一次机会，结合后者，count=0出局\n",
    "    password = input(\"Please enter the password:\")#输入猜测密码\n",
    "    for item in passlist:      #遍历列表\n",
    "        if password == item:   #对输入进行判断是否在密码列表内\n",
    "            valid = True       #在列表内则猜测状态为True\n",
    "            break              #猜对即跳出for循环，结束遍历列表操作\n",
    "\n",
    "    if not valid :             #对猜测状态进行判断,not False == True，not True == False\n",
    "        print('invalid input') #对于猜错即不在列表内，猜测状态为False的即条件判断为True，进行打印\n",
    "        count -= 1             #猜错状态，即猜测次数-1\n",
    "       #continue \n",
    "    else:\n",
    "        break                 #对于猜对的，valid =True,not True == Fals,执行break while循环"
   ]
  },
  {
   "cell_type": "markdown",
   "metadata": {},
   "source": [
    "### 总结：上述例子有几条比较有意思，对于小白做一下注释：\n",
    " - 对于题目的结构解析，在密码组合内给最多三次机会，猜对组合内一个密码即可过关，进行拆解：\n",
    "  - 密码组合&三次机会，即List和count=3\n",
    "  - 给予循环判断，输入数字组合，在列表内即对，对的即可退出；不然错的机会减一，可以再次输入\n",
    "   - 对于判断对的，在列表内退出列表内的for循环判断，然后退出整个while循环\n",
    "   - 对于判断错的，在列表内进行count减一，只要count>=1都可，再进行输入数字的循环。\n",
    " - 注意break和continue的位置\n",
    " - 灵活应用if not Ture/False:的判断语句，具体例子可参考下文。"
   ]
  },
  {
   "cell_type": "code",
   "execution_count": 55,
   "metadata": {},
   "outputs": [
    {
     "name": "stdout",
     "output_type": "stream",
     "text": [
      "true\n"
     ]
    }
   ],
   "source": [
    "#上述有个小窍门，对于if后面判断语句错误的，直接执行else模块\n",
    "if not True :\n",
    "    print('wrong')\n",
    "else:\n",
    "    print('true')"
   ]
  },
  {
   "cell_type": "markdown",
   "metadata": {},
   "source": [
    "### 总结：上述自编程序遇到了一个bug，即在第一次输入错误的情况下，循环未出现Input操作，求解中，持续更新。"
   ]
  },
  {
   "cell_type": "markdown",
   "metadata": {},
   "source": [
    "### 练习题\n",
    "1. 编写一个Python程序来查找那些既可以被7整除又可以被5整除的数字，介于1500和2700之间。"
   ]
  },
  {
   "cell_type": "code",
   "execution_count": 56,
   "metadata": {},
   "outputs": [
    {
     "data": {
      "text/plain": [
       "[1505,\n",
       " 1540,\n",
       " 1575,\n",
       " 1610,\n",
       " 1645,\n",
       " 1680,\n",
       " 1715,\n",
       " 1750,\n",
       " 1785,\n",
       " 1820,\n",
       " 1855,\n",
       " 1890,\n",
       " 1925,\n",
       " 1960,\n",
       " 1995,\n",
       " 2030,\n",
       " 2065,\n",
       " 2100,\n",
       " 2135,\n",
       " 2170,\n",
       " 2205,\n",
       " 2240,\n",
       " 2275,\n",
       " 2310,\n",
       " 2345,\n",
       " 2380,\n",
       " 2415,\n",
       " 2450,\n",
       " 2485,\n",
       " 2520,\n",
       " 2555,\n",
       " 2590,\n",
       " 2625,\n",
       " 2660,\n",
       " 2695]"
      ]
     },
     "execution_count": 56,
     "metadata": {},
     "output_type": "execute_result"
    },
    {
     "name": "stdout",
     "output_type": "stream",
     "text": [
      "(1505, 1540, 1575, 1610, 1645, 1680, 1715, 1750, 1785, 1820, 1855, 1890, 1925, 1960, 1995, 2030, 2065, 2100, 2135, 2170, 2205, 2240, 2275, 2310, 2345, 2380, 2415, 2450, 2485, 2520, 2555, 2590, 2625, 2660, 2695)\n"
     ]
    }
   ],
   "source": [
    "# 题目1:就是范围在1500-2700闭区间上，找到可以被7*5=35整除的数字，或者7和5都可以被整除的两个条件\n",
    "[i for i in range(1500,2701) if i % 7 == 0 and i % 5 == 0]\n",
    "a = (i for i in range(1500,2701) if i % 35 ==0)\n",
    "print(tuple(a))"
   ]
  },
  {
   "cell_type": "markdown",
   "metadata": {},
   "source": [
    "2. 龟兔赛跑游戏\n",
    "\n",
    "题目描述：\n",
    "\n",
    "话说这个世界上有各种各样的兔子和乌龟，但是研究发现，所有的兔子和乌龟都有一个共同的特点——喜欢赛跑。于是世界上各个角落都不断在发生着乌龟和兔子的比赛，小华对此很感兴趣，于是决定研究不同兔 子和乌龟的赛跑。他发现，兔子虽然跑比乌龟快，但它们有众所周知的毛病——骄傲且懒惰，于是在与乌龟的比赛中，一旦任一秒结束后兔子发现自己领先t米或以 上，它们就会停下来休息s秒。对于不同的兔子，t，s的数值是不同的，但是所有的乌龟却是一致——它们不到终点决不停止。\n",
    "\n",
    "然而有些比赛相当漫长，全程观看会耗费大量时间，而小华发现只要在每场比赛开始后记录下兔子和乌龟的数据——兔子的速度v1（表示每秒兔子能跑v1 米），乌龟的速度v2，以及兔子对应的t，s值，以及赛道的长度l——就能预测出比赛的结果。但是小华很懒，不想通过手工计算推测出比赛的结果，于是他找 到了你——清华大学计算机系的高才生——请求帮助，请你写一个程序，对于输入的一场比赛的数据v1，v2，t，s，l，预测该场比赛的结果。\n",
    "\n",
    "输入:\n",
    "\n",
    "输入只有一行，包含用空格隔开的五个正整数v1，v2，t，s，l，其中(v1,v2< =100;t< =300;s< =10;l< =10000且为v1,v2的公倍数)\n",
    "\n",
    "输出:\n",
    "\n",
    "输出包含两行，第一行输出比赛结果——一个大写字母“T”或“R”或“D”，分别表示乌龟获胜，兔子获胜，或者两者同时到达终点。\n",
    "\n",
    "第二行输出一个正整数，表示获胜者（或者双方同时）到达终点所耗费的时间（秒数）。\n",
    "\n",
    "样例输入：\n",
    "\n",
    "10 5 5 2 20\n",
    "\n",
    "样例输出\n",
    "\n",
    "D\n",
    "4"
   ]
  },
  {
   "cell_type": "markdown",
   "metadata": {},
   "source": [
    "### 题目2.龟兔赛跑解题分析\n",
    " - 结果有三种可能，兔子赢、乌龟赢和两者同时到达。\n",
    "  - 兔子赢：后期同等时间且到达终点时，兔子苏醒后跑的距离+领先的距离即兔子总距离大于乌龟从兔子睡着时跑的总距离。\n",
    "   - 兔子到达的时间：休息时间+跑步时间\n",
    "  - 乌龟赢：后期同等时间且到达终点时，兔子苏醒后跑的距离+领先的距离即兔子总距离小于乌龟从兔子睡着时跑的总距离。\n",
    "   - 乌龟到达的时间：总距离/龟速\n",
    "  - 同时到达：后期同等时间且到达终点时，兔子苏醒后跑的距离+领先的距离即兔子总距离等于乌龟从兔子睡着时跑的总距离。\n",
    "   - 同时抵达时间：总距离/龟速\n",
    " - Input(兔子速度，乌龟速度，兔子领先长度，兔子休息时间，总赛道长度)，均为int，空格隔开\n",
    " - 判断假设条件是到达终点，所以循环条件是没跑到终点继续跑，如果超过会等于总路程则break\n",
    " - 因为乌龟和兔子的速度是知道的，所以时间变化为每秒，对应判断路程为起始距离+各自速度每秒\n",
    " - 逻辑细致\n",
    "  - 注意对各个参数的条件限制，输入有误则友情提示\n",
    "  - 对于输入对的秒数i,兔子跑的距离s1,乌龟跑的距离s2赋值为0\n",
    "  - 因为每次兔子领先了t米，都会休息s，所以对于未到达终点前，兔子开始睡觉时，乌龟距离随着s的时间在变。\n",
    "  - 因为采取记为每秒的路程，所以此处所消耗的时间为i\n",
    "  - 兔子速度比乌龟快，兔子领先的距离小于总长度"
   ]
  },
  {
   "cell_type": "code",
   "execution_count": 10,
   "metadata": {},
   "outputs": [
    {
     "name": "stdout",
     "output_type": "stream",
     "text": [
      "请输入对应的正整数兔速v1，乌速v2，兔领距离t，兔睡时间s，以及赛道的长度l:30 10 8 8 300\n",
      "T 33\n"
     ]
    }
   ],
   "source": [
    "try_list = input(\"请输入对应的正整数兔速v1，乌速v2，兔领距离t，兔睡时间s，以及赛道的长度l:\").split( )\n",
    "v1,v2,t,s,l = map(int,try_list)\n",
    "if v1<=100 and v2<=100 and t<=300 and s<=10 and l<=10000 and l%v1==0 and l%v2==0 and v1>v2 and t<l:\n",
    "    s1 = 0\n",
    "    s2 = 0\n",
    "    i = 0\n",
    "    while s1<l and s2<l:\n",
    "        s1 = s1 + v1\n",
    "        s2 = s2 + v2\n",
    "        i += 1\n",
    "        if s1 >= l or s2 >= l:\n",
    "            break\n",
    "        elif s1 - s2 >=t:\n",
    "            s2 = s2 + v2*s\n",
    "            i = i + s\n",
    "        else:\n",
    "            continue\n",
    "    \n",
    "    if s1 > s2:\n",
    "        print('R',i,sep = ' ')\n",
    "    elif s2 > s1:\n",
    "        print('T',i,sep = ' ')\n",
    "    else:\n",
    "        print('D',i,sep = ' ')          \n",
    "else:   \n",
    "    print(\"请仔细查阅题目所要求的参数范围，查阅后再输入参数。\")"
   ]
  }
 ],
 "metadata": {
  "kernelspec": {
   "display_name": "Python 3",
   "language": "python",
   "name": "python3"
  },
  "language_info": {
   "codemirror_mode": {
    "name": "ipython",
    "version": 3
   },
   "file_extension": ".py",
   "mimetype": "text/x-python",
   "name": "python",
   "nbconvert_exporter": "python",
   "pygments_lexer": "ipython3",
   "version": "3.7.3"
  }
 },
 "nbformat": 4,
 "nbformat_minor": 4
}
