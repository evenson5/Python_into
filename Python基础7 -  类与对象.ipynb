{
 "cells": [
  {
   "cell_type": "code",
   "execution_count": 1,
   "metadata": {},
   "outputs": [],
   "source": [
    "from IPython.core.interactiveshell import InteractiveShell\n",
    "InteractiveShell.ast_node_Interactivity = \"all\""
   ]
  },
  {
   "cell_type": "markdown",
   "metadata": {},
   "source": [
    "### 具体内容的网址：\n",
    "\n",
    "https://blog.csdn.net/evenson1/article/details/107756546\n",
    "\n",
    "** 由于本章节文字内容较多，以CSDN书面内容为主**"
   ]
  },
  {
   "cell_type": "code",
   "execution_count": 2,
   "metadata": {},
   "outputs": [
    {
     "name": "stdout",
     "output_type": "stream",
     "text": [
      "140720572109664 <class 'int'>\n"
     ]
    }
   ],
   "source": [
    "a = 2\n",
    "print(id(a),type(a))"
   ]
  },
  {
   "cell_type": "code",
   "execution_count": 3,
   "metadata": {},
   "outputs": [
    {
     "name": "stdout",
     "output_type": "stream",
     "text": [
      "140720572109696 <class 'int'>\n"
     ]
    }
   ],
   "source": [
    "b = 3\n",
    "print(id(b),type(b))"
   ]
  },
  {
   "cell_type": "code",
   "execution_count": 4,
   "metadata": {},
   "outputs": [
    {
     "name": "stdout",
     "output_type": "stream",
     "text": [
      "大黄\n",
      "3\n",
      "100\n",
      "100\n",
      "eating......\n"
     ]
    }
   ],
   "source": [
    "#子类与父类案例\n",
    "class Animals(object):\n",
    "    def __init__(self, name, age):\n",
    "        self.name = name\n",
    "        self.age= age\n",
    "    def eat(self):\n",
    "        print('eating......')\n",
    "\n",
    "\n",
    "class Dog(Animals):  # 当Dog没有构造方法时，执行Animals里面的构造方法\n",
    "    def __init__(self, name, age, power):\n",
    "        # self.name = name\n",
    "        # self.age = age\n",
    "        # 执行Dog的父类的构造方法;\n",
    "        super(Dog, self).__init__(name, age)\n",
    "        self.power = power\n",
    "    def eat(self):\n",
    "        print(self.power)\n",
    "        super(Dog, self).eat()\n",
    "\n",
    "\n",
    "#  1. 如果子类没有的属性和方法， 则去父类找， 如果父类也没有， 就报错。\n",
    "d1 = Dog(\"大黄\",3,100)\n",
    "print(d1.name)\n",
    "print(d1.age)\n",
    "print(d1.power)\n",
    "d1.eat()"
   ]
  },
  {
   "cell_type": "code",
   "execution_count": 5,
   "metadata": {},
   "outputs": [
    {
     "name": "stdout",
     "output_type": "stream",
     "text": [
      "7\n",
      "25\n",
      "--------- 我是可爱的分割线，调用的函数-----------\n",
      "32\n"
     ]
    }
   ],
   "source": [
    "#self应用的多个函数相互调用案例\n",
    "\n",
    "class Person(object):\n",
    "    def __init__(self,x,y):\n",
    "        self.x = x\n",
    "        self.y = y\n",
    "        \n",
    "    def add(self):\n",
    "        sum = self.x + self.y\n",
    "        return sum\n",
    "    \n",
    "    def square(self):\n",
    "        squr = pow(self.x,2)+pow(self.y,2)\n",
    "        return squr\n",
    "    def add_square(self):\n",
    "        c = self.add()+self.square() #类中的函数调用时候也要加self\n",
    "        return c\n",
    "        \n",
    "student = Person(3,4)\n",
    "print(student.add())\n",
    "print(student.square())\n",
    "print('--------- 我是可爱的分割线，调用的函数-----------')\n",
    "print(student.add_square())"
   ]
  },
  {
   "cell_type": "code",
   "execution_count": 6,
   "metadata": {},
   "outputs": [
    {
     "name": "stdout",
     "output_type": "stream",
     "text": [
      "小样踢球棒棒\n"
     ]
    }
   ],
   "source": [
    "class Ball:\n",
    "    def setName(self,name):\n",
    "        self.name = name\n",
    "    \n",
    "    def kick(self):\n",
    "        print(\"%s踢球棒棒\"%self.name)\n",
    "\n",
    "a = Ball()\n",
    "a.setName(\"小样\")\n",
    "a.kick()"
   ]
  },
  {
   "cell_type": "code",
   "execution_count": 7,
   "metadata": {},
   "outputs": [
    {
     "name": "stdout",
     "output_type": "stream",
     "text": [
      "23\n",
      "25\n",
      "--------- 我是可爱的分割线-----------\n",
      "64\n",
      "16\n"
     ]
    }
   ],
   "source": [
    "# z是add的默认形参，通过将其实例化在其他函数体内调用实例变量z\n",
    "class Person(object):\n",
    "    def __init__(self,x,y):\n",
    "        self.x = x\n",
    "        self.y = y\n",
    "        \n",
    "        \n",
    "    def add(self,z=16):     # 设置 z 为实例变量，即 self.z = z, z 是 class 的一个成员了，而非普通局部变量\n",
    "        self.z = z\n",
    "        sum = self.x + self.y + z  # z虽然已被实例化，但是依然可以当作 普通变量来用\n",
    "        return sum\n",
    "    \n",
    "    def square(self):\n",
    "        squr = pow(self.x,2)+pow(self.y,2)\n",
    "        return squr\n",
    "    def add_square(self):        \n",
    "        c = self.add()+self.square() + self.z  # 调用实例变量 z \n",
    "        return c\n",
    "        \n",
    "student = Person(3,4)\n",
    "print(student.add())\n",
    "print(student.square())\n",
    "print('--------- 我是可爱的分割线-----------')\n",
    "print(student.add_square())\n",
    "print(student.z)          # 函数add 中的 z 被实例化以后，就可以利用实例化的方法访问它"
   ]
  },
  {
   "cell_type": "markdown",
   "metadata": {},
   "source": [
    "### 共有和私有"
   ]
  },
  {
   "cell_type": "code",
   "execution_count": 8,
   "metadata": {},
   "outputs": [
    {
     "name": "stdout",
     "output_type": "stream",
     "text": [
      "1\n",
      "2\n",
      "2\n",
      "2\n"
     ]
    },
    {
     "ename": "AttributeError",
     "evalue": "'JustCounter' object has no attribute '__secretCount'",
     "output_type": "error",
     "traceback": [
      "\u001b[1;31m---------------------------------------------------------------------------\u001b[0m",
      "\u001b[1;31mAttributeError\u001b[0m                            Traceback (most recent call last)",
      "\u001b[1;32m<ipython-input-8-52b9e8147579>\u001b[0m in \u001b[0;36m<module>\u001b[1;34m\u001b[0m\n\u001b[0;32m     16\u001b[0m \u001b[1;33m\u001b[0m\u001b[0m\n\u001b[0;32m     17\u001b[0m \u001b[0mprint\u001b[0m\u001b[1;33m(\u001b[0m\u001b[0mcounter\u001b[0m\u001b[1;33m.\u001b[0m\u001b[0m_JustCounter__secretCount\u001b[0m\u001b[1;33m)\u001b[0m  \u001b[1;31m# 2 Python的私有为伪私有\u001b[0m\u001b[1;33m\u001b[0m\u001b[1;33m\u001b[0m\u001b[0m\n\u001b[1;32m---> 18\u001b[1;33m \u001b[0mprint\u001b[0m\u001b[1;33m(\u001b[0m\u001b[0mcounter\u001b[0m\u001b[1;33m.\u001b[0m\u001b[0m__secretCount\u001b[0m\u001b[1;33m)\u001b[0m\u001b[1;33m\u001b[0m\u001b[1;33m\u001b[0m\u001b[0m\n\u001b[0m\u001b[0;32m     19\u001b[0m \u001b[1;31m# AttributeError: 'JustCounter' object has no attribute '__secretCount'\u001b[0m\u001b[1;33m\u001b[0m\u001b[1;33m\u001b[0m\u001b[1;33m\u001b[0m\u001b[0m\n",
      "\u001b[1;31mAttributeError\u001b[0m: 'JustCounter' object has no attribute '__secretCount'"
     ]
    }
   ],
   "source": [
    "#类的私有属性实例\n",
    "class JustCounter:\n",
    "    __secretCount = 0  # 私有变量\n",
    "    publicCount = 0  # 公开变量\n",
    "\n",
    "    def count(self):\n",
    "        self.__secretCount += 1\n",
    "        self.publicCount += 1\n",
    "        print(self.__secretCount)\n",
    "\n",
    "\n",
    "counter = JustCounter()\n",
    "counter.count()  # 1\n",
    "counter.count()  # 2\n",
    "print(counter.publicCount)  # 2\n",
    "\n",
    "print(counter._JustCounter__secretCount)  # 2 Python的私有为伪私有\n",
    "print(counter.__secretCount)  \n",
    "# AttributeError: 'JustCounter' object has no attribute '__secretCount'"
   ]
  },
  {
   "cell_type": "code",
   "execution_count": null,
   "metadata": {},
   "outputs": [],
   "source": [
    "class Site:\n",
    "    def __init__(self, name, url):\n",
    "        self.name = name  # public\n",
    "        self.__url = url  # private\n",
    "\n",
    "    def who(self):\n",
    "        print('name  : ', self.name)\n",
    "        print('url : ', self.__url)\n",
    "\n",
    "    def __foo(self):  # 私有方法\n",
    "        print('这是私有方法')\n",
    "\n",
    "    def foo(self):  # 公共方法\n",
    "        print('这是公共方法')\n",
    "        self.__foo()\n",
    "\n",
    "\n",
    "x = Site('老马的程序人生', 'https://blog.csdn.net/LSGO_MYP')\n",
    "x.who()\n",
    "# name  :  老马的程序人生\n",
    "# url :  https://blog.csdn.net/LSGO_MYP\n",
    "\n",
    "x.foo()\n",
    "# 这是公共方法\n",
    "# 这是私有方法\n",
    "\n",
    "x.__foo()\n",
    "# AttributeError: 'Site' object has no attribute '__foo'"
   ]
  },
  {
   "cell_type": "code",
   "execution_count": null,
   "metadata": {},
   "outputs": [],
   "source": [
    "class Person():\n",
    "    def __init__(self,name,sex):\n",
    "        self.name = name\n",
    "        self.sex = sex\n",
    "        \n",
    "    def print_title(self):\n",
    "        if self.sex == 'male':\n",
    "            print(\"man\")\n",
    "        else:\n",
    "            print(\"woman\")\n",
    "            \n",
    "class Child(Person):\n",
    "    pass\n",
    "\n",
    "May = Child('May','female')   #子类Child继承父类Person的所有属性和方法\n",
    "Peter = Person('Peter','male')\n",
    "\n",
    "print(May.name,May.sex,Peter.name,Peter.sex)\n",
    "May.print_title()          #调用父类的属性\n",
    "Peter.print_title()"
   ]
  },
  {
   "cell_type": "code",
   "execution_count": null,
   "metadata": {},
   "outputs": [],
   "source": [
    "#对上述继承类型进行检查\n",
    "print(isinstance(May,Child))\n",
    "print(isinstance(May,Person))\n",
    "print(isinstance(Peter,Person))\n",
    "print(isinstance(Peter,Child))\n",
    "print(issubclass(Person,Child))"
   ]
  },
  {
   "cell_type": "code",
   "execution_count": null,
   "metadata": {},
   "outputs": [],
   "source": [
    "class Person(object):\n",
    "    def __init__(self,name,sex):\n",
    "        self.name = name\n",
    "        self.sex = sex\n",
    "\n",
    "    def print_title(self):\n",
    "        if self.sex == \"male\":\n",
    "            print(\"man\")\n",
    "        elif self.sex == \"female\":\n",
    "            print(\"woman\")\n",
    "\n",
    "class Child(Person):                # Child 继承 Person\n",
    "    def print_title(self):          #定义函数\n",
    "        if self.sex == \"male\":      #在子类中重置了属性\n",
    "            print(\"boy\")\n",
    "        elif self.sex == \"female\":\n",
    "            print(\"girl\")\n",
    "\n",
    "May = Child(\"May\",\"female\")\n",
    "Peter = Person(\"Peter\",\"male\")\n",
    "\n",
    "print(May.name,May.sex,Peter.name,Peter.sex)\n",
    "May.print_title()\n",
    "Peter.print_title()"
   ]
  },
  {
   "cell_type": "code",
   "execution_count": null,
   "metadata": {},
   "outputs": [],
   "source": [
    "#直接调用父类私有属性的方法\n",
    "class Father():\n",
    "    def __action(self):  # 父类的私有方法\n",
    "        print('调用父类的方法')\n",
    " \n",
    "class Son(Father):\n",
    "    def action(self):\n",
    "        super()._Father__action()  #直接调用父类的方法supper()\n",
    "son=Son()\n",
    "son.action()"
   ]
  },
  {
   "cell_type": "code",
   "execution_count": null,
   "metadata": {},
   "outputs": [],
   "source": [
    "#子类重写构造函数\n",
    "class Person(object):\n",
    "    def __init__(self,name,sex):\n",
    "         self.name = name\n",
    "         self.sex = sex\n",
    " \n",
    "class Child(Person):                # Child 继承 Person\n",
    "    def __init__(self,name,sex,mother,father):\n",
    "        self.name = name           #对于父类已有的代码再写一遍过于冗余，下面将做改进\n",
    "        self.sex = sex \n",
    "        self.mother = mother\n",
    "        self.father = father\n",
    "\n",
    "May = Child(\"May\",\"female\",\"April\",\"June\")\n",
    "print(May.name,May.sex,May.mother,May.father)    \n",
    "Person"
   ]
  },
  {
   "cell_type": "code",
   "execution_count": null,
   "metadata": {},
   "outputs": [],
   "source": [
    "class Person(object):\n",
    "    def __init__(self,name,sex):\n",
    "        self.name = name\n",
    "        self.sex = sex\n",
    "\n",
    "class Child(Person):                          # Child 继承 Person\n",
    "    def __init__(self,name,sex,mother,father):\n",
    "        Person.__init__(self,name,sex)        # 子类对父类的构造方法的调用，即上述的“self.name = name self.sex = sex”\n",
    "        self.mother = mother\n",
    "        self.father = father\n",
    "\n",
    "May = Child(\"May\",\"female\",\"April\",\"June\")\n",
    "print(May.name,May.sex,May.mother,May.father)"
   ]
  },
  {
   "cell_type": "code",
   "execution_count": 16,
   "metadata": {},
   "outputs": [
    {
     "name": "stdout",
     "output_type": "stream",
     "text": [
      "-1\n",
      "5\n",
      "True\n"
     ]
    }
   ],
   "source": [
    "#如果不对父类初始化直接赋值，而是在子类调用父类初始化过程中，增加需要的初始化参数。\n",
    "class Father():\n",
    "    def __init__(self,a,b):\n",
    "        self.a = a\n",
    "        self.b = b\n",
    "    def dev(self):\n",
    "        return self.a - self.b\n",
    "    \n",
    "class Son(Father):\n",
    "    def __init__(self,a,b,c=10):\n",
    "        Father.__init__(self,a,b)\n",
    "        self.c = c\n",
    "    def add(self):\n",
    "        return self.a + self.b\n",
    "    def compare(self):\n",
    "        if self.c > (self.a +self.b):\n",
    "            return True\n",
    "        else:\n",
    "            return False\n",
    "        \n",
    "        \n",
    "son = Son(2,3)\n",
    "print(son.dev())\n",
    "print(son.add())\n",
    "print(son.compare())"
   ]
  },
  {
   "cell_type": "code",
   "execution_count": 12,
   "metadata": {},
   "outputs": [
    {
     "name": "stdout",
     "output_type": "stream",
     "text": [
      "-1\n",
      "5\n",
      "False\n"
     ]
    }
   ],
   "source": [
    "son1 = Son(2,3,5)\n",
    "print(son1.dev())\n",
    "print(son1.add())\n",
    "print(son1.compare())"
   ]
  },
  {
   "cell_type": "code",
   "execution_count": 19,
   "metadata": {},
   "outputs": [
    {
     "name": "stdout",
     "output_type": "stream",
     "text": [
      "May female\n",
      "woman\n",
      "---------我是可爱的分割线喵----------\n",
      "girl\n"
     ]
    }
   ],
   "source": [
    "#多重继承建立新的子类\n",
    "class Person(object):\n",
    "    def __init__(self,name,sex):\n",
    "        self.name = name\n",
    "        self.sex = sex\n",
    "\n",
    "    def print_title(self):\n",
    "        if self.sex == \"male\":\n",
    "            print(\"man\")\n",
    "        elif self.sex == \"female\":\n",
    "            print(\"woman\")\n",
    "\n",
    "class Child(Person):\n",
    "    pass\n",
    "\n",
    "class Baby(Child):\n",
    "    pass\n",
    "\n",
    "May = Baby(\"May\",\"female\")        # 继承上上层父类的属性\n",
    "print(May.name,May.sex)\n",
    "May.print_title()                 # 可使用上上层父类的方法\n",
    "\n",
    "print(\"---------我是可爱的分割线喵----------\")\n",
    "\n",
    "class Child(Person):\n",
    "    def print_title(self):\n",
    "        if self.sex == \"male\":\n",
    "            print(\"boy\")\n",
    "        elif self.sex == \"female\":\n",
    "            print(\"girl\")\n",
    "\n",
    "class Baby(Child):\n",
    "    pass\n",
    "\n",
    "May = Baby(\"May\",\"female\")\n",
    "May.print_title()                # 优先使用上层类的方法"
   ]
  },
  {
   "cell_type": "code",
   "execution_count": 24,
   "metadata": {},
   "outputs": [
    {
     "name": "stdout",
     "output_type": "stream",
     "text": [
      "水池里面有乌龟2只，小鱼3条\n"
     ]
    }
   ],
   "source": [
    "#组合类\n",
    "class Turtle:\n",
    "    def __init__(self, x):\n",
    "        self.x = x\n",
    "\n",
    "\n",
    "class Fish:\n",
    "    def __init__(self, x):\n",
    "        self.x = x\n",
    "\n",
    "\n",
    "class Pool:\n",
    "    def __init__(self, x, y):\n",
    "        self.turtle = Turtle(x)\n",
    "        self.fish = Fish(y)\n",
    "\n",
    "    def print_num(self):\n",
    "        print(\"水池里面有乌龟%s只，小鱼%s条\" % (self.turtle.x, self.fish.x))\n",
    "\n",
    "\n",
    "p = Pool(2, 3)\n",
    "p.print_num()"
   ]
  },
  {
   "cell_type": "markdown",
   "metadata": {},
   "source": [
    "### 类、类对象和实例对象的基础"
   ]
  },
  {
   "cell_type": "code",
   "execution_count": 2,
   "metadata": {},
   "outputs": [
    {
     "name": "stdout",
     "output_type": "stream",
     "text": [
      "类对象.类属性的值: 100\n",
      "self.类属性的值 100\n",
      "self.实例属性的值 100\n",
      "类对象.类属性的值: 100\n",
      "self.类属性的值 100\n",
      "self.实例属性的值 100\n",
      "类对象.类属性的值: 100\n",
      "self.类属性的值 200\n",
      "self.实例属性的值 200\n",
      "类对象.类属性的值: 100\n",
      "self.类属性的值 100\n",
      "self.实例属性的值 100\n",
      "类对象.类属性的值: 300\n",
      "self.类属性的值 200\n",
      "self.实例属性的值 200\n",
      "类对象.类属性的值: 300\n",
      "self.类属性的值 300\n",
      "self.实例属性的值 100\n"
     ]
    }
   ],
   "source": [
    "# 创建类对象\n",
    "class Test(object):\n",
    "    class_attr = 100        # 类属性\n",
    "\n",
    "    def __init__(self):\n",
    "        self.sl_attr = 100  # 实例属性\n",
    "\n",
    "    def func(self):\n",
    "        print('类对象.类属性的值:', Test.class_attr)  # 调用类属性\n",
    "        print('self.类属性的值', self.class_attr)  # 相当于把类属性 变成实例属性\n",
    "        print('self.实例属性的值', self.sl_attr)  # 调用实例属性\n",
    "\n",
    "\n",
    "a = Test()        #实例化\n",
    "a.func()          #调用属性\n",
    "\n",
    "# 类对象.类属性的值: 100\n",
    "# self.类属性的值 100\n",
    "# self.实例属性的值 100\n",
    "\n",
    "b = Test()\n",
    "b.func()\n",
    "\n",
    "# 类对象.类属性的值: 100\n",
    "# self.类属性的值 100\n",
    "# self.实例属性的值 100\n",
    "\n",
    "a.class_attr = 200 #对实例属性进行赋值，局部变量\n",
    "a.sl_attr = 200\n",
    "a.func()\n",
    "\n",
    "# 类对象.类属性的值: 100\n",
    "# self.类属性的值 200\n",
    "# self.实例属性的值 200\n",
    "\n",
    "b.func()\n",
    "\n",
    "# 类对象.类属性的值: 100\n",
    "# self.类属性的值 100\n",
    "# self.实例属性的值 100\n",
    "\n",
    "Test.class_attr = 300 #类属性进行赋值，全局变量\n",
    "a.func()\n",
    "\n",
    "# 类对象.类属性的值: 300\n",
    "# self.类属性的值 200\n",
    "# self.实例属性的值 200\n",
    "\n",
    "b.func()\n",
    "# 类对象.类属性的值: 300\n",
    "# self.类属性的值 300\n",
    "# self.实例属性的值 100"
   ]
  },
  {
   "cell_type": "code",
   "execution_count": 4,
   "metadata": {},
   "outputs": [
    {
     "name": "stdout",
     "output_type": "stream",
     "text": [
      "{}\n",
      "{}\n",
      "{'__module__': '__main__', 'setXY': <function CC.setXY at 0x000001DAD8C88400>, 'printXY': <function CC.printXY at 0x000001DAD8C88378>, '__dict__': <attribute '__dict__' of 'CC' objects>, '__weakref__': <attribute '__weakref__' of 'CC' objects>, '__doc__': None}\n",
      "{'x': 4, 'y': 5}\n",
      "{'x': 4, 'y': 5}\n",
      "{'__module__': '__main__', 'setXY': <function CC.setXY at 0x000001DAD8C88400>, 'printXY': <function CC.printXY at 0x000001DAD8C88378>, '__dict__': <attribute '__dict__' of 'CC' objects>, '__weakref__': <attribute '__weakref__' of 'CC' objects>, '__doc__': None}\n",
      "{'__module__': '__main__', 'setXY': <function CC.setXY at 0x000001DAD8C88400>, 'printXY': <function CC.printXY at 0x000001DAD8C88378>, '__dict__': <attribute '__dict__' of 'CC' objects>, '__weakref__': <attribute '__weakref__' of 'CC' objects>, '__doc__': None}\n"
     ]
    }
   ],
   "source": [
    "class CC:\n",
    "    def setXY(self, x, y):\n",
    "        self.x = x\n",
    "        self.y = y\n",
    "\n",
    "    def printXY(self):\n",
    "        print(self.x, self.y)\n",
    "\n",
    "\n",
    "dd = CC()\n",
    "print(dd.__dict__)\n",
    "\n",
    "print(vars(dd))\n",
    "\n",
    "print(CC.__dict__)\n",
    "\n",
    "dd.setXY(4, 5)\n",
    "print(dd.__dict__)\n",
    "print(vars(dd))\n",
    "print(vars(CC))\n",
    "print(CC.__dict__)"
   ]
  },
  {
   "cell_type": "code",
   "execution_count": 5,
   "metadata": {},
   "outputs": [
    {
     "name": "stdout",
     "output_type": "stream",
     "text": [
      "True\n",
      "True\n",
      "True\n",
      "False\n"
     ]
    }
   ],
   "source": [
    "class Coordinate:\n",
    "    x = 10\n",
    "    y = -5\n",
    "    z = 0\n",
    "\n",
    "\n",
    "point1 = Coordinate()\n",
    "print(hasattr(point1, 'x'))  # 判断point1中是否有x这个属性，hasattr\n",
    "print(hasattr(point1, 'y'))  # True\n",
    "print(hasattr(point1, 'z'))  # True\n",
    "print(hasattr(point1, 'no'))  # False"
   ]
  },
  {
   "cell_type": "code",
   "execution_count": 7,
   "metadata": {},
   "outputs": [
    {
     "name": "stdout",
     "output_type": "stream",
     "text": [
      "1\n",
      "2\n"
     ]
    },
    {
     "ename": "AttributeError",
     "evalue": "'A' object has no attribute 'bar2'",
     "output_type": "error",
     "traceback": [
      "\u001b[1;31m---------------------------------------------------------------------------\u001b[0m",
      "\u001b[1;31mAttributeError\u001b[0m                            Traceback (most recent call last)",
      "\u001b[1;32m<ipython-input-7-5e7c3610c442>\u001b[0m in \u001b[0;36m<module>\u001b[1;34m\u001b[0m\n\u001b[0;32m      6\u001b[0m \u001b[0mprint\u001b[0m\u001b[1;33m(\u001b[0m\u001b[0mgetattr\u001b[0m\u001b[1;33m(\u001b[0m\u001b[0ma\u001b[0m\u001b[1;33m,\u001b[0m \u001b[1;34m'bar'\u001b[0m\u001b[1;33m)\u001b[0m\u001b[1;33m)\u001b[0m  \u001b[1;31m# 1\u001b[0m\u001b[1;33m\u001b[0m\u001b[1;33m\u001b[0m\u001b[0m\n\u001b[0;32m      7\u001b[0m \u001b[0mprint\u001b[0m\u001b[1;33m(\u001b[0m\u001b[0mgetattr\u001b[0m\u001b[1;33m(\u001b[0m\u001b[0ma\u001b[0m\u001b[1;33m,\u001b[0m \u001b[1;34m'bar2'\u001b[0m\u001b[1;33m,\u001b[0m \u001b[1;36m2\u001b[0m\u001b[1;33m)\u001b[0m\u001b[1;33m)\u001b[0m  \u001b[1;31m# 3\u001b[0m\u001b[1;33m\u001b[0m\u001b[1;33m\u001b[0m\u001b[0m\n\u001b[1;32m----> 8\u001b[1;33m \u001b[0mprint\u001b[0m\u001b[1;33m(\u001b[0m\u001b[0mgetattr\u001b[0m\u001b[1;33m(\u001b[0m\u001b[0ma\u001b[0m\u001b[1;33m,\u001b[0m \u001b[1;34m'bar2'\u001b[0m\u001b[1;33m)\u001b[0m\u001b[1;33m)\u001b[0m\u001b[1;33m\u001b[0m\u001b[1;33m\u001b[0m\u001b[0m\n\u001b[0m\u001b[0;32m      9\u001b[0m \u001b[1;31m# AttributeError: 'A' object has no attribute 'bar2'\u001b[0m\u001b[1;33m\u001b[0m\u001b[1;33m\u001b[0m\u001b[1;33m\u001b[0m\u001b[0m\n",
      "\u001b[1;31mAttributeError\u001b[0m: 'A' object has no attribute 'bar2'"
     ]
    }
   ],
   "source": [
    "class A(object):\n",
    "    bar = 1\n",
    "\n",
    "\n",
    "a = A()\n",
    "print(getattr(a, 'bar'))  # 1\n",
    "print(getattr(a, 'bar2', 2))  # default\n",
    "print(getattr(a, 'bar2'))\n",
    "# AttributeError: 'A' object has no attribute 'bar2'"
   ]
  },
  {
   "cell_type": "code",
   "execution_count": 8,
   "metadata": {},
   "outputs": [
    {
     "name": "stdout",
     "output_type": "stream",
     "text": [
      "2 1\n"
     ]
    }
   ],
   "source": [
    "class A(object):\n",
    "    def set(self, a, b):\n",
    "        x = a\n",
    "        a = b\n",
    "        b = x\n",
    "        print(a, b)\n",
    "\n",
    "\n",
    "a = A()\n",
    "c = getattr(a, 'set')\n",
    "c(a='1', b='2')  # 2 1"
   ]
  },
  {
   "cell_type": "code",
   "execution_count": 14,
   "metadata": {},
   "outputs": [
    {
     "name": "stdout",
     "output_type": "stream",
     "text": [
      "x= 10\n",
      "z= 0\n"
     ]
    },
    {
     "ename": "NameError",
     "evalue": "name 'Coordinage' is not defined",
     "output_type": "error",
     "traceback": [
      "\u001b[1;31m---------------------------------------------------------------------------\u001b[0m",
      "\u001b[1;31mNameError\u001b[0m                                 Traceback (most recent call last)",
      "\u001b[1;32m<ipython-input-14-9b482c8d9313>\u001b[0m in \u001b[0;36m<module>\u001b[1;34m\u001b[0m\n\u001b[0;32m      9\u001b[0m \u001b[0mprint\u001b[0m\u001b[1;33m(\u001b[0m\u001b[1;34m'z='\u001b[0m\u001b[1;33m,\u001b[0m\u001b[0mp\u001b[0m\u001b[1;33m.\u001b[0m\u001b[0mz\u001b[0m\u001b[1;33m)\u001b[0m\u001b[1;33m\u001b[0m\u001b[1;33m\u001b[0m\u001b[0m\n\u001b[0;32m     10\u001b[0m \u001b[1;33m\u001b[0m\u001b[0m\n\u001b[1;32m---> 11\u001b[1;33m \u001b[0mdelattr\u001b[0m\u001b[1;33m(\u001b[0m\u001b[0mCoordinage\u001b[0m\u001b[1;33m,\u001b[0m\u001b[1;34m'z'\u001b[0m\u001b[1;33m)\u001b[0m\u001b[1;33m\u001b[0m\u001b[1;33m\u001b[0m\u001b[0m\n\u001b[0m\u001b[0;32m     12\u001b[0m \u001b[1;33m\u001b[0m\u001b[0m\n\u001b[0;32m     13\u001b[0m \u001b[0mprint\u001b[0m\u001b[1;33m(\u001b[0m\u001b[1;34m'---删除z属性后---'\u001b[0m\u001b[1;33m)\u001b[0m\u001b[1;33m\u001b[0m\u001b[1;33m\u001b[0m\u001b[0m\n",
      "\u001b[1;31mNameError\u001b[0m: name 'Coordinage' is not defined"
     ]
    }
   ],
   "source": [
    "class Coordinate:\n",
    "\tx = 10\n",
    "\ty = 3\n",
    "\tz = 0\n",
    "\n",
    "p = Coordinate()\n",
    "\n",
    "print('x=',p.x)\n",
    "print('z=',p.z)\n",
    "\n",
    "delattr(Coordinage,'z')\n",
    "\n",
    "print('---删除z属性后---')\n",
    "print('x=',p.x)\n",
    "print('z=',p.z)"
   ]
  },
  {
   "cell_type": "markdown",
   "metadata": {},
   "source": [
    "### 练习题\n",
    "1. 以下类定义中哪些是类属性，哪些是实例属性？\n",
    "\n",
    "`class C:\n",
    "    num = 0\n",
    "    def __init__(self):\n",
    "        self.x = 4\n",
    "        self.y = 5\n",
    "        C.count = 6`\n",
    "        \n",
    "2. 怎么定义私有⽅法？\n",
    "3. 尝试执行以下代码，并解释错误原因：\n",
    "\n",
    "`class C:\n",
    "    def myFun():\n",
    "        print('Hello!')\n",
    "    c = C()\n",
    "    c.myFun()`\n",
    "    \n",
    "4. 按照以下要求定义一个游乐园门票的类，并尝试计算2个成人+1个小孩平日票价。\n",
    "\n",
    "要求:\n",
    " - 平日票价100元\n",
    " - 周末票价为平日的120%\n",
    " - 儿童票半价\n",
    " \n",
    " `class Ticket():#your code here\n",
    "`"
   ]
  },
  {
   "cell_type": "code",
   "execution_count": 42,
   "metadata": {},
   "outputs": [
    {
     "name": "stdout",
     "output_type": "stream",
     "text": [
      "This is weekday\n",
      "All of these tickets:250\n"
     ]
    }
   ],
   "source": [
    "'''4'''\n",
    "class Ticket():\n",
    "    def __init__(self,day,num1,num2):\n",
    "        self.day = day\n",
    "        self.num1 = num1\n",
    "        self.num2 = num2\n",
    "        l1 = ['Mon','Tues','Wed','Thu','Frid']\n",
    "        l2 = ['Sat','Sun']\n",
    "        if day in l1:\n",
    "            print('This is weekday')\n",
    "        else:\n",
    "            print('This is weekend')\n",
    "\n",
    "        \n",
    "    def weekday(self,num1,num2):\n",
    "        self.num1 = num1\n",
    "        self.num2 = num2\n",
    "        money1 = num1 * 100\n",
    "        money2 = num2 * 100/2\n",
    "        money = money1 + money2\n",
    "        print(\"All of these tickets:%d\"%money)         \n",
    "\n",
    "    \n",
    "    def weekend(self,num1,num2):\n",
    "        self.num1 = num1\n",
    "        self.num2 = num2\n",
    "        money1 = num1 * 120\n",
    "        money2 = num2 * 120/2\n",
    "        money = money1 + money2\n",
    "        print(\"All of these tickets:%d\"%money)  \n",
    "\n",
    "a = Ticket('Mon',2,1)\n",
    "a.weekday(2,1)"
   ]
  },
  {
   "cell_type": "code",
   "execution_count": null,
   "metadata": {},
   "outputs": [],
   "source": []
  }
 ],
 "metadata": {
  "kernelspec": {
   "display_name": "Python 3",
   "language": "python",
   "name": "python3"
  },
  "language_info": {
   "codemirror_mode": {
    "name": "ipython",
    "version": 3
   },
   "file_extension": ".py",
   "mimetype": "text/x-python",
   "name": "python",
   "nbconvert_exporter": "python",
   "pygments_lexer": "ipython3",
   "version": "3.7.3"
  }
 },
 "nbformat": 4,
 "nbformat_minor": 4
}
